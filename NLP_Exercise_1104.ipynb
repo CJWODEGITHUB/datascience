{
 "cells": [
  {
   "cell_type": "markdown",
   "metadata": {
    "id": "3uY9v1Z0BwZ-"
   },
   "source": [
    "# Natural Language Processing Exercise (10 points)\n",
    "\n"
   ]
  },
  {
   "cell_type": "markdown",
   "metadata": {
    "id": "2ywvKQtxyolm"
   },
   "source": [
    "# 1. Load the Dataset"
   ]
  },
  {
   "cell_type": "markdown",
   "metadata": {
    "id": "Ppto8S84haTw"
   },
   "source": [
    "In this exercise we will use the Reuters newswire dataset, which consists of 11,228 newswires from Reuters, labeled in 46 topics. Each newswire is a text sequence that is encoded as a list of word indexes, i.e., each word is a token represented by an integer. Reuters newswire dataset is available in the Keras built-in datasets. \n"
   ]
  },
  {
   "cell_type": "code",
   "execution_count": 46,
   "metadata": {
    "colab": {
     "base_uri": "https://localhost:8080/"
    },
    "executionInfo": {
     "elapsed": 2805,
     "status": "ok",
     "timestamp": 1667594108416,
     "user": {
      "displayName": "Aleksandar Vakanski",
      "userId": "07675307153279708378"
     },
     "user_tz": 360
    },
    "id": "eTTzVWAukqPF",
    "outputId": "d96ec0d4-0c38-4466-fef2-3f950a6d47e0"
   },
   "outputs": [
    {
     "name": "stdout",
     "output_type": "stream",
     "text": [
      "TensorFlow version:2.5.0\n",
      "Keras version:2.5.0\n"
     ]
    }
   ],
   "source": [
    "import tensorflow as tf\n",
    "from tensorflow import keras\n",
    "import numpy as np\n",
    "\n",
    "# Print the version of tf\n",
    "print(\"TensorFlow version:{}\".format(tf.__version__))\n",
    "print(\"Keras version:{}\".format(keras.__version__))"
   ]
  },
  {
   "cell_type": "markdown",
   "metadata": {
    "id": "WrTHxGrpzOTK"
   },
   "source": [
    "We can load the `word_index` for the Reuters dataset, which is a dictionary consisting of words as keys and the corresponding integer indices as values. As we can see below, there are 30,979 words in the vocabulary for this dataset. "
   ]
  },
  {
   "cell_type": "code",
   "execution_count": 47,
   "metadata": {
    "id": "XPFQvurEauLM"
   },
   "outputs": [],
   "source": [
    "word_index = keras.datasets.reuters.get_word_index()"
   ]
  },
  {
   "cell_type": "code",
   "execution_count": 48,
   "metadata": {
    "colab": {
     "base_uri": "https://localhost:8080/"
    },
    "executionInfo": {
     "elapsed": 9,
     "status": "ok",
     "timestamp": 1667594108416,
     "user": {
      "displayName": "Aleksandar Vakanski",
      "userId": "07675307153279708378"
     },
     "user_tz": 360
    },
    "id": "iNhJYXoEcXzW",
    "outputId": "201be9dd-e767-44f6-cd2c-2238fd7bd12b"
   },
   "outputs": [
    {
     "data": {
      "text/plain": [
       "30979"
      ]
     },
     "execution_count": 48,
     "metadata": {},
     "output_type": "execute_result"
    }
   ],
   "source": [
    "len(word_index)"
   ]
  },
  {
   "cell_type": "code",
   "execution_count": 49,
   "metadata": {
    "colab": {
     "base_uri": "https://localhost:8080/"
    },
    "executionInfo": {
     "elapsed": 7,
     "status": "ok",
     "timestamp": 1667594108417,
     "user": {
      "displayName": "Aleksandar Vakanski",
      "userId": "07675307153279708378"
     },
     "user_tz": 360
    },
    "id": "-OQIzppdcOmY",
    "outputId": "89b186f5-3831-4590-ddd2-361b5d561ec6"
   },
   "outputs": [
    {
     "data": {
      "text/plain": [
       "[('mdbl', 10996),\n",
       " ('fawc', 16260),\n",
       " ('degussa', 12089),\n",
       " ('woods', 8803),\n",
       " ('hanging', 13796),\n",
       " ('localized', 20672),\n",
       " ('sation', 20673),\n",
       " ('chanthaburi', 20675),\n",
       " ('refunding', 10997),\n",
       " ('hermann', 8804)]"
      ]
     },
     "execution_count": 49,
     "metadata": {},
     "output_type": "execute_result"
    }
   ],
   "source": [
    "# let's print 10 words and indices from the vocabulary\n",
    "list(word_index.items())[:10]"
   ]
  },
  {
   "cell_type": "markdown",
   "metadata": {
    "id": "6eRfE58mz4zR"
   },
   "source": [
    "Let's load the dataset by using the first 30,000 words."
   ]
  },
  {
   "cell_type": "code",
   "execution_count": null,
   "metadata": {
    "id": "8Q3Zy-k25gU6"
   },
   "outputs": [],
   "source": [
    "max_features = 30000\n",
    "\n",
    "(train_data, train_labels), (test_data, test_labels) = keras.datasets.reuters.load_data(num_words=max_features, test_split=0.2)"
   ]
  },
  {
   "cell_type": "markdown",
   "metadata": {
    "id": "Ht3sOllj0FpY"
   },
   "source": [
    "Print the length of train_data, train_labels, test_data, and test_labels."
   ]
  },
  {
   "cell_type": "code",
   "execution_count": 51,
   "metadata": {
    "id": "Aoqianu15gZ7"
   },
   "outputs": [
    {
     "name": "stdout",
     "output_type": "stream",
     "text": [
      "8982 8982 2246 2246\n"
     ]
    }
   ],
   "source": [
    "# Your Code Here\n",
    "print(len(train_data), len(train_labels), len(test_data), len(test_labels))"
   ]
  },
  {
   "cell_type": "markdown",
   "metadata": {
    "id": "kqUhSL1D0ejQ"
   },
   "source": [
    "Note again that each sequence in the dataset is a list of integer tokens representing words. \n",
    "Print the first and second sequences in the train dataset."
   ]
  },
  {
   "cell_type": "code",
   "execution_count": 52,
   "metadata": {
    "id": "DWGv9ouYcm1P"
   },
   "outputs": [
    {
     "data": {
      "text/plain": [
       "[1,\n",
       " 27595,\n",
       " 28842,\n",
       " 8,\n",
       " 43,\n",
       " 10,\n",
       " 447,\n",
       " 5,\n",
       " 25,\n",
       " 207,\n",
       " 270,\n",
       " 5,\n",
       " 3095,\n",
       " 111,\n",
       " 16,\n",
       " 369,\n",
       " 186,\n",
       " 90,\n",
       " 67,\n",
       " 7,\n",
       " 89,\n",
       " 5,\n",
       " 19,\n",
       " 102,\n",
       " 6,\n",
       " 19,\n",
       " 124,\n",
       " 15,\n",
       " 90,\n",
       " 67,\n",
       " 84,\n",
       " 22,\n",
       " 482,\n",
       " 26,\n",
       " 7,\n",
       " 48,\n",
       " 4,\n",
       " 49,\n",
       " 8,\n",
       " 864,\n",
       " 39,\n",
       " 209,\n",
       " 154,\n",
       " 6,\n",
       " 151,\n",
       " 6,\n",
       " 83,\n",
       " 11,\n",
       " 15,\n",
       " 22,\n",
       " 155,\n",
       " 11,\n",
       " 15,\n",
       " 7,\n",
       " 48,\n",
       " 9,\n",
       " 4579,\n",
       " 1005,\n",
       " 504,\n",
       " 6,\n",
       " 258,\n",
       " 6,\n",
       " 272,\n",
       " 11,\n",
       " 15,\n",
       " 22,\n",
       " 134,\n",
       " 44,\n",
       " 11,\n",
       " 15,\n",
       " 16,\n",
       " 8,\n",
       " 197,\n",
       " 1245,\n",
       " 90,\n",
       " 67,\n",
       " 52,\n",
       " 29,\n",
       " 209,\n",
       " 30,\n",
       " 32,\n",
       " 132,\n",
       " 6,\n",
       " 109,\n",
       " 15,\n",
       " 17,\n",
       " 12]"
      ]
     },
     "execution_count": 52,
     "metadata": {},
     "output_type": "execute_result"
    }
   ],
   "source": [
    "# Your Code Here\n",
    "train_data[0]"
   ]
  },
  {
   "cell_type": "code",
   "execution_count": 53,
   "metadata": {
    "id": "RJQlhq_56RYo"
   },
   "outputs": [
    {
     "data": {
      "text/plain": [
       "[1,\n",
       " 3267,\n",
       " 699,\n",
       " 3434,\n",
       " 2295,\n",
       " 56,\n",
       " 16784,\n",
       " 7511,\n",
       " 9,\n",
       " 56,\n",
       " 3906,\n",
       " 1073,\n",
       " 81,\n",
       " 5,\n",
       " 1198,\n",
       " 57,\n",
       " 366,\n",
       " 737,\n",
       " 132,\n",
       " 20,\n",
       " 4093,\n",
       " 7,\n",
       " 19261,\n",
       " 49,\n",
       " 2295,\n",
       " 13415,\n",
       " 1037,\n",
       " 3267,\n",
       " 699,\n",
       " 3434,\n",
       " 8,\n",
       " 7,\n",
       " 10,\n",
       " 241,\n",
       " 16,\n",
       " 855,\n",
       " 129,\n",
       " 231,\n",
       " 783,\n",
       " 5,\n",
       " 4,\n",
       " 587,\n",
       " 2295,\n",
       " 13415,\n",
       " 2,\n",
       " 775,\n",
       " 7,\n",
       " 48,\n",
       " 34,\n",
       " 191,\n",
       " 44,\n",
       " 35,\n",
       " 1795,\n",
       " 505,\n",
       " 17,\n",
       " 12]"
      ]
     },
     "execution_count": 53,
     "metadata": {},
     "output_type": "execute_result"
    }
   ],
   "source": [
    "# Your Code Here\n",
    "train_data[1]"
   ]
  },
  {
   "cell_type": "markdown",
   "metadata": {
    "id": "GKHAeTGP2gUf"
   },
   "source": [
    "Based on the word_index, we can find the sentences that correspond to each sequence of integers, as in the next cell."
   ]
  },
  {
   "cell_type": "code",
   "execution_count": 54,
   "metadata": {
    "colab": {
     "base_uri": "https://localhost:8080/"
    },
    "executionInfo": {
     "elapsed": 21,
     "status": "ok",
     "timestamp": 1667594109093,
     "user": {
      "displayName": "Aleksandar Vakanski",
      "userId": "07675307153279708378"
     },
     "user_tz": 360
    },
    "id": "zBbrkBYsgi4s",
    "outputId": "2b6e37c0-7909-4ec2-9e51-087aa7cd6b0d"
   },
   "outputs": [
    {
     "name": "stdout",
     "output_type": "stream",
     "text": [
      "[None, 'mcgrath', 'rentcorp', 'said', 'as', 'a', 'result', 'of', 'its', 'december', 'acquisition', 'of', 'space', 'co', 'it', 'expects', 'earnings', 'per', 'share', 'in', '1987', 'of', '1', '15', 'to', '1', '30', 'dlrs', 'per', 'share', 'up', 'from', '70', 'cts', 'in', '1986', 'the', 'company', 'said', 'pretax', 'net', 'should', 'rise', 'to', 'nine', 'to', '10', 'mln', 'dlrs', 'from', 'six', 'mln', 'dlrs', 'in', '1986', 'and', 'rental', 'operation', 'revenues', 'to', '19', 'to', '22', 'mln', 'dlrs', 'from', '12', '5', 'mln', 'dlrs', 'it', 'said', 'cash', 'flow', 'per', 'share', 'this', 'year', 'should', 'be', '2', '50', 'to', 'three', 'dlrs', 'reuter', '3']\n"
     ]
    }
   ],
   "source": [
    "reverse_word_index = dict([(value,key) for (key, value) in word_index.items()])\n",
    "\n",
    "print([reverse_word_index.get(i-3) for i in train_data[0]])"
   ]
  },
  {
   "cell_type": "markdown",
   "metadata": {
    "id": "uuVQZivC4j0d"
   },
   "source": [
    "The labels are the categories of the newswires. All 46 categories are shown below.\n",
    "\n",
    "```\n",
    "Reuters dataset labels:\n",
    "{'copper': 6, 'livestock': 28, 'gold': 25, 'money-fx': 19, 'ipi': 30, 'trade': 11, 'cocoa': 0, 'iron-steel': 31, \n",
    "'reserves': 12, 'tin': 26, 'zinc': 37, 'jobs': 34, 'ship': 13, 'cotton': 14, 'alum': 23, 'strategic-metal': 27, \n",
    "'lead': 45, 'housing': 7, 'meal-feed': 22, 'gnp': 21, 'sugar': 10, 'rubber': 32, 'dlr': 40, 'veg-oil': 2, 'interest': 20,\n",
    " 'crude': 16, 'coffee': 9, 'wheat': 5, 'carcass': 15, 'lei': 35, 'gas': 41, 'nat-gas': 17, 'oilseed': 24, 'orange': 38,\n",
    "  'heat': 33, 'wpi': 43, 'silver': 42, 'cpi': 18, 'earn': 3, 'bop': 36, 'money-supply': 8, 'hog': 44, 'acq': 4,\n",
    "   'pet-chem': 39, 'grain': 1, 'retail': 29}\n",
    "```\n",
    "\n",
    "Printed below is the category for the first sentence, which corresponds to `earn`."
   ]
  },
  {
   "cell_type": "code",
   "execution_count": 55,
   "metadata": {
    "colab": {
     "base_uri": "https://localhost:8080/"
    },
    "executionInfo": {
     "elapsed": 20,
     "status": "ok",
     "timestamp": 1667594109094,
     "user": {
      "displayName": "Aleksandar Vakanski",
      "userId": "07675307153279708378"
     },
     "user_tz": 360
    },
    "id": "kyQp2RcO4ccw",
    "outputId": "d4bf415e-1009-4b9b-a768-1e5495b99f43"
   },
   "outputs": [
    {
     "data": {
      "text/plain": [
       "3"
      ]
     },
     "execution_count": 55,
     "metadata": {},
     "output_type": "execute_result"
    }
   ],
   "source": [
    "train_labels[0]"
   ]
  },
  {
   "cell_type": "markdown",
   "metadata": {
    "id": "R1OQx2UA5_nd"
   },
   "source": [
    "Use Matplotlib to plot the histogram of the categories of newswires in train_labels."
   ]
  },
  {
   "cell_type": "code",
   "execution_count": 56,
   "metadata": {
    "id": "qTL9Xt6t7sCl"
   },
   "outputs": [
    {
     "data": {
      "text/plain": [
       "<BarContainer object of 46 artists>"
      ]
     },
     "execution_count": 56,
     "metadata": {},
     "output_type": "execute_result"
    },
    {
     "data": {
      "image/png": "[encoded data removed]",
      "text/plain": [
       "<Figure size 432x288 with 1 Axes>"
      ]
     },
     "metadata": {
      "needs_background": "light"
     },
     "output_type": "display_data"
    }
   ],
   "source": [
    "# Your Code Here\n",
    "from matplotlib import pyplot as plt\n",
    "newswires = {'copper': 6, 'livestock': 28, 'gold': 25, 'money-fx': 19, 'ipi': 30, 'trade': 11, 'cocoa': 0, 'iron-steel': 31, \n",
    "'reserves': 12, 'tin': 26, 'zinc': 37, 'jobs': 34, 'ship': 13, 'cotton': 14, 'alum': 23, 'strategic-metal': 27, \n",
    "'lead': 45, 'housing': 7, 'meal-feed': 22, 'gnp': 21, 'sugar': 10, 'rubber': 32, 'dlr': 40, 'veg-oil': 2, 'interest': 20,\n",
    " 'crude': 16, 'coffee': 9, 'wheat': 5, 'carcass': 15, 'lei': 35, 'gas': 41, 'nat-gas': 17, 'oilseed': 24, 'orange': 38,\n",
    "  'heat': 33, 'wpi': 43, 'silver': 42, 'cpi': 18, 'earn': 3, 'bop': 36, 'money-supply': 8, 'hog': 44, 'acq': 4,\n",
    "   'pet-chem': 39, 'grain': 1, 'retail': 29}\n",
    "newswires = {v:k for k,v in newswires.items()}\n",
    "labels, nums = [], []\n",
    "for k,v in newswires.items():\n",
    "    labels.append(k)\n",
    "    nums.append(0)\n",
    "for i in train_labels:\n",
    "    if i in labels:\n",
    "        nums[labels.index(i)] += 1\n",
    "plt.bar(labels, nums)"
   ]
  },
  {
   "cell_type": "markdown",
   "metadata": {
    "id": "xEr062hB5Guz"
   },
   "source": [
    "## 2. Pad the Sequences"
   ]
  },
  {
   "cell_type": "markdown",
   "metadata": {
    "id": "gxLLnwKzcs-f"
   },
   "source": [
    "Create a new NumPy array called `len_sequences` which has the same length as the train_data array. Write a for-loop and assign the length of each sequence (number of tokens in each sequence) to the elements in `len_sequences`.\n",
    "\n",
    "Afterward, use the `len_sequences` array to print the average length of train sequences, the length of the longest train sequence, and the length of the shortest train sequence. "
   ]
  },
  {
   "cell_type": "code",
   "execution_count": 57,
   "metadata": {
    "id": "QHDIzN1P6f6H"
   },
   "outputs": [
    {
     "name": "stdout",
     "output_type": "stream",
     "text": [
      "145.5398574927633 2376 13\n"
     ]
    }
   ],
   "source": [
    "# Your Code Here\n",
    "l = [len(x) for x in train_data]\n",
    "n = np.asarray(l)\n",
    "print(np.mean(n), max(n), min(n))"
   ]
  },
  {
   "cell_type": "markdown",
   "metadata": {
    "id": "yG3bi_Y06dDN"
   },
   "source": [
    "Create a new integer variable `pad_length` which is approximately equal to 2 x the average length of train sequences. E.g., if the average is 48.1, set maxlen to 100, or something in that range.\n",
    "\n",
    "Apply padding to the train and test sequences, so that they have length equal to `pad_length`. "
   ]
  },
  {
   "cell_type": "code",
   "execution_count": 58,
   "metadata": {
    "id": "YQDKR4dR6df3"
   },
   "outputs": [],
   "source": [
    "# Your Code Here\n",
    "from tensorflow.keras.preprocessing.sequence import pad_sequences\n",
    "\n",
    "train_data = pad_sequences(train_data, maxlen=300)\n",
    "test_data = pad_sequences(test_data, maxlen=300)"
   ]
  },
  {
   "cell_type": "markdown",
   "metadata": {
    "id": "A-nU3ol8fDH9"
   },
   "source": [
    "Display the first 2 padded sequences in the train dataset. "
   ]
  },
  {
   "cell_type": "code",
   "execution_count": 59,
   "metadata": {
    "id": "79YQGT8F7SKu"
   },
   "outputs": [
    {
     "name": "stdout",
     "output_type": "stream",
     "text": [
      "[    0     0     0     0     0     0     0     0     0     0     0     0\n",
      "     0     0     0     0     0     0     0     0     0     0     0     0\n",
      "     0     0     0     0     0     0     0     0     0     0     0     0\n",
      "     0     0     0     0     0     0     0     0     0     0     0     0\n",
      "     0     0     0     0     0     0     0     0     0     0     0     0\n",
      "     0     0     0     0     0     0     0     0     0     0     0     0\n",
      "     0     0     0     0     0     0     0     0     0     0     0     0\n",
      "     0     0     0     0     0     0     0     0     0     0     0     0\n",
      "     0     0     0     0     0     0     0     0     0     0     0     0\n",
      "     0     0     0     0     0     0     0     0     0     0     0     0\n",
      "     0     0     0     0     0     0     0     0     0     0     0     0\n",
      "     0     0     0     0     0     0     0     0     0     0     0     0\n",
      "     0     0     0     0     0     0     0     0     0     0     0     0\n",
      "     0     0     0     0     0     0     0     0     0     0     0     0\n",
      "     0     0     0     0     0     0     0     0     0     0     0     0\n",
      "     0     0     0     0     0     0     0     0     0     0     0     0\n",
      "     0     0     0     0     0     0     0     0     0     0     0     0\n",
      "     0     0     0     0     0     0     0     0     0     1 27595 28842\n",
      "     8    43    10   447     5    25   207   270     5  3095   111    16\n",
      "   369   186    90    67     7    89     5    19   102     6    19   124\n",
      "    15    90    67    84    22   482    26     7    48     4    49     8\n",
      "   864    39   209   154     6   151     6    83    11    15    22   155\n",
      "    11    15     7    48     9  4579  1005   504     6   258     6   272\n",
      "    11    15    22   134    44    11    15    16     8   197  1245    90\n",
      "    67    52    29   209    30    32   132     6   109    15    17    12]\n",
      "[    0     0     0     0     0     0     0     0     0     0     0     0\n",
      "     0     0     0     0     0     0     0     0     0     0     0     0\n",
      "     0     0     0     0     0     0     0     0     0     0     0     0\n",
      "     0     0     0     0     0     0     0     0     0     0     0     0\n",
      "     0     0     0     0     0     0     0     0     0     0     0     0\n",
      "     0     0     0     0     0     0     0     0     0     0     0     0\n",
      "     0     0     0     0     0     0     0     0     0     0     0     0\n",
      "     0     0     0     0     0     0     0     0     0     0     0     0\n",
      "     0     0     0     0     0     0     0     0     0     0     0     0\n",
      "     0     0     0     0     0     0     0     0     0     0     0     0\n",
      "     0     0     0     0     0     0     0     0     0     0     0     0\n",
      "     0     0     0     0     0     0     0     0     0     0     0     0\n",
      "     0     0     0     0     0     0     0     0     0     0     0     0\n",
      "     0     0     0     0     0     0     0     0     0     0     0     0\n",
      "     0     0     0     0     0     0     0     0     0     0     0     0\n",
      "     0     0     0     0     0     0     0     0     0     0     0     0\n",
      "     0     0     0     0     0     0     0     0     0     0     0     0\n",
      "     0     0     0     0     0     0     0     0     0     0     0     0\n",
      "     0     0     0     0     0     0     0     0     0     0     0     0\n",
      "     0     0     0     0     0     0     0     0     0     0     0     0\n",
      "     0     0     0     0     1  3267   699  3434  2295    56 16784  7511\n",
      "     9    56  3906  1073    81     5  1198    57   366   737   132    20\n",
      "  4093     7 19261    49  2295 13415  1037  3267   699  3434     8     7\n",
      "    10   241    16   855   129   231   783     5     4   587  2295 13415\n",
      "     2   775     7    48    34   191    44    35  1795   505    17    12]\n"
     ]
    }
   ],
   "source": [
    "# Your Code Here\n",
    "print(train_data[0])\n",
    "print(train_data[1])"
   ]
  },
  {
   "cell_type": "markdown",
   "metadata": {
    "id": "SgA536U1ob1b"
   },
   "source": [
    "## 3. Create and Train a Model with Dense Layers\n",
    "\n",
    "Define a Keras model `model_1` similar to the model in Lecture 18, which has an Embedding, Flatten, Dense, Dropout, and a final Dense layer. Use 64-dimensional vectors as outputs of the Embedding Layer, and 1,024 neurons in the first Dense layer. Make sure that the last layer outputs 46 categories, and recall that with multiclass datasets the activation of the last layer should be `softmax`.\n"
   ]
  },
  {
   "cell_type": "code",
   "execution_count": 60,
   "metadata": {
    "id": "xJiIJ4yl7Zxc"
   },
   "outputs": [],
   "source": [
    "# Your Code Here\n",
    "model_1 = tf.keras.Sequential([\n",
    "       tf.keras.layers.Embedding(input_dim=max_features, output_dim=64, input_length=300),\n",
    "       tf.keras.layers.Flatten(),\n",
    "       tf.keras.layers.Dense(1024, activation='relu'),\n",
    "       tf.keras.layers.Dropout(0.5),\n",
    "       tf.keras.layers.Dense(46, activation='softmax')\n",
    "])"
   ]
  },
  {
   "cell_type": "markdown",
   "metadata": {
    "id": "GCkSj_0u8Bhb"
   },
   "source": [
    "Display the summary of the model, and report the number of trainable parameters."
   ]
  },
  {
   "cell_type": "code",
   "execution_count": 61,
   "metadata": {
    "id": "oMGDwp5BZtoe"
   },
   "outputs": [
    {
     "name": "stdout",
     "output_type": "stream",
     "text": [
      "Model: \"sequential_4\"\n",
      "_________________________________________________________________\n",
      "Layer (type)                 Output Shape              Param #   \n",
      "=================================================================\n",
      "embedding_4 (Embedding)      (None, 300, 64)           1920000   \n",
      "_________________________________________________________________\n",
      "flatten_4 (Flatten)          (None, 19200)             0         \n",
      "_________________________________________________________________\n",
      "dense_8 (Dense)              (None, 1024)              19661824  \n",
      "_________________________________________________________________\n",
      "dropout_4 (Dropout)          (None, 1024)              0         \n",
      "_________________________________________________________________\n",
      "dense_9 (Dense)              (None, 46)                47150     \n",
      "=================================================================\n",
      "Total params: 21,628,974\n",
      "Trainable params: 21,628,974\n",
      "Non-trainable params: 0\n",
      "_________________________________________________________________\n"
     ]
    }
   ],
   "source": [
    "# Your Code Here\n",
    "model_1.summary()"
   ]
  },
  {
   "cell_type": "markdown",
   "metadata": {
    "id": "2YOU0KrI9CH5"
   },
   "source": [
    "Compile the model with Adam optimizer using the default settings. If needed, review Lecture 16 to ensure that you apply the correct loss function. \n",
    "\n",
    "Afterward, train the model for 5 epochs, and ensure that there are no errors in fitting the model. Use a batch size of 128, and split the training data so that 20% is used for validation.\n",
    "\n",
    "Evaluate the model on the test dataset. The expected accuracy should be between 65% and 70%."
   ]
  },
  {
   "cell_type": "code",
   "execution_count": 62,
   "metadata": {
    "id": "p5fpNW8m7mKS"
   },
   "outputs": [
    {
     "name": "stdout",
     "output_type": "stream",
     "text": [
      "Epoch 1/5\n",
      "57/57 [==============================] - 2s 21ms/step - loss: 2.1395 - accuracy: 0.4571 - val_loss: 1.6658 - val_accuracy: 0.5671\n",
      "Epoch 2/5\n",
      "57/57 [==============================] - 1s 19ms/step - loss: 1.2581 - accuracy: 0.7051 - val_loss: 1.3839 - val_accuracy: 0.6750\n",
      "Epoch 3/5\n",
      "57/57 [==============================] - 1s 17ms/step - loss: 0.6600 - accuracy: 0.8548 - val_loss: 1.3054 - val_accuracy: 0.6984\n",
      "Epoch 4/5\n",
      "57/57 [==============================] - 1s 18ms/step - loss: 0.3342 - accuracy: 0.9357 - val_loss: 1.3542 - val_accuracy: 0.6973\n",
      "Epoch 5/5\n",
      "57/57 [==============================] - 1s 18ms/step - loss: 0.2023 - accuracy: 0.9585 - val_loss: 1.3826 - val_accuracy: 0.7045\n",
      "71/71 - 0s - loss: 1.3544 - accuracy: 0.6937\n"
     ]
    },
    {
     "data": {
      "text/plain": [
       "0.6936776638031006"
      ]
     },
     "execution_count": 62,
     "metadata": {},
     "output_type": "execute_result"
    }
   ],
   "source": [
    "# Your Code Here\n",
    "model_1.compile(optimizer='adam', loss=tf.keras.losses.SparseCategoricalCrossentropy(from_logits=True), metrics=['accuracy'])\n",
    "history = model_1.fit(train_data, train_labels, validation_data = (train_data, train_labels), validation_split=0.2, epochs=5, batch_size=128)\n",
    "test_loss, test_acc = model_1.evaluate(test_data,  test_labels, verbose=2)\n",
    "test_acc"
   ]
  },
  {
   "cell_type": "markdown",
   "metadata": {
    "id": "K584uIcRDCBN"
   },
   "source": [
    "### Apply Early Stopping\n",
    "\n",
    "Create a model named `model_2` that is similar to `model_1`, but it uses Early Stopping callback. See Lectures 16 and 21 for examples with Early Stopping callback. \n",
    "\n",
    "Train the model, plot the learning curves, and report the accuracy on the test dataset. \n",
    "\n",
    "The training time should be just a few minutes."
   ]
  },
  {
   "cell_type": "code",
   "execution_count": 66,
   "metadata": {
    "id": "k5uZqsT9_WX6"
   },
   "outputs": [
    {
     "name": "stdout",
     "output_type": "stream",
     "text": [
      "Epoch 1/20\n",
      "57/57 [==============================] - 2s 21ms/step - loss: 2.1197 - accuracy: 0.4605 - val_loss: 1.6817 - val_accuracy: 0.5665\n",
      "Epoch 2/20\n",
      "57/57 [==============================] - 1s 17ms/step - loss: 1.2291 - accuracy: 0.7091 - val_loss: 1.3715 - val_accuracy: 0.6767\n",
      "Epoch 3/20\n",
      "57/57 [==============================] - 1s 17ms/step - loss: 0.6313 - accuracy: 0.8639 - val_loss: 1.3249 - val_accuracy: 0.7012\n",
      "Epoch 4/20\n",
      "57/57 [==============================] - 1s 17ms/step - loss: 0.3060 - accuracy: 0.9418 - val_loss: 1.3426 - val_accuracy: 0.7045\n",
      "Epoch 5/20\n",
      "57/57 [==============================] - 1s 17ms/step - loss: 0.1923 - accuracy: 0.9609 - val_loss: 1.3366 - val_accuracy: 0.7112\n",
      "Epoch 6/20\n",
      "57/57 [==============================] - 1s 17ms/step - loss: 0.1667 - accuracy: 0.9614 - val_loss: 1.4203 - val_accuracy: 0.6912\n",
      "Epoch 7/20\n",
      "57/57 [==============================] - 1s 17ms/step - loss: 0.1486 - accuracy: 0.9638 - val_loss: 1.3493 - val_accuracy: 0.7123\n",
      "Epoch 8/20\n",
      "57/57 [==============================] - 1s 17ms/step - loss: 0.1340 - accuracy: 0.9635 - val_loss: 1.3683 - val_accuracy: 0.7134\n",
      "Epoch 9/20\n",
      "57/57 [==============================] - 1s 17ms/step - loss: 0.1423 - accuracy: 0.9634 - val_loss: 1.3903 - val_accuracy: 0.6956\n",
      "Epoch 10/20\n",
      "57/57 [==============================] - 1s 17ms/step - loss: 0.1191 - accuracy: 0.9640 - val_loss: 1.4072 - val_accuracy: 0.6967\n",
      "Epoch 11/20\n",
      "57/57 [==============================] - 1s 17ms/step - loss: 0.1182 - accuracy: 0.9656 - val_loss: 1.3533 - val_accuracy: 0.7106\n",
      "Epoch 12/20\n",
      "57/57 [==============================] - 1s 17ms/step - loss: 0.1080 - accuracy: 0.9666 - val_loss: 1.3657 - val_accuracy: 0.7023\n",
      "Epoch 13/20\n",
      "57/57 [==============================] - 1s 17ms/step - loss: 0.1096 - accuracy: 0.9652 - val_loss: 1.3748 - val_accuracy: 0.7034\n"
     ]
    },
    {
     "data": {
      "image/png": "[encoded data removed]",
      "text/plain": [
       "<Figure size 864x432 with 2 Axes>"
      ]
     },
     "metadata": {
      "needs_background": "light"
     },
     "output_type": "display_data"
    },
    {
     "name": "stdout",
     "output_type": "stream",
     "text": [
      "71/71 - 0s - loss: 1.3688 - accuracy: 0.6977\n"
     ]
    },
    {
     "data": {
      "text/plain": [
       "0.6976847648620605"
      ]
     },
     "execution_count": 66,
     "metadata": {},
     "output_type": "execute_result"
    }
   ],
   "source": [
    "# Your Code Here\n",
    "model_2 = tf.keras.Sequential([\n",
    "       tf.keras.layers.Embedding(input_dim=max_features, output_dim=64, input_length=300),\n",
    "       tf.keras.layers.Flatten(),\n",
    "       tf.keras.layers.Dense(1024, activation='relu'),\n",
    "       tf.keras.layers.Dropout(0.5),\n",
    "       tf.keras.layers.Dense(46, activation='softmax')\n",
    "])\n",
    "earlystop_callback = keras.callbacks.EarlyStopping(\n",
    "  monitor='val_accuracy', \n",
    "  patience=5)\n",
    "model_2.compile(optimizer='adam', loss=tf.keras.losses.SparseCategoricalCrossentropy(from_logits=True), metrics=['accuracy'])\n",
    "history = model_2.fit(train_data, train_labels, callbacks=[earlystop_callback], validation_data = (train_data, train_labels), validation_split=0.2, epochs=20, batch_size=128)\n",
    "\n",
    "plt.figure(figsize=(12, 6))\n",
    "plt.subplot(1, 2, 1)\n",
    "plt.plot(history.history['accuracy'], label='accuracy')\n",
    "plt.xlabel('Epoch')\n",
    "plt.ylabel('Accuracy')\n",
    "plt.ylim([0, 1])\n",
    "plt.subplot(1, 2, 2)\n",
    "plt.plot(history.history['loss'], label = 'loss')\n",
    "plt.xlabel('Epoch')\n",
    "plt.ylabel('Loss')\n",
    "plt.ylim([0, 1])\n",
    "plt.legend(loc='lower right')\n",
    "plt.show()\n",
    "\n",
    "test_loss, test_acc = model_2.evaluate(test_data,  test_labels, verbose=2)\n",
    "test_acc"
   ]
  },
  {
   "cell_type": "markdown",
   "metadata": {
    "id": "QUQp1GfUDnhP"
   },
   "source": [
    "### Global Average Pooling Layer\n",
    "\n",
    "Create `model_3` that replaces the `Flatten` layer with `GlobalAveragePooling1D()` layer. Fit the model, plot the learning curves, and report the accuracy on the test dataset. "
   ]
  },
  {
   "cell_type": "code",
   "execution_count": 68,
   "metadata": {
    "id": "-6oOEP67AJk4"
   },
   "outputs": [
    {
     "name": "stdout",
     "output_type": "stream",
     "text": [
      "Epoch 1/20\n",
      "57/57 [==============================] - 1s 21ms/step - loss: 2.8636 - accuracy: 0.3471 - val_loss: 2.3036 - val_accuracy: 0.3450\n",
      "Epoch 2/20\n",
      "57/57 [==============================] - 1s 14ms/step - loss: 2.2595 - accuracy: 0.3550 - val_loss: 2.1835 - val_accuracy: 0.3500\n",
      "Epoch 3/20\n",
      "57/57 [==============================] - 1s 16ms/step - loss: 2.0842 - accuracy: 0.3808 - val_loss: 1.9579 - val_accuracy: 0.4001\n",
      "Epoch 4/20\n",
      "57/57 [==============================] - 1s 14ms/step - loss: 1.8600 - accuracy: 0.4791 - val_loss: 1.7669 - val_accuracy: 0.4992\n",
      "Epoch 5/20\n",
      "57/57 [==============================] - 1s 15ms/step - loss: 1.6900 - accuracy: 0.5591 - val_loss: 1.6389 - val_accuracy: 0.5799\n",
      "Epoch 6/20\n",
      "57/57 [==============================] - 1s 14ms/step - loss: 1.5512 - accuracy: 0.6102 - val_loss: 1.5421 - val_accuracy: 0.6160\n",
      "Epoch 7/20\n",
      "57/57 [==============================] - 1s 15ms/step - loss: 1.4313 - accuracy: 0.6466 - val_loss: 1.4691 - val_accuracy: 0.6455\n",
      "Epoch 8/20\n",
      "57/57 [==============================] - 1s 14ms/step - loss: 1.3176 - accuracy: 0.6770 - val_loss: 1.4125 - val_accuracy: 0.6694\n",
      "Epoch 9/20\n",
      "57/57 [==============================] - 1s 14ms/step - loss: 1.2126 - accuracy: 0.7022 - val_loss: 1.3503 - val_accuracy: 0.6772\n",
      "Epoch 10/20\n",
      "57/57 [==============================] - 1s 15ms/step - loss: 1.0930 - accuracy: 0.7285 - val_loss: 1.2833 - val_accuracy: 0.7023\n",
      "Epoch 11/20\n",
      "57/57 [==============================] - 1s 15ms/step - loss: 0.9842 - accuracy: 0.7602 - val_loss: 1.2217 - val_accuracy: 0.7245\n",
      "Epoch 12/20\n",
      "57/57 [==============================] - 1s 14ms/step - loss: 0.8854 - accuracy: 0.7873 - val_loss: 1.1881 - val_accuracy: 0.7329\n",
      "Epoch 13/20\n",
      "57/57 [==============================] - 1s 14ms/step - loss: 0.8002 - accuracy: 0.8085 - val_loss: 1.1717 - val_accuracy: 0.7362\n",
      "Epoch 14/20\n",
      "57/57 [==============================] - 1s 14ms/step - loss: 0.7320 - accuracy: 0.8205 - val_loss: 1.1517 - val_accuracy: 0.7462\n",
      "Epoch 15/20\n",
      "57/57 [==============================] - 1s 15ms/step - loss: 0.6728 - accuracy: 0.8298 - val_loss: 1.1459 - val_accuracy: 0.7490\n",
      "Epoch 16/20\n",
      "57/57 [==============================] - 1s 14ms/step - loss: 0.6210 - accuracy: 0.8402 - val_loss: 1.1559 - val_accuracy: 0.7446\n",
      "Epoch 17/20\n",
      "57/57 [==============================] - 1s 14ms/step - loss: 0.5735 - accuracy: 0.8534 - val_loss: 1.1607 - val_accuracy: 0.7457\n",
      "Epoch 18/20\n",
      "57/57 [==============================] - 1s 14ms/step - loss: 0.5306 - accuracy: 0.8647 - val_loss: 1.1590 - val_accuracy: 0.7568\n",
      "Epoch 19/20\n",
      "57/57 [==============================] - 1s 15ms/step - loss: 0.4924 - accuracy: 0.8760 - val_loss: 1.1781 - val_accuracy: 0.7551\n",
      "Epoch 20/20\n",
      "57/57 [==============================] - 1s 14ms/step - loss: 0.4576 - accuracy: 0.8820 - val_loss: 1.1847 - val_accuracy: 0.7585\n"
     ]
    },
    {
     "data": {
      "image/png": "[encoded data removed]",
      "text/plain": [
       "<Figure size 864x432 with 2 Axes>"
      ]
     },
     "metadata": {
      "needs_background": "light"
     },
     "output_type": "display_data"
    },
    {
     "name": "stdout",
     "output_type": "stream",
     "text": [
      "71/71 - 0s - loss: 1.2572 - accuracy: 0.7422\n"
     ]
    },
    {
     "data": {
      "text/plain": [
       "0.7422083616256714"
      ]
     },
     "execution_count": 68,
     "metadata": {},
     "output_type": "execute_result"
    }
   ],
   "source": [
    "# Your Code Here\n",
    "model_3 = tf.keras.Sequential([\n",
    "       tf.keras.layers.Embedding(input_dim=max_features, output_dim=64, input_length=300),\n",
    "       tf.keras.layers.GlobalAveragePooling1D(),\n",
    "       tf.keras.layers.Dense(1024, activation='relu'),\n",
    "       tf.keras.layers.Dropout(0.5),\n",
    "       tf.keras.layers.Dense(46, activation='softmax')\n",
    "])\n",
    "\n",
    "earlystop_callback = keras.callbacks.EarlyStopping(\n",
    "  monitor='val_accuracy', \n",
    "  patience=5)\n",
    "model_3.compile(optimizer='adam', loss=tf.keras.losses.SparseCategoricalCrossentropy(from_logits=True), metrics=['accuracy'])\n",
    "history = model_3.fit(train_data, train_labels, callbacks=[earlystop_callback], validation_data = (train_data, train_labels), validation_split=0.2, epochs=20, batch_size=128)\n",
    "\n",
    "plt.figure(figsize=(12, 6))\n",
    "plt.subplot(1, 2, 1)\n",
    "plt.plot(history.history['accuracy'], label='accuracy')\n",
    "plt.xlabel('Epoch')\n",
    "plt.ylabel('Accuracy')\n",
    "plt.ylim([0, 1])\n",
    "plt.subplot(1, 2, 2)\n",
    "plt.plot(history.history['loss'], label = 'loss')\n",
    "plt.xlabel('Epoch')\n",
    "plt.ylabel('Loss')\n",
    "plt.legend(loc='lower right')\n",
    "plt.show()\n",
    "\n",
    "test_loss, test_acc = model_3.evaluate(test_data,  test_labels, verbose=2)\n",
    "test_acc"
   ]
  },
  {
   "cell_type": "markdown",
   "metadata": {
    "id": "whyOiaTrEhPc"
   },
   "source": [
    "### Different Learning Rates\n",
    "\n",
    "Train `model_4`, `model_5`, and `model_6` using Adam optimizer with learning rates of 0.01, 0.001, and 0.0001, and discuss the impact on the performance. "
   ]
  },
  {
   "cell_type": "code",
   "execution_count": 76,
   "metadata": {
    "id": "Drknr85sOsEq"
   },
   "outputs": [
    {
     "name": "stdout",
     "output_type": "stream",
     "text": [
      "Epoch 1/10\n",
      "57/57 [==============================] - 1s 21ms/step - loss: 2.1298 - accuracy: 0.4420 - val_loss: 1.6052 - val_accuracy: 0.6027\n",
      "Epoch 2/10\n",
      "57/57 [==============================] - 1s 16ms/step - loss: 1.3746 - accuracy: 0.6611 - val_loss: 1.2227 - val_accuracy: 0.6973\n",
      "Epoch 3/10\n",
      "57/57 [==============================] - 1s 17ms/step - loss: 0.9287 - accuracy: 0.7614 - val_loss: 1.1391 - val_accuracy: 0.7435\n",
      "Epoch 4/10\n",
      "57/57 [==============================] - 1s 15ms/step - loss: 0.6489 - accuracy: 0.8315 - val_loss: 1.1585 - val_accuracy: 0.7485\n",
      "Epoch 5/10\n",
      "57/57 [==============================] - 1s 16ms/step - loss: 0.4722 - accuracy: 0.8767 - val_loss: 1.1502 - val_accuracy: 0.7707\n",
      "Epoch 6/10\n",
      "57/57 [==============================] - 1s 15ms/step - loss: 0.3673 - accuracy: 0.9058 - val_loss: 1.2976 - val_accuracy: 0.7507\n",
      "Epoch 7/10\n",
      "57/57 [==============================] - 1s 15ms/step - loss: 0.2805 - accuracy: 0.9285 - val_loss: 1.3054 - val_accuracy: 0.7585\n",
      "Epoch 8/10\n",
      "57/57 [==============================] - 1s 15ms/step - loss: 0.2537 - accuracy: 0.9358 - val_loss: 1.4876 - val_accuracy: 0.7529\n",
      "Epoch 9/10\n",
      "57/57 [==============================] - 1s 16ms/step - loss: 0.2092 - accuracy: 0.9442 - val_loss: 1.3982 - val_accuracy: 0.7735\n",
      "Epoch 10/10\n",
      "57/57 [==============================] - 1s 14ms/step - loss: 0.1715 - accuracy: 0.9545 - val_loss: 1.5254 - val_accuracy: 0.7746\n",
      "Epoch 1/10\n",
      "57/57 [==============================] - 1s 15ms/step - loss: 3.7742 - accuracy: 0.3095 - val_loss: 3.6959 - val_accuracy: 0.3450\n",
      "Epoch 2/10\n",
      "57/57 [==============================] - 1s 15ms/step - loss: 3.5489 - accuracy: 0.3534 - val_loss: 3.3297 - val_accuracy: 0.3450\n",
      "Epoch 3/10\n",
      "57/57 [==============================] - 1s 14ms/step - loss: 3.0333 - accuracy: 0.3532 - val_loss: 2.6892 - val_accuracy: 0.3450\n",
      "Epoch 4/10\n",
      "57/57 [==============================] - 1s 14ms/step - loss: 2.5023 - accuracy: 0.3534 - val_loss: 2.3693 - val_accuracy: 0.3450\n",
      "Epoch 5/10\n",
      "57/57 [==============================] - 1s 15ms/step - loss: 2.3556 - accuracy: 0.3534 - val_loss: 2.3322 - val_accuracy: 0.3450\n",
      "Epoch 6/10\n",
      "57/57 [==============================] - 1s 16ms/step - loss: 2.3320 - accuracy: 0.3534 - val_loss: 2.3175 - val_accuracy: 0.3450\n",
      "Epoch 7/10\n",
      "57/57 [==============================] - 1s 16ms/step - loss: 2.3203 - accuracy: 0.3534 - val_loss: 2.3051 - val_accuracy: 0.3450\n",
      "Epoch 8/10\n",
      "57/57 [==============================] - 1s 16ms/step - loss: 2.3057 - accuracy: 0.3532 - val_loss: 2.2944 - val_accuracy: 0.3450\n",
      "Epoch 9/10\n",
      "57/57 [==============================] - 1s 16ms/step - loss: 2.2968 - accuracy: 0.3539 - val_loss: 2.2842 - val_accuracy: 0.3450\n",
      "Epoch 10/10\n",
      "57/57 [==============================] - 1s 15ms/step - loss: 2.2833 - accuracy: 0.3538 - val_loss: 2.2728 - val_accuracy: 0.3450\n",
      "Epoch 1/10\n",
      "57/57 [==============================] - 1s 16ms/step - loss: 3.8251 - accuracy: 0.0458 - val_loss: 3.8192 - val_accuracy: 0.1180\n",
      "Epoch 2/10\n",
      "57/57 [==============================] - 1s 14ms/step - loss: 3.8138 - accuracy: 0.2487 - val_loss: 3.8078 - val_accuracy: 0.3511\n",
      "Epoch 3/10\n",
      "57/57 [==============================] - 1s 16ms/step - loss: 3.8020 - accuracy: 0.3438 - val_loss: 3.7959 - val_accuracy: 0.3472\n",
      "Epoch 4/10\n",
      "57/57 [==============================] - 1s 15ms/step - loss: 3.7896 - accuracy: 0.3542 - val_loss: 3.7828 - val_accuracy: 0.3461\n",
      "Epoch 5/10\n",
      "57/57 [==============================] - 1s 16ms/step - loss: 3.7760 - accuracy: 0.3567 - val_loss: 3.7683 - val_accuracy: 0.3450\n",
      "Epoch 6/10\n",
      "57/57 [==============================] - 1s 16ms/step - loss: 3.7609 - accuracy: 0.3577 - val_loss: 3.7522 - val_accuracy: 0.3450\n",
      "Epoch 7/10\n",
      "57/57 [==============================] - 1s 16ms/step - loss: 3.7438 - accuracy: 0.3557 - val_loss: 3.7339 - val_accuracy: 0.3450\n",
      "Epoch 8/10\n",
      "57/57 [==============================] - 1s 15ms/step - loss: 3.7247 - accuracy: 0.3552 - val_loss: 3.7130 - val_accuracy: 0.3450\n",
      "Epoch 9/10\n",
      "57/57 [==============================] - 1s 15ms/step - loss: 3.7021 - accuracy: 0.3546 - val_loss: 3.6889 - val_accuracy: 0.3450\n",
      "Epoch 10/10\n",
      "57/57 [==============================] - 1s 15ms/step - loss: 3.6765 - accuracy: 0.3539 - val_loss: 3.6616 - val_accuracy: 0.3450\n"
     ]
    }
   ],
   "source": [
    "# Your Code Here\n",
    "model_4 = tf.keras.Sequential([\n",
    "       tf.keras.layers.Embedding(input_dim=max_features, output_dim=64, input_length=300),\n",
    "       tf.keras.layers.GlobalAveragePooling1D(),\n",
    "       tf.keras.layers.Dense(1024, activation='relu'),\n",
    "       tf.keras.layers.Dropout(0.5),\n",
    "       tf.keras.layers.Dense(46, activation='softmax')\n",
    "])\n",
    "model_4.compile(optimizer=keras.optimizers.Adam(learning_rate=0.01), loss=tf.keras.losses.SparseCategoricalCrossentropy(from_logits=True), metrics=['accuracy'])\n",
    "history = model_4.fit(train_data, train_labels, validation_data = (train_data, train_labels), validation_split=0.2, epochs=10, batch_size=128)\n",
    "\n",
    "model_5 = tf.keras.Sequential([\n",
    "       tf.keras.layers.Embedding(input_dim=max_features, output_dim=64, input_length=300),\n",
    "       tf.keras.layers.GlobalAveragePooling1D(),\n",
    "       tf.keras.layers.Dense(1024, activation='relu'),\n",
    "       tf.keras.layers.Dropout(0.5),\n",
    "       tf.keras.layers.Dense(46, activation='softmax')\n",
    "])\n",
    "model_5.compile(optimizer=keras.optimizers.Adam(learning_rate=0.0001), loss=tf.keras.losses.SparseCategoricalCrossentropy(from_logits=True), metrics=['accuracy'])\n",
    "history = model_5.fit(train_data, train_labels, validation_data = (train_data, train_labels), validation_split=0.2, epochs=10, batch_size=128)\n",
    "\n",
    "\n",
    "model_6 = tf.keras.Sequential([\n",
    "       tf.keras.layers.Embedding(input_dim=max_features, output_dim=64, input_length=300),\n",
    "       tf.keras.layers.GlobalAveragePooling1D(),\n",
    "       tf.keras.layers.Dense(1024, activation='relu'),\n",
    "       tf.keras.layers.Dropout(0.5),\n",
    "       tf.keras.layers.Dense(46, activation='softmax')\n",
    "])\n",
    "model_6.compile(optimizer=keras.optimizers.Adam(learning_rate=0.00001), loss=tf.keras.losses.SparseCategoricalCrossentropy(from_logits=True), metrics=['accuracy'])\n",
    "history = model_6.fit(train_data, train_labels, validation_data = (train_data, train_labels), validation_split=0.2, epochs=10, batch_size=128)\n"
   ]
  },
  {
   "cell_type": "markdown",
   "metadata": {
    "id": "F_ykG1fbPr8t"
   },
   "source": [
    "### Reduce Learning Rate on Plateau\n",
    "\n",
    "Apply ReduceLROnPlatau callback and report the performance. If needed, check Lecture 21."
   ]
  },
  {
   "cell_type": "code",
   "execution_count": 77,
   "metadata": {
    "id": "zKlcGZRKA8h9"
   },
   "outputs": [
    {
     "name": "stdout",
     "output_type": "stream",
     "text": [
      "Epoch 1/10\n",
      "57/57 [==============================] - 1s 18ms/step - loss: 2.1353 - accuracy: 0.4412 - val_loss: 1.6700 - val_accuracy: 0.6027\n",
      "Epoch 2/10\n",
      "57/57 [==============================] - 1s 15ms/step - loss: 1.4114 - accuracy: 0.6509 - val_loss: 1.2581 - val_accuracy: 0.7012\n",
      "Epoch 3/10\n",
      "57/57 [==============================] - 1s 15ms/step - loss: 0.9601 - accuracy: 0.7609 - val_loss: 1.1838 - val_accuracy: 0.7201\n",
      "Epoch 4/10\n",
      "57/57 [==============================] - 1s 15ms/step - loss: 0.6772 - accuracy: 0.8252 - val_loss: 1.1570 - val_accuracy: 0.7446\n",
      "Epoch 5/10\n",
      "57/57 [==============================] - 1s 15ms/step - loss: 0.5023 - accuracy: 0.8662 - val_loss: 1.1729 - val_accuracy: 0.7657\n",
      "Epoch 6/10\n",
      "57/57 [==============================] - 1s 15ms/step - loss: 0.3806 - accuracy: 0.8990 - val_loss: 1.2475 - val_accuracy: 0.7685\n",
      "Epoch 7/10\n",
      "57/57 [==============================] - 1s 15ms/step - loss: 0.2845 - accuracy: 0.9269 - val_loss: 1.2618 - val_accuracy: 0.7546\n",
      "Epoch 8/10\n",
      "57/57 [==============================] - 1s 15ms/step - loss: 0.2326 - accuracy: 0.9371 - val_loss: 1.3070 - val_accuracy: 0.7752\n",
      "Epoch 9/10\n",
      "57/57 [==============================] - 1s 16ms/step - loss: 0.1832 - accuracy: 0.9500 - val_loss: 1.4421 - val_accuracy: 0.7752\n",
      "Epoch 10/10\n",
      "57/57 [==============================] - 1s 15ms/step - loss: 0.1731 - accuracy: 0.9527 - val_loss: 1.3583 - val_accuracy: 0.7780\n"
     ]
    }
   ],
   "source": [
    "# Your Code Here\n",
    "from tensorflow.keras.callbacks import ReduceLROnPlateau, LearningRateScheduler\n",
    "callbacks = [ReduceLROnPlateau(monitor='val_loss', factor=0.1, patience=10, min_lr=1e-6, verbose=1)]\n",
    "model_7 = tf.keras.Sequential([\n",
    "       tf.keras.layers.Embedding(input_dim=max_features, output_dim=64, input_length=300),\n",
    "       tf.keras.layers.GlobalAveragePooling1D(),\n",
    "       tf.keras.layers.Dense(1024, activation='relu'),\n",
    "       tf.keras.layers.Dropout(0.5),\n",
    "       tf.keras.layers.Dense(46, activation='softmax')\n",
    "])\n",
    "model_7.compile(optimizer=keras.optimizers.Adam(learning_rate=0.01), loss=tf.keras.losses.SparseCategoricalCrossentropy(from_logits=True), metrics=['accuracy'])\n",
    "history = model_7.fit(train_data, train_labels, callbacks=callbacks, validation_data = (train_data, train_labels), validation_split=0.2, epochs=10, batch_size=128)\n"
   ]
  },
  {
   "cell_type": "markdown",
   "metadata": {
    "id": "rgYEyznRQBNv"
   },
   "source": [
    "### Learning Rate Scheduler\n",
    "\n",
    "Apply a Step Decay Learning Rate Scheduler, to reduce the learning rate by half every 5 epochs. "
   ]
  },
  {
   "cell_type": "code",
   "execution_count": 82,
   "metadata": {
    "id": "oB50cq4DoXGO"
   },
   "outputs": [
    {
     "name": "stdout",
     "output_type": "stream",
     "text": [
      "Epoch 1/20\n",
      "57/57 [==============================] - 1s 18ms/step - loss: 2.4042 - accuracy: 0.3517 - val_loss: 1.9155 - val_accuracy: 0.3817\n",
      "Epoch 2/20\n",
      "57/57 [==============================] - 1s 15ms/step - loss: 1.7262 - accuracy: 0.5410 - val_loss: 1.5528 - val_accuracy: 0.6132\n",
      "Epoch 3/20\n",
      "57/57 [==============================] - 1s 16ms/step - loss: 1.3154 - accuracy: 0.6786 - val_loss: 1.2680 - val_accuracy: 0.7051\n",
      "Epoch 4/20\n",
      "57/57 [==============================] - 1s 15ms/step - loss: 0.9479 - accuracy: 0.7653 - val_loss: 1.1481 - val_accuracy: 0.7362\n",
      "Epoch 5/20\n",
      "57/57 [==============================] - 1s 15ms/step - loss: 0.6977 - accuracy: 0.8248 - val_loss: 1.1150 - val_accuracy: 0.7613\n",
      "Epoch 6/20\n",
      "57/57 [==============================] - 1s 15ms/step - loss: 0.5247 - accuracy: 0.8617 - val_loss: 1.1165 - val_accuracy: 0.7668\n",
      "Epoch 7/20\n",
      "57/57 [==============================] - 1s 14ms/step - loss: 0.4470 - accuracy: 0.8831 - val_loss: 1.1522 - val_accuracy: 0.7679\n",
      "Epoch 8/20\n",
      "57/57 [==============================] - 1s 15ms/step - loss: 0.3841 - accuracy: 0.8985 - val_loss: 1.1759 - val_accuracy: 0.7718\n",
      "Epoch 9/20\n",
      "57/57 [==============================] - 1s 15ms/step - loss: 0.3433 - accuracy: 0.9120 - val_loss: 1.2062 - val_accuracy: 0.7691\n",
      "Epoch 10/20\n",
      "57/57 [==============================] - 1s 15ms/step - loss: 0.2950 - accuracy: 0.9255 - val_loss: 1.2466 - val_accuracy: 0.7752\n",
      "Epoch 11/20\n",
      "57/57 [==============================] - 1s 14ms/step - loss: 0.2431 - accuracy: 0.9385 - val_loss: 1.2415 - val_accuracy: 0.7802\n",
      "Epoch 12/20\n",
      "57/57 [==============================] - 1s 15ms/step - loss: 0.2241 - accuracy: 0.9422 - val_loss: 1.2591 - val_accuracy: 0.7796\n",
      "Epoch 13/20\n",
      "57/57 [==============================] - 1s 15ms/step - loss: 0.2117 - accuracy: 0.9456 - val_loss: 1.2909 - val_accuracy: 0.7752\n",
      "Epoch 14/20\n",
      "57/57 [==============================] - 1s 15ms/step - loss: 0.2001 - accuracy: 0.9452 - val_loss: 1.3034 - val_accuracy: 0.7807\n",
      "Epoch 15/20\n",
      "57/57 [==============================] - 1s 14ms/step - loss: 0.1828 - accuracy: 0.9510 - val_loss: 1.3194 - val_accuracy: 0.7802\n",
      "Epoch 16/20\n",
      "57/57 [==============================] - 1s 15ms/step - loss: 0.1642 - accuracy: 0.9556 - val_loss: 1.3349 - val_accuracy: 0.7802\n",
      "Epoch 17/20\n",
      "57/57 [==============================] - 1s 16ms/step - loss: 0.1585 - accuracy: 0.9585 - val_loss: 1.3477 - val_accuracy: 0.7796\n",
      "Epoch 18/20\n",
      "57/57 [==============================] - 1s 15ms/step - loss: 0.1605 - accuracy: 0.9546 - val_loss: 1.3773 - val_accuracy: 0.7763\n",
      "Epoch 19/20\n",
      "57/57 [==============================] - 1s 14ms/step - loss: 0.1494 - accuracy: 0.9594 - val_loss: 1.3719 - val_accuracy: 0.7769\n",
      "Epoch 20/20\n",
      "57/57 [==============================] - 1s 15ms/step - loss: 0.1434 - accuracy: 0.9592 - val_loss: 1.3819 - val_accuracy: 0.7785\n"
     ]
    }
   ],
   "source": [
    "# Your Code Here\n",
    "def lr_time_based_decay(epoch, lr):\n",
    "    if epoch % 5 == 0:\n",
    "        return lr / 2\n",
    "    else:\n",
    "        return lr\n",
    "callbacks = [LearningRateScheduler(lr_time_based_decay, verbose=0)]\n",
    "model_8 = tf.keras.Sequential([\n",
    "       tf.keras.layers.Embedding(input_dim=max_features, output_dim=64, input_length=300),\n",
    "       tf.keras.layers.GlobalAveragePooling1D(),\n",
    "       tf.keras.layers.Dense(1024, activation='relu'),\n",
    "       tf.keras.layers.Dropout(0.5),\n",
    "       tf.keras.layers.Dense(46, activation='softmax')\n",
    "])\n",
    "model_8.compile(optimizer=keras.optimizers.Adam(learning_rate=0.01), loss=tf.keras.losses.SparseCategoricalCrossentropy(from_logits=True), metrics=['accuracy'])\n",
    "history = model_8.fit(train_data, train_labels, callbacks=callbacks, validation_data = (train_data, train_labels), validation_split=0.2, epochs=20, batch_size=128)\n"
   ]
  },
  {
   "cell_type": "markdown",
   "metadata": {
    "id": "F8IoQ-h6Syyj"
   },
   "source": [
    "\n",
    "Feel free to perform additional hyperparameter tuning if you wish, but it is not required. "
   ]
  },
  {
   "cell_type": "markdown",
   "metadata": {
    "id": "d1ZYPE7-BjTe"
   },
   "source": [
    "## 4. Create and Train a Model with Recurrent Layers\n",
    "\n",
    "Next, create `model_9` using LSTM layers similar to the model in Lecture 18. Train the model for 5 epochs and report the performance. Expect longer training time with RNN models. "
   ]
  },
  {
   "cell_type": "code",
   "execution_count": 86,
   "metadata": {
    "id": "JpZc6ZuB_3b3"
   },
   "outputs": [
    {
     "name": "stdout",
     "output_type": "stream",
     "text": [
      "Epoch 1/5\n",
      "57/57 [==============================] - 5s 54ms/step - loss: 2.5535 - accuracy: 0.3840 - val_loss: 2.0204 - val_accuracy: 0.4908\n",
      "Epoch 2/5\n",
      "57/57 [==============================] - 3s 49ms/step - loss: 1.8279 - accuracy: 0.5333 - val_loss: 1.7343 - val_accuracy: 0.5543\n",
      "Epoch 3/5\n",
      "57/57 [==============================] - 3s 49ms/step - loss: 1.5625 - accuracy: 0.5893 - val_loss: 1.5965 - val_accuracy: 0.5943\n",
      "Epoch 4/5\n",
      "57/57 [==============================] - 3s 50ms/step - loss: 1.3955 - accuracy: 0.6283 - val_loss: 1.5637 - val_accuracy: 0.5927\n",
      "Epoch 5/5\n",
      "57/57 [==============================] - 3s 48ms/step - loss: 1.2112 - accuracy: 0.6665 - val_loss: 1.6141 - val_accuracy: 0.6105\n"
     ]
    }
   ],
   "source": [
    "# Your Code Here()\n",
    "model_9 = tf.keras.Sequential([\n",
    "       tf.keras.layers.Embedding(input_dim=max_features, output_dim=64, input_length=300),\n",
    "       tf.keras.layers.Bidirectional(tf.keras.layers.LSTM(64)),\n",
    "       tf.keras.layers.Dense(1024, activation='relu'),\n",
    "       tf.keras.layers.Dropout(0.5),\n",
    "       tf.keras.layers.Dense(46, activation='softmax')\n",
    "])\n",
    "model_9.compile(optimizer='adam', loss='sparse_categorical_crossentropy', metrics=['accuracy'])\n",
    "history = model_9.fit(train_data, train_labels, validation_data = (train_data, train_labels), validation_split=0.2, epochs=5, batch_size=128)\n"
   ]
  },
  {
   "cell_type": "markdown",
   "metadata": {
    "id": "Sh84hp-iSOqI"
   },
   "source": [
    "### Improved Model\n",
    "\n",
    "Use the strategy that was the most successful with the above models with Dense layers (e.g., LR scheduler or ReduceLROnPlateau), and train an LSTM model using that strategy.\n",
    "\n",
    "Feel free to perform additional hyperparameter tuning if you wish, but it is not required. "
   ]
  },
  {
   "cell_type": "code",
   "execution_count": 88,
   "metadata": {
    "id": "FTvAJ3aqABr8"
   },
   "outputs": [
    {
     "name": "stdout",
     "output_type": "stream",
     "text": [
      "Epoch 1/20\n",
      "57/57 [==============================] - 5s 56ms/step - loss: 2.3108 - accuracy: 0.4168 - val_loss: 2.3838 - val_accuracy: 0.2554\n",
      "Epoch 2/20\n",
      "57/57 [==============================] - 3s 49ms/step - loss: 2.0251 - accuracy: 0.4441 - val_loss: 2.3203 - val_accuracy: 0.4591\n",
      "Epoch 3/20\n",
      "57/57 [==============================] - 3s 48ms/step - loss: 1.6555 - accuracy: 0.5589 - val_loss: 1.7291 - val_accuracy: 0.5559\n",
      "Epoch 4/20\n",
      "57/57 [==============================] - 3s 50ms/step - loss: 1.3873 - accuracy: 0.6225 - val_loss: 1.7166 - val_accuracy: 0.5737\n",
      "Epoch 5/20\n",
      "57/57 [==============================] - 3s 49ms/step - loss: 1.1185 - accuracy: 0.6951 - val_loss: 1.7170 - val_accuracy: 0.5999\n",
      "Epoch 6/20\n",
      "57/57 [==============================] - 3s 50ms/step - loss: 0.8230 - accuracy: 0.7698 - val_loss: 1.7772 - val_accuracy: 0.5993\n",
      "Epoch 7/20\n",
      "57/57 [==============================] - 3s 49ms/step - loss: 0.6600 - accuracy: 0.8173 - val_loss: 1.9630 - val_accuracy: 0.5915\n",
      "Epoch 8/20\n",
      "57/57 [==============================] - 3s 49ms/step - loss: 0.5286 - accuracy: 0.8561 - val_loss: 2.1174 - val_accuracy: 0.6010\n",
      "Epoch 9/20\n",
      "57/57 [==============================] - 3s 49ms/step - loss: 0.4357 - accuracy: 0.8768 - val_loss: 2.3309 - val_accuracy: 0.5921\n",
      "Epoch 10/20\n",
      "57/57 [==============================] - 3s 50ms/step - loss: 0.3795 - accuracy: 0.8953 - val_loss: 2.3726 - val_accuracy: 0.5893\n",
      "Epoch 11/20\n",
      "57/57 [==============================] - 3s 49ms/step - loss: 0.2854 - accuracy: 0.9191 - val_loss: 2.4931 - val_accuracy: 0.6194\n",
      "Epoch 12/20\n",
      "57/57 [==============================] - 3s 48ms/step - loss: 0.2435 - accuracy: 0.9307 - val_loss: 2.6505 - val_accuracy: 0.6055\n",
      "Epoch 13/20\n",
      "57/57 [==============================] - 3s 47ms/step - loss: 0.2034 - accuracy: 0.9417 - val_loss: 2.7817 - val_accuracy: 0.6093\n",
      "Epoch 14/20\n",
      "57/57 [==============================] - 3s 47ms/step - loss: 0.1850 - accuracy: 0.9479 - val_loss: 2.8696 - val_accuracy: 0.6010\n",
      "Epoch 15/20\n",
      "57/57 [==============================] - 3s 47ms/step - loss: 0.1885 - accuracy: 0.9450 - val_loss: 2.8907 - val_accuracy: 0.6027\n",
      "Epoch 16/20\n",
      "57/57 [==============================] - 3s 51ms/step - loss: 0.1468 - accuracy: 0.9555 - val_loss: 3.0007 - val_accuracy: 0.6155\n",
      "Epoch 17/20\n",
      "57/57 [==============================] - 3s 50ms/step - loss: 0.1281 - accuracy: 0.9585 - val_loss: 3.0388 - val_accuracy: 0.6066\n",
      "Epoch 18/20\n",
      "57/57 [==============================] - 3s 51ms/step - loss: 0.1249 - accuracy: 0.9601 - val_loss: 3.0924 - val_accuracy: 0.6010\n",
      "Epoch 19/20\n",
      "57/57 [==============================] - 3s 51ms/step - loss: 0.1171 - accuracy: 0.9633 - val_loss: 3.2154 - val_accuracy: 0.6082\n",
      "Epoch 20/20\n",
      "57/57 [==============================] - 3s 48ms/step - loss: 0.1119 - accuracy: 0.9631 - val_loss: 3.2458 - val_accuracy: 0.6088\n"
     ]
    }
   ],
   "source": [
    "# Your Code Here\n",
    "def lr_time_based_decay(epoch, lr):\n",
    "    if epoch % 5 == 0:\n",
    "        return lr / 2\n",
    "    else:\n",
    "        return lr\n",
    "callbacks = [LearningRateScheduler(lr_time_based_decay, verbose=0)]\n",
    "model_9 = tf.keras.Sequential([\n",
    "       tf.keras.layers.Embedding(input_dim=max_features, output_dim=64, input_length=300),\n",
    "       tf.keras.layers.Bidirectional(tf.keras.layers.LSTM(64)),\n",
    "       tf.keras.layers.Dense(1024, activation='relu'),\n",
    "       tf.keras.layers.Dropout(0.5),\n",
    "       tf.keras.layers.Dense(46, activation='softmax')\n",
    "])\n",
    "model_9.compile(optimizer=keras.optimizers.Adam(learning_rate=0.01), loss=tf.keras.losses.SparseCategoricalCrossentropy(from_logits=True), metrics=['accuracy'])\n",
    "history = model_9.fit(train_data, train_labels, callbacks=callbacks, validation_data = (train_data, train_labels), validation_split=0.2, epochs=20, batch_size=128)\n",
    "\n"
   ]
  },
  {
   "cell_type": "markdown",
   "metadata": {
    "id": "J1LfCvrgrvYA"
   },
   "source": [
    "## 5. Create and Train a Transformer Model\n",
    "\n",
    "Create `model_10` that will implement a Transformer Network. Follow the instructions in Lecture 19. Train the transformer model from scratch, it is not required to use a pretrained model. Select the hyperparameters as you wish, but aim to obtain over 70% accuracy.\n",
    "\n",
    "Feel free to perform additional hyperparameter tuning if you wish, but it is not required. "
   ]
  },
  {
   "cell_type": "code",
   "execution_count": 94,
   "metadata": {
    "id": "onp8ED-Arl-4"
   },
   "outputs": [
    {
     "name": "stdout",
     "output_type": "stream",
     "text": [
      "Epoch 1/5\n",
      "57/57 [==============================] - 4s 52ms/step - loss: 2.7946 - accuracy: 0.3331 - val_loss: 2.0508 - val_accuracy: 0.4969\n",
      "Epoch 2/5\n",
      "57/57 [==============================] - 3s 46ms/step - loss: 1.9015 - accuracy: 0.5509 - val_loss: 1.6373 - val_accuracy: 0.5854\n",
      "Epoch 3/5\n",
      "57/57 [==============================] - 3s 45ms/step - loss: 1.4868 - accuracy: 0.6458 - val_loss: 1.4686 - val_accuracy: 0.6377\n",
      "Epoch 4/5\n",
      "57/57 [==============================] - 3s 48ms/step - loss: 1.1908 - accuracy: 0.7151 - val_loss: 1.2360 - val_accuracy: 0.7117\n",
      "Epoch 5/5\n",
      "57/57 [==============================] - 3s 49ms/step - loss: 0.9268 - accuracy: 0.7752 - val_loss: 1.0867 - val_accuracy: 0.7574\n",
      "71/71 - 0s - loss: 1.2572 - accuracy: 0.7422\n"
     ]
    },
    {
     "data": {
      "text/plain": [
       "0.7422083616256714"
      ]
     },
     "execution_count": 94,
     "metadata": {},
     "output_type": "execute_result"
    }
   ],
   "source": [
    "# Your Code Here\n",
    "from tensorflow import keras\n",
    "from tensorflow.keras import layers\n",
    "\n",
    "class TokenAndPositionEmbedding(layers.Layer):\n",
    "    def __init__(self, maxlen, vocab_size, embed_dim):\n",
    "        super().__init__()\n",
    "        self.token_embeddings = layers.Embedding(input_dim=vocab_size, output_dim=embed_dim)\n",
    "        self.positional_embeddings = layers.Embedding(input_dim=maxlen, output_dim=embed_dim)\n",
    "\n",
    "    def call(self, inputs):\n",
    "        maxlen = tf.shape(inputs)[-1]\n",
    "        positions = tf.range(start=0, limit=maxlen, delta=1)\n",
    "        position_embeddings = self.positional_embeddings(positions)\n",
    "        input_embeddings = self.token_embeddings(inputs)\n",
    "        return input_embeddings + position_embeddings\n",
    "    \n",
    "class TransformerEncoder(layers.Layer):\n",
    "    def __init__(self, embed_dim, num_heads, ff_dim, rate=0.1):\n",
    "        super().__init__()\n",
    "        self.multi_head_attention = layers.MultiHeadAttention(num_heads=num_heads, key_dim=embed_dim)\n",
    "        self.feed_forward_net = keras.Sequential([layers.Dense(ff_dim, activation=\"relu\"), layers.Dense(embed_dim),])\n",
    "        self.layer_normalization1 = layers.LayerNormalization(epsilon=1e-6)\n",
    "        self.layer_normalization2 = layers.LayerNormalization(epsilon=1e-6)\n",
    "        self.dropout1 = layers.Dropout(rate)\n",
    "        self.dropout2 = layers.Dropout(rate)\n",
    "\n",
    "    def call(self, inputs, training):\n",
    "        multi_head_att_output = self.multi_head_attention(inputs, inputs)\n",
    "        multi_head_att_dropout = self.dropout1(multi_head_att_output, training=training)\n",
    "        add_norm_output_1 = self.layer_normalization1(inputs + multi_head_att_dropout)\n",
    "        feed_forward_output = self.feed_forward_net(add_norm_output_1)\n",
    "        feed_forward_dropout = self.dropout2(feed_forward_output, training=training)\n",
    "        add_norm_output_2 = self.layer_normalization2(add_norm_output_1 + feed_forward_dropout)\n",
    "        return add_norm_output_2\n",
    "maxlen = 300 \n",
    "embed_dim = 64\n",
    "num_heads = 2  \n",
    "ff_dim = 1024\n",
    "vocab_size = 30000  \n",
    "\n",
    "inputs = layers.Input(shape=(maxlen,))\n",
    "embedding_layer = TokenAndPositionEmbedding(maxlen, vocab_size, embed_dim)(inputs)\n",
    "x = TransformerEncoder(embed_dim, num_heads, ff_dim)(embedding_layer)\n",
    "\n",
    "# classifier\n",
    "x = layers.GlobalAveragePooling1D()(x)\n",
    "x = layers.Dropout(0.1)(x)\n",
    "x = layers.Dense(20, activation=\"relu\")(x)\n",
    "x = layers.Dropout(0.1)(x)\n",
    "outputs = layers.Dense(46, activation=\"softmax\")(x)\n",
    "\n",
    "model_10 = keras.Model(inputs=inputs, outputs=outputs)\n",
    "model_10.compile(optimizer='adam', loss='sparse_categorical_crossentropy', metrics=['accuracy'])\n",
    "history = model_10.fit(train_data, train_labels, validation_data = (train_data, train_labels), validation_split=0.2, epochs=5, batch_size=128)\n",
    "\n",
    "test_loss, test_acc = model_3.evaluate(test_data,  test_labels, verbose=2)\n",
    "test_acc"
   ]
  },
  {
   "cell_type": "code",
   "execution_count": null,
   "metadata": {},
   "outputs": [],
   "source": []
  }
 ],
 "metadata": {
  "accelerator": "GPU",
  "colab": {
   "authorship_tag": "ABX9TyPg2wa3B7TsOpBGbe62yE+k",
   "collapsed_sections": [],
   "machine_shape": "hm",
   "provenance": []
  },
  "gpuClass": "standard",
  "kernelspec": {
   "display_name": "Python 3 (ipykernel)",
   "language": "python",
   "name": "python3"
  },
  "language_info": {
   "codemirror_mode": {
    "name": "ipython",
    "version": 3
   },
   "file_extension": ".py",
   "mimetype": "text/x-python",
   "name": "python",
   "nbconvert_exporter": "python",
   "pygments_lexer": "ipython3",
   "version": "3.9.7"
  }
 },
 "nbformat": 4,
 "nbformat_minor": 1
}
