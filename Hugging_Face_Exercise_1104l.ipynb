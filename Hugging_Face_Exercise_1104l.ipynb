{
 "cells": [
  {
   "cell_type": "markdown",
   "metadata": {
    "id": "3uY9v1Z0BwZ-"
   },
   "source": [
    "# Language Models with Hugging Face Exercise (5 points)\n",
    "\n"
   ]
  },
  {
   "cell_type": "markdown",
   "metadata": {
    "id": "PCslYbpn3bTc"
   },
   "source": [
    "# 1. Hugging Face Pipelines\n",
    "\n",
    "Apply the Hugging Face Pipelines API to 3 tasks of your choice. \n",
    "\n",
    "For each task, use the created model to make predictions to at least 2 text sequences of your choice."
   ]
  },
  {
   "cell_type": "code",
   "execution_count": 5,
   "metadata": {
    "id": "TGG28VW6MbYs",
    "scrolled": false
   },
   "outputs": [
    {
     "name": "stderr",
     "output_type": "stream",
     "text": [
      "No model was supplied, defaulted to distilbert-base-uncased-finetuned-sst-2-english and revision af0f99b (https://huggingface.co/distilbert-base-uncased-finetuned-sst-2-english).\n",
      "Using a pipeline without specifying a model name and revision in production is not recommended.\n",
      "No model was supplied, defaulted to sshleifer/distilbart-cnn-12-6 and revision a4f8f3e (https://huggingface.co/sshleifer/distilbart-cnn-12-6).\n",
      "Using a pipeline without specifying a model name and revision in production is not recommended.\n"
     ]
    },
    {
     "name": "stdout",
     "output_type": "stream",
     "text": [
      "sentiment analysis result\n",
      "[{'label': 'POSITIVE', 'score': 0.9998708963394165}, {'label': 'NEGATIVE', 'score': 0.9990667700767517}]\n",
      "[{'summary_text': ' In discussing the growth of cities in the U.S. in the nineteenth century, one cannot really use the term “urban planning” as it suggests modern concerns for spatial and service organization which, in most instances, did not exist before the City Beautiful Movement that began in the 1890s .'}]\n"
     ]
    },
    {
     "name": "stderr",
     "output_type": "stream",
     "text": [
      "No model was supplied, defaulted to distilbert-base-uncased-finetuned-sst-2-english and revision af0f99b (https://huggingface.co/distilbert-base-uncased-finetuned-sst-2-english).\n",
      "Using a pipeline without specifying a model name and revision in production is not recommended.\n"
     ]
    },
    {
     "name": "stdout",
     "output_type": "stream",
     "text": [
      "[{'summary_text': ' Fire was a significant problem in urban areas of North America from the time of the first European settlement . Lack of sanitation, and the ensuring public health problems it created, was a more constant, if less dramatic, urban issue . It was not until the 1860s that any serious effort was made to develop proper systems for water delivery and sewage removal .'}]\n",
      "text-classification result:\n",
      "[{'label': 'POSITIVE', 'score': 0.9998708963394165}, {'label': 'NEGATIVE', 'score': 0.9990667700767517}]\n"
     ]
    }
   ],
   "source": [
    "# Your Code Here\n",
    "from transformers import pipeline\n",
    "model1 = pipeline('sentiment-analysis')\n",
    "print(\"sentiment analysis result\")\n",
    "print(model1(['Haha, today is a nice day!','I hate the weather today']))\n",
    "\n",
    "model2 = pipeline('summarization')\n",
    "print(model2('In discussing the growth of cities in the United States in the nineteenth century, one cannot really use the term “urban planning,” as it suggests modern concerns for spatial and service organization which, in most instances, did not exist before the planning revolution called the City Beautiful Movement that began in the 1890s. While there certainly were urban areas that were “planned” in the comprehensive contemporary sense of the word before that date, most notably Washington, D.C., these were the exception. Most “planned” in the nineteenth century was limited to areas much smaller than a city and was closely associated with developers trying to make a profit from a piece of land. Even when these small-scale plans were well designed, the developers made only those improvements that were absolutely necessary to attract the wealthy segment of the market. Indeed, it was the absence of true urban planning that allowed other factors to play such an important role in shaping the nineteenth-century American city.'))\n",
    "print(model2('Many nineteenth-century urban problems were those that continue to plague cities today—crime, pollution, noise—but others were the direct result of lack of planning and regulation, such as threat of fire, poor sanitation, and shoddy building construction. Fire was a significant problem in urban areas of North America from the time of the first European settlement. Construction with combustible materials coupled with close placement of buildings and the use of open flames in heating, cooking, and lighting meant that the potential for raging fires was ever present. Lack of sanitation, and the ensuring public health problems it created, was a more constant, if less dramatic, urban issue. It was not until the 1860s that any serious, concerted effort was made to develop proper systems for water delivery and sewage removal. In spite of remarkable strides made in the 1870s and 1880s by the newly established profession of sanitary engineering, the common nineteenth-century pattern of individual unprofessionally planned and installed cesspools (underground tanks for holding household sewage) continued. This led to water contamination and the spread of disease by rodents and insects.'))\n",
    "\n",
    "model3 = pipeline('text-classification')\n",
    "print('text-classification result:')\n",
    "print(model3(['Haha, today is a nice day!','I hate the weather today']))\n"
   ]
  },
  {
   "cell_type": "markdown",
   "metadata": {
    "id": "2ywvKQtxyolm"
   },
   "source": [
    "# 2. Load the Dataset\n",
    "\n",
    "We will use the TweetEval dataset from Hugging Face datasets. The dataset has several groups of tweet messages, and we will use the group `stance_climate`. The aim is to predict whether a tweet message is neutral, against, or in favor of climate change."
   ]
  },
  {
   "cell_type": "code",
   "execution_count": 8,
   "metadata": {
    "colab": {
     "base_uri": "https://localhost:8080/",
     "height": 87,
     "referenced_widgets": [
      "748d5718c3fc4204b975d1c4b6006950",
      "a0c6fa51f52b4afa9a984910a4dbaa03",
      "ea691da8f06e4662be485b127b3db4b8",
      "ab0df6598b8f472a89b7603b56f947aa",
      "aa9a973d2467421fad7a7f31843dbb1f",
      "aa5c4cd5951a4e9aa50eec94bf6f91a7",
      "3154ca33875e4992b67decdad671c6b6",
      "44afbbc66b564848bb8682ebeebd162b",
      "b64bd160b395422a90d1a051915fb318",
      "780e2b8a844c420f94ab45ccf28a09df",
      "c8e10e6e5b2a4f8dab50672ea559f39b"
     ]
    },
    "executionInfo": {
     "elapsed": 1211,
     "status": "ok",
     "timestamp": 1667607186468,
     "user": {
      "displayName": "Aleksandar Vakanski",
      "userId": "07675307153279708378"
     },
     "user_tz": 360
    },
    "id": "9Xp0sTxJv_QX",
    "outputId": "4b069a3e-9af3-4bd7-bd54-2317cecc08e6"
   },
   "outputs": [
    {
     "name": "stdout",
     "output_type": "stream",
     "text": [
      "Downloading and preparing dataset tweet_eval/stance_climate to C:/Users/Xiaoyu.Zhang6/.cache/huggingface/datasets/tweet_eval/stance_climate/1.1.0/12aee5282b8784f3e95459466db4cdf45c6bf49719c25cdb0743d71ed0410343...\n"
     ]
    },
    {
     "data": {
      "application/vnd.jupyter.widget-view+json": {
       "model_id": "585eaa23c14747d59b893e0a352cdf0d",
       "version_major": 2,
       "version_minor": 0
      },
      "text/plain": [
       "Downloading data files:   0%|          | 0/6 [00:00<?, ?it/s]"
      ]
     },
     "metadata": {},
     "output_type": "display_data"
    },
    {
     "data": {
      "application/vnd.jupyter.widget-view+json": {
       "model_id": "93354d5f5d2943c2bd453bd5b37deafc",
       "version_major": 2,
       "version_minor": 0
      },
      "text/plain": [
       "Downloading data:   0%|          | 0.00/16.3k [00:00<?, ?B/s]"
      ]
     },
     "metadata": {},
     "output_type": "display_data"
    },
    {
     "data": {
      "application/vnd.jupyter.widget-view+json": {
       "model_id": "2154654b7f7d426a86e48f045f53003a",
       "version_major": 2,
       "version_minor": 0
      },
      "text/plain": [
       "Downloading data:   0%|          | 0.00/133 [00:00<?, ?B/s]"
      ]
     },
     "metadata": {},
     "output_type": "display_data"
    },
    {
     "data": {
      "application/vnd.jupyter.widget-view+json": {
       "model_id": "65d8d8ffc81d470ba3a8ce51909c83f9",
       "version_major": 2,
       "version_minor": 0
      },
      "text/plain": [
       "Downloading data:   0%|          | 0.00/8.38k [00:00<?, ?B/s]"
      ]
     },
     "metadata": {},
     "output_type": "display_data"
    },
    {
     "data": {
      "application/vnd.jupyter.widget-view+json": {
       "model_id": "4311ecc0bc064c04b3bcfa42c3264401",
       "version_major": 2,
       "version_minor": 0
      },
      "text/plain": [
       "Downloading data:   0%|          | 0.00/81.0 [00:00<?, ?B/s]"
      ]
     },
     "metadata": {},
     "output_type": "display_data"
    },
    {
     "data": {
      "application/vnd.jupyter.widget-view+json": {
       "model_id": "17d3e7702b7549c6b5b96939b641e657",
       "version_major": 2,
       "version_minor": 0
      },
      "text/plain": [
       "Downloading data:   0%|          | 0.00/2.32k [00:00<?, ?B/s]"
      ]
     },
     "metadata": {},
     "output_type": "display_data"
    },
    {
     "data": {
      "application/vnd.jupyter.widget-view+json": {
       "model_id": "195e55698e624ce2baeaa9d98f4f0678",
       "version_major": 2,
       "version_minor": 0
      },
      "text/plain": [
       "Downloading data:   0%|          | 0.00/45.0 [00:00<?, ?B/s]"
      ]
     },
     "metadata": {},
     "output_type": "display_data"
    },
    {
     "data": {
      "application/vnd.jupyter.widget-view+json": {
       "model_id": "",
       "version_major": 2,
       "version_minor": 0
      },
      "text/plain": [
       "Generating train split:   0%|          | 0/355 [00:00<?, ? examples/s]"
      ]
     },
     "metadata": {},
     "output_type": "display_data"
    },
    {
     "data": {
      "application/vnd.jupyter.widget-view+json": {
       "model_id": "",
       "version_major": 2,
       "version_minor": 0
      },
      "text/plain": [
       "Generating test split:   0%|          | 0/169 [00:00<?, ? examples/s]"
      ]
     },
     "metadata": {},
     "output_type": "display_data"
    },
    {
     "data": {
      "application/vnd.jupyter.widget-view+json": {
       "model_id": "",
       "version_major": 2,
       "version_minor": 0
      },
      "text/plain": [
       "Generating validation split:   0%|          | 0/40 [00:00<?, ? examples/s]"
      ]
     },
     "metadata": {},
     "output_type": "display_data"
    },
    {
     "name": "stdout",
     "output_type": "stream",
     "text": [
      "Dataset tweet_eval downloaded and prepared to C:/Users/Xiaoyu.Zhang6/.cache/huggingface/datasets/tweet_eval/stance_climate/1.1.0/12aee5282b8784f3e95459466db4cdf45c6bf49719c25cdb0743d71ed0410343. Subsequent calls will reuse this data.\n"
     ]
    },
    {
     "data": {
      "application/vnd.jupyter.widget-view+json": {
       "model_id": "9a82553a5fef46f9a7efcd23da43580b",
       "version_major": 2,
       "version_minor": 0
      },
      "text/plain": [
       "  0%|          | 0/3 [00:00<?, ?it/s]"
      ]
     },
     "metadata": {},
     "output_type": "display_data"
    }
   ],
   "source": [
    "from datasets import load_dataset\n",
    "\n",
    "data = load_dataset(\"tweet_eval\", 'stance_climate')"
   ]
  },
  {
   "cell_type": "markdown",
   "metadata": {
    "id": "OzmFV9Uf6Gfc"
   },
   "source": [
    "Display the number of samples in the train, test, and validation datasets."
   ]
  },
  {
   "cell_type": "code",
   "execution_count": 9,
   "metadata": {
    "id": "fsmcDyGUu9sa"
   },
   "outputs": [
    {
     "name": "stdout",
     "output_type": "stream",
     "text": [
      "train nums:355\n",
      "test nums:169\n",
      "validation nums:40\n"
     ]
    }
   ],
   "source": [
    "# Your Code Here\n",
    "print(\"train nums:\"+str(data['train'].num_rows))\n",
    "print(\"test nums:\"+str(data['test'].num_rows))\n",
    "print(\"validation nums:\"+str(data['validation'].num_rows))"
   ]
  },
  {
   "cell_type": "markdown",
   "metadata": {
    "id": "7cbrKThP6d3b"
   },
   "source": [
    "Display the categories of the sentences in the dataset."
   ]
  },
  {
   "cell_type": "code",
   "execution_count": 10,
   "metadata": {
    "id": "Oc0MCeOxxI8e"
   },
   "outputs": [
    {
     "name": "stdout",
     "output_type": "stream",
     "text": [
      "categories of the sentences :['none', 'against', 'favor']\n"
     ]
    }
   ],
   "source": [
    "# Your Code Here\n",
    "print(\"categories of the sentences :\"+str(data['train'].features['label'].names))"
   ]
  },
  {
   "cell_type": "markdown",
   "metadata": {
    "id": "LYhwUMuW63Yk"
   },
   "source": [
    "Display the first 20 messages using Pandas dataframe."
   ]
  },
  {
   "cell_type": "code",
   "execution_count": 11,
   "metadata": {
    "id": "5hyEKQjwNfys"
   },
   "outputs": [
    {
     "data": {
      "text/plain": [
       "0     Why Is The Pope Upset?  via @user #UnzippedTru...\n",
       "1     We support Australia's Climate Roundtable whic...\n",
       "2     It's nights like this when I'm not so fond of ...\n",
       "3     #Republican party will go down in history book...\n",
       "4     RT @user @user We need degrowth - stop destroy...\n",
       "5     @user - #Wrong #century re the #IPCCreport & t...\n",
       "6     Thanks #MarcLevine & #Ilike_Mike for supportin...\n",
       "7     That awkward moment when a pro-coal PR campaig...\n",
       "8     Attenborough: 'The real problem is global' i.e...\n",
       "9     #Technology is a sign of how far we have come!...\n",
       "10    @user I'm just happy he's telling the @user to...\n",
       "11    Isn't CO2 impact on warming logarithmic, and a...\n",
       "12         @user Those items need to come back.  #SemST\n",
       "13    Try to create the world you want to live in. @...\n",
       "14    @user wow that is certainly an extreme prognos...\n",
       "15    RT @user 700 people dead in Pakistan due to he...\n",
       "16    Audio world, look out! There's a new sheriff i...\n",
       "17    @user @user i always said that Democrats would...\n",
       "18    #vatican will be destroyed the most vile creat...\n",
       "19              At the UN with crew now :) @user #SemST\n",
       "Name: messages, dtype: object"
      ]
     },
     "execution_count": 11,
     "metadata": {},
     "output_type": "execute_result"
    }
   ],
   "source": [
    "# Your Code Here\n",
    "import pandas as pd\n",
    "\n",
    "messages=[str(x) for x in data.data['train'][0][:20]]\n",
    "df=pd.DataFrame(columns=['messgaes'])\n",
    "df['messages']=messages\n",
    "df['messages']"
   ]
  },
  {
   "cell_type": "markdown",
   "metadata": {
    "id": "8EV1Q4Bb7jHT"
   },
   "source": [
    "Create a bar plot to inspect the distribution of the labels in the train dataset."
   ]
  },
  {
   "cell_type": "code",
   "execution_count": 12,
   "metadata": {
    "id": "UfxI1_Cc7Xft"
   },
   "outputs": [
    {
     "data": {
      "text/plain": [
       "<AxesSubplot:>"
      ]
     },
     "execution_count": 12,
     "metadata": {},
     "output_type": "execute_result"
    },
    {
     "data": {
      "image/png": "[encoded data removed]",
      "text/plain": [
       "<Figure size 432x288 with 1 Axes>"
      ]
     },
     "metadata": {
      "needs_background": "light"
     },
     "output_type": "display_data"
    }
   ],
   "source": [
    "# Your Code Here\n",
    "labels=[str(x) for x in data.data['train'][1]]\n",
    "pd.Series(labels).value_counts().plot(kind=\"barh\")"
   ]
  },
  {
   "cell_type": "markdown",
   "metadata": {
    "id": "2lPIE0LS77CM"
   },
   "source": [
    "# 3. Tokenization\n",
    "\n",
    "Apply the tokenizer from the `\"distilbert-base-uncased\"` model to the first 10 sentences in the train dataset, by setting `padding=True`. Display the sequences of word indices and the attention masks."
   ]
  },
  {
   "cell_type": "code",
   "execution_count": 13,
   "metadata": {
    "id": "lQcMvokz8VIn"
   },
   "outputs": [
    {
     "data": {
      "application/vnd.jupyter.widget-view+json": {
       "model_id": "be067c2479384ee1a46c0dd907ac7761",
       "version_major": 2,
       "version_minor": 0
      },
      "text/plain": [
       "Downloading:   0%|          | 0.00/28.0 [00:00<?, ?B/s]"
      ]
     },
     "metadata": {},
     "output_type": "display_data"
    },
    {
     "name": "stderr",
     "output_type": "stream",
     "text": [
      "C:\\Users\\Xiaoyu.Zhang6\\AppData\\Local\\Continuum\\anaconda3\\envs\\crash\\lib\\site-packages\\huggingface_hub\\file_download.py:125: UserWarning: `huggingface_hub` cache-system uses symlinks by default to efficiently store duplicated files but your machine does not support them in C:\\Users\\Xiaoyu.Zhang6\\.cache\\huggingface\\hub. Caching files will still work but in a degraded version that might require more space on your disk. This warning can be disabled by setting the `HF_HUB_DISABLE_SYMLINKS_WARNING` environment variable. For more details, see https://huggingface.co/docs/huggingface_hub/how-to-cache#limitations.\n",
      "To support symlinks on Windows, you either need to activate Developer Mode or to run Python as an administrator. In order to see activate developer mode, see this article: https://docs.microsoft.com/en-us/windows/apps/get-started/enable-your-device-for-development\n",
      "  warnings.warn(message)\n"
     ]
    },
    {
     "data": {
      "application/vnd.jupyter.widget-view+json": {
       "model_id": "2b35d44682014704893e4551f740026d",
       "version_major": 2,
       "version_minor": 0
      },
      "text/plain": [
       "Downloading:   0%|          | 0.00/483 [00:00<?, ?B/s]"
      ]
     },
     "metadata": {},
     "output_type": "display_data"
    },
    {
     "data": {
      "application/vnd.jupyter.widget-view+json": {
       "model_id": "f986e73be00c4d05b00228f8458b382d",
       "version_major": 2,
       "version_minor": 0
      },
      "text/plain": [
       "Downloading:   0%|          | 0.00/232k [00:00<?, ?B/s]"
      ]
     },
     "metadata": {},
     "output_type": "display_data"
    },
    {
     "data": {
      "application/vnd.jupyter.widget-view+json": {
       "model_id": "3536d3237d784bb682acecd50223391f",
       "version_major": 2,
       "version_minor": 0
      },
      "text/plain": [
       "Downloading:   0%|          | 0.00/466k [00:00<?, ?B/s]"
      ]
     },
     "metadata": {},
     "output_type": "display_data"
    },
    {
     "data": {
      "text/plain": [
       "{'input_ids': [[101, 2339, 2003, 1996, 4831, 6314, 1029, 3081, 1030, 5310, 1001, 4895, 5831, 11469, 16344, 14317, 1001, 4831, 27843, 12273, 2483, 1001, 7367, 5244, 2102, 102], [101, 2057, 2490, 2660, 1005, 1055, 4785, 2461, 10880, 2029, 2003, 4346, 1037, 7705, 2005, 21082, 5981, 3805, 1997, 3000, 1030, 5310, 1001, 7367, 5244, 2102, 102], [101, 2009, 1005, 1055, 6385, 2066, 2023, 2043, 1045, 1005, 1049, 2025, 2061, 13545, 1997, 2026, 2146, 2606, 1012, 1045, 2074, 10587, 24494, 2009, 2035, 2125, 999, 1001, 3684, 16535, 1001, 1052, 2078, 27767, 4313, 2140, 1001, 7367, 5244, 2102, 102], [101, 1001, 3951, 2283, 2097, 2175, 2091, 1999, 2381, 2808, 2004, 2283, 2008, 2768, 1999, 1996, 2126, 1997, 1001, 5637, 15950, 2015, 1998, 6349, 2000, 7901, 1001, 7367, 5244, 2102, 102], [101, 19387, 1030, 5310, 1030, 5310, 2057, 2342, 2139, 26982, 1011, 2644, 9846, 2256, 4774, 1010, 17531, 1012, 1001, 7367, 5244, 2102, 102], [101, 1030, 5310, 1011, 1001, 3308, 1001, 2301, 2128, 1996, 1001, 12997, 9468, 2890, 6442, 1004, 1996, 2920, 1001, 16134, 1045, 2079, 2031, 2000, 2360, 1010, 1000, 12362, 19542, 1001, 3521, 1001, 13165, 1001, 7367, 5244, 2102, 102], [101, 4283, 1001, 7871, 20414, 3170, 1004, 1001, 6335, 17339, 1035, 3505, 2005, 4637, 6094, 2006, 1001, 7367, 5244, 2102, 102], [101, 2008, 9596, 2617, 2043, 1037, 4013, 1011, 5317, 10975, 3049, 2038, 2058, 2531, 2243, 2062, 8771, 2084, 2017, 2079, 1024, 1030, 5310, 1001, 2665, 28556, 2075, 1001, 7367, 5244, 2102, 102], [101, 2012, 6528, 10235, 1024, 1005, 1996, 2613, 3291, 2003, 3795, 1005, 1045, 1012, 1041, 1012, 2025, 2074, 2033, 1010, 2030, 2017, 1010, 2021, 2149, 1001, 7367, 5244, 2102, 102], [101, 1001, 2974, 2003, 1037, 3696, 1997, 2129, 2521, 2057, 2031, 2272, 999, 1996, 1001, 13165, 1997, 1001, 16498, 2003, 1037, 3696, 1997, 2129, 2521, 2057, 2031, 2000, 2175, 999, 1001, 16134, 1001, 7367, 5244, 2102, 102], [101, 1030, 5310, 1045, 1005, 1049, 2074, 3407, 2002, 1005, 1055, 4129, 1996, 1030, 5310, 2000, 7968, 2039, 2128, 1024, 1001, 7367, 5244, 2102, 102], [101, 3475, 1005, 1056, 2522, 2475, 4254, 2006, 12959, 8833, 8486, 2705, 7712, 1010, 1998, 2012, 2783, 3798, 1010, 20024, 4903, 2213, 1010, 4297, 28578, 21050, 4254, 11265, 25394, 18507, 1029, 1001, 21915, 1001, 7367, 5244, 2102, 102], [101, 1030, 5310, 2216, 5167, 2342, 2000, 2272, 2067, 1012, 1001, 7367, 5244, 2102, 102], [101, 3046, 2000, 3443, 1996, 2088, 2017, 2215, 2000, 2444, 1999, 1012, 1030, 5310, 1001, 2007, 9006, 15194, 3258, 1001, 7367, 5244, 2102, 102], [101, 1030, 5310, 10166, 2008, 2003, 5121, 2019, 6034, 4013, 26745, 10074, 3370, 999, 1001, 2175, 2361, 1001, 19297, 1001, 7367, 5244, 2102, 102], [101, 19387, 1030, 5310, 6352, 2111, 2757, 1999, 4501, 2349, 2000, 3684, 16535, 1012, 1001, 7367, 5244, 2102, 102], [101, 5746, 2088, 1010, 2298, 2041, 999, 2045, 1005, 1055, 1037, 2047, 6458, 1999, 2237, 1001, 5746, 1001, 2189, 1001, 2088, 1001, 10670, 1001, 2293, 1001, 2166, 1001, 7367, 5244, 2102, 102], [101, 1030, 5310, 1030, 5310, 1045, 2467, 2056, 2008, 8037, 2052, 4171, 1996, 4633, 2065, 2027, 2071, 1001, 7367, 5244, 2102, 102], [101, 1001, 12111, 2097, 2022, 3908, 1996, 2087, 25047, 7329, 2412, 1996, 17277, 1997, 1001, 7025, 1001, 2061, 9527, 9355, 1001, 2336, 1001, 8275, 16643, 2638, 1998, 1001, 7367, 5244, 2102, 102], [101, 2012, 1996, 4895, 2007, 3626, 2085, 1024, 1007, 1030, 5310, 1001, 7367, 5244, 2102, 102]], 'attention_mask': [[1, 1, 1, 1, 1, 1, 1, 1, 1, 1, 1, 1, 1, 1, 1, 1, 1, 1, 1, 1, 1, 1, 1, 1, 1, 1], [1, 1, 1, 1, 1, 1, 1, 1, 1, 1, 1, 1, 1, 1, 1, 1, 1, 1, 1, 1, 1, 1, 1, 1, 1, 1, 1], [1, 1, 1, 1, 1, 1, 1, 1, 1, 1, 1, 1, 1, 1, 1, 1, 1, 1, 1, 1, 1, 1, 1, 1, 1, 1, 1, 1, 1, 1, 1, 1, 1, 1, 1, 1, 1, 1, 1, 1, 1], [1, 1, 1, 1, 1, 1, 1, 1, 1, 1, 1, 1, 1, 1, 1, 1, 1, 1, 1, 1, 1, 1, 1, 1, 1, 1, 1, 1, 1, 1, 1], [1, 1, 1, 1, 1, 1, 1, 1, 1, 1, 1, 1, 1, 1, 1, 1, 1, 1, 1, 1, 1, 1, 1], [1, 1, 1, 1, 1, 1, 1, 1, 1, 1, 1, 1, 1, 1, 1, 1, 1, 1, 1, 1, 1, 1, 1, 1, 1, 1, 1, 1, 1, 1, 1, 1, 1, 1, 1, 1, 1, 1], [1, 1, 1, 1, 1, 1, 1, 1, 1, 1, 1, 1, 1, 1, 1, 1, 1, 1, 1, 1, 1], [1, 1, 1, 1, 1, 1, 1, 1, 1, 1, 1, 1, 1, 1, 1, 1, 1, 1, 1, 1, 1, 1, 1, 1, 1, 1, 1, 1, 1, 1, 1, 1], [1, 1, 1, 1, 1, 1, 1, 1, 1, 1, 1, 1, 1, 1, 1, 1, 1, 1, 1, 1, 1, 1, 1, 1, 1, 1, 1, 1, 1, 1], [1, 1, 1, 1, 1, 1, 1, 1, 1, 1, 1, 1, 1, 1, 1, 1, 1, 1, 1, 1, 1, 1, 1, 1, 1, 1, 1, 1, 1, 1, 1, 1, 1, 1, 1, 1, 1], [1, 1, 1, 1, 1, 1, 1, 1, 1, 1, 1, 1, 1, 1, 1, 1, 1, 1, 1, 1, 1, 1, 1, 1, 1], [1, 1, 1, 1, 1, 1, 1, 1, 1, 1, 1, 1, 1, 1, 1, 1, 1, 1, 1, 1, 1, 1, 1, 1, 1, 1, 1, 1, 1, 1, 1, 1, 1, 1, 1, 1, 1, 1], [1, 1, 1, 1, 1, 1, 1, 1, 1, 1, 1, 1, 1, 1, 1], [1, 1, 1, 1, 1, 1, 1, 1, 1, 1, 1, 1, 1, 1, 1, 1, 1, 1, 1, 1, 1, 1, 1, 1], [1, 1, 1, 1, 1, 1, 1, 1, 1, 1, 1, 1, 1, 1, 1, 1, 1, 1, 1, 1, 1, 1, 1, 1], [1, 1, 1, 1, 1, 1, 1, 1, 1, 1, 1, 1, 1, 1, 1, 1, 1, 1, 1], [1, 1, 1, 1, 1, 1, 1, 1, 1, 1, 1, 1, 1, 1, 1, 1, 1, 1, 1, 1, 1, 1, 1, 1, 1, 1, 1, 1, 1, 1, 1, 1], [1, 1, 1, 1, 1, 1, 1, 1, 1, 1, 1, 1, 1, 1, 1, 1, 1, 1, 1, 1, 1, 1], [1, 1, 1, 1, 1, 1, 1, 1, 1, 1, 1, 1, 1, 1, 1, 1, 1, 1, 1, 1, 1, 1, 1, 1, 1, 1, 1, 1, 1, 1, 1, 1], [1, 1, 1, 1, 1, 1, 1, 1, 1, 1, 1, 1, 1, 1, 1, 1]]}"
      ]
     },
     "execution_count": 13,
     "metadata": {},
     "output_type": "execute_result"
    }
   ],
   "source": [
    "# Your Code Here\n",
    "from transformers import AutoTokenizer\n",
    "model_checkpoint=\"distilbert-base-uncased\"\n",
    "tokenizer = AutoTokenizer.from_pretrained(model_checkpoint, use_fast=True,padding=True)\n",
    "tokenizer(df['messages'].tolist())"
   ]
  },
  {
   "cell_type": "markdown",
   "metadata": {
    "id": "wot58QB19b0r"
   },
   "source": [
    "Convert the tokenized sequences for the first and the second sentences to text, and compare them to the raw text sentences."
   ]
  },
  {
   "cell_type": "code",
   "execution_count": 14,
   "metadata": {
    "id": "yQRmqINA8VLA"
   },
   "outputs": [
    {
     "name": "stdout",
     "output_type": "stream",
     "text": [
      "first sentence:\n",
      "Why Is The Pope Upset?  via @user #UnzippedTruth #PopeFrancis #SemST\n",
      "first sentence to text:\n",
      "[CLS] why is the pope upset ? via @ user # un ##zi ##pped ##tr ##uth # pope ##fra ##nc ##is # se ##ms ##t [SEP]\n",
      "second sentence:\n",
      "We support Australia's Climate Roundtable which is providing a framework for sensible debate ahead of Paris @user #SemST\n",
      "second sentence to text:\n",
      "[CLS] it ' s nights like this when i ' m not so fond of my long hair . i just wanna chop it all off ! # heat ##wave # p ##n ##wg ##ir ##l # se ##ms ##t [SEP]\n"
     ]
    }
   ],
   "source": [
    "# Your Code Here\n",
    "print(\"first sentence:\")\n",
    "print(df['messages'].tolist()[0])\n",
    "print(\"first sentence to text:\")\n",
    "print(' '.join(tokenizer.convert_ids_to_tokens([101, 2339, 2003, 1996, 4831, 6314, 1029, 3081, 1030, 5310, 1001, 4895, 5831, 11469, 16344, 14317, 1001, 4831, 27843, 12273, 2483, 1001, 7367, 5244, 2102, 102])))\n",
    "print(\"second sentence:\")\n",
    "print(df['messages'].tolist()[1])\n",
    "print(\"second sentence to text:\")\n",
    "print(' '.join(tokenizer.convert_ids_to_tokens([101, 2009, 1005, 1055, 6385, 2066, 2023, 2043, 1045, 1005, 1049, 2025, 2061, 13545, 1997, 2026, 2146, 2606, 1012, 1045, 2074, 10587, 24494, 2009, 2035, 2125, 999, 1001, 3684, 16535, 1001, 1052, 2078, 27767, 4313, 2140, 1001, 7367, 5244, 2102, 102])))"
   ]
  },
  {
   "cell_type": "markdown",
   "metadata": {
    "id": "y1ZlvHt2-Bdz"
   },
   "source": [
    "# 4. Train a Model for Message Classification\n",
    "\n",
    "Next, let's train a classifier by using a pretrained `\"distilbert-base-uncased\"` model and fine-tune it to the tweet messages. \n",
    "\n",
    "First, apply the tokenizer to the full train, test, and validation datasets."
   ]
  },
  {
   "cell_type": "code",
   "execution_count": 15,
   "metadata": {
    "id": "g7Bzaqj1Nqyb"
   },
   "outputs": [
    {
     "data": {
      "text/plain": [
       "{'input_ids': [[101, 2339, 2003, 1996, 4831, 6314, 1029, 3081, 1030, 5310, 1001, 4895, 5831, 11469, 16344, 14317, 1001, 4831, 27843, 12273, 2483, 1001, 7367, 5244, 2102, 102], [101, 2057, 2490, 2660, 1005, 1055, 4785, 2461, 10880, 2029, 2003, 4346, 1037, 7705, 2005, 21082, 5981, 3805, 1997, 3000, 1030, 5310, 1001, 7367, 5244, 2102, 102], [101, 2009, 1005, 1055, 6385, 2066, 2023, 2043, 1045, 1005, 1049, 2025, 2061, 13545, 1997, 2026, 2146, 2606, 1012, 1045, 2074, 10587, 24494, 2009, 2035, 2125, 999, 1001, 3684, 16535, 1001, 1052, 2078, 27767, 4313, 2140, 1001, 7367, 5244, 2102, 102], [101, 1001, 3951, 2283, 2097, 2175, 2091, 1999, 2381, 2808, 2004, 2283, 2008, 2768, 1999, 1996, 2126, 1997, 1001, 5637, 15950, 2015, 1998, 6349, 2000, 7901, 1001, 7367, 5244, 2102, 102], [101, 19387, 1030, 5310, 1030, 5310, 2057, 2342, 2139, 26982, 1011, 2644, 9846, 2256, 4774, 1010, 17531, 1012, 1001, 7367, 5244, 2102, 102], [101, 1030, 5310, 1011, 1001, 3308, 1001, 2301, 2128, 1996, 1001, 12997, 9468, 2890, 6442, 1004, 1996, 2920, 1001, 16134, 1045, 2079, 2031, 2000, 2360, 1010, 1000, 12362, 19542, 1001, 3521, 1001, 13165, 1001, 7367, 5244, 2102, 102], [101, 4283, 1001, 7871, 20414, 3170, 1004, 1001, 6335, 17339, 1035, 3505, 2005, 4637, 6094, 2006, 1001, 7367, 5244, 2102, 102], [101, 2008, 9596, 2617, 2043, 1037, 4013, 1011, 5317, 10975, 3049, 2038, 2058, 2531, 2243, 2062, 8771, 2084, 2017, 2079, 1024, 1030, 5310, 1001, 2665, 28556, 2075, 1001, 7367, 5244, 2102, 102], [101, 2012, 6528, 10235, 1024, 1005, 1996, 2613, 3291, 2003, 3795, 1005, 1045, 1012, 1041, 1012, 2025, 2074, 2033, 1010, 2030, 2017, 1010, 2021, 2149, 1001, 7367, 5244, 2102, 102], [101, 1001, 2974, 2003, 1037, 3696, 1997, 2129, 2521, 2057, 2031, 2272, 999, 1996, 1001, 13165, 1997, 1001, 16498, 2003, 1037, 3696, 1997, 2129, 2521, 2057, 2031, 2000, 2175, 999, 1001, 16134, 1001, 7367, 5244, 2102, 102], [101, 1030, 5310, 1045, 1005, 1049, 2074, 3407, 2002, 1005, 1055, 4129, 1996, 1030, 5310, 2000, 7968, 2039, 2128, 1024, 1001, 7367, 5244, 2102, 102], [101, 3475, 1005, 1056, 2522, 2475, 4254, 2006, 12959, 8833, 8486, 2705, 7712, 1010, 1998, 2012, 2783, 3798, 1010, 20024, 4903, 2213, 1010, 4297, 28578, 21050, 4254, 11265, 25394, 18507, 1029, 1001, 21915, 1001, 7367, 5244, 2102, 102], [101, 1030, 5310, 2216, 5167, 2342, 2000, 2272, 2067, 1012, 1001, 7367, 5244, 2102, 102], [101, 3046, 2000, 3443, 1996, 2088, 2017, 2215, 2000, 2444, 1999, 1012, 1030, 5310, 1001, 2007, 9006, 15194, 3258, 1001, 7367, 5244, 2102, 102], [101, 1030, 5310, 10166, 2008, 2003, 5121, 2019, 6034, 4013, 26745, 10074, 3370, 999, 1001, 2175, 2361, 1001, 19297, 1001, 7367, 5244, 2102, 102], [101, 19387, 1030, 5310, 6352, 2111, 2757, 1999, 4501, 2349, 2000, 3684, 16535, 1012, 1001, 7367, 5244, 2102, 102], [101, 5746, 2088, 1010, 2298, 2041, 999, 2045, 1005, 1055, 1037, 2047, 6458, 1999, 2237, 1001, 5746, 1001, 2189, 1001, 2088, 1001, 10670, 1001, 2293, 1001, 2166, 1001, 7367, 5244, 2102, 102], [101, 1030, 5310, 1030, 5310, 1045, 2467, 2056, 2008, 8037, 2052, 4171, 1996, 4633, 2065, 2027, 2071, 1001, 7367, 5244, 2102, 102], [101, 1001, 12111, 2097, 2022, 3908, 1996, 2087, 25047, 7329, 2412, 1996, 17277, 1997, 1001, 7025, 1001, 2061, 9527, 9355, 1001, 2336, 1001, 8275, 16643, 2638, 1998, 1001, 7367, 5244, 2102, 102], [101, 2012, 1996, 4895, 2007, 3626, 2085, 1024, 1007, 1030, 5310, 1001, 7367, 5244, 2102, 102], [101, 1030, 5310, 1030, 5310, 1030, 5310, 1030, 5310, 1030, 5310, 1045, 2228, 2057, 2179, 2242, 2062, 4795, 2000, 2637, 2084, 1001, 7367, 5244, 2102, 102], [101, 1030, 5310, 1030, 5310, 1030, 5310, 1030, 5310, 2582, 6947, 1997, 1001, 7367, 5244, 2102, 102], [101, 1998, 2006, 2319, 3459, 2010, 2522, 2475, 2046, 1996, 7224, 1998, 5462, 1996, 8254, 1997, 15760, 1001, 6331, 1001, 7367, 5244, 2102, 102], [101, 1030, 5310, 2009, 1005, 1055, 4689, 1012, 5858, 2003, 25919, 2005, 2062, 9451, 15811, 1006, 4343, 5402, 2023, 2095, 1007, 1004, 2710, 2003, 5255, 1012, 1001, 7367, 5244, 2102, 102], [101, 4997, 2335, 1037, 4997, 19635, 1037, 3893, 1012, 1012, 1012, 4687, 2065, 2008, 12033, 2000, 6699, 2205, 1029, 1029, 1029, 1001, 2158, 2705, 10593, 3215, 1001, 9084, 28600, 6962, 1001, 7367, 5244, 2102, 102], [101, 9364, 2008, 2057, 2024, 6403, 2290, 6567, 2055, 2256, 2200, 2613, 4774, 2006, 1037, 2158, 2081, 9598, 2291, 1012, 1001, 8040, 4140, 2271, 1001, 19044, 1001, 7367, 5244, 2102, 102], [101, 9278, 1037, 3004, 1998, 2265, 1996, 3185, 1001, 11777, 6610, 2000, 2026, 2814, 1998, 2155, 2000, 3659, 1996, 4471, 1997, 3795, 12959, 1012, 1001, 2026, 16068, 8889, 1001, 7367, 5244, 2102, 102], [101, 1001, 2364, 19513, 8586, 8017, 3370, 11387, 16068, 3438, 2086, 2101, 1012, 1012, 1001, 11409, 2080, 16068, 17656, 2015, 1998, 2402, 6529, 2360, 2009, 2003, 2051, 2000, 2552, 1001, 7367, 5244, 2102, 102], [101, 19387, 1030, 5310, 1030, 5310, 3504, 2066, 1037, 2307, 2724, 1012, 2665, 2003, 1996, 2126, 2830, 999, 1001, 7367, 5244, 2102, 102], [101, 1019, 1011, 1020, 5282, 1997, 4542, 1999, 1037, 2154, 1004, 2013, 2279, 2154, 2045, 2003, 2053, 4542, 2012, 2035, 1012, 4860, 6561, 4464, 1039, 1999, 1001, 27249, 1012, 1001, 4044, 1001, 7367, 5244, 2102, 102], [101, 1012, 1030, 4116, 7875, 18384, 21246, 8093, 2145, 8945, 14083, 2075, 2006, 2248, 2754, 1997, 9268, 3976, 2006, 6351, 1010, 2029, 2002, 5218, 2000, 2004, 1000, 11704, 4171, 1000, 1001, 17151, 18155, 1001, 7367, 5244, 2102, 102], [101, 1030, 5310, 1030, 5310, 2307, 2739, 2000, 6545, 1037, 10738, 4034, 1005, 1055, 5210, 17884, 2058, 3362, 1012, 17203, 2129, 2210, 1001, 19044, 4282, 1997, 1001, 7367, 5244, 2102, 102], [101, 6203, 1001, 5862, 28949, 3531, 2994, 3599, 2129, 2017, 2024, 2157, 2085, 1012, 1001, 2023, 5302, 6826, 2075, 1001, 3100, 21604, 5705, 3762, 2063, 1001, 7367, 5244, 2102, 102], [101, 5034, 14540, 2100, 6881, 2015, 2033, 2041, 1045, 2031, 2000, 4929, 1001, 19352, 24410, 2005, 1996, 2851, 1001, 3899, 17122, 2893, 1037, 1001, 9092, 2012, 1023, 3286, 1029, 1001, 1059, 24475, 1001, 7367, 5244, 2102, 102], [101, 2009, 1005, 1055, 2980, 21358, 1999, 1001, 5862, 1012, 2023, 2003, 2025, 3671, 999, 1001, 2980, 10354, 1001, 7367, 5244, 2102, 102], [101, 1001, 4130, 14399, 20049, 6024, 1001, 2474, 2555, 1005, 1055, 2665, 4177, 2142, 2000, 2424, 2334, 7300, 2000, 1001, 18749, 3012, 9892, 1001, 7367, 5244, 2102, 102], [101, 8112, 16302, 1000, 7435, 2323, 11582, 3795, 4010, 2378, 12731, 2094, 2191, 5022, 1005, 2740, 4788, 1000, 1001, 8112, 1001, 2343, 16429, 8067, 1001, 2317, 4580, 1001, 7367, 5244, 2102, 102], [101, 11352, 16234, 2005, 1996, 2866, 2023, 5353, 1012, 1998, 1996, 2231, 2145, 15867, 2000, 8568, 3795, 12959, 1001, 2866, 28949, 1001, 7367, 5244, 2102, 102], [101, 1001, 13986, 1012, 1012, 1012, 1045, 4687, 2129, 2172, 2062, 1001, 2388, 1001, 3011, 2038, 2012, 1001, 16134, 3798, 2128, 2256, 1001, 19640, 2594, 1001, 8909, 8780, 21615, 1029, 1001, 7367, 5244, 2102, 102], [101, 7842, 2038, 2209, 2019, 6150, 2535, 1999, 8320, 2075, 2060, 3937, 3032, 2000, 12919, 2148, 1011, 2148, 6792, 2006, 5609, 2105, 1001, 7367, 5244, 2102, 102], [101, 1001, 21117, 2050, 1001, 3789, 15992, 2102, 18139, 3593, 25540, 28872, 22107, 1024, 1001, 25540, 2666, 1023, 2047, 1001, 8872, 17465, 7300, 1998, 2062, 2182, 1028, 1001, 7367, 5244, 2102, 102], [101, 1012, 1030, 5796, 27605, 2890, 2758, 2336, 1010, 2308, 1010, 9750, 2111, 2926, 2012, 3891, 2000, 2740, 14670, 1997, 1001, 4785, 2890, 6442, 2075, 11387, 16068, 1001, 7367, 5244, 2102, 102], [101, 1030, 5310, 1001, 2175, 15042, 8261, 20909, 2099, 1037, 9467, 1001, 2175, 2361, 10592, 1000, 17850, 2278, 22028, 1000, 2062, 12532, 5897, 24097, 2084, 1001, 5841, 1001, 6502, 1001, 2495, 1001, 7367, 5244, 2102, 102], [101, 3087, 2842, 5993, 2057, 2323, 6942, 2000, 5509, 1029, 1009, 2068, 2047, 1055, 2532, 28753, 2969, 1011, 5507, 4925, 1999, 4549, 999, 1001, 6451, 3736, 6455, 1001, 8285, 16052, 1001, 7367, 5244, 2102, 102], [101, 1030, 5310, 1030, 5310, 2017, 1005, 2128, 7098, 1997, 2008, 1029, 1001, 26822, 25425, 3489, 1001, 26077, 5880, 1001, 3481, 5428, 2361, 1001, 4456, 1001, 27625, 1001, 21451, 28067, 1001, 28404, 14643, 15808, 1001, 7367, 5244, 2102, 102], [101, 1045, 2293, 2023, 4831, 1012, 1045, 2123, 1005, 1056, 2729, 2054, 4676, 2017, 2024, 1010, 2023, 3124, 2003, 12476, 1012, 1001, 7367, 5244, 2102, 102], [101, 2065, 2017, 2031, 2151, 3588, 13579, 2055, 4785, 2689, 1010, 2175, 3422, 1030, 5310, 2006, 20907, 1998, 10838, 2000, 4485, 3436, 2115, 6471, 1012, 1001, 7367, 5244, 2102, 102], [101, 2108, 2019, 5117, 3566, 1010, 2965, 6830, 1018, 1996, 4785, 1016, 1012, 4637, 2069, 5347, 2040, 2031, 1037, 2933, 1016, 2552, 2006, 1001, 2377, 2378, 2549, 20464, 21499, 1001, 7367, 5244, 2102, 102], [101, 2043, 1996, 2092, 2003, 4318, 2057, 2113, 1996, 3643, 1997, 1001, 2300, 1024, 3841, 5951, 1001, 28794, 20464, 21499, 1001, 19044, 1001, 7367, 5244, 2102, 102], [101, 2122, 2420, 2023, 1045, 1001, 2113, 999, 1045, 1001, 7528, 2009, 2086, 3283, 1004, 3432, 2939, 2185, 2021, 1045, 2113, 1010, 12362, 19542, 1001, 3521, 1001, 7072, 999, 1001, 3125, 1029, 1029, 1001, 7367, 5244, 2102, 102], [101, 6429, 4357, 2007, 1030, 5310, 1998, 2585, 2012, 6528, 10235, 1001, 7367, 5244, 2102, 102], [101, 1030, 5310, 1030, 5310, 2070, 2111, 1054, 2061, 8056, 2489, 1001, 7367, 5244, 2102, 102], [101, 3892, 1011, 2914, 1997, 2671, 2831, 6627, 7300, 2005, 4785, 2689, 2007, 11268, 1012, 6287, 9566, 1001, 26519, 5685, 7384, 23196, 2015, 1001, 13107, 1001, 7367, 5244, 2102, 102], [101, 2346, 2000, 1001, 3000, 11387, 16068, 1000, 1001, 4748, 2361, 11387, 16068, 2522, 1011, 8397, 1005, 2047, 6994, 2097, 2022, 3591, 2006, 2251, 13386, 1000, 1030, 5310, 2012, 1030, 5310, 2724, 2006, 1001, 7367, 5244, 2102, 102], [101, 2061, 1001, 3017, 1055, 1012, 1012, 1012, 2302, 12212, 2054, 2003, 2115, 2643, 2183, 2000, 2191, 5472, 2111, 2041, 1997, 1029, 1001, 4803, 17310, 20414, 2884, 1001, 7367, 5244, 2102, 102], [101, 2120, 17472, 2933, 2000, 2404, 2041, 2543, 1999, 27796, 1012, 2717, 1997, 1996, 2160, 2064, 6402, 3336, 1010, 6402, 1012, 1001, 2168, 11614, 6182, 2102, 1001, 7367, 5244, 2102, 102], [101, 14734, 3896, 9359, 1999, 2530, 12306, 2213, 1998, 4647, 18079, 1005, 1056, 2097, 6033, 3539, 16439, 2000, 9585, 2062, 1001, 1048, 3070, 1001, 2609, 2278, 1001, 4647, 18155, 2072, 1001, 7367, 5244, 2102, 102], [101, 5189, 4632, 8505, 1998, 2093, 3823, 1997, 4542, 2182, 1001, 4283, 16429, 8067, 1001, 7367, 5244, 2102, 102], [101, 2821, 1024, 3666, 1996, 1001, 2739, 2128, 1001, 5483, 2747, 1010, 2009, 1005, 1055, 1006, 1031, 2035, 1033, 1007, 1001, 5816, 2128, 1001, 2339, 1045, 1005, 1049, 2182, 999, 2128, 1005, 1055, 1040, 1001, 3521, 1001, 13938, 2015, 1001, 7072, 1001, 3125, 1029, 1029, 1029, 1001, 7367, 5244, 2102, 102], [101, 2651, 1996, 2983, 1997, 15195, 17257, 1999, 1996, 2152, 1011, 2504, 2724, 2006, 4785, 2689, 2012, 1996, 1030, 5310, 1001, 4895, 19841, 1001, 7367, 5244, 2102, 102], [101, 1996, 1001, 15381, 20192, 2102, 16535, 2331, 9565, 18881, 2000, 12606, 2692, 6677, 1999, 1019, 2420, 1001, 6351, 23238, 28231, 2015, 1001, 7367, 5244, 2102, 102], [101, 1030, 5310, 4633, 7060, 20607, 2200, 11543, 2058, 1996, 2197, 2261, 2086, 1012, 1012, 1001, 7367, 5244, 2102, 102], [101, 8235, 2831, 2013, 1030, 5310, 1001, 29095, 18832, 1030, 5310, 1001, 11529, 3367, 3672, 2003, 1996, 3145, 2895, 2005, 2035, 2006, 1001, 1043, 8523, 3406, 11387, 16068, 1001, 7367, 5244, 2102, 102], [101, 4067, 2017, 1030, 5310, 2005, 2893, 2041, 2045, 7483, 1998, 20655, 2028, 1997, 1996, 2087, 2590, 3314, 2057, 2024, 5307, 1012, 1001, 7367, 5244, 2102, 102], [101, 19387, 1030, 5310, 1030, 5310, 1030, 5310, 2054, 1037, 6919, 3863, 2090, 2048, 1997, 1996, 2088, 1005, 1055, 4602, 2273, 999, 2428, 7244, 1012, 1001, 1001, 7367, 5244, 2102, 102], [101, 1030, 5310, 1030, 5310, 1030, 5310, 1030, 5310, 4983, 2009, 1005, 1055, 1001, 7367, 5244, 2102, 102], [101, 4149, 2865, 1027, 6475, 1012, 3687, 2865, 1027, 1001, 2591, 16969, 1012, 2613, 5320, 2079, 2025, 2031, 1001, 28516, 14876, 7174, 13777, 2015, 1001, 4044, 1001, 18186, 23301, 1001, 7367, 5244, 2102, 102], [101, 1001, 3260, 1024, 1001, 4785, 2006, 1996, 2346, 1028, 2507, 2115, 2482, 1037, 3338, 1006, 2011, 1030, 5310, 1001, 5955, 1001, 7367, 5244, 2102, 102], [101, 1045, 1005, 1049, 1999, 3109, 1012, 1045, 2514, 1996, 15443, 10247, 1997, 16021, 28173, 3560, 7311, 12128, 7842, 16671, 7999, 2046, 2026, 2282, 1012, 2030, 2672, 1045, 2123, 1005, 1056, 2031, 9353, 1001, 7367, 5244, 2102, 102], [101, 1045, 1005, 1049, 6069, 2217, 2007, 1996, 2428, 6047, 1998, 2092, 5161, 12455, 2006, 2023, 2028, 4364, 1012, 1001, 7367, 5244, 2102, 102], [101, 1001, 2202, 7698, 10760, 10258, 8490, 1004, 1001, 2293, 10105, 2015, 5050, 8915, 28312, 2594, 3451, 12363, 1010, 4283, 1999, 2053, 2235, 2112, 1016, 10474, 1004, 9130, 1012, 5674, 2168, 1018, 1001, 7367, 5244, 2102, 102], [101, 2054, 2064, 2402, 2111, 2079, 2055, 4785, 2689, 1029, 1030, 5310, 1030, 5310, 1030, 5310, 1030, 5310, 1001, 3360, 1001, 7367, 5244, 2102, 102], [101, 1030, 5310, 1045, 2228, 1996, 1019, 2243, 2038, 2288, 2068, 13940, 4199, 2100, 1001, 21526, 7245, 1001, 11748, 3211, 23398, 1001, 3773, 19291, 4063, 1001, 7367, 5244, 2102, 102], [101, 1037, 2843, 1997, 4053, 2003, 2108, 2589, 2296, 2154, 1012, 2021, 2057, 2024, 2183, 2000, 2663, 2023, 1012, 1001, 1061, 18992, 10087, 2015, 1001, 14775, 18964, 2015, 1001, 7367, 5244, 2102, 102], [101, 9420, 2006, 1996, 7224, 1998, 17401, 8339, 1996, 2529, 3747, 1999, 4785, 2689, 3081, 2852, 1012, 11737, 4183, 2527, 2179, 2050, 1001, 14916, 28637, 3401, 1001, 7367, 5244, 2102, 102], [101, 1045, 2428, 2064, 1005, 1056, 3233, 1996, 3234, 2277, 2021, 1045, 2228, 1045, 2031, 1037, 10188, 2006, 1001, 4831, 27843, 12273, 2483, 999, 14021, 23644, 2232, 1010, 2123, 1005, 1056, 2425, 999, 1001, 4111, 15950, 2015, 1001, 7367, 5244, 2102, 102], [101, 2054, 2003, 2012, 8406, 2003, 1996, 7691, 1997, 2256, 1998, 2279, 4245, 1011, 6284, 2111, 3360, 1001, 4895, 3654, 1001, 2895, 11387, 16068, 1001, 8872, 17465, 1001, 7367, 5244, 2102, 102], [101, 1001, 3260, 1024, 1001, 4785, 1030, 2188, 1028, 5309, 2665, 2373, 1006, 2065, 2800, 1007, 1006, 2011, 1030, 5310, 1001, 5955, 1001, 7367, 5244, 2102, 102], [101, 1030, 5310, 6083, 2057, 2323, 2031, 2816, 2005, 8801, 2000, 16957, 2068, 2006, 4187, 3314, 1001, 2007, 9006, 15194, 3258, 1001, 1044, 14945, 2140, 17914, 1001, 7367, 5244, 2102, 102], [101, 2204, 6735, 1030, 5310, 2005, 1001, 3462, 2620, 1012, 2017, 2097, 2079, 2009, 1030, 5310, 999, 1001, 5943, 1001, 5943, 5714, 14289, 4877, 2063, 1001, 28794, 20464, 21499, 1001, 7367, 5244, 2102, 102], [101, 24529, 13512, 9453, 18684, 11563, 1024, 1043, 20850, 2140, 9028, 6562, 2638, 9333, 1998, 1996, 11868, 8867, 2453, 2022, 4786, 4268, 2000, 4558, 4091, 999, 1001, 6351, 2696, 2595, 15782, 2213, 1001, 18178, 20492, 15118, 2015, 1001, 7367, 5244, 2102, 102], [101, 1030, 5310, 1000, 2852, 1012, 2585, 4190, 8520, 1997, 1996, 2118, 1997, 8452, 4863, 1012, 1012, 1012, 1012, 3020, 7715, 2599, 2000, 3020, 3798, 1997, 2522, 2475, 1001, 7367, 5244, 2102, 102], [101, 9508, 27164, 12001, 12786, 4895, 2006, 2129, 18440, 19454, 29035, 1006, 18178, 20492, 15118, 2015, 1007, 2003, 12473, 5237, 1012, 1001, 2025, 9648, 20179, 1001, 20248, 13159, 3170, 7999, 1001, 7367, 5244, 2102, 102], [101, 2008, 1001, 22072, 15775, 2361, 2442, 2022, 5186, 1001, 5457, 1010, 2009, 5881, 2090, 1016, 2214, 2085, 1001, 8909, 8780, 21615, 2074, 2090, 2017, 1004, 2033, 999, 1000, 12362, 1040, 1001, 3521, 1001, 7367, 5244, 2102, 102], [101, 1030, 5310, 1030, 5310, 2710, 2894, 3791, 1016, 15697, 1002, 3438, 4551, 1037, 2095, 1010, 3825, 2005, 2011, 8122, 1001, 3729, 16275, 10893, 1001, 4044, 1001, 7367, 5244, 2102, 102], [101, 1996, 12398, 4045, 2597, 2003, 27936, 1012, 1001, 22975, 4140, 1001, 7367, 5244, 2102, 102], [101, 17012, 2213, 1010, 2054, 1005, 1055, 2279, 2128, 2026, 1001, 13610, 9863, 1045, 4687, 1999, 1001, 3521, 1999, 1037, 1001, 3537, 5450, 2128, 1001, 2339, 1045, 1005, 1049, 2182, 1029, 1001, 3521, 1001, 7072, 1001, 3125, 1029, 1001, 7367, 5244, 2102, 102], [101, 3752, 1024, 1000, 1996, 13156, 1998, 1996, 3565, 9006, 18780, 2121, 1012, 2006, 1996, 2642, 2392, 1997, 4785, 2689, 1000, 2011, 2798, 24185, 7317, 15628, 1001, 10162, 1001, 7367, 5244, 2102, 102], [101, 1001, 10067, 1001, 3361, 1001, 14657, 1998, 1001, 16987, 2003, 2054, 1001, 2325, 18209, 3791, 2758, 1001, 6904, 17028, 2012, 1001, 4895, 1001, 11721, 1001, 7367, 5244, 2102, 102], [101, 1001, 8872, 17465, 2064, 9510, 2030, 8246, 1012, 2065, 2529, 18824, 4122, 2000, 5788, 2242, 2442, 2022, 2589, 2025, 2005, 3267, 2021, 2005, 4286, 1012, 3722, 1012, 1001, 7367, 5244, 2102, 102], [101, 1012, 1030, 5943, 5714, 14289, 4877, 2063, 1045, 2156, 2023, 4060, 2039, 2006, 1996, 1054, 18418, 2007, 1996, 1000, 3582, 2033, 1998, 2099, 1000, 3696, 1012, 1012, 1012, 2009, 2323, 2022, 1996, 2060, 2126, 2461, 999, 1001, 7367, 5244, 2102, 102], [101, 1001, 2364, 19513, 8586, 8017, 3370, 11387, 16068, 1012, 1012, 1012, 1012, 1012, 11082, 5245, 1996, 2287, 13807, 4969, 2302, 2151, 3571, 1001, 4785, 29427, 6610, 11387, 16068, 1001, 7367, 5244, 2102, 102], [101, 12362, 19542, 1001, 3521, 2000, 2017, 1004, 2035, 1001, 2164, 2046, 1996, 1001, 2925, 2006, 1037, 4415, 1001, 2124, 2000, 2022, 1001, 10713, 23111, 4017, 5397, 11751, 2102, 24955, 2182, 2908, 1001, 7367, 5244, 2102, 102], [101, 2065, 2057, 2079, 2025, 2552, 1010, 2057, 2097, 2022, 1996, 4245, 2040, 2354, 1010, 2021, 2106, 2025, 2693, 1012, 1011, 1030, 5310, 1001, 12935, 9468, 16068, 1001, 7367, 5244, 2102, 102], [101, 1030, 5310, 1030, 5310, 1030, 5310, 15140, 2129, 3915, 10220, 2000, 2202, 5667, 4053, 2057, 1005, 2128, 3625, 2005, 1001, 3828, 10760, 14644, 2705, 1001, 7367, 5244, 2102, 102], [101, 1001, 21461, 1030, 5310, 1030, 5310, 1030, 5310, 1030, 5310, 1004, 1030, 5310, 2147, 2005, 1037, 1001, 2665, 2943, 2925, 1012, 1001, 7367, 5244, 2102, 102], [101, 2065, 2057, 2123, 1005, 1056, 2079, 2505, 2057, 2097, 2022, 1996, 6517, 4245, 2008, 2018, 1996, 4495, 2000, 2552, 1998, 2134, 1005, 1056, 1001, 12935, 9468, 16068, 1001, 4990, 11387, 16068, 1001, 7367, 5244, 2102, 102], [101, 1999, 1996, 1057, 1012, 1055, 1012, 5317, 2003, 2757, 2632, 13638, 1030, 5310, 1001, 14775, 18964, 2015, 1001, 7367, 5244, 2102, 102], [101, 2292, 1005, 1055, 2035, 2644, 3038, 2111, 2123, 1005, 1056, 1000, 2903, 1000, 1999, 4785, 2689, 1012, 2009, 1005, 1055, 2025, 1037, 3043, 1997, 4752, 1012, 2027, 2123, 1005, 1056, 3305, 1001, 7367, 5244, 2102, 102], [101, 2065, 2066, 2033, 2017, 2371, 2376, 3238, 2059, 4952, 2000, 1030, 5310, 1001, 5622, 2497, 3207, 2213, 20450, 5963, 3554, 2005, 1996, 1001, 2529, 15950, 3736, 6593, 1001, 15184, 6806, 18161, 1001, 7367, 5244, 2102, 102], [101, 3147, 4355, 1998, 4954, 22199, 2621, 1999, 3638, 1012, 1001, 22529, 2229, 1001, 9587, 26677, 23425, 10376, 4402, 2243, 1001, 7987, 12171, 2099, 1001, 7367, 5244, 2102, 102], [101, 2026, 6077, 2024, 1001, 15601, 2000, 1996, 3786, 1997, 2026, 2189, 999, 1001, 7367, 5244, 2102, 102], [101, 1030, 5310, 1030, 5310, 2292, 2033, 3984, 1012, 2017, 1005, 2128, 1037, 4688, 1010, 10958, 17062, 24247, 1013, 4010, 2923, 2109, 2000, 12814, 8866, 2000, 2582, 2115, 11376, 1001, 7367, 5244, 2102, 102], [101, 1012, 1030, 27831, 20464, 29319, 6919, 2000, 2424, 2017, 2006, 10474, 1012, 3113, 1030, 5310, 1037, 3010, 2551, 1999, 1001, 7367, 5244, 2102, 102], [101, 10428, 3259, 6866, 1030, 5310, 2038, 2026, 3789, 2005, 3003, 1012, 2256, 4314, 2376, 2097, 2022, 2657, 1001, 2529, 15950, 3736, 6593, 1001, 15184, 6806, 18161, 1001, 7367, 5244, 2102, 102], [101, 1030, 5310, 1998, 2664, 2508, 1999, 14586, 2063, 4136, 2149, 2008, 3795, 12959, 3475, 1005, 1056, 2613, 1012, 1001, 7367, 5244, 2102, 102], [101, 2004, 2027, 2360, 3543, 1011, 3536, 2360, 4826, 2059, 1045, 2097, 1001, 3537, 3973, 2022, 2067, 2023, 2126, 999, 1029, 999, 999, 2128, 1005, 1055, 1040, 1001, 3521, 1000, 2428, 1000, 2908, 1001, 7072, 1001, 7367, 5244, 2102, 102], [101, 2007, 2053, 4542, 1999, 1996, 2279, 1019, 2420, 1010, 2009, 2052, 2031, 2042, 1996, 2852, 10458, 2238, 1999, 1001, 8728, 2139, 1001, 7029, 1999, 22822, 4181, 2381, 1012, 1001, 7367, 5244, 2102, 102], [101, 2003, 2045, 1037, 9478, 1045, 2064, 4608, 2697, 12792, 2030, 2097, 1045, 3280, 1997, 1037, 3684, 6909, 2045, 2004, 2092, 1029, 1001, 18559, 13181, 3489, 1001, 7367, 5244, 2102, 102], [101, 1012, 1030, 6487, 27572, 6299, 2054, 2024, 1996, 9592, 1010, 1030, 5310, 1001, 15008, 1001, 28569, 1029, 1001, 3729, 16275, 10893, 1001, 7367, 5244, 2102, 102], [101, 2023, 4831, 1012, 1045, 8415, 1010, 2002, 2003, 2055, 2000, 8915, 27718, 2026, 2126, 7652, 4632, 2067, 2000, 1996, 2277, 1012, 1001, 2293, 1001, 3425, 1001, 7367, 5244, 2102, 102], [101, 1030, 5310, 1030, 5310, 2009, 1005, 1055, 6517, 2000, 2022, 1996, 2197, 4245, 2008, 2071, 2689, 2021, 2515, 2498, 1012, 1001, 17151, 18155, 1001, 7367, 5244, 2102, 102], [101, 1031, 2158, 1033, 3685, 2689, 1996, 4785, 1997, 2151, 2406, 1025, 2002, 9909, 2053, 2047, 5783, 2000, 1996, 5800, 1066, 2798, 11534, 1001, 14405, 8093, 7361, 25793, 1001, 7367, 5244, 2102, 102], [101, 2035, 2159, 2006, 2859, 1010, 4311, 1030, 5310, 1011, 2933, 2311, 2006, 3820, 2007, 2149, 2128, 1024, 1001, 11768, 3517, 2574, 1001, 8872, 17465, 1001, 1043, 25619, 1001, 7367, 5244, 2102, 102], [101, 4067, 2017, 2000, 2035, 2256, 3998, 8771, 1010, 5094, 2149, 2000, 5333, 7073, 1997, 1001, 2529, 15950, 2015, 1001, 2061, 3366, 10976, 5051, 1001, 5895, 11253, 8663, 11020, 13684, 1001, 8639, 1001, 7367, 5244, 2102, 102], [101, 2061, 10990, 999, 15902, 4785, 2689, 2895, 2003, 2006, 1996, 2126, 999, 1001, 11113, 18155, 2072, 1001, 1043, 25619, 1001, 7367, 5244, 2102, 102], [101, 1030, 5310, 1030, 5310, 1052, 4246, 2102, 1012, 1012, 1012, 2057, 1005, 2128, 2893, 2008, 2279, 2733, 1001, 3115, 1001, 7367, 5244, 2102, 102], [101, 2025, 2000, 4737, 1010, 19671, 25562, 6011, 5806, 7529, 1004, 11034, 2097, 8980, 1999, 2074, 8148, 1010, 2199, 2086, 1012, 1001, 3514, 5685, 12617, 1001, 21144, 2063, 1001, 2694, 2361, 1001, 7367, 5244, 2102, 102], [101, 4785, 2689, 1029, 999, 4863, 1996, 6210, 1997, 4785, 2689, 1012, 1012, 1001, 9861, 1001, 10507, 4140, 1001, 7044, 1001, 8096, 16748, 2860, 1001, 7367, 5244, 2102, 102], [101, 1001, 4514, 1001, 3684, 16535, 4247, 1012, 2034, 2051, 1012, 2412, 1012, 2026, 20856, 4264, 2031, 5909, 1012, 1999, 2238, 999, 1001, 5392, 1001, 7554, 1001, 7367, 5244, 2102, 102], [101, 3264, 18856, 9581, 3406, 10727, 1010, 3884, 21477, 1010, 1004, 4153, 26145, 6945, 18033, 2239, 2409, 2149, 2676, 1061, 2869, 3283, 2008, 1996, 17401, 2052, 2022, 2757, 1999, 2184, 1061, 2869, 1012, 1001, 7367, 5244, 2102, 102], [101, 2009, 1005, 1055, 2061, 15140, 2008, 1996, 11778, 6215, 1997, 2256, 4774, 2003, 6414, 2464, 2000, 2070, 2004, 1037, 2576, 3277, 1012, 1001, 7367, 5244, 2102, 102], [101, 1030, 5310, 1030, 5310, 1030, 5310, 2051, 2097, 6011, 2040, 1005, 1055, 2157, 1012, 1001, 4295, 1001, 14734, 1001, 24552, 1001, 7367, 5244, 2102, 102], [101, 18411, 2860, 1010, 1030, 5310, 1011, 1030, 8962, 2271, 1010, 4025, 2004, 2295, 2017, 1034, 2310, 2042, 3974, 1999, 1996, 2954, 2114, 1012, 1001, 7367, 5244, 2102, 102], [101, 4647, 4247, 2000, 6402, 1012, 2065, 2023, 7110, 1005, 1056, 1037, 5256, 2039, 2655, 2000, 3071, 2059, 2498, 2097, 2022, 1001, 6930, 1001, 4647, 29602, 20952, 7442, 2015, 1001, 7367, 5244, 2102, 102], [101, 1012, 1030, 18856, 9581, 25856, 23061, 11387, 16068, 1010, 1996, 4785, 2671, 7057, 4269, 2651, 1012, 3582, 2049, 5082, 2006, 1001, 12935, 9468, 16068, 1001, 9084, 24844, 18349, 24073, 1001, 7367, 5244, 2102, 102], [101, 1045, 2123, 1005, 1056, 2215, 2000, 2022, 1000, 2008, 3124, 1000, 2021, 2064, 2057, 2085, 2191, 1000, 4785, 2689, 7939, 3771, 3510, 1000, 6206, 1029, 1001, 3510, 2063, 16211, 15148, 1001, 2801, 1001, 7367, 5244, 2102, 102], [101, 2012, 1016, 2278, 3623, 2057, 1005, 2128, 8074, 2322, 1011, 2382, 1003, 2427, 2012, 3891, 1997, 1001, 14446, 20996, 11493, 2050, 12170, 2121, 14898, 1001, 11503, 26282, 20464, 5714, 4588, 2080, 1001, 7367, 5244, 2102, 102], [101, 3980, 2055, 1996, 1030, 5310, 3189, 1029, 1001, 3198, 23078, 2102, 1056, 28394, 2102, 11834, 6230, 2085, 999, 1001, 28794, 20464, 21499, 1001, 4785, 20192, 24658, 1001, 7367, 5244, 2102, 102], [101, 2054, 1037, 2307, 2733, 2005, 2591, 3314, 1001, 8040, 4140, 2271, 2085, 1010, 2292, 1005, 1055, 2131, 2000, 2147, 2006, 1001, 4044, 1998, 1001, 7367, 5244, 2102, 102], [101, 1012, 1030, 8804, 23777, 4283, 2005, 1996, 3582, 1012, 4638, 2041, 10507, 2140, 2005, 7300, 1012, 1001, 7300, 1001, 4480, 20464, 21499, 4135, 14075, 11387, 16068, 1001, 7367, 5244, 2102, 102], [101, 2651, 2003, 2238, 15045, 1998, 2009, 1005, 1055, 5764, 5445, 2041, 1010, 1059, 24475, 1012, 1001, 2202, 4168, 2475, 10760, 10010, 3089, 4783, 2319, 1001, 5973, 22084, 15265, 4402, 16211, 4263, 1001, 7367, 5244, 2102, 102], [101, 19387, 3733, 16550, 4183, 3900, 1024, 19387, 2034, 6834, 7913, 1024, 11576, 1001, 4542, 1999, 9803, 1001, 9156, 1012, 1012, 5573, 1001, 15315, 10179, 2072, 2620, 2581, 2575, 1001, 7367, 5244, 2102, 102], [101, 1030, 5310, 2002, 2718, 1996, 13774, 2006, 1996, 2132, 1012, 2057, 1005, 2128, 1006, 11504, 1007, 2006, 1996, 3341, 1997, 1037, 20680, 5670, 2006, 1001, 7367, 5244, 2102, 102], [101, 1996, 8866, 2024, 1999, 1012, 2009, 2003, 3154, 2004, 2256, 8597, 2420, 1012, 4785, 2689, 2003, 8438, 1005, 1055, 6346, 1012, 1998, 2057, 2024, 5307, 14446, 1012, 1001, 7367, 5244, 2102, 102], [101, 2065, 2017, 2360, 4785, 2689, 2003, 1037, 10661, 1010, 2017, 2089, 2215, 2000, 2468, 1037, 5913, 3166, 2144, 2017, 2525, 2444, 1999, 2019, 6585, 4507, 1012, 1001, 7367, 5244, 2102, 102], [101, 19387, 1030, 5310, 19387, 1030, 5310, 1001, 4785, 7011, 6593, 2634, 2089, 3233, 2000, 4558, 1015, 1012, 1022, 1003, 1997, 2049, 3296, 14230, 2011, 16327, 2692, 2349, 2000, 1001, 7367, 5244, 2102, 102], [101, 1996, 4785, 2689, 2111, 2024, 19424, 22052, 2015, 1012, 2769, 4651, 5679, 2005, 7069, 1012, 2089, 2017, 18672, 1012, 1001, 7367, 5244, 2102, 102], [101, 2057, 2024, 2551, 2000, 11322, 4785, 1011, 5379, 6867, 2408, 2167, 2637, 1001, 2514, 10760, 5677, 2078, 1001, 21915, 1001, 6948, 2278, 1001, 14246, 2278, 1001, 1038, 4160, 1001, 8500, 19498, 1012, 6187, 1001, 7367, 5244, 2102, 102], [101, 2298, 2041, 2005, 1996, 23325, 15900, 1001, 2866, 20464, 21499, 11387, 16068, 2005, 2739, 2651, 2006, 2129, 1996, 2866, 2003, 2725, 1999, 2119, 8161, 11768, 1998, 25357, 2000, 1001, 7367, 5244, 2102, 102], [101, 1030, 5310, 1045, 1005, 1049, 16986, 2045, 2001, 1037, 2843, 2625, 18213, 2067, 1999, 1996, 2051, 1997, 9952, 1012, 1001, 7367, 5244, 2102, 102], [101, 1001, 3260, 1024, 1001, 4785, 2006, 1996, 2346, 1028, 3298, 2625, 1006, 2011, 1030, 5310, 1001, 5955, 1001, 4254, 2483, 22852, 1001, 7367, 5244, 2102, 102], [101, 1012, 1030, 5310, 7327, 2003, 5938, 1996, 3998, 4551, 5067, 2083, 4483, 4171, 2006, 10725, 4762, 21762, 1001, 2632, 7583, 9453, 2078, 1001, 7367, 5244, 2102, 102], [101, 11559, 16373, 29398, 4633, 1012, 10166, 2613, 4248, 5003, 9152, 23033, 1001, 7367, 5244, 2102, 102], [101, 2064, 2057, 3857, 1001, 15321, 5007, 1001, 1048, 6199, 2099, 2085, 1012, 2077, 2049, 3263, 5445, 2076, 2621, 1012, 1001, 2026, 6305, 6342, 10603, 1001, 7367, 5244, 2102, 102], [101, 13857, 8112, 6010, 2585, 2012, 6528, 10235, 1010, 1045, 1005, 1049, 2061, 3201, 2005, 2023, 1998, 1045, 3685, 3524, 999, 6486, 2095, 1005, 1055, 2214, 1998, 2467, 2006, 2433, 1001, 5722, 1001, 7367, 5244, 2102, 102], [101, 2023, 2074, 1999, 1024, 3951, 3078, 14379, 2024, 2091, 2000, 8476, 1997, 1000, 2040, 5078, 2009, 2488, 1029, 1000, 1001, 2293, 10105, 2015, 1001, 3510, 2063, 16211, 15148, 1001, 8112, 16302, 1001, 7367, 5244, 2102, 102], [101, 3071, 2003, 5697, 2311, 2037, 2924, 6115, 2021, 2028, 2154, 2008, 3259, 2180, 1005, 1056, 2393, 2017, 2076, 5294, 3019, 10250, 10631, 7368, 1012, 1001, 7367, 5244, 2102, 102], [101, 2307, 3116, 1030, 5310, 1998, 1030, 5310, 2651, 2000, 6848, 2925, 3655, 1998, 2129, 2866, 11532, 2064, 2022, 4207, 1004, 4162, 1999, 1001, 2859, 1001, 7367, 5244, 2102, 102], [101, 11748, 17298, 2094, 1011, 19337, 2912, 3401, 2213, 1024, 2024, 2057, 1996, 4245, 2040, 2354, 2054, 2052, 4148, 2021, 2040, 2106, 2498, 1029, 2360, 2053, 999, 1001, 5256, 6279, 1001, 12935, 9468, 16068, 1001, 7367, 5244, 2102, 102], [101, 7249, 2057, 2298, 1010, 8777, 4633, 3849, 2000, 2022, 2183, 8548, 1012, 1001, 2728, 5596, 3877, 1001, 4895, 1001, 7367, 5244, 2102, 102], [101, 2045, 2038, 2196, 2042, 1037, 2488, 2051, 2000, 2131, 1996, 17752, 2041, 1997, 2662, 1012, 1001, 28896, 1001, 2671, 1001, 13938, 2080, 1001, 13734, 1001, 19465, 1001, 13938, 2080, 1001, 24829, 22907, 2581, 1001, 7367, 5244, 2102, 102], [101, 1012, 1030, 2033, 22500, 2226, 1024, 1001, 2665, 20464, 21499, 11263, 4859, 3934, 2442, 2022, 2146, 1011, 9879, 1004, 3913, 1996, 2598, 6198, 2005, 2659, 1011, 6351, 2458, 3171, 4275, 1001, 7367, 5244, 2102, 102], [101, 1001, 3260, 1024, 1001, 4785, 1030, 2188, 1028, 5547, 1012, 2128, 8557, 1012, 28667, 2100, 14321, 1012, 16360, 7770, 4509, 1012, 9239, 1006, 2011, 1030, 5310, 1001, 5955, 1001, 3011, 15950, 19779, 1001, 7367, 5244, 2102, 102], [101, 1996, 6351, 5119, 2003, 28561, 1030, 5310, 1001, 15726, 12617, 1001, 6351, 1001, 3806, 1001, 7367, 5244, 2102, 102], [101, 1001, 2364, 19513, 8586, 8017, 3370, 11387, 16068, 3422, 2041, 4364, 1012, 1012, 2023, 2003, 4121, 999, 999, 1001, 8507, 27819, 8671, 1001, 7367, 5244, 2102, 102], [101, 1001, 4116, 7875, 18384, 2102, 3246, 2017, 1005, 2128, 3666, 2343, 8112, 3331, 2055, 1001, 7367, 5244, 2102, 102], [101, 19387, 13075, 16814, 2099, 2620, 20958, 1024, 1001, 3531, 1035, 3828, 1035, 3628, 2005, 2256, 2219, 1001, 7691, 2000, 2954, 1001, 3828, 8162, 11751, 2102, 1001, 7367, 5244, 2102, 102], [101, 4147, 1037, 14329, 2012, 1996, 2203, 1997, 2238, 999, 1001, 27682, 4402, 4877, 10359, 13102, 4892, 1001, 7367, 5244, 2102, 102], [101, 12633, 1024, 1996, 2110, 1997, 1996, 2088, 2038, 2042, 2893, 2033, 2091, 9906, 1012, 1001, 6677, 2378, 7874, 3406, 5149, 1001, 10126, 22648, 2964, 1001, 7367, 5244, 2102, 102], [101, 2197, 9432, 2697, 19855, 1006, 1996, 2922, 1057, 1012, 1055, 1012, 8071, 1007, 2018, 1996, 7290, 2300, 2504, 2988, 2144, 4347, 1001, 2381, 18447, 28433, 6834, 1001, 7367, 5244, 2102, 102], [101, 1030, 5310, 3531, 2123, 1005, 1056, 2292, 2032, 2663, 2023, 1012, 2115, 8884, 8141, 2490, 2017, 1012, 1001, 7367, 5244, 2102, 102], [101, 4040, 10458, 2297, 1011, 2297, 1999, 3163, 1998, 2866, 1999, 16065, 2086, 1012, 2008, 3038, 2242, 1030, 5310, 1030, 5310, 1001, 7367, 5244, 2102, 102], [101, 1001, 9099, 28139, 28207, 5666, 1001, 16824, 2003, 1037, 2350, 3114, 2339, 6529, 2064, 1005, 1056, 2424, 1037, 9526, 2000, 1001, 4456, 1001, 8387, 1001, 7367, 5244, 2102, 102], [101, 2198, 15231, 18617, 2003, 7052, 12997, 15042, 3116, 2000, 2393, 4338, 1996, 2925, 1997, 2248, 16635, 3806, 15760, 24155, 4725, 1001, 7367, 5244, 2102, 102], [101, 2396, 2594, 3256, 3284, 1999, 2184, 2086, 2005, 1996, 3204, 1997, 2238, 1012, 1012, 2664, 2053, 19377, 1012, 1012, 1001, 8040, 3286, 1001, 7367, 5244, 2102, 102], [101, 2088, 17795, 2473, 2158, 2012, 1001, 1042, 16150, 2015, 16068, 2685, 2041, 18691, 3012, 1997, 3465, 5770, 4106, 19575, 2075, 2925, 3268, 1001, 15169, 1001, 7367, 5244, 2102, 102], [101, 1030, 5310, 4485, 1012, 2040, 2275, 1996, 4259, 2457, 2000, 4763, 2153, 1029, 1001, 7367, 5244, 2102, 102], [101, 19387, 1030, 5310, 17060, 2015, 2024, 2460, 1012, 5656, 2442, 2022, 1999, 2173, 2011, 4785, 2689, 3034, 1999, 3000, 2011, 2285, 1012, 1001, 2583, 2290, 1001, 7367, 5244, 2102, 102], [101, 6911, 2006, 1001, 2300, 4219, 17016, 3268, 1998, 24585, 2015, 1001, 14405, 8093, 7361, 25793, 4270, 1001, 15169, 1001, 7367, 5244, 2102, 102], [101, 19387, 1030, 5310, 2028, 1997, 1996, 2087, 8235, 18667, 3441, 2580, 2011, 2158, 2000, 4942, 9103, 5867, 2500, 1024, 1001, 24247, 11983, 2483, 5910, 1001, 7367, 5244, 2102, 102], [101, 1030, 5310, 4871, 2066, 2023, 2191, 2033, 19725, 2008, 1996, 2279, 16311, 2442, 2022, 2746, 2574, 1012, 1001, 2058, 16340, 9513, 1001, 7367, 5244, 2102, 102], [101, 2821, 2026, 2935, 999, 2061, 2980, 1998, 14178, 2005, 2261, 2420, 2085, 1012, 2064, 1057, 2644, 6276, 3628, 1998, 3013, 2091, 24471, 11768, 2088, 1029, 1029, 1029, 1001, 3828, 10760, 11108, 1001, 7367, 5244, 2102, 102], [101, 2057, 4995, 1005, 1056, 1996, 18148, 1010, 2057, 1005, 2128, 1996, 12175, 1012, 1001, 3011, 1001, 14446, 1001, 7367, 5244, 2102, 102], [101, 1037, 5278, 4774, 1024, 1018, 3182, 2073, 4785, 2689, 2003, 2635, 2049, 9565, 1001, 7367, 5244, 2102, 102], [101, 2637, 2003, 5278, 5514, 2066, 3177, 1997, 1996, 2422, 1001, 8055, 15166, 7698, 1001, 2293, 10105, 2015, 1001, 7367, 5244, 2102, 102], [101, 2739, 5956, 2005, 2035, 1996, 5223, 2869, 999, 999, 1996, 3011, 2003, 2461, 999, 1001, 2293, 10105, 2015, 1001, 8040, 4140, 2271, 1001, 7367, 5244, 2102, 102], [101, 2009, 2987, 1005, 1056, 3432, 4542, 1999, 5395, 4902, 1010, 2009, 12642, 1012, 1001, 7367, 5244, 2102, 102], [101, 19387, 1030, 5310, 2043, 1996, 3446, 1997, 1001, 21183, 24411, 3370, 23651, 1996, 3446, 1997, 1001, 20045, 2059, 2009, 4455, 2005, 1001, 16627, 1012, 1001, 23025, 3270, 18598, 7770, 1012, 1012, 1012, 1001, 7367, 5244, 2102, 102], [101, 2660, 2003, 2877, 1996, 2126, 1012, 11043, 1012, 1001, 3510, 2063, 16211, 15148, 1001, 17151, 18155, 1001, 7367, 5244, 2102, 102], [101, 2340, 1003, 7312, 2003, 2023, 1037, 8257, 1029, 2256, 22410, 3849, 2000, 2022, 2062, 4986, 2055, 5210, 2689, 2084, 1001, 7367, 5244, 2102, 102], [101, 1030, 5310, 2748, 2021, 9033, 19341, 6497, 11768, 2024, 2039, 1998, 2210, 2003, 2589, 2055, 2009, 2012, 1996, 2110, 2504, 1998, 2009, 3896, 1001, 7367, 5244, 2102, 102], [101, 5667, 1010, 2129, 2116, 2335, 2064, 1001, 10643, 2022, 3308, 1029, 1001, 9353, 2050, 1001, 12010, 15950, 2015, 1001, 6867, 6979, 2102, 7698, 1001, 8285, 26068, 23743, 2102, 1001, 19220, 13102, 18537, 1001, 7367, 5244, 2102, 102], [101, 3944, 1030, 5310, 2151, 1001, 3537, 4301, 2004, 2664, 1029, 1045, 2131, 1001, 11471, 3733, 2128, 1996, 1001, 4331, 1997, 2009, 2035, 6154, 6154, 1010, 12362, 1040, 1001, 3521, 1001, 13938, 2015, 1001, 7367, 5244, 2102, 102], [101, 16215, 2595, 1030, 5310, 1030, 5310, 2018, 4569, 1999, 2026, 2188, 2221, 1010, 2097, 2022, 2067, 2101, 2023, 2621, 2007, 1030, 5310, 2039, 1018, 1001, 7367, 5244, 2102, 102], [101, 2065, 2017, 2079, 2025, 16360, 4765, 2115, 15760, 1997, 2522, 2475, 2017, 2097, 2203, 2039, 1999, 3109, 1001, 6331, 1001, 7367, 5244, 2102, 102], [101, 1045, 2572, 3241, 1997, 3810, 1996, 2430, 10808, 2125, 1012, 1024, 1007, 1001, 7367, 5244, 2102, 102], [101, 12459, 28093, 1997, 1996, 2154, 1024, 1021, 1003, 1997, 1996, 2181, 1997, 3923, 15505, 15327, 1999, 2563, 2038, 2042, 2439, 2144, 2541, 1030, 5310, 1001, 7367, 5244, 2102, 102], [101, 2123, 1005, 1056, 2552, 2004, 2065, 2057, 2031, 2178, 4774, 2000, 2444, 1999, 1001, 8872, 17465, 1001, 7367, 5244, 2102, 102], [101, 10558, 1010, 4895, 9281, 1010, 2604, 2282, 6295, 6229, 2043, 4618, 2023, 3613, 2043, 7036, 3268, 1998, 24585, 2015, 2024, 2439, 1012, 1001, 7367, 5244, 2102, 102], [101, 2127, 2047, 7677, 8024, 2414, 9780, 6181, 2784, 1999, 2712, 1001, 2300, 2498, 2097, 4148, 1030, 5310, 1001, 8872, 17465, 1001, 2522, 2683, 2629, 1027, 2489, 4243, 1030, 5310, 1001, 7367, 5244, 2102, 102], [101, 1045, 2064, 6719, 3168, 1996, 3795, 12959, 2085, 1012, 1001, 7367, 5244, 2102, 102], [101, 1001, 5862, 5824, 5445, 1012, 2667, 2000, 3637, 2007, 3919, 5470, 1011, 1011, 4165, 2066, 28057, 2015, 2024, 18519, 1996, 2160, 1012, 1001, 3684, 16535, 1001, 7367, 5244, 2102, 102], [101, 1001, 3260, 1024, 1001, 4785, 1030, 2188, 1028, 4965, 5948, 2300, 1004, 14904, 1999, 2502, 11015, 1012, 1012, 1012, 1001, 5955, 1001, 7367, 5244, 2102, 102], [101, 2502, 1001, 13121, 5243, 2232, 1998, 3407, 1001, 21526, 7245, 1013, 1001, 1041, 17322, 15150, 2100, 2000, 1030, 5310, 1004, 1030, 5310, 1001, 11748, 3211, 23398, 1001, 13950, 1001, 7367, 5244, 2102, 102], [101, 1030, 5310, 3519, 1012, 1030, 5310, 1024, 3803, 2126, 1999, 8161, 16635, 3806, 8583, 5237, 2003, 6581, 2742, 4337, 1001, 7367, 5244, 2102, 102], [101, 1030, 5310, 1030, 5310, 9535, 3064, 1045, 1005, 2310, 4771, 2023, 2052, 2031, 3866, 2000, 2963, 2023, 2831, 1012, 3088, 3421, 1001, 7367, 5244, 2102, 102], [101, 1996, 3815, 1997, 2980, 3138, 2746, 2013, 1001, 2293, 10105, 2015, 2003, 1996, 2309, 2087, 3278, 3426, 1997, 1012, 1001, 4283, 16429, 8067, 1001, 7367, 5244, 2102, 102], [101, 1012, 1030, 13670, 2696, 16313, 3270, 1045, 1005, 1049, 2469, 2023, 17338, 1011, 5379, 4831, 2097, 3342, 2000, 2735, 1011, 2125, 1011, 1996, 1011, 4597, 2006, 2010, 2126, 2041, 1001, 2197, 16340, 2063, 1001, 4831, 29278, 11751, 2102, 1001, 7367, 5244, 2102, 102], [101, 2043, 1057, 2228, 2055, 1001, 2175, 2361, 4460, 2006, 1001, 3510, 2063, 26426, 3012, 1001, 5020, 4502, 2100, 1001, 4409, 1004, 1001, 16204, 2049, 2053, 4474, 2027, 2123, 1005, 1056, 2903, 1999, 1001, 7367, 5244, 2102, 102], [101, 2296, 2529, 27791, 2434, 8254, 2007, 2009, 1005, 1055, 2034, 2041, 13578, 8988, 1997, 2522, 2475, 1012, 14938, 2003, 5357, 1012, 1001, 6331, 1001, 7367, 5244, 2102, 102], [101, 2043, 2139, 8569, 8950, 2075, 4785, 17218, 1024, 2954, 15875, 17218, 2007, 6293, 3771, 8866, 1010, 5254, 1996, 10661, 1998, 4863, 1996, 2991, 15719, 999, 1001, 7367, 5244, 2102, 102], [101, 1030, 5310, 1030, 5310, 1030, 5310, 3915, 2003, 2369, 1012, 1012, 1012, 1012, 2349, 2000, 8909, 3695, 5666, 1001, 7367, 5244, 2102, 102], [101, 1030, 5310, 4676, 1013, 2679, 2031, 2525, 2042, 4487, 13102, 17597, 2078, 2011, 3114, 1998, 2671, 1012, 1045, 4687, 2054, 2057, 2064, 2079, 2055, 4331, 1001, 14734, 1001, 7367, 5244, 2102, 102], [101, 1030, 5310, 6010, 1030, 5310, 2006, 1001, 2694, 25650, 2638, 4357, 2006, 2010, 2166, 1998, 1996, 3896, 1997, 1001, 7367, 5244, 2102, 102], [101, 2009, 1005, 1055, 1000, 2568, 16558, 14138, 1000, 2000, 2033, 2000, 3422, 2023, 1010, 1001, 2909, 29045, 8524, 25970, 10235, 1012, 1001, 7367, 5244, 2102, 102], [101, 6278, 2018, 1037, 26848, 2302, 6242, 1012, 2314, 2440, 1997, 11385, 1998, 9170, 14731, 1012, 2205, 4795, 1001, 7367, 5244, 2102, 102], [101, 1030, 5310, 1024, 2689, 2013, 1001, 2852, 11444, 3468, 2000, 1001, 3328, 3085, 1027, 1001, 1015, 5770, 1018, 1001, 9706, 7231, 11387, 16068, 1001, 7367, 5244, 2102, 102], [101, 1030, 5310, 2045, 2038, 2042, 1037, 10228, 1997, 7407, 2039, 2045, 2296, 2060, 2154, 2005, 1996, 2627, 2733, 999, 1001, 8840, 23858, 1001, 7367, 5244, 2102, 102], [101, 2045, 2003, 2342, 2005, 2088, 3171, 4204, 2000, 2022, 2995, 2055, 4785, 2689, 4804, 1012, 1996, 2088, 3791, 2895, 2025, 4064, 17871, 2015, 1001, 7367, 5244, 2102, 102], [101, 1005, 1005, 2023, 2003, 1996, 4774, 2006, 2029, 2057, 2444, 1010, 2009, 1005, 1055, 1996, 2069, 2028, 2057, 1005, 2310, 2288, 1998, 2057, 1005, 2310, 2288, 2000, 4047, 2009, 1012, 1005, 1005, 1001, 8112, 1001, 2012, 6528, 10235, 1001, 7367, 5244, 2102, 102], [101, 2551, 2007, 3324, 1004, 3226, 2003, 3145, 2000, 25308, 2083, 1996, 4073, 2057, 1005, 2128, 2725, 1001, 23299, 1001, 7367, 5244, 2102, 102], [101, 1030, 5310, 1011, 2664, 2178, 1045, 1001, 11839, 1999, 2026, 1000, 2219, 1000, 2126, 2154, 2128, 1001, 2339, 1045, 1005, 1049, 3784, 1010, 2008, 1001, 2590, 2023, 1045, 2113, 999, 1000, 12362, 1000, 19542, 1001, 3521, 1001, 2925, 1001, 7367, 5244, 2102, 102], [101, 2057, 2071, 2079, 2242, 1012, 1012, 1012, 1996, 3160, 2003, 2097, 2057, 2758, 1030, 5310, 1001, 15169, 1001, 7367, 5244, 2102, 102], [101, 2302, 1037, 2173, 2005, 8521, 1010, 15100, 1998, 3228, 4182, 1010, 2045, 2003, 2053, 2925, 2005, 11508, 6468, 1024, 1006, 1001, 7367, 5244, 2102, 102], [101, 4785, 2689, 2003, 1037, 14017, 12423, 3291, 2021, 2057, 2342, 2000, 2707, 2651, 1012, 1001, 1044, 14945, 2140, 17914, 1001, 7367, 5244, 2102, 102], [101, 6195, 3048, 10930, 12615, 2004, 2008, 2015, 1996, 2069, 2126, 1045, 2071, 4298, 2468, 2062, 1001, 10720, 1001, 7367, 5244, 2102, 102], [101, 1012, 1030, 5310, 2092, 1011, 2881, 4171, 6043, 2064, 2393, 8081, 1037, 2193, 1997, 4483, 3314, 1001, 2009, 16409, 2239, 2546, 1001, 8872, 17465, 1001, 7367, 5244, 2102, 102], [101, 8040, 2953, 8450, 10945, 2005, 2866, 2011, 2203, 1997, 1996, 2301, 999, 4067, 5749, 1045, 2180, 1005, 1056, 2022, 2182, 2000, 9015, 2068, 999, 1024, 1011, 1007, 1001, 7367, 5244, 2102, 102], [101, 1030, 5310, 1011, 2017, 2024, 2025, 2200, 6047, 6221, 1001, 7367, 5244, 2102, 102], [101, 1030, 5310, 2002, 1005, 1055, 2025, 3819, 1012, 2040, 2426, 2149, 2003, 1029, 1025, 1011, 1007, 1001, 4372, 5666, 20464, 7476, 1001, 7367, 5244, 2102, 102], [101, 2004, 1037, 2236, 3627, 1010, 10915, 2477, 1997, 2035, 7957, 2323, 2022, 4188, 1012, 1001, 28896, 1001, 13938, 2080, 1001, 2671, 1001, 13734, 1001, 10516, 1001, 24829, 22907, 2581, 1001, 14266, 1001, 7367, 5244, 2102, 102], [101, 1058, 1030, 5310, 1058, 1030, 5310, 1996, 5221, 2466, 1999, 2088, 16110, 1030, 5310, 1030, 5310, 1030, 5310, 1997, 1030, 5310, 28072, 1998, 18173, 999, 1001, 7367, 5244, 2102, 102], [101, 1043, 20850, 2140, 9028, 6562, 2638, 9333, 1998, 1996, 11868, 8867, 2453, 2022, 4786, 4268, 2000, 4558, 4091, 999, 1001, 6351, 2696, 2595, 15782, 2213, 1001, 18178, 20492, 15118, 2015, 1001, 7367, 5244, 2102, 102], [101, 1030, 5310, 1011, 2514, 999, 1045, 1005, 2222, 8026, 2023, 2028, 1004, 2039, 11066, 1037, 10947, 4666, 1999, 1037, 2261, 2420, 2156, 2029, 2544, 2017, 2066, 2488, 1010, 2128, 1005, 1055, 1040, 1001, 3521, 1001, 7367, 5244, 2102, 102], [101, 1030, 5310, 1001, 8144, 1997, 3565, 10463, 2121, 2006, 5645, 4049, 1059, 1013, 2053, 2062, 2224, 1997, 10725, 4762, 2003, 2559, 2005, 4804, 5679, 1999, 1001, 7367, 5244, 2102, 102], [101, 10725, 4762, 11529, 3367, 3672, 2180, 1005, 1056, 9352, 2644, 4785, 2689, 2021, 2009, 2003, 1037, 3357, 1999, 1996, 2157, 3257, 1012, 1001, 2562, 25090, 3372, 5369, 16365, 1001, 7367, 5244, 2102, 102], [101, 1030, 5310, 1030, 5310, 6057, 2129, 2017, 2035, 1997, 1037, 5573, 6523, 2000, 2032, 2004, 1037, 4633, 2386, 2085, 1001, 4785, 22305, 2063, 1012, 1012, 1012, 4633, 1012, 1001, 7367, 5244, 2102, 102], [101, 2117, 3684, 16535, 4978, 6583, 22064, 20095, 2039, 7249, 1010, 1998, 14295, 2205, 1010, 2501, 3748, 26332, 1999, 2710, 1010, 2054, 1037, 6752, 1010, 2051, 2039, 999, 1001, 7367, 5244, 2102, 102], [101, 1030, 5310, 23156, 2000, 1996, 3803, 999, 999, 999, 999, 999, 999, 999, 2204, 2147, 999, 999, 999, 999, 999, 999, 1001, 2689, 1001, 7367, 5244, 2102, 102], [101, 1996, 1001, 2307, 2386, 1030, 5310, 2777, 1001, 2307, 2386, 2585, 2012, 6528, 10235, 1004, 2689, 3849, 2825, 1010, 18759, 3085, 1012, 4952, 2039, 999, 1001, 2012, 6528, 12691, 3676, 2863, 1001, 7367, 5244, 2102, 102], [101, 10930, 2065, 2017, 2444, 1999, 1996, 2142, 2163, 2157, 2085, 1010, 1998, 2079, 2025, 2903, 1999, 3795, 4785, 2689, 1010, 2017, 1005, 2128, 1037, 8239, 10041, 1012, 1001, 2755, 1001, 7367, 5244, 2102, 102], [101, 1001, 21461, 1030, 5310, 1030, 5310, 1030, 5310, 1030, 5310, 1004, 1030, 5310, 2147, 2005, 1037, 1001, 2665, 2943, 2925, 1012, 1001, 7367, 5244, 2102, 102], [101, 1030, 5310, 1030, 5310, 23658, 2047, 1001, 3224, 10273, 9163, 3001, 1029, 1001, 2053, 18824, 2121, 5302, 16998, 1001, 2025, 11650, 29560, 1001, 3729, 16275, 10893, 1001, 7367, 5244, 2102, 102], [101, 4299, 3071, 2347, 1005, 1056, 2061, 5122, 2023, 2161, 1001, 3103, 5794, 1001, 3336, 10448, 2140, 1001, 1996, 7693, 18349, 13465, 2618, 1001, 7367, 5244, 2102, 102], [101, 3110, 2066, 1001, 8040, 4140, 2271, 2288, 2009, 2157, 1010, 2157, 1010, 2157, 1012, 1012, 1012, 2059, 2200, 3308, 1012, 6682, 1012, 1001, 4785, 4181, 4818, 1001, 7367, 5244, 2102, 102], [101, 2106, 1057, 2113, 16215, 1001, 8040, 4140, 2271, 2003, 1016, 5630, 2065, 1001, 5317, 4264, 2064, 2562, 1001, 12495, 13027, 14668, 1001, 8714, 1016, 1054, 7224, 1029, 1001, 8962, 2271, 1001, 2175, 2361, 1001, 19867, 1001, 7367, 5244, 2102, 102], [101, 2339, 2003, 2498, 2108, 2589, 2055, 1001, 7367, 5244, 2102, 102], [101, 12771, 2204, 5841, 2005, 7649, 3619, 1010, 8498, 1037, 6540, 4610, 1004, 3116, 4785, 2689, 5656, 1012, 2204, 3289, 1012, 1001, 11113, 18155, 2072, 1001, 1043, 25619, 1001, 7367, 5244, 2102, 102], [101, 1045, 6655, 2004, 1037, 2427, 1010, 2158, 2521, 3215, 2062, 2651, 2349, 2000, 1024, 14904, 1010, 26427, 2094, 21705, 1004, 3435, 2833, 2084, 2151, 2060, 2680, 3690, 2077, 1012, 1001, 7367, 5244, 2102, 102], [101, 27256, 2015, 3102, 1999, 2605, 1010, 13437, 1998, 7795, 1012, 2021, 2292, 1005, 1055, 3342, 2008, 2256, 4602, 5081, 2003, 2013, 1996, 1001, 28520, 3839, 2124, 2004, 1001, 7367, 5244, 2102, 102], [101, 2253, 2005, 1037, 2448, 1010, 2085, 1045, 2064, 1005, 1056, 2514, 2026, 3456, 1998, 2026, 4167, 5683, 2066, 2009, 1005, 1055, 16018, 1012, 1001, 7367, 5244, 2102, 102], [101, 1030, 5310, 2002, 2003, 12663, 1016, 9616, 1001, 7367, 5244, 2102, 102], [101, 1030, 5310, 2053, 4474, 2007, 2023, 1010, 1030, 5310, 2038, 2070, 4784, 2006, 2129, 2000, 2202, 1037, 7570, 27348, 3921, 1001, 8206, 8586, 17175, 8029, 1001, 7367, 5244, 2102, 102], [101, 1030, 5310, 1030, 5310, 6581, 4613, 999, 2092, 2589, 1012, 3662, 24471, 2678, 2000, 4743, 2666, 1010, 2016, 2003, 3201, 2000, 2022, 2112, 1997, 1996, 2689, 1012, 1001, 4125, 1001, 7367, 5244, 2102, 102], [101, 1030, 5310, 1030, 5310, 2057, 1005, 2128, 2126, 2369, 7955, 2006, 2074, 2055, 2673, 1001, 5637, 7849, 4360, 3351, 1001, 11386, 19763, 11451, 1001, 7367, 5244, 2102, 102], [101, 1030, 5310, 2026, 10168, 2003, 11060, 2048, 2420, 2044, 4542, 1001, 6300, 2290, 1001, 7367, 5244, 2102, 102], [101, 1996, 2190, 2655, 2145, 1998, 2097, 2467, 2022, 4717, 1999, 6044, 1012, 1001, 11382, 12096, 2666, 8095, 2666, 1001, 11748, 3211, 23398, 1001, 7367, 5244, 2102, 102], [101, 1030, 5310, 1010, 2077, 2057, 2064, 4154, 18301, 2057, 2034, 2442, 4154, 1001, 7367, 5244, 2102, 102], [101, 1030, 5310, 1996, 2613, 3160, 2003, 2079, 2017, 2514, 3647, 4439, 1037, 26927, 2271, 2083, 6676, 1029, 1001, 7367, 5244, 2102, 102], [101, 2339, 2035, 7566, 1001, 18951, 2015, 1029, 1015, 1013, 1020, 1997, 1996, 2088, 3607, 2003, 2025, 2625, 2590, 999, 1001, 3460, 26190, 8175, 1001, 15169, 999, 1001, 7367, 5244, 2102, 102], [101, 8112, 1004, 2012, 6528, 10235, 8235, 1010, 2540, 2371, 1004, 7481, 2339, 2064, 1005, 1056, 2057, 2031, 2107, 1037, 6594, 2182, 1999, 11472, 1001, 13918, 2015, 1001, 5925, 1001, 17151, 18155, 1001, 7367, 5244, 2102, 102], [101, 2859, 1010, 1045, 2018, 3488, 2000, 2147, 2006, 2060, 2477, 2651, 1012, 12726, 1012, 1001, 7327, 17231, 2050, 1001, 7367, 5244, 2102, 102], [101, 2065, 1996, 2099, 18856, 8585, 2689, 8598, 5130, 2272, 2041, 1999, 17419, 2023, 2095, 1998, 2425, 2033, 2023, 2001, 1996, 20930, 3467, 2006, 2501, 5665, 2175, 10690, 1001, 7367, 5244, 2102, 102], [101, 1030, 5310, 1045, 1005, 1049, 2007, 2017, 2045, 1010, 7564, 1997, 8771, 2006, 2008, 2079, 2000, 1001, 4044, 1001, 2665, 3726, 5289, 2015, 1001, 13354, 4726, 1001, 7367, 5244, 2102, 102], [101, 2339, 2003, 2045, 2053, 1001, 2952, 11751, 2102, 3185, 1029, 1029, 1029, 19387, 2065, 1057, 2215, 2028, 1012, 1001, 4044, 1001, 4774, 1001, 3011, 1001, 7367, 5244, 2102, 102], [101, 1030, 5310, 1030, 5310, 6300, 2050, 6300, 2050, 6300, 2050, 6300, 2050, 1001, 21526, 7245, 1001, 11748, 3211, 23398, 1001, 3773, 19291, 4063, 1001, 26352, 26212, 3600, 1001, 7367, 5244, 2102, 102], [101, 4831, 4557, 2428, 5003, 4939, 1996, 6241, 1001, 4831, 27843, 12273, 2483, 1001, 7367, 5244, 2102, 102], [101, 1057, 1012, 1055, 1012, 2323, 2907, 9782, 3188, 2000, 3000, 7566, 2000, 7633, 2137, 2490, 2005, 7149, 1006, 11504, 2877, 1007, 2006, 1001, 7367, 5244, 2102, 102], [101, 12281, 16302, 18384, 1024, 3722, 28935, 25074, 2100, 19387, 14580, 13626, 3795, 12959, 1013, 4785, 2689, 2035, 1037, 28520, 1012, 4750, 11376, 2005, 2491, 1001, 15770, 28518, 2140, 1012, 1012, 1012, 1001, 7367, 5244, 2102, 102], [101, 1001, 18559, 13181, 3489, 1999, 8254, 2094, 1004, 16815, 4860, 4297, 6072, 3070, 1999, 7708, 2752, 1001, 8372, 4542, 6457, 4359, 1037, 5294, 4785, 2689, 1001, 7367, 5244, 2102, 102], [101, 1006, 1015, 1013, 1016, 1007, 16149, 1997, 1996, 1001, 16012, 23874, 3685, 2022, 9411, 2007, 2011, 2489, 3006, 5543, 1025, 1001, 4171, 9628, 3367, 9910, 2102, 1001, 4044, 1001, 13938, 2080, 1001, 7367, 5244, 2102, 102], [101, 2004, 1996, 2088, 22627, 2522, 2475, 2300, 12436, 27757, 2328, 2039, 1999, 1996, 7224, 1998, 3303, 1996, 2935, 2000, 4604, 1996, 7186, 1999, 25928, 1001, 6331, 1001, 7367, 5244, 2102, 102], [101, 2327, 1011, 2091, 3921, 2003, 2025, 2069, 1996, 5576, 1010, 3795, 6867, 2442, 2552, 2362, 2007, 3795, 2451, 2114, 1001, 7367, 5244, 2102, 102], [101, 2343, 15740, 4136, 2466, 1997, 18130, 1004, 24501, 18622, 10127, 1997, 1001, 11382, 3089, 14479, 2072, 1010, 1001, 25059, 1004, 2060, 2659, 1011, 4688, 2163, 1004, 15765, 2015, 1001, 2895, 11387, 16068, 1001, 7367, 5244, 2102, 102], [101, 1005, 2635, 1037, 3233, 2000, 7969, 3151, 2712, 3798, 1005, 1001, 7367, 5244, 2102, 102], [101, 2045, 2224, 2000, 2022, 1037, 10046, 2006, 1996, 26640, 1012, 1001, 7367, 5244, 2102, 102], [101, 2342, 2000, 3584, 3019, 18665, 2013, 2158, 2081, 18665, 1010, 7902, 2063, 8554, 19901, 12778, 1010, 1998, 2342, 2005, 3279, 1998, 4053, 1012, 1001, 10722, 10175, 6279, 2213, 1001, 7367, 5244, 2102, 102], [101, 2660, 1012, 1012, 1012, 2115, 2735, 2000, 3422, 8112, 1004, 2012, 6528, 10235, 1030, 5310, 1001, 7367, 5244, 2102, 102], [101, 29408, 23773, 2953, 10568, 2061, 4948, 3527, 1024, 1000, 3011, 2003, 5305, 1012, 2057, 2342, 2000, 11005, 2009, 1012, 1001, 7367, 5244, 2102, 102], [101, 2712, 2504, 4125, 2011, 1996, 2203, 1997, 1996, 2301, 1006, 1015, 1011, 1016, 5563, 1007, 2097, 19549, 16420, 3199, 1998, 2474, 3417, 1012, 1030, 5310, 1001, 2007, 9006, 15194, 3258, 1001, 7367, 5244, 2102, 102], [101, 24057, 2153, 2059, 10047, 2469, 1010, 2009, 15536, 3402, 2131, 4010, 2153, 2157, 2044, 1012, 1001, 7367, 5244, 2102, 102], [101, 2057, 1005, 2128, 3652, 11546, 2012, 2188, 1012, 2425, 2115, 2814, 1998, 8771, 2054, 2017, 1005, 2128, 2725, 2005, 4785, 999, 1001, 2026, 22305, 12879, 2953, 20464, 21499, 1001, 7367, 5244, 2102, 102], [101, 1001, 3260, 1024, 1001, 4785, 1030, 2188, 1028, 13366, 7352, 2102, 2214, 16716, 2015, 1998, 13184, 2869, 5570, 1001, 5955, 1001, 2293, 8162, 11751, 2102, 1001, 7367, 5244, 2102, 102], [101, 2419, 4597, 1010, 2300, 7494, 21674, 1010, 6457, 13038, 1010, 22449, 4385, 1012, 2043, 2057, 17738, 16952, 1010, 2057, 5454, 8114, 1012, 1001, 2026, 22305, 12879, 2953, 20464, 21499, 1001, 7367, 5244, 2102, 102], [101, 2197, 2051, 1045, 7039, 1010, 2632, 13638, 2003, 1037, 3761, 1010, 2025, 1037, 7155, 1012, 1012, 1001, 15868, 2015, 16068, 1001, 7367, 5244, 2102, 102], [101, 2231, 20278, 2017, 2000, 4952, 2000, 1996, 7984, 2021, 2196, 2438, 2000, 2292, 2017, 2156, 1996, 6947, 1012, 1012, 1012, 1001, 7367, 5244, 2102, 102], [101, 1030, 5310, 13970, 12269, 2000, 2122, 2402, 2111, 999, 2279, 4245, 1997, 10134, 999, 1001, 2069, 5643, 14644, 2705, 1001, 7367, 5244, 2102, 102], [101, 1045, 1005, 1049, 11221, 9353, 2007, 1996, 2327, 2125, 1010, 1999, 1996, 2690, 1997, 1996, 2305, 1010, 1999, 5392, 1012, 1012, 1001, 7367, 5244, 2102, 102], [101, 2057, 2342, 6377, 1001, 2671, 2007, 1001, 6284, 3716, 2000, 3305, 1004, 15581, 2000, 1001, 12935, 9468, 16068, 1001, 7367, 5244, 2102, 102], [101, 2300, 4860, 2125, 1996, 4448, 3023, 2003, 1999, 1996, 16002, 1999, 2238, 1012, 2057, 2024, 2066, 6011, 15185, 4818, 17582, 1999, 16018, 2300, 1001, 4785, 1001, 7367, 5244, 2102, 102], [101, 12049, 6843, 21709, 1024, 12049, 6843, 21709, 1024, 1043, 20850, 2140, 9028, 6562, 2638, 9333, 1998, 1996, 11868, 8867, 2453, 2022, 4786, 4268, 2000, 4558, 4091, 999, 1001, 6351, 2696, 2595, 15782, 2213, 1001, 18178, 20492, 15118, 2015, 1001, 7367, 5244, 2102, 102], [101, 1996, 1009, 1015, 2003, 1037, 1001, 3537, 16510, 1999, 1000, 6748, 5380, 1000, 1004, 2053, 2062, 2128, 1001, 2339, 1045, 1005, 1049, 2182, 1010, 12362, 19542, 1001, 3521, 1001, 7072, 999, 1001, 3125, 1029, 1001, 2925, 1029, 1029, 1029, 1001, 7367, 5244, 2102, 102], [101, 2043, 2115, 4147, 14329, 2015, 1999, 1996, 2621, 1001, 7367, 5244, 2102, 102], [101, 1030, 5310, 1030, 5310, 1996, 4586, 2003, 13721, 1029, 1001, 22975, 4140, 1001, 7367, 5244, 2102, 102], [101, 1037, 2152, 11768, 11967, 2052, 2022, 1037, 7071, 2005, 3884, 2166, 1010, 2004, 2092, 2004, 2005, 9731, 1011, 2852, 14333, 1001, 7367, 5244, 2102, 102], [101, 1030, 5310, 5728, 2064, 2027, 2655, 1030, 5310, 1998, 18012, 2032, 2002, 3791, 2000, 2552, 2006, 1001, 17151, 18155, 1001, 7367, 5244, 2102, 102], [101, 2074, 3191, 8040, 22786, 1005, 1055, 10041, 2594, 5448, 2058, 22299, 2075, 1996, 19044, 1005, 1055, 6351, 11768, 6537, 1012, 4041, 2000, 5247, 2154, 1999, 1037, 2156, 20744, 7385, 1012, 1001, 7367, 5244, 2102, 102], [101, 3426, 1998, 3466, 1011, 4318, 3785, 1010, 3748, 26332, 1012, 1001, 4652, 3085, 1001, 2529, 3540, 13901, 1001, 7367, 5244, 2102, 102], [101, 2087, 2111, 2360, 2008, 2009, 2003, 1996, 24823, 2029, 3084, 1037, 2307, 7155, 1012, 2027, 2024, 3308, 1024, 2009, 2003, 2839, 1012, 1066, 4789, 15313, 1001, 7367, 5244, 2102, 102], [101, 6413, 2008, 1045, 1005, 1040, 3422, 1996, 11865, 27431, 2863, 2792, 1000, 6997, 1997, 1996, 2980, 1000, 2077, 1996, 20930, 5353, 2061, 2521, 2023, 2621, 1012, 1001, 11865, 27431, 2863, 1001, 7367, 5244, 2102, 102], [101, 1001, 3260, 1024, 1001, 4785, 1030, 2188, 1028, 3413, 2115, 7298, 2006, 2000, 1037, 2767, 1010, 2902, 1010, 3075, 1010, 2030, 8329, 2188, 1012, 1006, 2011, 1030, 5310, 1001, 5955, 1001, 7367, 5244, 2102, 102], [101, 2111, 2012, 1996, 3347, 7743, 2075, 2055, 1996, 3684, 1998, 14734, 1012, 2053, 2028, 14395, 2015, 1996, 2616, 1001, 10725, 11263, 2884, 3303, 1001, 10777, 18447, 5886, 17650, 1001, 14920, 1001, 7367, 5244, 2102, 102], [101, 2012, 2054, 2391, 2079, 2057, 14916, 14074, 2621, 1000, 1996, 16373, 2161, 1000, 1029, 1001, 3729, 16275, 10893, 1001, 7367, 5244, 2102, 102], [101, 2061, 1010, 2049, 2322, 5445, 8292, 15472, 4173, 1999, 18021, 5619, 2927, 1997, 3467, 1001, 18021, 1001, 7367, 5244, 2102, 102], [101, 2105, 10347, 2047, 5014, 2108, 2328, 2296, 2095, 1999, 2563, 1999, 2752, 2012, 2152, 3891, 1997, 1001, 14295, 1010, 5815, 2000, 3891, 2013, 1001, 2866, 20464, 21499, 11387, 16068, 1001, 7367, 5244, 2102, 102], [101, 4911, 1024, 2023, 2074, 1999, 1010, 2019, 4153, 4400, 2074, 3631, 2019, 4960, 2582, 2006, 1996, 3509, 2084, 3671, 999, 1001, 7367, 5244, 2102, 102], [101, 1001, 4549, 2074, 4036, 1996, 2717, 1997, 1996, 2088, 1037, 2200, 2590, 10800, 1012, 1001, 7367, 5244, 2102, 102], [101, 1030, 5310, 1996, 2413, 1029, 2017, 2812, 1996, 3842, 2008, 16473, 7286, 2007, 1037, 4373, 3193, 5259, 1998, 2416, 19456, 1999, 7901, 1012, 1001, 7367, 5244, 2102, 102], [101, 1001, 4698, 5311, 2532, 6212, 8376, 11872, 2078, 2758, 2009, 2165, 1016, 2086, 2000, 3013, 2083, 1996, 1001, 25934, 1004, 3713, 2000, 2796, 1001, 2231, 2055, 1001, 20369, 16068, 1001, 7367, 5244, 2102, 102], [101, 2307, 2000, 2963, 1030, 5310, 1030, 5310, 10825, 2149, 1001, 8906, 2734, 2005, 2190, 1001, 8144, 1001, 9686, 2015, 16068, 1001, 2637, 2243, 19779, 22231, 2860, 1001, 7367, 5244, 2102, 102], [101, 1001, 3198, 3217, 8296, 5596, 3877, 3458, 1996, 2120, 2504, 1010, 2054, 2064, 2022, 2589, 2006, 1996, 3265, 2504, 2000, 10210, 28731, 1996, 3896, 1997, 1001, 7367, 5244, 2102, 102], [101, 5983, 1037, 11190, 2003, 1023, 2595, 4788, 2084, 5983, 1037, 7975, 1999, 3408, 1997, 2522, 2475, 11768, 1012, 1001, 7367, 5244, 2102, 102], [101, 1030, 5310, 7929, 3398, 2008, 1005, 1055, 2919, 1012, 1012, 1012, 2021, 6930, 6719, 2196, 2109, 2000, 2131, 2023, 2980, 1001, 21360, 2850, 13122, 2072, 1005, 1001, 7367, 5244, 2102, 102], [101, 1037, 3803, 2457, 2038, 5451, 2008, 1996, 18079, 2442, 3013, 11768, 2104, 2529, 2916, 2375, 999, 5875, 1012, 1001, 4785, 29427, 6610, 11387, 16068, 1001, 7367, 5244, 2102, 102], [101, 2074, 2288, 10683, 6924, 999, 3246, 2017, 1005, 2222, 3693, 2033, 1999, 4637, 1030, 5310, 2023, 2621, 999, 1001, 5943, 1001, 2111, 11452, 1001, 7367, 5244, 2102, 102], [101, 2175, 3803, 2047, 3574, 1024, 4480, 2202, 2037, 6867, 2000, 2457, 2000, 2191, 2068, 2552, 2006, 4785, 10659, 1001, 14575, 1001, 3246, 1001, 8872, 17465, 1001, 7367, 5244, 2102, 102], [101, 2009, 1005, 1055, 22302, 1999, 5392, 2059, 2009, 2003, 1999, 2662, 2157, 2085, 1012, 1001, 7367, 5244, 2102, 102], [101, 4550, 2974, 1010, 2023, 2003, 2115, 2617, 1001, 8144, 1001, 2974, 1001, 2585, 19321, 2368, 10235, 2964, 2100, 5886, 2080, 1001, 7367, 5244, 2102, 102], [101, 1030, 5310, 1030, 5310, 2672, 2027, 2074, 28616, 13901, 2037, 4219, 1998, 2037, 8384, 7798, 1001, 13366, 25794, 1001, 7367, 5244, 2102, 102], [101, 1045, 2066, 4083, 1999, 5995, 2055, 14266, 1013, 2740, 1030, 5310, 1030, 5310, 1001, 4295, 1001, 2530, 10265, 2102, 1001, 2740, 1001, 5237, 1001, 7367, 5244, 2102, 102], [101, 3795, 12959, 999, 3795, 12959, 999, 3795, 12959, 999, 2821, 3524, 1010, 2009, 1005, 1055, 2621, 1012, 1001, 7367, 5244, 2102, 102], [101, 1030, 5310, 3020, 2712, 3798, 1004, 4860, 1010, 17381, 7822, 1010, 16676, 17401, 1010, 6034, 4633, 2824, 1012, 7564, 1997, 3350, 1012, 1001, 7367, 5244, 2102, 102], [101, 1030, 5310, 2026, 9470, 2003, 2000, 4769, 1001, 7367, 5244, 2102, 102], [101, 1001, 3260, 1024, 1001, 4785, 1030, 2188, 1028, 23569, 2005, 2128, 10383, 3468, 8641, 2612, 1997, 6081, 8641, 1006, 2011, 1030, 5310, 1001, 5955, 1001, 28794, 20464, 21499, 1001, 7367, 5244, 2102, 102], [101, 7391, 1999, 1052, 2629, 1011, 1021, 2013, 11409, 20464, 12672, 2078, 3078, 2024, 8019, 1999, 6351, 18396, 2015, 2622, 2325, 1011, 2355, 999, 1001, 4083, 29278, 13203, 18249, 8010, 1001, 7367, 5244, 2102, 102], [101, 2045, 2024, 1037, 2843, 1997, 2477, 2008, 2342, 2000, 2022, 2589, 1012, 2021, 2034, 2323, 2022, 5278, 2256, 9273, 3388, 1012, 1001, 2300, 24805, 20511, 1001, 7367, 5244, 2102, 102], [101, 1030, 5310, 2008, 2003, 2028, 1997, 1996, 2087, 9577, 1998, 3972, 14499, 2389, 16614, 1045, 1005, 2310, 2412, 2464, 1012, 1001, 22975, 4140, 1001, 1056, 10994, 1001, 7367, 5244, 2102, 102], [101, 1045, 2123, 1005, 1056, 2729, 2339, 1996, 7595, 2003, 12959, 1012, 1045, 2074, 2215, 2000, 2644, 2009, 2077, 2045, 2003, 20868, 2890, 28689, 3468, 7386, 1001, 6616, 18155, 18291, 2015, 1001, 2671, 6820, 4244, 1001, 7367, 5244, 2102, 102], [101, 1030, 5310, 1001, 4785, 20192, 24658, 3189, 2758, 2057, 2342, 12479, 4746, 2066, 5832, 2933, 2030, 9348, 3260, 2000, 11147, 4785, 2689, 1001, 7367, 5244, 2102, 102], [101, 1996, 3019, 2088, 2003, 2112, 1997, 2256, 12839, 1010, 2057, 2031, 2000, 4047, 2009, 1030, 5310, 2007, 1030, 5310, 2006, 1001, 4035, 1001, 3011, 1001, 7367, 5244, 2102, 102], [101, 1001, 7367, 3676, 7382, 1001, 7367, 2497, 11387, 16068, 1024, 10975, 18885, 7607, 1996, 2147, 1997, 1996, 1001, 12997, 9468, 1001, 7367, 5244, 2102, 102], [101, 1053, 2102, 1030, 5310, 1000, 1045, 2123, 1005, 1056, 2031, 2172, 11752, 2005, 3087, 2040, 23439, 2008, 2023, 4119, 2003, 2613, 1012, 1000, 1015, 1013, 1016, 1001, 7367, 5244, 2102, 102], [101, 1030, 5310, 2092, 2027, 2323, 999, 2339, 2079, 2017, 2228, 2111, 1999, 15381, 1054, 5996, 1029, 2138, 2057, 2123, 1005, 1056, 2729, 2055, 2256, 4044, 999, 1001, 7367, 5244, 2102, 102], [101, 2031, 2196, 2042, 2061, 25506, 2135, 8794, 2005, 1037, 7263, 4658, 9478, 15013, 2058, 2026, 2303, 1012, 2003, 2023, 1996, 2925, 1029, 1001, 6248, 7292, 2015, 1001, 7367, 5244, 2102, 102], [101, 2065, 2712, 3798, 2131, 2151, 3020, 9451, 1999, 26411, 2071, 2468, 18704, 1012, 1001, 7367, 5244, 2102, 102], [101, 2034, 4952, 1010, 2059, 10652, 1010, 2279, 2895, 1011, 29095, 18832, 2006, 1001, 1043, 8523, 3406, 11387, 16068, 1001, 7367, 5244, 2102, 102], [101, 1996, 2168, 4903, 2140, 2040, 2228, 2703, 3764, 1000, 2005, 2643, 1000, 2043, 7939, 23709, 6129, 5637, 2015, 2036, 2228, 1996, 2783, 4831, 2515, 2025, 3713, 2005, 2643, 1012, 1001, 7367, 5244, 2102, 102], [101, 1030, 5310, 1030, 5310, 1030, 5310, 2057, 2323, 4737, 2055, 1996, 2110, 2002, 1005, 1055, 2183, 2000, 2681, 1001, 2660, 1999, 1012, 1001, 1050, 24700, 9861, 12733, 1001, 8711, 1001, 7367, 5244, 2102, 102], [101, 9514, 2061, 10250, 2038, 2042, 2980, 1998, 14178, 2035, 2154, 1012, 2023, 3849, 2000, 2022, 2256, 10945, 1011, 14757, 6292, 1012, 2061, 4326, 1012, 1001, 7367, 5244, 2102, 102], [101, 2044, 1996, 27620, 4877, 2272, 1996, 27660, 9777, 1012, 4283, 1010, 20823, 1012, 1001, 2058, 16340, 9513, 1001, 7367, 5244, 2102, 102], [101, 16128, 1005, 1055, 3256, 2003, 13721, 5514, 2023, 2621, 2104, 1037, 8514, 1997, 2152, 3778, 1001, 7367, 5244, 2102, 102], [101, 2057, 2342, 2000, 2147, 2007, 7023, 1010, 9099, 19362, 10127, 1998, 8546, 2011, 10465, 1030, 5310, 2012, 1030, 5310, 2724, 2006, 1001, 2895, 11387, 16068, 1001, 7367, 5244, 2102, 102], [101, 2313, 3930, 2003, 2069, 1037, 3291, 2138, 4286, 7438, 1996, 3011, 2066, 4485, 1012, 1001, 18079, 20307, 1001, 4044, 1001, 7367, 5244, 2102, 102], [101, 2079, 1001, 10774, 3582, 1001, 2643, 1005, 1055, 2773, 2030, 2023, 1001, 4831, 1005, 1055, 8223, 9709, 2015, 1029, 1001, 7367, 5244, 2102, 102], [101, 1996, 6996, 2011, 1030, 5310, 2003, 1037, 2350, 2275, 5963, 2005, 1030, 5310, 1004, 1996, 4044, 1012, 1001, 6530, 3597, 2389, 1001, 7367, 5244, 2102, 102], [101, 1996, 2197, 2518, 1001, 2660, 2030, 1996, 2088, 3791, 2024, 1016, 2062, 6565, 3011, 9846, 1001, 5317, 7134, 999, 2292, 1005, 1055, 2131, 2613, 1998, 2954, 1001, 17151, 18155, 1001, 7367, 5244, 2102, 102], [101, 1030, 5310, 2163, 1996, 2865, 3791, 2000, 5326, 1996, 4053, 1997, 4785, 2689, 1012, 2129, 10094, 2017, 1001, 10053, 1029, 1001, 3097, 27108, 6072, 26029, 16454, 1001, 7367, 5244, 2102, 102], [101, 2065, 26443, 2671, 2018, 2042, 6439, 2011, 2115, 3611, 1010, 1030, 5310, 2057, 2052, 2022, 1999, 18704, 18849, 2157, 2085, 1012, 2071, 2017, 4067, 2032, 2005, 2149, 1029, 1001, 7367, 5244, 2102, 102], [101, 1030, 5310, 1030, 5310, 1996, 2529, 2568, 2003, 19907, 1997, 7149, 2007, 2008, 1997, 2029, 2009, 2038, 2053, 3325, 1001, 7367, 5244, 2102, 102], [101, 4785, 2689, 2003, 2019, 5057, 1012, 2644, 14920, 1998, 2707, 2635, 4084, 1012, 1001, 4785, 20192, 24658, 1001, 7367, 5244, 2102, 102], [101, 1030, 5310, 1045, 8343, 2008, 1030, 5310, 2089, 2092, 2074, 9544, 2000, 6293, 2000, 2010, 1010, 9413, 2213, 1010, 6481, 2006, 2023, 2028, 1012, 1001, 7367, 5244, 2102, 102], [101, 1030, 5310, 2025, 2000, 4737, 1010, 2256, 2613, 4099, 2003, 1001, 8112, 1001, 7367, 5244, 2102, 102], [101, 9107, 3666, 2909, 2585, 2012, 6528, 10235, 1998, 8112, 2831, 2055, 4785, 2689, 10210, 13340, 3508, 1001, 2293, 19833, 5397, 1001, 7367, 5244, 2102, 102], [101, 1030, 5310, 1030, 5310, 1030, 5310, 1030, 5310, 1030, 5310, 1001, 3330, 23111, 7103, 3508, 1012, 2925, 2665, 6627, 2000, 3066, 2007, 1001, 7367, 5244, 2102, 102], [101, 2057, 2064, 2102, 9772, 2009, 1010, 2049, 2428, 6230, 1012, 1001, 7367, 5244, 2102, 102], [101, 26632, 3471, 2227, 2149, 2035, 1010, 2021, 2111, 3579, 2006, 12702, 3471, 2138, 2027, 2024, 2306, 2256, 6234, 2373, 2000, 8081, 1001, 7367, 5244, 2102, 102], [101, 5580, 2005, 1996, 8817, 1997, 3268, 5301, 2023, 2733, 1012, 2085, 2292, 1005, 1055, 2275, 2256, 15925, 2006, 5094, 8817, 2062, 1012, 1001, 7521, 18908, 3258, 1001, 7367, 5244, 2102, 102], [101, 1030, 5310, 2051, 2000, 2689, 1996, 2231, 999, 1001, 25312, 23177, 1001, 1039, 2692, 2475, 1001, 24481, 1001, 10796, 1001, 4456, 1001, 2740, 1001, 8372, 1001, 2300, 1001, 29324, 1001, 7367, 5244, 2102, 102], [101, 2043, 1996, 2197, 3392, 2003, 3013, 2091, 1010, 1996, 2197, 3869, 8828, 1004, 1996, 2197, 5460, 17672, 1010, 2017, 2097, 5382, 2008, 2017, 3685, 4521, 2769, 1001, 7367, 5244, 2102, 102], [101, 1001, 2686, 2595, 2003, 2559, 2066, 2350, 19070, 8569, 2290, 999, 2079, 2027, 4550, 2039, 1996, 11385, 1012, 2009, 1005, 1055, 1002, 10347, 2065, 1045, 19070, 7632, 1011, 2126, 1012, 2686, 1060, 1001, 7367, 5244, 2102, 102], [101, 2311, 15576, 1012, 2735, 1002, 2184, 7382, 2046, 1002, 1015, 7382, 2213, 2058, 2051, 1012, 1001, 2449, 1001, 2769, 1001, 3681, 13334, 2102, 1001, 6960, 1001, 10670, 1001, 3330, 1001, 7367, 5244, 2102, 102], [101, 1030, 5310, 1045, 1005, 2222, 5968, 2505, 1045, 2064, 2131, 2026, 2398, 2006, 1010, 2926, 2065, 2027, 4995, 1005, 1056, 3017, 1012, 1001, 5846, 11387, 16048, 1001, 2175, 2361, 1001, 7367, 5244, 2102, 102], [101, 2065, 2009, 2987, 1005, 1056, 4010, 2039, 2574, 1030, 5310, 1045, 2215, 2026, 2769, 2067, 2006, 1996, 9320, 2005, 3335, 23918, 1012, 1001, 3429, 10020, 10421, 2015, 1001, 26489, 6292, 2850, 2696, 1001, 2852, 2102, 5484, 1001, 7367, 5244, 2102, 102], [101, 1001, 7494, 8029, 20389, 29459, 2860, 1030, 5310, 2339, 2024, 2017, 4364, 2025, 7694, 2023, 2066, 4689, 1029, 1029, 1029, 1029, 1001, 14633, 1001, 7367, 5244, 2102, 102], [101, 1001, 3260, 1024, 1001, 4785, 1030, 2188, 1028, 21934, 28250, 1006, 2011, 1030, 5310, 1001, 5955, 1001, 2079, 29337, 14536, 8445, 1001, 7367, 5244, 2102, 102], [101, 2064, 1030, 5310, 2224, 1002, 6564, 2575, 1010, 6079, 2629, 1997, 6892, 4762, 2006, 2010, 1001, 3011, 10259, 4440, 2000, 3516, 1029, 2748, 2002, 2064, 999, 999, 999, 1011, 15158, 1030, 5310, 1001, 8246, 1001, 7367, 5244, 2102, 102], [101, 1012, 1030, 1059, 16001, 2319, 16086, 1000, 2096, 2023, 5981, 3632, 2006, 1010, 2664, 2062, 2051, 2003, 13842, 1012, 1000, 1001, 1996, 21884, 1001, 7367, 5244, 2102, 102], [101, 2909, 2585, 2012, 6528, 10235, 1998, 1030, 5310, 4487, 4757, 12349, 7741, 1996, 4774, 2925, 1012, 1996, 2282, 2987, 1005, 1056, 2131, 2151, 2488, 2084, 2023, 1012, 1001, 7367, 5244, 2102, 102], [101, 2129, 2106, 1996, 1001, 2307, 8237, 16252, 9910, 2546, 2298, 2000, 2017, 4102, 2000, 2043, 2017, 11529, 2094, 2009, 3438, 2086, 3283, 1029, 1030, 5310, 1001, 2012, 6528, 10235, 1030, 5310, 1001, 7367, 5244, 2102, 102], [101, 4153, 5648, 9031, 2003, 1996, 2087, 2590, 4045, 5325, 2008, 2057, 2227, 2651, 10972, 7031, 1001, 11503, 26282, 20464, 9581, 4588, 2080, 1001, 7367, 5244, 2102, 102], [101, 2003, 1996, 2047, 6643, 12995, 26302, 3269, 2183, 2000, 2022, 3952, 5317, 10273, 2094, 1029, 2312, 3316, 2066, 1030, 5310, 2323, 2022, 2635, 1996, 2599, 2114, 1001, 7367, 5244, 2102, 102], [101, 2065, 2023, 3684, 2003, 4288, 2033, 1045, 2123, 1005, 1056, 10587, 2113, 2054, 1996, 3532, 11508, 6468, 2024, 2183, 2083, 2157, 2085, 1001, 7367, 5244, 2102, 102], [101, 1996, 1001, 24098, 2102, 10105, 2015, 2208, 2003, 2183, 2428, 3435, 3892, 1012, 2062, 6947, 1997, 1001, 7367, 5244, 2102, 102], [101, 1030, 5310, 2728, 5596, 3877, 1009, 4831, 2360, 2051, 2003, 2085, 1012, 2665, 25311, 2509, 2003, 3201, 2000, 4897, 1012, 2057, 2035, 2215, 6681, 1012, 2054, 2003, 2907, 6279, 1029, 1001, 10796, 1001, 7367, 5244, 2102, 102], [101, 5759, 2145, 8440, 1005, 1056, 2718, 2531, 2023, 2095, 1012, 1001, 7367, 5244, 2102, 102], [101, 9826, 1045, 2123, 1005, 1056, 3305, 2339, 1045, 2066, 2662, 2061, 2172, 1012, 1045, 1005, 1049, 2061, 2919, 1999, 1996, 3684, 1012, 1001, 7367, 5244, 2102, 102], [101, 2256, 6429, 1001, 9686, 2015, 16068, 5997, 1030, 5310, 1030, 5310, 1030, 5310, 1004, 1030, 5310, 2006, 2129, 2000, 7374, 1004, 4047, 1001, 3016, 12069, 2050, 2555, 2013, 1001, 7367, 5244, 2102, 102], [101, 2204, 2739, 1001, 8040, 4140, 2271, 4484, 1996, 1001, 4895, 2038, 5717, 3691, 1997, 1057, 1012, 1055, 1012, 3200, 2030, 7285, 1012, 2040, 14977, 2054, 1996, 27021, 2360, 999, 1001, 8872, 17465, 1001, 7367, 5244, 2102, 102], [101, 11721, 1024, 9932, 2860, 2490, 2844, 16681, 1012, 3795, 4785, 3820, 1024, 2979, 1001, 1057, 6692, 3654, 1001, 7367, 5244, 2102, 102], [101, 4785, 2689, 12135, 1010, 10507, 6789, 1010, 10507, 1998, 24501, 18622, 10127, 1010, 1996, 2665, 4610, 1012, 7167, 1997, 28081, 2004, 4279, 3524, 29278, 19454, 13700, 2015, 1001, 7367, 5244, 2102, 102], [101, 1045, 1005, 1049, 6402, 2378, 2039, 3336, 2073, 1057, 2012, 1029, 1001, 6865, 2378, 1001, 6865, 2378, 24759, 2015, 1001, 7367, 5244, 2102, 102], [101, 1006, 1016, 1013, 1016, 1007, 3998, 2616, 1998, 2022, 2741, 2000, 4785, 8663, 25523, 11387, 16068, 1030, 20917, 4014, 1012, 4012, 1001, 15169, 1001, 9084, 24844, 18349, 24073, 1001, 7367, 5244, 2102, 102], [101, 2704, 1030, 5310, 2055, 1996, 5197, 1997, 1001, 27427, 6169, 2000, 3857, 11071, 2000, 1001, 3000, 11387, 16068, 2012, 2811, 3034, 2012, 1001, 4895, 1001, 7367, 5244, 2102, 102], [101, 1001, 8040, 4140, 2271, 1010, 2057, 2342, 2000, 2486, 1001, 2373, 1001, 4264, 2000, 3013, 1001, 11768, 1997, 1001, 8714, 1998, 2060, 1001, 2250, 8554, 13210, 7666, 17306, 2361, 999, 1001, 8962, 2271, 1001, 19044, 1001, 19867, 1001, 7367, 5244, 2102, 102], [101, 1030, 5310, 2758, 2002, 4122, 6351, 4636, 2000, 2022, 2985, 2006, 2270, 5193, 1998, 13918, 2943, 1012, 1001, 1041, 3501, 3669, 3726, 1001, 2583, 2290, 1001, 7367, 5244, 2102, 102], [101, 1001, 3260, 1024, 1001, 4785, 1030, 2188, 1028, 2693, 2115, 1996, 10867, 28696, 2102, 2091, 1016, 2278, 1999, 3467, 1998, 2039, 1016, 2278, 1999, 2621, 1001, 5955, 1001, 2079, 29337, 14536, 8445, 1001, 7367, 5244, 2102, 102], [101, 4931, 1030, 5310, 3531, 15454, 1996, 15262, 3490, 23537, 1001, 5317, 3067, 1998, 11428, 2391, 1012, 2256, 12664, 1998, 4785, 2024, 2012, 3891, 999, 1001, 16351, 2099, 1001, 7367, 5244, 2102, 102], [101, 2043, 2106, 2522, 2475, 2468, 1037, 4795, 8554, 13210, 3372, 2008, 2442, 2022, 20099, 17440, 1029, 2054, 2079, 2017, 4654, 15238, 2153, 1029, 1001, 1045, 7447, 5794, 26760, 2545, 1001, 7367, 5244, 2102, 102], [101, 2585, 2012, 6528, 10235, 2108, 10263, 2011, 2343, 8112, 2003, 8235, 1004, 17160, 10523, 1001, 3097, 27108, 6072, 26029, 16454, 1001, 5925, 1001, 8694, 2378, 1001, 7367, 5244, 2102, 102], [101, 2028, 2154, 2009, 2097, 2022, 3154, 2008, 2619, 2038, 2904, 2037, 5448, 2349, 1016, 2028, 2030, 2062, 1997, 2026, 1056, 28394, 3215, 1010, 2021, 1045, 1005, 1049, 2025, 3173, 2026, 3052, 1001, 7367, 5244, 2102, 102], [101, 1001, 3260, 1024, 1001, 4785, 1030, 2188, 1028, 9378, 14533, 1999, 3147, 2300, 1006, 2011, 1030, 5310, 1001, 5955, 1001, 2079, 29337, 14536, 8445, 1001, 7367, 5244, 2102, 102], [101, 1001, 3260, 1024, 1001, 4785, 1030, 2188, 1028, 10236, 2115, 2300, 3684, 2121, 1999, 2019, 25710, 8768, 1001, 5955, 1001, 28794, 20464, 21499, 1001, 7367, 5244, 2102, 102], [101, 1045, 1005, 1049, 5305, 1997, 12330, 2040, 2228, 2108, 1037, 2092, 2124, 3364, 3084, 2068, 2019, 3691, 2006, 2505, 2842, 1012, 1001, 2728, 5596, 3877, 1001, 4895, 1001, 7367, 5244, 2102, 102], [101, 2064, 1005, 1056, 3524, 2000, 3422, 1005, 2043, 2012, 6528, 10235, 2777, 8112, 1005, 2323, 2022, 17160, 999, 1030, 5310, 1001, 2909, 29045, 8524, 25970, 10235, 1001, 2293, 8029, 29045, 3593, 1001, 5394, 1001, 7367, 5244, 2102, 102], [101, 5179, 1012, 2182, 2057, 2156, 2129, 4483, 26118, 1998, 2529, 1004, 12962, 16627, 2024, 4876, 5799, 1012, 1001, 21360, 2850, 13122, 2072, 1001, 4044, 1001, 7367, 5244, 2102, 102], [101, 4331, 1010, 4676, 1010, 2679, 1025, 2057, 2024, 2061, 5697, 4288, 1004, 11878, 2169, 2060, 1010, 3011, 2852, 3111, 2039, 1004, 2057, 2097, 2035, 3280, 4312, 1012, 1001, 14734, 1001, 7367, 5244, 2102, 102], [101, 1045, 3517, 2047, 3414, 1005, 1055, 2061, 1011, 2170, 4177, 2000, 2265, 4105, 1012, 2612, 2027, 2265, 5410, 1011, 13128, 18173, 1012, 2474, 23033, 17811, 5605, 1012, 1001, 7367, 5244, 2102, 102], [101, 2024, 2122, 23504, 3756, 1001, 6930, 15717, 2437, 3087, 2842, 14436, 2256, 4785, 2925, 1029, 1001, 3748, 26332, 1001, 7367, 5244, 2102, 102], [101, 2045, 2024, 2053, 2048, 3903, 2000, 2023, 6594, 1012, 1011, 1011, 1030, 2644, 18938, 8496, 12898, 1001, 7367, 5244, 2102, 102], [101, 1030, 5310, 1030, 5310, 1030, 5310, 14920, 3475, 1005, 1056, 2074, 1037, 2314, 1999, 5279, 1012, 2009, 1005, 1055, 1001, 2175, 2361, 5656, 1012, 1001, 14398, 1001, 7367, 5244, 2102, 102], [101, 2005, 2033, 3666, 1996, 1001, 13165, 1997, 1001, 16498, 2012, 2147, 2003, 2066, 3666, 1037, 1000, 3345, 12006, 1000, 1999, 1001, 5082, 999, 1001, 7072, 1001, 3125, 1029, 1001, 2925, 1001, 7367, 5244, 2102, 102], [101, 1030, 5310, 2204, 9940, 999, 1045, 2064, 2514, 1996, 15561, 2156, 4691, 2125, 1996, 3931, 1012, 2204, 1012, 2057, 1005, 2310, 2288, 1005, 7861, 2006, 1996, 14607, 1012, 1001, 7367, 5244, 2102, 102], [101, 4895, 1010, 6689, 1997, 2753, 1003, 1999, 10416, 16189, 1999, 4975, 3032, 1006, 5785, 1010, 10500, 1010, 9781, 1007, 2058, 1996, 2279, 3486, 2086, 1010, 2926, 1999, 1996, 19817, 7361, 6558, 1001, 7367, 5244, 2102, 102], [101, 2045, 1005, 1055, 1037, 2307, 4119, 1018, 1001, 4177, 23644, 11514, 1999, 1001, 1043, 4135, 5910, 4135, 9397, 11589, 19496, 3723, 1016, 17310, 11140, 19962, 2121, 18150, 2594, 4073, 1059, 1013, 2037, 13572, 2000, 2131, 5117, 1999, 1001, 7367, 5244, 2102, 102], [101, 2701, 2341, 5219, 4269, 1012, 2062, 2044, 2027, 5630, 2006, 1996, 11422, 1012, 1001, 1043, 2278, 2546, 1001, 7367, 5244, 2102, 102], [101, 2054, 2003, 1996, 1001, 4372, 2121, 11239, 12449, 3207, 11376, 1029, 2339, 2024, 2027, 2025, 1999, 1996, 1000, 2139, 1011, 6351, 17629, 1000, 3409, 1029, 1012, 2129, 2146, 2097, 2017, 19242, 1996, 3658, 1029, 1001, 7367, 5244, 2102, 102], [101, 1030, 5310, 4518, 2121, 1024, 3869, 4608, 4022, 2071, 4530, 2011, 2004, 2172, 2004, 2753, 1003, 1999, 2070, 2752, 2349, 2000, 1001, 4153, 6305, 28173, 10803, 1012, 1001, 12935, 9468, 16068, 1001, 7367, 5244, 2102, 102], [101, 1012, 1012, 1012, 1037, 2936, 3638, 1010, 1998, 1037, 8665, 2121, 3168, 1997, 3425, 2084, 2057, 2079, 1012, 1011, 1059, 1012, 10498, 1001, 7367, 5244, 2102, 102], [101, 14753, 2072, 1000, 2925, 2712, 2504, 4125, 2097, 2025, 2022, 6375, 1004, 2367, 2005, 20266, 1000, 1001, 10507, 11329, 16068, 1001, 4990, 11387, 16068, 1001, 7367, 5244, 2102, 102], [101, 1030, 5310, 22678, 1024, 6034, 4633, 2824, 1006, 3684, 5975, 1010, 14734, 1010, 9451, 1010, 7266, 20654, 2015, 1007, 2081, 2062, 6976, 1013, 6387, 2011, 1001, 12935, 9468, 16068, 1001, 7367, 5244, 2102, 102], [101, 16675, 11968, 7834, 2319, 1024, 1016, 1013, 1017, 1997, 2427, 2031, 2904, 1001, 6552, 2138, 1997, 1001, 1044, 12521, 1001, 12935, 9468, 16068, 1001, 7367, 5244, 2102, 102], [101, 1019, 18804, 1011, 16478, 2265, 1015, 1013, 1016, 1997, 2427, 2031, 2904, 2073, 2027, 2444, 1010, 1016, 1013, 1017, 2031, 2904, 2043, 2027, 2444, 1012, 16675, 11968, 7834, 2319, 1001, 12935, 9468, 16068, 1001, 7367, 5244, 2102, 102], [101, 2009, 23675, 2906, 2135, 2074, 2165, 2033, 2184, 2781, 2000, 2131, 1999, 1037, 3902, 2138, 2019, 2214, 3203, 2074, 2018, 2000, 2175, 1999, 2392, 1997, 3071, 1012, 1012, 1012, 1001, 7367, 5244, 2102, 102], [101, 24665, 12083, 2497, 1024, 2110, 1997, 2943, 1024, 5670, 2149, 1004, 7327, 2013, 5658, 1011, 3135, 2000, 5658, 1011, 12324, 2121, 1997, 11768, 1000, 1001, 10507, 11329, 16068, 1001, 4990, 11387, 16068, 1001, 7367, 5244, 2102, 102], [101, 5875, 5882, 5003, 24847, 2078, 3158, 9779, 4877, 2102, 1030, 5310, 2129, 2037, 11470, 3325, 2064, 2393, 4785, 6529, 1001, 10507, 11329, 16068, 1001, 7367, 5244, 2102, 102], [101, 5128, 2026, 3300, 2041, 2004, 2107, 2043, 1045, 2106, 2025, 2031, 2000, 2022, 2182, 2012, 2035, 1029, 12362, 19542, 1001, 3521, 1001, 13938, 2015, 1001, 7072, 1001, 16987, 1001, 2925, 999, 1001, 7367, 5244, 2102, 102], [101, 4982, 2833, 2025, 10168, 2015, 10168, 2015, 2024, 17338, 27082, 1999, 2115, 4220, 1012, 1001, 12626, 2100, 2003, 17338, 27082, 1997, 2115, 2219, 2427, 1001, 23968, 12879, 25969, 1001, 7367, 5244, 2102, 102], [101, 2023, 11085, 5666, 2239, 2621, 2003, 2058, 1012, 4785, 2003, 2006, 1996, 2693, 1012, 8788, 17710, 20850, 4887, 5603, 1001, 27166, 2226, 21926, 1001, 8170, 5332, 10177, 2063, 1001, 7367, 5244, 2102, 102], [101, 1030, 5310, 2057, 2031, 2000, 2831, 2055, 2047, 3671, 2015, 1001, 7367, 5244, 2102, 102], [101, 4480, 2031, 1037, 2157, 2000, 3229, 2592, 2008, 2052, 4047, 2037, 3268, 2114, 1001, 3891, 1001, 18856, 5714, 9028, 2078, 1001, 12935, 9468, 16068, 1001, 18130, 1001, 7367, 5244, 2102, 102], [101, 2008, 2617, 2043, 16485, 11323, 3795, 12959, 2987, 1005, 1056, 5020, 1037, 5133, 10885, 1001, 4647, 29602, 20952, 7442, 1001, 2710, 8022, 2015, 1001, 7367, 5244, 2102, 102], [101, 2057, 2342, 15955, 2000, 1001, 10725, 11263, 2884, 1010, 2021, 2036, 2342, 2000, 5441, 2256, 1001, 4610, 999, 2023, 2689, 2097, 2022, 16612, 2061, 11082, 2707, 2085, 999, 1001, 7367, 5244, 2102, 102], [101, 1001, 13366, 21621, 1024, 13508, 2015, 2349, 2000, 3019, 18665, 3020, 2084, 2216, 3303, 2011, 9755, 1001, 9230, 1001, 2458, 1001, 12935, 9468, 1001, 1055, 19317, 20958, 1001, 7367, 5244, 2102, 102], [101, 1030, 5310, 2748, 1010, 2017, 5807, 1005, 1056, 1012, 2021, 1010, 2644, 4288, 4176, 2003, 2025, 1996, 2069, 3114, 2000, 2468, 1037, 15942, 2078, 1011, 1001, 2644, 7011, 11233, 1001, 2022, 20192, 24658, 2100, 1001, 7367, 5244, 2102, 102], [101, 2057, 2123, 1005, 1056, 22490, 1996, 3011, 2013, 2256, 3008, 2057, 17781, 2009, 2013, 2256, 2336, 1001, 5680, 1001, 7339, 1001, 7367, 5244, 2102, 102], [101, 1012, 1030, 1058, 3501, 22932, 1030, 5310, 8038, 2100, 999, 2057, 1005, 1040, 2293, 2000, 10463, 2000, 5943, 2373, 999, 18720, 1004, 1041, 2933, 2000, 5333, 2256, 6165, 2153, 1012, 1001, 28794, 20464, 21499, 1001, 1052, 2475, 1001, 7367, 5244, 2102, 102], [101, 1001, 12667, 6679, 8663, 16940, 1024, 1001, 4171, 2064, 7543, 2377, 1037, 3618, 2535, 1999, 5094, 26108, 3032, 4030, 11768, 1998, 3532, 3032, 6653, 1012, 1001, 7367, 5244, 2102, 102], [101, 2009, 1005, 1055, 24057, 1998, 5683, 2066, 2991, 1045, 2123, 1005, 1056, 2113, 2054, 17704, 2621, 2023, 2003, 1001, 2003, 22852, 1001, 7367, 5244, 2102, 102], [101, 2057, 2064, 4769, 2119, 4785, 2689, 1998, 9084, 2458, 2007, 1996, 2168, 5761, 1030, 5310, 1001, 17371, 5620, 1001, 4785, 18908, 3258, 1001, 8872, 17465, 1001, 7367, 5244, 2102, 102], [101, 1030, 5310, 2054, 1005, 1055, 1996, 2933, 2005, 2893, 3105, 1011, 4526, 2502, 2665, 2943, 3650, 2284, 2182, 1999, 1001, 7649, 1029, 1001, 4171, 23890, 2015, 1001, 5841, 1001, 7367, 5244, 2102, 102], [101, 1001, 3260, 1024, 1001, 4785, 1030, 2188, 1028, 5309, 13918, 2373, 2013, 2115, 9710, 1006, 2011, 1030, 5310, 1001, 5955, 1001, 4254, 2483, 22852, 1001, 7367, 5244, 2102, 102], [101, 2045, 1005, 1055, 2053, 2062, 3671, 15811, 4902, 1012, 2467, 12642, 1010, 3082, 1998, 9451, 1012, 1001, 7367, 5244, 2102, 102], [101, 1030, 5310, 26236, 2475, 2515, 2205, 2172, 4053, 2000, 2334, 4279, 1009, 2000, 1996, 4044, 1010, 2027, 2224, 3438, 1003, 2062, 4762, 2084, 3180, 4499, 1012, 1001, 7367, 5244, 2102, 102], [101, 2004, 2530, 2710, 7641, 8500, 1005, 1055, 2288, 2010, 2132, 2061, 2784, 1999, 1996, 1001, 16985, 8791, 5104, 2002, 2064, 2156, 1001, 21550, 20464, 17007, 1005, 1055, 15392, 1001, 4647, 29602, 20952, 7442, 1001, 3729, 16275, 10893, 1001, 7367, 5244, 2102, 102], [101, 2036, 2054, 1005, 1055, 2039, 2007, 2023, 9951, 4633, 1029, 1029, 2009, 2001, 24057, 2023, 2851, 1998, 2085, 2009, 1005, 1055, 2066, 3565, 2980, 999, 1001, 4633, 21572, 3468, 5244, 1001, 20342, 1001, 7367, 5244, 2102, 102], [101, 1030, 5310, 1030, 5310, 1030, 5310, 1030, 5310, 2054, 5300, 2003, 2002, 18161, 25416, 4735, 3808, 14148, 2005, 4255, 4215, 16200, 18965, 1001, 7367, 5244, 2102, 102], [101, 9461, 2000, 4553, 2012, 1996, 2715, 14165, 2724, 2012, 1996, 1030, 5310, 4354, 2011, 1030, 5310, 1001, 6351, 18098, 23553, 1001, 5841, 29427, 6610, 20464, 21499, 1001, 7367, 5244, 2102, 102], [101, 1996, 1001, 6351, 6494, 4667, 1999, 1001, 5447, 2038, 2200, 12479, 1043, 25619, 7312, 4539, 1997, 2322, 1003, 1001, 24978, 18155, 2072, 1001, 7367, 5244, 2102, 102], [101, 1030, 5310, 14405, 8093, 7361, 24278, 8322, 2102, 2029, 2003, 3303, 2011, 4286, 1025, 1001, 4586, 7384, 4478, 2213, 1001, 7367, 5244, 2102, 102], [101, 1045, 2245, 5862, 2001, 4011, 2000, 2031, 1037, 2843, 2062, 4542, 1001, 14734, 1001, 7367, 5244, 2102, 102], [101, 2006, 1037, 4094, 1997, 1015, 2000, 2184, 1996, 2250, 3737, 1999, 13300, 2099, 2003, 1037, 3486, 1012, 1001, 3748, 26332, 1001, 4647, 29602, 20952, 7442, 1001, 7367, 5244, 2102, 102], [101, 1030, 5310, 2748, 6615, 1010, 1996, 2925, 1997, 2529, 2942, 6648, 9041, 2006, 2023, 4245, 1004, 2129, 2009, 4490, 2006, 1001, 17151, 18155, 1001, 7367, 5244, 2102, 102], [101, 2009, 1005, 1055, 2087, 10990, 2000, 7409, 1037, 2350, 2458, 999, 1030, 5310, 1001, 7367, 5244, 2102, 102], [101, 2057, 2024, 4786, 1996, 3256, 11678, 1997, 3011, 2000, 14899, 2012, 2019, 8598, 2075, 3446, 1012, 1001, 7367, 5244, 2102, 102], [101, 1030, 5310, 2097, 1030, 5310, 2490, 9976, 7596, 1009, 4517, 2373, 2005, 20008, 1029, 4604, 2256, 4517, 5949, 2000, 2686, 1030, 5310, 1001, 7367, 5244, 2102, 102], [101, 1030, 5310, 2470, 2003, 22537, 2043, 16012, 23874, 2003, 2006, 1996, 20911, 1997, 7859, 1012, 1001, 13366, 25794, 1001, 5351, 10288, 7629, 7542, 1001, 2162, 1001, 7367, 5244, 2102, 102], [101, 1030, 5310, 6284, 4903, 2140, 2097, 3828, 1996, 2406, 1010, 2065, 2009, 1005, 1055, 2025, 2205, 2397, 1012, 1001, 7367, 5244, 2102, 102], [101, 2735, 1996, 6220, 8575, 2046, 1037, 5317, 3067, 1012, 1012, 1012, 2003, 2045, 2151, 2919, 2801, 2023, 2231, 2987, 1005, 1056, 2066, 1029, 1001, 2833, 18912, 2140, 1001, 21882, 14691, 1001, 17151, 18155, 1001, 7367, 5244, 2102, 102], [101, 1030, 5310, 3849, 1996, 3884, 4176, 2024, 2633, 13752, 2162, 2006, 2158, 2349, 2000, 2158, 1011, 2081, 4483, 6215, 1012, 1001, 7367, 5244, 2102, 102], [101, 3849, 1045, 2089, 2664, 2131, 2026, 4785, 16976, 1028, 1024, 1007, 2017, 8239, 22822, 5644, 999, 1001, 21882, 14691, 1001, 1048, 16275, 7011, 4014, 1001, 2562, 25090, 3372, 5369, 16365, 1001, 7367, 5244, 2102, 102], [101, 1996, 4633, 10439, 7906, 29442, 2149, 2007, 4542, 1012, 1001, 1052, 2078, 2860, 1001, 14734, 1001, 7367, 5244, 2102, 102], [101, 2054, 2079, 2017, 2079, 2000, 2393, 7901, 4785, 2689, 1029, 1056, 28394, 2102, 2115, 10247, 2000, 18708, 2500, 999, 1001, 5955, 1001, 3828, 18155, 2906, 4783, 2906, 1001, 7367, 5244, 2102, 102], [101, 2017, 2113, 2477, 2024, 3492, 2041, 1997, 2491, 2043, 2017, 1005, 2128, 3407, 2000, 2031, 1000, 2069, 1000, 2382, 5445, 1039, 7169, 1998, 2009, 5683, 2204, 1012, 1001, 7367, 5244, 2102, 102], [101, 4033, 1005, 1056, 2333, 2019, 4960, 2144, 7483, 1012, 1001, 4647, 18155, 2072, 1001, 6930, 1001, 4647, 29602, 20952, 7442, 1001, 1061, 19716, 1001, 2613, 7389, 7974, 3085, 2015, 1001, 7367, 5244, 2102, 102], [101, 1030, 5310, 1030, 5310, 1030, 5310, 1030, 5310, 1030, 5310, 2196, 2354, 4297, 2239, 8159, 11638, 8866, 10943, 2098, 1037, 22802, 999, 999, 999, 18672, 10258, 2863, 2080, 1001, 17151, 18155, 1001, 7367, 5244, 2102, 102], [101, 2097, 1996, 2088, 2173, 17147, 2006, 1001, 2660, 2005, 2009, 1005, 1055, 9577, 8463, 1997, 2047, 5294, 1001, 5317, 7134, 1029, 1001, 4895, 1001, 17151, 18155, 1001, 17147, 1001, 7367, 5244, 2102, 102], [101, 2085, 3048, 2013, 2621, 2161, 2000, 1012, 1012, 1012, 1012, 1012, 1012, 1012, 1012, 2166, 1010, 2205, 5829, 2013, 1012, 1012, 1012, 1001, 4785, 1001, 4633, 22305, 2063, 1001, 4542, 1001, 19939, 1001, 3612, 1001, 7367, 5244, 2102, 102], [101, 4785, 2689, 2003, 2026, 3277, 1011, 2191, 2009, 6737, 1001, 1062, 5714, 1001, 7367, 5244, 2102, 102], [101, 1001, 3260, 1024, 1001, 4785, 1030, 2188, 1028, 2123, 1005, 1056, 2292, 3684, 4019, 2013, 2115, 2160, 2058, 1037, 2146, 2558, 1001, 5955, 1001, 3011, 15950, 19779, 1001, 7367, 5244, 2102, 102], [101, 10320, 2091, 1996, 2420, 2127, 2026, 8065, 4627, 1001, 6255, 1001, 8915, 8458, 3217, 2818, 4948, 6779, 1001, 2670, 29122, 2483, 27921, 2063, 1001, 17873, 1001, 4345, 1001, 7367, 5244, 2102, 102], [101, 2651, 2885, 2003, 4911, 3684, 2636, 1010, 2096, 4021, 2003, 4911, 1996, 7290, 4860, 2636, 999, 999, 2323, 2057, 2025, 2022, 4986, 1029, 999, 1001, 7367, 5244, 2102, 102], [101, 2703, 2599, 3051, 3331, 2055, 1001, 17194, 16820, 2104, 1001, 1044, 19317, 1001, 12935, 9468, 16068, 1001, 7367, 5244, 2102, 102], [101, 2256, 19747, 2103, 2007, 1030, 5310, 2013, 1030, 5310, 1999, 2256, 1030, 5310, 3360, 2252, 2006, 6928, 1012, 1001, 7367, 5244, 2102, 102], [101, 16479, 2140, 1024, 2045, 2003, 2053, 3165, 7960, 2005, 7300, 1011, 2169, 2103, 2038, 2000, 14386, 3366, 2219, 2334, 1013, 3563, 10960, 2000, 1001, 12935, 9468, 16068, 1001, 7367, 5244, 2102, 102], [101, 3582, 1030, 5310, 2005, 2592, 2006, 1001, 12935, 9468, 16068, 1011, 1996, 4785, 2689, 3034, 1999, 3000, 1012, 1001, 7367, 5244, 2102, 102], [101, 2572, 2025, 1037, 3234, 1010, 2021, 1996, 4831, 2003, 3962, 2006, 2043, 2009, 3310, 4785, 2689, 1004, 8650, 1996, 9733, 3224, 1012, 1001, 7367, 5244, 2102, 102], [101, 2833, 1998, 2300, 3036, 2024, 6970, 21077, 1024, 1000, 6789, 5366, 2300, 1012, 1000, 1001, 12935, 9468, 16068, 1001, 4990, 11387, 16068, 1001, 1048, 17788, 1001, 7367, 5244, 2102, 102], [101, 2009, 1005, 1055, 2251, 1998, 2049, 5401, 5445, 1010, 2064, 1005, 1056, 5674, 2054, 3467, 2003, 2183, 2000, 2514, 2066, 2023, 2095, 1012, 1001, 3190, 28949, 1001, 7367, 5244, 2102, 102], [101, 6789, 2003, 2242, 2008, 13416, 1996, 4997, 4254, 2030, 11598, 2015, 1996, 3893, 4254, 1997, 1001, 12935, 9468, 16068, 1001, 4990, 11387, 16068, 1001, 7367, 5244, 2102, 102], [101, 1030, 5310, 10455, 3697, 7860, 1997, 3930, 3791, 1998, 12163, 4077, 1001, 12935, 9468, 16068, 1012, 1001, 7367, 5244, 2102, 102], [101, 2172, 2204, 2000, 2022, 2018, 1999, 1996, 2599, 2039, 2000, 1001, 8872, 17465, 1012, 1016, 1010, 3263, 6950, 2013, 2058, 2531, 3032, 1010, 26112, 2000, 4769, 3795, 1001, 12935, 9468, 16068, 1001, 7367, 5244, 2102, 102], [101, 1001, 3011, 2003, 1037, 1001, 10713, 1999, 1001, 3267, 1001, 4044, 1010, 1000, 2053, 3815, 1997, 1001, 11443, 4859, 1001, 3643, 2064, 1001, 4965, 2049, 1001, 3019, 1001, 8906, 2067, 999, 1001, 7367, 5244, 2102, 102], [101, 1001, 8112, 2056, 1000, 2064, 1005, 1056, 4652, 3514, 8993, 3294, 1000, 1999, 1996, 10162, 1010, 2003, 1000, 4292, 1996, 3284, 2825, 4781, 1027, 18667, 1001, 5806, 3630, 1001, 7367, 5244, 2102, 102], [101, 1030, 5310, 10722, 10175, 2226, 2038, 2042, 2012, 1996, 22870, 1997, 7149, 2007, 8465, 1997, 4785, 2689, 1012, 2027, 2024, 2613, 5130, 1001, 17151, 18155, 1001, 7367, 5244, 2102, 102], [101, 1037, 2200, 2204, 6594, 1024, 7920, 10380, 9488, 1030, 5310, 1998, 4239, 2557, 1005, 1055, 1030, 5310, 2006, 3145, 3314, 12473, 2149, 1999, 1001, 4831, 1001, 4372, 5666, 20464, 7476, 1001, 7367, 5244, 2102, 102], [101, 2022, 2785, 2000, 1996, 3011, 4218, 2115, 2519, 1012, 1001, 4044, 1001, 7367, 5244, 2102, 102], [101, 2036, 1010, 2009, 1005, 1055, 24057, 2182, 1999, 1996, 6142, 2430, 22323, 2015, 1012, 2057, 2020, 4011, 2000, 2022, 1999, 1996, 26007, 1997, 1996, 4318, 2161, 1012, 1001, 7367, 5244, 2102, 102], [101, 20704, 2290, 2160, 1999, 2149, 16678, 2015, 2184, 1010, 3515, 2575, 6448, 2232, 2566, 2095, 2294, 1010, 13638, 16475, 16777, 3053, 19594, 1010, 2199, 6448, 2232, 2062, 2084, 2322, 1060, 1996, 14085, 2779, 1012, 1001, 2006, 18155, 2072, 1001, 7367, 5244, 2102, 102], [101, 3531, 2097, 2619, 2012, 1030, 5310, 25037, 2054, 9808, 11634, 2056, 2055, 3514, 1998, 13918, 2015, 2943, 1029, 1001, 5166, 11387, 16068, 1001, 2925, 15794, 5369, 11751, 2102, 1001, 7367, 5244, 2102, 102], [101, 6577, 2003, 6827, 1024, 3288, 8211, 5755, 2000, 1996, 2795, 2012, 1001, 8872, 17465, 2758, 1030, 5310, 1001, 12943, 3597, 2361, 17465, 1001, 12935, 9468, 16068, 1030, 5310, 1001, 7367, 5244, 2102, 102], [101, 2057, 7499, 3655, 2005, 1996, 3484, 1997, 2522, 2475, 11768, 2302, 21894, 2037, 18130, 2000, 1001, 12935, 9468, 16068, 1001, 4990, 11387, 16068, 1001, 1055, 19317, 22407, 1001, 7367, 5244, 2102, 102], [101, 1030, 5310, 8840, 2140, 1012, 2205, 2919, 2035, 1996, 2060, 6529, 5993, 2007, 2032, 1012, 1001, 4785, 22305, 14728, 14862, 1001, 7367, 5244, 2102, 102], [101, 1001, 21117, 2050, 1001, 3789, 15992, 2102, 18139, 3593, 4785, 9006, 2213, 14536, 2497, 1024, 1996, 2665, 8738, 1024, 2129, 2000, 4521, 7965, 1998, 3828, 1996, 4774, 1001, 7367, 5244, 2102, 102], [101, 1030, 5310, 4067, 2017, 2005, 1996, 3582, 3958, 999, 1045, 1005, 1049, 4257, 14050, 999, 1001, 7367, 5244, 2102, 102], [101, 1030, 5310, 1030, 5310, 2342, 18479, 3021, 8081, 1999, 2006, 2061, 4903, 2140, 2180, 1005, 1056, 2224, 6530, 12456, 20145, 2000, 3684, 5014, 1012, 1001, 2833, 2953, 20192, 2102, 1001, 2006, 18155, 2072, 1001, 7367, 5244, 2102, 102], [101, 1001, 26180, 2003, 7294, 2256, 4279, 2524, 1999, 1001, 3190, 2758, 1030, 5310, 5035, 2001, 8043, 2386, 1001, 4550, 11215, 2549, 3211, 5104, 1001, 7402, 2015, 1001, 7367, 5244, 2102, 102], [101, 1996, 6034, 18213, 1998, 3684, 2157, 2085, 2453, 3102, 2033, 1998, 2009, 1005, 1055, 2069, 2184, 2050, 1012, 1049, 1012, 1001, 3516, 21572, 3468, 5244, 1001, 7367, 5244, 2102, 102], [101, 1030, 5310, 1030, 5310, 1030, 5310, 1030, 5310, 1057, 2293, 2522, 2475, 2061, 1045, 2064, 2069, 3305, 2115, 2391, 1997, 3193, 1012, 2021, 1057, 1050, 1045, 2113, 1996, 9495, 1997, 1001, 7367, 5244, 2102, 102], [101, 4033, 1005, 1056, 2464, 1996, 4020, 1999, 2420, 2007, 2035, 2122, 8769, 1012, 2064, 1005, 1056, 3233, 5505, 2023, 2250, 3737, 2151, 2936, 999, 999, 1001, 7367, 5244, 2102, 102], [101, 1030, 5310, 1030, 5310, 1030, 5310, 1030, 5310, 1030, 5310, 4735, 19640, 18480, 4610, 2692, 2620, 19779, 22369, 2378, 6961, 6591, 2004, 2000, 3891, 1997, 1001, 17338, 27082, 1001, 7367, 5244, 2102, 102], [101, 8334, 7777, 2775, 22555, 2085, 1012, 1012, 1012, 1012, 2003, 2008, 2054, 6433, 2065, 2017, 4521, 2035, 2115, 12278, 2012, 10798, 1029, 2442, 2022, 2593, 2008, 2030, 1001, 7367, 5244, 2102, 102], [101, 1030, 5310, 1030, 5310, 1030, 5310, 1030, 5310, 1001, 20116, 17287, 1001, 10725, 11263, 9050, 13058, 22369, 9387, 2055, 14000, 2005, 1001, 17338, 27082, 1001, 7367, 5244, 2102, 102], [101, 2941, 2006, 2117, 4301, 1010, 2009, 1005, 1055, 3492, 6703, 17082, 1001, 4785, 26775, 17417, 2015, 1001, 26354, 16068, 1001, 7367, 5244, 2102, 102], [101, 2908, 2024, 1996, 2420, 2073, 2057, 2052, 2131, 7715, 1997, 8117, 1011, 1016, 1998, 4098, 1019, 1999, 4880, 2237, 1001, 7367, 5244, 2102, 102], [101, 1062, 18447, 2050, 1062, 5358, 16862, 1024, 2342, 2005, 1037, 10562, 6994, 2000, 3288, 2035, 2122, 13075, 2401, 14680, 2362, 1001, 12935, 9468, 16068, 1001, 4785, 1001, 7367, 5244, 2102, 102], [101, 1001, 3260, 1024, 1001, 4785, 1030, 2188, 1028, 2448, 2115, 9841, 28556, 2121, 2069, 2065, 2009, 1005, 1055, 2440, 1012, 1006, 2011, 1030, 5310, 1001, 5955, 1001, 28794, 20464, 21499, 1001, 7367, 5244, 2102, 102], [101, 1996, 4518, 3006, 10619, 1999, 1996, 2621, 1029, 999, 999, 1001, 7367, 5244, 2102, 102], [101, 2542, 2019, 16655, 18684, 25089, 1001, 2166, 2089, 2022, 6082, 1010, 2021, 5260, 2000, 16775, 8465, 1012, 1001, 28794, 20464, 21499, 1001, 2895, 11387, 16068, 1001, 4105, 1001, 7367, 5244, 2102, 102], [101, 1030, 5310, 1030, 5310, 1030, 5310, 2297, 2001, 20930, 2095, 2006, 2501, 1012, 3504, 2066, 2325, 2003, 2183, 2000, 3338, 2008, 2501, 1012, 1001, 7367, 5244, 2102, 102], [101, 4785, 2689, 7939, 10136, 2024, 2066, 3653, 3181, 5430, 28857, 1024, 2662, 3099, 6128, 2829, 1001, 20116, 17287, 1001, 2149, 18155, 2072, 1001, 3729, 16275, 10893, 1001, 7367, 5244, 2102, 102], [101, 2054, 2038, 3047, 2000, 11559, 5169, 1029, 1029, 1001, 24706, 1001, 7573, 1001, 16839, 4609, 17426, 2063, 1001, 7367, 5244, 2102, 102], [101, 1996, 5221, 7404, 5081, 1999, 1996, 2088, 2003, 4785, 2689, 1001, 14734, 1001, 14295, 1001, 7367, 5244, 2102, 102], [101, 2054, 2038, 2042, 2097, 2022, 2153, 1010, 2054, 2038, 2042, 2589, 2097, 2022, 2589, 2153, 1025, 2045, 2003, 2498, 2047, 2104, 1996, 3103, 1012, 14925, 18954, 7951, 4570, 1015, 1024, 1023, 1001, 7367, 5244, 2102, 102], [101, 2028, 12779, 12495, 3215, 2062, 10796, 2084, 2158, 2038, 1999, 2256, 2381, 999, 1001, 7367, 5244, 2102, 102], [101, 1030, 5310, 10643, 2123, 1005, 1056, 2729, 2055, 1996, 4044, 2035, 2362, 1012, 2027, 9772, 2023, 2755, 1012, 1001, 7367, 5244, 2102, 102], [101, 1030, 5310, 15537, 2033, 1997, 11331, 1999, 1996, 2220, 3624, 1005, 1055, 1001, 28794, 20464, 21499, 1001, 7367, 5244, 2102, 102], [101, 1030, 5310, 4463, 10498, 2758, 2002, 15841, 2008, 2096, 1002, 1002, 2052, 4965, 1037, 2502, 8667, 1010, 2672, 2008, 2180, 1005, 1056, 2147, 1059, 1001, 24501, 18622, 4765, 5428, 3540, 3995, 1001, 7367, 5244, 2102, 102], [101, 1001, 3582, 1030, 5310, 2149, 3003, 1999, 4633, 1001, 3891, 24805, 20511, 1012, 5094, 1996, 2088, 1005, 1055, 1001, 4610, 15581, 2000, 4785, 2689, 1012, 1001, 7367, 5244, 2102, 102], [101, 1001, 20116, 17287, 2003, 9874, 2075, 2012, 1001, 1017, 1999, 2710, 2006, 10474, 2085, 1059, 1013, 1017, 1010, 5385, 1056, 28394, 3215, 2013, 1996, 1001, 4785, 6465, 1997, 1996, 10925, 999, 1001, 15488, 1001, 2591, 16969, 1001, 7367, 5244, 2102, 102], [101, 2339, 2003, 4459, 8500, 2030, 4387, 2025, 2012, 1001, 6849, 2515, 2002, 2025, 2729, 2055, 1996, 4044, 1029, 1001, 3729, 16275, 10893, 1001, 4044, 1001, 7367, 5244, 2102, 102], [101, 19387, 1030, 5310, 4283, 2000, 3071, 1999, 7081, 2040, 11925, 2037, 22680, 1999, 2490, 1997, 1001, 2943, 12879, 8873, 29125, 4804, 999, 1001, 2033, 18155, 2072, 1001, 7367, 5244, 2102, 102], [101, 2057, 1005, 2128, 5462, 2000, 2665, 1999, 2256, 5544, 1024, 1030, 5310, 2054, 1005, 2222, 3298, 2689, 2003, 2373, 1997, 3008, 1004, 14472, 1001, 20116, 17287, 1001, 7367, 5244, 2102, 102], [101, 1030, 5310, 1030, 5310, 1030, 5310, 1030, 5310, 1030, 5310, 1000, 2057, 2024, 1996, 2197, 4245, 2040, 2064, 4769, 2023, 4785, 2689, 1001, 7367, 5244, 2102, 102], [101, 1030, 5310, 3256, 15729, 1999, 1996, 2621, 1029, 1029, 2061, 8598, 2075, 1012, 1001, 4785, 22305, 11106, 10441, 2595, 1001, 7367, 5244, 2102, 102], [101, 2049, 2251, 5893, 1012, 1012, 1045, 2031, 4550, 4253, 1012, 1012, 1012, 1045, 2074, 2404, 6312, 2006, 2295, 1012, 1001, 7367, 5244, 2102, 102], [101, 1996, 2300, 4920, 2051, 2000, 4392, 999, 19387, 1000, 1030, 3580, 2638, 9333, 1001, 7367, 5244, 2102, 102], [101, 1045, 3305, 1996, 4542, 1010, 2021, 2009, 2003, 2069, 2055, 3438, 5445, 2157, 2085, 1012, 1012, 1012, 1012, 1012, 2009, 2003, 2196, 3438, 5445, 1999, 2251, 1012, 1012, 1012, 1012, 1001, 7367, 5244, 2102, 102], [101, 1012, 1030, 18506, 23093, 2850, 1005, 1055, 8312, 2006, 9564, 1996, 2270, 7984, 1999, 1037, 10420, 4044, 2323, 2022, 2204, 1001, 2019, 2480, 3540, 11387, 16068, 1001, 7367, 5244, 2102, 102], [101, 6163, 5445, 6904, 28362, 25311, 20175, 2006, 2251, 5893, 1012, 1045, 2293, 2023, 4633, 999, 1001, 5760, 7712, 4048, 5289, 1001, 7367, 5244, 2102, 102], [101, 1001, 5317, 25300, 3070, 1004, 6215, 1997, 2256, 3754, 2000, 2444, 2006, 3011, 2003, 2061, 5236, 1012, 2123, 1005, 1056, 3102, 2256, 2427, 6552, 1001, 4241, 2232, 1001, 21882, 14691, 1001, 7367, 5244, 2102, 102], [101, 1030, 5310, 1030, 5310, 2129, 2055, 2017, 2507, 2033, 2048, 11746, 2055, 4785, 2612, 1997, 4566, 2007, 1037, 18667, 13156, 2466, 1012, 1001, 7367, 5244, 2102, 102], [101, 2619, 4604, 2070, 7975, 11350, 2030, 2070, 1005, 16002, 16608, 5888, 2000, 1030, 5310, 2002, 1005, 1055, 2104, 1996, 4633, 1004, 11501, 2063, 4122, 2000, 2022, 2045, 1001, 7367, 5244, 2102, 102], [101, 1030, 5310, 1030, 5310, 2157, 2041, 1997, 1996, 2502, 9098, 2377, 8654, 999, 2339, 2003, 2023, 19424, 5656, 2061, 7960, 18907, 1029, 1001, 7367, 5244, 2102, 102], [101, 1030, 5310, 1030, 5310, 6343, 23439, 1996, 4785, 3431, 1012, 1001, 7367, 5244, 2102, 102], [101, 1001, 4785, 22305, 14728, 16294, 22753, 2015, 1000, 3876, 2671, 1000, 1027, 25077, 3274, 4275, 2007, 10147, 13327, 2098, 2951, 2000, 2486, 1037, 3653, 3207, 23460, 2094, 7091, 1012, 1001, 7367, 5244, 2102, 102], [101, 2111, 2342, 2000, 5256, 2039, 1004, 5382, 2054, 1005, 1055, 6230, 2000, 2256, 3011, 1001, 7592, 1001, 7367, 5244, 2102, 102], [101, 1001, 3160, 7292, 2040, 2003, 2062, 3497, 2000, 9611, 3471, 3141, 2000, 1001, 5635, 1001, 15169, 1004, 1001, 2231, 1029, 1001, 4676, 1029, 1001, 2449, 1029, 1001, 7367, 5244, 2102, 102], [101, 1996, 3032, 2087, 3497, 2000, 5788, 4785, 2689, 1999, 2028, 18558, 14773, 1001, 5788, 1001, 18558, 14773, 1001, 7367, 5244, 2102, 102], [101, 14403, 14192, 3011, 2061, 2057, 2064, 28667, 12898, 3490, 4371, 2256, 2219, 5014, 1012, 1001, 7367, 5244, 2102, 102], [101, 2054, 1005, 1055, 2279, 2044, 1016, 2086, 1029, 1024, 1007, 1001, 2228, 5638, 2290, 1001, 2088, 1001, 5576, 1001, 2300, 1001, 7367, 5244, 2102, 102], [101, 4785, 2689, 2038, 2525, 3013, 2046, 1996, 3795, 2833, 4425, 1998, 2003, 4762, 2989, 5233, 1004, 3019, 18665, 1001, 2833, 7011, 16649, 24415, 5886, 6525, 20617, 1001, 7367, 5244, 2102, 102], [101, 1030, 5310, 2145, 1037, 2474, 26585, 3399, 1012, 2145, 9996, 23364, 1012, 2145, 4895, 16211, 16778, 10451, 1012, 2145, 4800, 1011, 5387, 1012, 2145, 19857, 7382, 11636, 2098, 2011, 2632, 28759, 1012, 1001, 7367, 5244, 2102, 102], [101, 2878, 2427, 1001, 8797, 2545, 1001, 4245, 2595, 4245, 2100, 1001, 8991, 2480, 3791, 1037, 10885, 1012, 2423, 2086, 2006, 1037, 3306, 2479, 3087, 1029, 1001, 23369, 18413, 2378, 7542, 1001, 7367, 5244, 2102, 102], [101, 1001, 3260, 1024, 1001, 4785, 2006, 1996, 2346, 1028, 4875, 2625, 1001, 5955, 1001, 3011, 15950, 19779, 1001, 7367, 5244, 2102, 102], [101, 10267, 14586, 2121, 1024, 6351, 20874, 2003, 2734, 2021, 2025, 7182, 1012, 2057, 2342, 21053, 6043, 2000, 4675, 1001, 5317, 8028, 1004, 1001, 12935, 9468, 16068, 1001, 7367, 5244, 2102, 102], [101, 8438, 2003, 2437, 1001, 2388, 3011, 4854, 1010, 2008, 17076, 11467, 4757, 2003, 1996, 3114, 2005, 1001, 7367, 5244, 2102, 102], [101, 1030, 5310, 5655, 6229, 3385, 2013, 1030, 5310, 11637, 2129, 3171, 9211, 2097, 2022, 25174, 2094, 2011, 1001, 7367, 5244, 2102, 102], [101, 2866, 5014, 1004, 3121, 2342, 2000, 2022, 5967, 2000, 3020, 7715, 3817, 11545, 1030, 5310, 1001, 16776, 24475, 18697, 7666, 1001, 6789, 1001, 7367, 5244, 2102, 102], [101, 4264, 1998, 3628, 2191, 7722, 2029, 2057, 7200, 1998, 4288, 1996, 18951, 2097, 2191, 1996, 3011, 2015, 7722, 4425, 5410, 1012, 1001, 3011, 1001, 7367, 5244, 2102, 102], [101, 1002, 3156, 1010, 2199, 2006, 9245, 1999, 2260, 2706, 5443, 2019, 6970, 1011, 4245, 2389, 18672, 2008, 11596, 1001, 2477, 13122, 11837, 22117, 22123, 8528, 21421, 14573, 8743, 4819, 10258, 26454, 1001, 7367, 5244, 2102, 102], [101, 4785, 7939, 10136, 2003, 1037, 2744, 2109, 2000, 4223, 2216, 7302, 2041, 1996, 1044, 22571, 10085, 6935, 2100, 1999, 1996, 5470, 12070, 2389, 27838, 2389, 2006, 1001, 4785, 16344, 14317, 1001, 7367, 5244, 2102, 102], [101, 1001, 3260, 1024, 1001, 4785, 2006, 1996, 2346, 1028, 5309, 1037, 4762, 1011, 8114, 1010, 2659, 1011, 16635, 3806, 4316, 1006, 2011, 1030, 5310, 1001, 5955, 1001, 3260, 6305, 3401, 13876, 1001, 7367, 5244, 2102, 102], [101, 1030, 5310, 2097, 2057, 2689, 1029, 2008, 1005, 1055, 1996, 3114, 2057, 2024, 2182, 1012, 2022, 1997, 2204, 15138, 1012, 2057, 1005, 2128, 2183, 2000, 2663, 2023, 1001, 20116, 17287, 1001, 7367, 5244, 2102, 102], [101, 11757, 3048, 2004, 1037, 7155, 27874, 2015, 2006, 1030, 5310, 2005, 1996, 1001, 4153, 1004, 2005, 2256, 13628, 1005, 1055, 2925, 23746, 2361, 1024, 1013, 1013, 4035, 1012, 1999, 1013, 1015, 2290, 2683, 19231, 2629, 1001, 7367, 5244, 2102, 102], [101, 2206, 1996, 8468, 2069, 4785, 6465, 1997, 1996, 10925, 3784, 3081, 10474, 1001, 20116, 17287, 1001, 4361, 1001, 4044, 1001, 8872, 17465, 1001, 4785, 1001, 7367, 5244, 2102, 102], [101, 2024, 1996, 5755, 1997, 3920, 8213, 3421, 2012, 1001, 20116, 17287, 1029, 2057, 2031, 1037, 2360, 1999, 2256, 7268, 2925, 1012, 1001, 4044, 1001, 8872, 17465, 1001, 7367, 5244, 2102, 102], [101, 1030, 5310, 2057, 1005, 2128, 7098, 2000, 3696, 1001, 19607, 10993, 20464, 20592, 8586, 8017, 3370, 2138, 2057, 2024, 5462, 2000, 3554, 4785, 2689, 1001, 7367, 5244, 2102, 102], [101, 1045, 3342, 1037, 2051, 2043, 2621, 2001, 2941, 2621, 1010, 2017, 2113, 2043, 2009, 2001, 11559, 1998, 3938, 5445, 10126, 1001, 2054, 7377, 21512, 5582, 1001, 7367, 5244, 2102, 102], [101, 1030, 5310, 2128, 4674, 2102, 3280, 9413, 3207, 999, 3828, 1996, 3011, 999, 1001, 7367, 5244, 2102, 102], [101, 1030, 5310, 2748, 19313, 2008, 1996, 8598, 5130, 2024, 1996, 5025, 1000, 7939, 10136, 1001, 7367, 5244, 2102, 102], [101, 1030, 5310, 4931, 6796, 1045, 2097, 2507, 2017, 2753, 16653, 2065, 2017, 2644, 3331, 2055, 4785, 1005, 2689, 1005, 1001, 8166, 1001, 2585, 6342, 24015, 1001, 13581, 1001, 7367, 5244, 2102, 102], [101, 2065, 1030, 5310, 1004, 1030, 5310, 2123, 1005, 1056, 2031, 2000, 3582, 8040, 4140, 2271, 2339, 2323, 3087, 2842, 2031, 2000, 1001, 4785, 27843, 6784, 1001, 2569, 2890, 6442, 1001, 5256, 6279, 14074, 14735, 1001, 7367, 5244, 2102, 102], [101, 2065, 2057, 2215, 1037, 2925, 2005, 2256, 1013, 3010, 4268, 2057, 2035, 2342, 2000, 5667, 5256, 1996, 6616, 2039, 1010, 2053, 2062, 2831, 2069, 2895, 1001, 8500, 1001, 7367, 5244, 2102, 102], [101, 22410, 8874, 2006, 5717, 6351, 5014, 1000, 2460, 1011, 19985, 1010, 14203, 1010, 22307, 24170, 1998, 15011, 1000, 2758, 1030, 5310, 1001, 2943, 12879, 8873, 29125, 1001, 7367, 5244, 2102, 102], [101, 1030, 5310, 2204, 2000, 2156, 2062, 3795, 7073, 1010, 4283, 1012, 1001, 7367, 5244, 2102, 102], [101, 2057, 2024, 2025, 1000, 4288, 1996, 3011, 1000, 1012, 1996, 3011, 2038, 2042, 2083, 4788, 1998, 2097, 2022, 2986, 2044, 2035, 4286, 10514, 4246, 24755, 2618, 1010, 19549, 2030, 2732, 3726, 1001, 7367, 5244, 2102, 102], [101, 2712, 2504, 4125, 2682, 1020, 5563, 1011, 2054, 2515, 2008, 2812, 1029, 2009, 2965, 2322, 3027, 2682, 2783, 7535, 1012, 1001, 7367, 5244, 2102, 102], [101, 1030, 5310, 2023, 2003, 2025, 1037, 5913, 2023, 2003, 27988, 8902, 24117, 2007, 4735, 11578, 3772, 2007, 27988, 2000, 1001, 17338, 27082, 1001, 7367, 5244, 2102, 102], [101, 2057, 2342, 6867, 1998, 11578, 2000, 6869, 1998, 6623, 2111, 2000, 2689, 2256, 3679, 14243, 2000, 16678, 2625, 1012, 1001, 7367, 5244, 2102, 102], [101, 2065, 2017, 2123, 2102, 2031, 1996, 3977, 2000, 2202, 2009, 1999, 1998, 2552, 1011, 2054, 2064, 2017, 2079, 2000, 3623, 2115, 3977, 2005, 4434, 1998, 15398, 1029, 1001, 7367, 5244, 2102, 102], [101, 1001, 3260, 1024, 1001, 4785, 1030, 2188, 1028, 2202, 1037, 6457, 2612, 1997, 1037, 7198, 1001, 5955, 1001, 2293, 8162, 11751, 2102, 1001, 7367, 5244, 2102, 102], [101, 1996, 2069, 2518, 1000, 2158, 2081, 1000, 2055, 3795, 12959, 2003, 1996, 6270, 7984, 1012, 1001, 5256, 6279, 14074, 14735, 1001, 17757, 8791, 27843, 12273, 2483, 3597, 1001, 2602, 11387, 16048, 1001, 7367, 5244, 2102, 102], [101, 3652, 5142, 1997, 3534, 16422, 2000, 15581, 2000, 2712, 2504, 4125, 1010, 4852, 4040, 9961, 1025, 2215, 2000, 4468, 3352, 10507, 8711, 1001, 7367, 5244, 2102, 102], [101, 1030, 5310, 3071, 2323, 4553, 2023, 17974, 1011, 2445, 10945, 2024, 2183, 2000, 2131, 16676, 2296, 2095, 999, 1001, 7367, 5244, 2102, 102], [101, 28667, 2152, 8915, 8737, 2005, 2023, 3058, 1999, 5904, 2003, 7886, 1008, 1012, 2008, 2001, 2275, 1999, 4881, 1012, 1056, 1011, 4275, 2020, 1996, 5409, 2005, 4795, 11768, 1012, 1001, 7367, 5244, 2102, 102], [101, 2843, 1005, 1055, 1997, 2051, 1010, 2465, 2058, 999, 1030, 5310, 1001, 7367, 5244, 2102, 102], [101, 1030, 5310, 2821, 2005, 1996, 2293, 1997, 6969, 999, 1045, 2245, 2057, 2020, 2183, 2000, 2022, 4297, 26455, 4383, 2011, 2059, 999, 1001, 7367, 5244, 2102, 102], [101, 2065, 17949, 2055, 22537, 3471, 2020, 6206, 2672, 2057, 2071, 9611, 2070, 1997, 1996, 2590, 3314, 1001, 2049, 29427, 10354, 17802, 1001, 7367, 5244, 2102, 102], [101, 1030, 5310, 1011, 1000, 2035, 1000, 2017, 12455, 1001, 12533, 2033, 2019, 1001, 2880, 1001, 12480, 2012, 2023, 2391, 1000, 7619, 1000, 1006, 1031, 6263, 1033, 1007, 1010, 2128, 1005, 1055, 1040, 1001, 3521, 1001, 16987, 1001, 7367, 5244, 2102, 102], [101, 2672, 2057, 2323, 2707, 1000, 3830, 2989, 2296, 1001, 4031, 1000, 2081, 2007, 2049, 1000, 1001, 4483, 1001, 24319, 1000, 1029, 10076, 2030, 2101, 2057, 2442, 2552, 999, 1001, 7367, 5244, 2102, 102], [101, 2065, 2057, 3543, 1001, 12615, 2005, 2028, 2062, 1001, 3114, 2060, 2084, 2000, 1001, 2470, 1996, 1001, 4254, 1997, 2149, 2057, 2052, 2022, 1001, 9577, 999, 1001, 7072, 1001, 3125, 1029, 1001, 7367, 5244, 2102, 102], [101, 3612, 2373, 3271, 27790, 3146, 1005, 2373, 8370, 2076, 1037, 2297, 3147, 10245, 2008, 3402, 3445, 5157, 1012, 1001, 4785, 26441, 1001, 4785, 1001, 7367, 5244, 2102, 102], [101, 2009, 1005, 1055, 2061, 3147, 1998, 27370, 2182, 1999, 3994, 1010, 1045, 2074, 2387, 1037, 4785, 7155, 4875, 2627, 2026, 3332, 1001, 17151, 18155, 1001, 4785, 22305, 17580, 22852, 1001, 7367, 5244, 2102, 102]], 'attention_mask': [[1, 1, 1, 1, 1, 1, 1, 1, 1, 1, 1, 1, 1, 1, 1, 1, 1, 1, 1, 1, 1, 1, 1, 1, 1, 1], [1, 1, 1, 1, 1, 1, 1, 1, 1, 1, 1, 1, 1, 1, 1, 1, 1, 1, 1, 1, 1, 1, 1, 1, 1, 1, 1], [1, 1, 1, 1, 1, 1, 1, 1, 1, 1, 1, 1, 1, 1, 1, 1, 1, 1, 1, 1, 1, 1, 1, 1, 1, 1, 1, 1, 1, 1, 1, 1, 1, 1, 1, 1, 1, 1, 1, 1, 1], [1, 1, 1, 1, 1, 1, 1, 1, 1, 1, 1, 1, 1, 1, 1, 1, 1, 1, 1, 1, 1, 1, 1, 1, 1, 1, 1, 1, 1, 1, 1], [1, 1, 1, 1, 1, 1, 1, 1, 1, 1, 1, 1, 1, 1, 1, 1, 1, 1, 1, 1, 1, 1, 1], [1, 1, 1, 1, 1, 1, 1, 1, 1, 1, 1, 1, 1, 1, 1, 1, 1, 1, 1, 1, 1, 1, 1, 1, 1, 1, 1, 1, 1, 1, 1, 1, 1, 1, 1, 1, 1, 1], [1, 1, 1, 1, 1, 1, 1, 1, 1, 1, 1, 1, 1, 1, 1, 1, 1, 1, 1, 1, 1], [1, 1, 1, 1, 1, 1, 1, 1, 1, 1, 1, 1, 1, 1, 1, 1, 1, 1, 1, 1, 1, 1, 1, 1, 1, 1, 1, 1, 1, 1, 1, 1], [1, 1, 1, 1, 1, 1, 1, 1, 1, 1, 1, 1, 1, 1, 1, 1, 1, 1, 1, 1, 1, 1, 1, 1, 1, 1, 1, 1, 1, 1], [1, 1, 1, 1, 1, 1, 1, 1, 1, 1, 1, 1, 1, 1, 1, 1, 1, 1, 1, 1, 1, 1, 1, 1, 1, 1, 1, 1, 1, 1, 1, 1, 1, 1, 1, 1, 1], [1, 1, 1, 1, 1, 1, 1, 1, 1, 1, 1, 1, 1, 1, 1, 1, 1, 1, 1, 1, 1, 1, 1, 1, 1], [1, 1, 1, 1, 1, 1, 1, 1, 1, 1, 1, 1, 1, 1, 1, 1, 1, 1, 1, 1, 1, 1, 1, 1, 1, 1, 1, 1, 1, 1, 1, 1, 1, 1, 1, 1, 1, 1], [1, 1, 1, 1, 1, 1, 1, 1, 1, 1, 1, 1, 1, 1, 1], [1, 1, 1, 1, 1, 1, 1, 1, 1, 1, 1, 1, 1, 1, 1, 1, 1, 1, 1, 1, 1, 1, 1, 1], [1, 1, 1, 1, 1, 1, 1, 1, 1, 1, 1, 1, 1, 1, 1, 1, 1, 1, 1, 1, 1, 1, 1, 1], [1, 1, 1, 1, 1, 1, 1, 1, 1, 1, 1, 1, 1, 1, 1, 1, 1, 1, 1], [1, 1, 1, 1, 1, 1, 1, 1, 1, 1, 1, 1, 1, 1, 1, 1, 1, 1, 1, 1, 1, 1, 1, 1, 1, 1, 1, 1, 1, 1, 1, 1], [1, 1, 1, 1, 1, 1, 1, 1, 1, 1, 1, 1, 1, 1, 1, 1, 1, 1, 1, 1, 1, 1], [1, 1, 1, 1, 1, 1, 1, 1, 1, 1, 1, 1, 1, 1, 1, 1, 1, 1, 1, 1, 1, 1, 1, 1, 1, 1, 1, 1, 1, 1, 1, 1], [1, 1, 1, 1, 1, 1, 1, 1, 1, 1, 1, 1, 1, 1, 1, 1], [1, 1, 1, 1, 1, 1, 1, 1, 1, 1, 1, 1, 1, 1, 1, 1, 1, 1, 1, 1, 1, 1, 1, 1, 1, 1], [1, 1, 1, 1, 1, 1, 1, 1, 1, 1, 1, 1, 1, 1, 1, 1, 1], [1, 1, 1, 1, 1, 1, 1, 1, 1, 1, 1, 1, 1, 1, 1, 1, 1, 1, 1, 1, 1, 1, 1, 1], [1, 1, 1, 1, 1, 1, 1, 1, 1, 1, 1, 1, 1, 1, 1, 1, 1, 1, 1, 1, 1, 1, 1, 1, 1, 1, 1, 1, 1, 1, 1], [1, 1, 1, 1, 1, 1, 1, 1, 1, 1, 1, 1, 1, 1, 1, 1, 1, 1, 1, 1, 1, 1, 1, 1, 1, 1, 1, 1, 1, 1, 1, 1, 1, 1, 1], [1, 1, 1, 1, 1, 1, 1, 1, 1, 1, 1, 1, 1, 1, 1, 1, 1, 1, 1, 1, 1, 1, 1, 1, 1, 1, 1, 1, 1, 1, 1], [1, 1, 1, 1, 1, 1, 1, 1, 1, 1, 1, 1, 1, 1, 1, 1, 1, 1, 1, 1, 1, 1, 1, 1, 1, 1, 1, 1, 1, 1, 1, 1, 1], [1, 1, 1, 1, 1, 1, 1, 1, 1, 1, 1, 1, 1, 1, 1, 1, 1, 1, 1, 1, 1, 1, 1, 1, 1, 1, 1, 1, 1, 1, 1, 1, 1, 1], [1, 1, 1, 1, 1, 1, 1, 1, 1, 1, 1, 1, 1, 1, 1, 1, 1, 1, 1, 1, 1, 1, 1], [1, 1, 1, 1, 1, 1, 1, 1, 1, 1, 1, 1, 1, 1, 1, 1, 1, 1, 1, 1, 1, 1, 1, 1, 1, 1, 1, 1, 1, 1, 1, 1, 1, 1, 1, 1], [1, 1, 1, 1, 1, 1, 1, 1, 1, 1, 1, 1, 1, 1, 1, 1, 1, 1, 1, 1, 1, 1, 1, 1, 1, 1, 1, 1, 1, 1, 1, 1, 1, 1, 1, 1, 1, 1], [1, 1, 1, 1, 1, 1, 1, 1, 1, 1, 1, 1, 1, 1, 1, 1, 1, 1, 1, 1, 1, 1, 1, 1, 1, 1, 1, 1, 1, 1, 1], [1, 1, 1, 1, 1, 1, 1, 1, 1, 1, 1, 1, 1, 1, 1, 1, 1, 1, 1, 1, 1, 1, 1, 1, 1, 1, 1, 1, 1, 1], [1, 1, 1, 1, 1, 1, 1, 1, 1, 1, 1, 1, 1, 1, 1, 1, 1, 1, 1, 1, 1, 1, 1, 1, 1, 1, 1, 1, 1, 1, 1, 1, 1, 1, 1, 1, 1], [1, 1, 1, 1, 1, 1, 1, 1, 1, 1, 1, 1, 1, 1, 1, 1, 1, 1, 1, 1, 1, 1, 1], [1, 1, 1, 1, 1, 1, 1, 1, 1, 1, 1, 1, 1, 1, 1, 1, 1, 1, 1, 1, 1, 1, 1, 1, 1, 1, 1, 1], [1, 1, 1, 1, 1, 1, 1, 1, 1, 1, 1, 1, 1, 1, 1, 1, 1, 1, 1, 1, 1, 1, 1, 1, 1, 1, 1, 1, 1, 1, 1, 1], [1, 1, 1, 1, 1, 1, 1, 1, 1, 1, 1, 1, 1, 1, 1, 1, 1, 1, 1, 1, 1, 1, 1, 1, 1, 1], [1, 1, 1, 1, 1, 1, 1, 1, 1, 1, 1, 1, 1, 1, 1, 1, 1, 1, 1, 1, 1, 1, 1, 1, 1, 1, 1, 1, 1, 1, 1, 1, 1, 1, 1], [1, 1, 1, 1, 1, 1, 1, 1, 1, 1, 1, 1, 1, 1, 1, 1, 1, 1, 1, 1, 1, 1, 1, 1, 1, 1, 1], [1, 1, 1, 1, 1, 1, 1, 1, 1, 1, 1, 1, 1, 1, 1, 1, 1, 1, 1, 1, 1, 1, 1, 1, 1, 1, 1, 1, 1, 1, 1, 1], [1, 1, 1, 1, 1, 1, 1, 1, 1, 1, 1, 1, 1, 1, 1, 1, 1, 1, 1, 1, 1, 1, 1, 1, 1, 1, 1, 1, 1, 1, 1, 1], [1, 1, 1, 1, 1, 1, 1, 1, 1, 1, 1, 1, 1, 1, 1, 1, 1, 1, 1, 1, 1, 1, 1, 1, 1, 1, 1, 1, 1, 1, 1, 1, 1, 1, 1, 1], [1, 1, 1, 1, 1, 1, 1, 1, 1, 1, 1, 1, 1, 1, 1, 1, 1, 1, 1, 1, 1, 1, 1, 1, 1, 1, 1, 1, 1, 1, 1, 1, 1, 1, 1], [1, 1, 1, 1, 1, 1, 1, 1, 1, 1, 1, 1, 1, 1, 1, 1, 1, 1, 1, 1, 1, 1, 1, 1, 1, 1, 1, 1, 1, 1, 1, 1, 1, 1, 1, 1, 1, 1, 1], [1, 1, 1, 1, 1, 1, 1, 1, 1, 1, 1, 1, 1, 1, 1, 1, 1, 1, 1, 1, 1, 1, 1, 1, 1, 1], [1, 1, 1, 1, 1, 1, 1, 1, 1, 1, 1, 1, 1, 1, 1, 1, 1, 1, 1, 1, 1, 1, 1, 1, 1, 1, 1, 1, 1, 1], [1, 1, 1, 1, 1, 1, 1, 1, 1, 1, 1, 1, 1, 1, 1, 1, 1, 1, 1, 1, 1, 1, 1, 1, 1, 1, 1, 1, 1, 1, 1, 1, 1, 1], [1, 1, 1, 1, 1, 1, 1, 1, 1, 1, 1, 1, 1, 1, 1, 1, 1, 1, 1, 1, 1, 1, 1, 1, 1, 1, 1], [1, 1, 1, 1, 1, 1, 1, 1, 1, 1, 1, 1, 1, 1, 1, 1, 1, 1, 1, 1, 1, 1, 1, 1, 1, 1, 1, 1, 1, 1, 1, 1, 1, 1, 1, 1, 1, 1], [1, 1, 1, 1, 1, 1, 1, 1, 1, 1, 1, 1, 1, 1, 1, 1], [1, 1, 1, 1, 1, 1, 1, 1, 1, 1, 1, 1, 1, 1, 1, 1], [1, 1, 1, 1, 1, 1, 1, 1, 1, 1, 1, 1, 1, 1, 1, 1, 1, 1, 1, 1, 1, 1, 1, 1, 1, 1, 1, 1, 1, 1], [1, 1, 1, 1, 1, 1, 1, 1, 1, 1, 1, 1, 1, 1, 1, 1, 1, 1, 1, 1, 1, 1, 1, 1, 1, 1, 1, 1, 1, 1, 1, 1, 1, 1, 1, 1, 1, 1], [1, 1, 1, 1, 1, 1, 1, 1, 1, 1, 1, 1, 1, 1, 1, 1, 1, 1, 1, 1, 1, 1, 1, 1, 1, 1, 1, 1, 1, 1, 1, 1], [1, 1, 1, 1, 1, 1, 1, 1, 1, 1, 1, 1, 1, 1, 1, 1, 1, 1, 1, 1, 1, 1, 1, 1, 1, 1, 1, 1, 1, 1, 1], [1, 1, 1, 1, 1, 1, 1, 1, 1, 1, 1, 1, 1, 1, 1, 1, 1, 1, 1, 1, 1, 1, 1, 1, 1, 1, 1, 1, 1, 1, 1, 1, 1, 1, 1], [1, 1, 1, 1, 1, 1, 1, 1, 1, 1, 1, 1, 1, 1, 1, 1, 1, 1, 1], [1, 1, 1, 1, 1, 1, 1, 1, 1, 1, 1, 1, 1, 1, 1, 1, 1, 1, 1, 1, 1, 1, 1, 1, 1, 1, 1, 1, 1, 1, 1, 1, 1, 1, 1, 1, 1, 1, 1, 1, 1, 1, 1, 1, 1, 1, 1, 1, 1, 1, 1], [1, 1, 1, 1, 1, 1, 1, 1, 1, 1, 1, 1, 1, 1, 1, 1, 1, 1, 1, 1, 1, 1, 1, 1, 1, 1, 1, 1], [1, 1, 1, 1, 1, 1, 1, 1, 1, 1, 1, 1, 1, 1, 1, 1, 1, 1, 1, 1, 1, 1, 1, 1, 1, 1, 1], [1, 1, 1, 1, 1, 1, 1, 1, 1, 1, 1, 1, 1, 1, 1, 1, 1, 1, 1, 1], [1, 1, 1, 1, 1, 1, 1, 1, 1, 1, 1, 1, 1, 1, 1, 1, 1, 1, 1, 1, 1, 1, 1, 1, 1, 1, 1, 1, 1, 1, 1, 1, 1], [1, 1, 1, 1, 1, 1, 1, 1, 1, 1, 1, 1, 1, 1, 1, 1, 1, 1, 1, 1, 1, 1, 1, 1, 1, 1, 1], [1, 1, 1, 1, 1, 1, 1, 1, 1, 1, 1, 1, 1, 1, 1, 1, 1, 1, 1, 1, 1, 1, 1, 1, 1, 1, 1, 1, 1, 1, 1], [1, 1, 1, 1, 1, 1, 1, 1, 1, 1, 1, 1, 1, 1, 1, 1, 1, 1], [1, 1, 1, 1, 1, 1, 1, 1, 1, 1, 1, 1, 1, 1, 1, 1, 1, 1, 1, 1, 1, 1, 1, 1, 1, 1, 1, 1, 1, 1, 1, 1, 1, 1], [1, 1, 1, 1, 1, 1, 1, 1, 1, 1, 1, 1, 1, 1, 1, 1, 1, 1, 1, 1, 1, 1, 1, 1, 1, 1], [1, 1, 1, 1, 1, 1, 1, 1, 1, 1, 1, 1, 1, 1, 1, 1, 1, 1, 1, 1, 1, 1, 1, 1, 1, 1, 1, 1, 1, 1, 1, 1, 1, 1, 1, 1, 1, 1], [1, 1, 1, 1, 1, 1, 1, 1, 1, 1, 1, 1, 1, 1, 1, 1, 1, 1, 1, 1, 1, 1, 1, 1], [1, 1, 1, 1, 1, 1, 1, 1, 1, 1, 1, 1, 1, 1, 1, 1, 1, 1, 1, 1, 1, 1, 1, 1, 1, 1, 1, 1, 1, 1, 1, 1, 1, 1, 1, 1, 1], [1, 1, 1, 1, 1, 1, 1, 1, 1, 1, 1, 1, 1, 1, 1, 1, 1, 1, 1, 1, 1, 1, 1, 1, 1], [1, 1, 1, 1, 1, 1, 1, 1, 1, 1, 1, 1, 1, 1, 1, 1, 1, 1, 1, 1, 1, 1, 1, 1, 1, 1, 1, 1, 1, 1], [1, 1, 1, 1, 1, 1, 1, 1, 1, 1, 1, 1, 1, 1, 1, 1, 1, 1, 1, 1, 1, 1, 1, 1, 1, 1, 1, 1, 1, 1, 1, 1, 1], [1, 1, 1, 1, 1, 1, 1, 1, 1, 1, 1, 1, 1, 1, 1, 1, 1, 1, 1, 1, 1, 1, 1, 1, 1, 1, 1, 1, 1, 1, 1], [1, 1, 1, 1, 1, 1, 1, 1, 1, 1, 1, 1, 1, 1, 1, 1, 1, 1, 1, 1, 1, 1, 1, 1, 1, 1, 1, 1, 1, 1, 1, 1, 1, 1, 1, 1, 1, 1, 1, 1, 1, 1], [1, 1, 1, 1, 1, 1, 1, 1, 1, 1, 1, 1, 1, 1, 1, 1, 1, 1, 1, 1, 1, 1, 1, 1, 1, 1, 1, 1, 1, 1, 1, 1], [1, 1, 1, 1, 1, 1, 1, 1, 1, 1, 1, 1, 1, 1, 1, 1, 1, 1, 1, 1, 1, 1, 1, 1, 1, 1, 1], [1, 1, 1, 1, 1, 1, 1, 1, 1, 1, 1, 1, 1, 1, 1, 1, 1, 1, 1, 1, 1, 1, 1, 1, 1, 1, 1, 1, 1, 1, 1], [1, 1, 1, 1, 1, 1, 1, 1, 1, 1, 1, 1, 1, 1, 1, 1, 1, 1, 1, 1, 1, 1, 1, 1, 1, 1, 1, 1, 1, 1, 1, 1, 1, 1], [1, 1, 1, 1, 1, 1, 1, 1, 1, 1, 1, 1, 1, 1, 1, 1, 1, 1, 1, 1, 1, 1, 1, 1, 1, 1, 1, 1, 1, 1, 1, 1, 1, 1, 1, 1, 1, 1, 1, 1, 1, 1], [1, 1, 1, 1, 1, 1, 1, 1, 1, 1, 1, 1, 1, 1, 1, 1, 1, 1, 1, 1, 1, 1, 1, 1, 1, 1, 1, 1, 1, 1, 1, 1, 1], [1, 1, 1, 1, 1, 1, 1, 1, 1, 1, 1, 1, 1, 1, 1, 1, 1, 1, 1, 1, 1, 1, 1, 1, 1, 1, 1, 1, 1, 1, 1, 1, 1, 1, 1], [1, 1, 1, 1, 1, 1, 1, 1, 1, 1, 1, 1, 1, 1, 1, 1, 1, 1, 1, 1, 1, 1, 1, 1, 1, 1, 1, 1, 1, 1, 1, 1, 1, 1, 1, 1, 1, 1], [1, 1, 1, 1, 1, 1, 1, 1, 1, 1, 1, 1, 1, 1, 1, 1, 1, 1, 1, 1, 1, 1, 1, 1, 1, 1, 1, 1, 1, 1, 1], [1, 1, 1, 1, 1, 1, 1, 1, 1, 1, 1, 1, 1, 1, 1, 1], [1, 1, 1, 1, 1, 1, 1, 1, 1, 1, 1, 1, 1, 1, 1, 1, 1, 1, 1, 1, 1, 1, 1, 1, 1, 1, 1, 1, 1, 1, 1, 1, 1, 1, 1, 1, 1, 1, 1, 1, 1, 1, 1], [1, 1, 1, 1, 1, 1, 1, 1, 1, 1, 1, 1, 1, 1, 1, 1, 1, 1, 1, 1, 1, 1, 1, 1, 1, 1, 1, 1, 1, 1, 1, 1, 1], [1, 1, 1, 1, 1, 1, 1, 1, 1, 1, 1, 1, 1, 1, 1, 1, 1, 1, 1, 1, 1, 1, 1, 1, 1, 1, 1, 1, 1, 1], [1, 1, 1, 1, 1, 1, 1, 1, 1, 1, 1, 1, 1, 1, 1, 1, 1, 1, 1, 1, 1, 1, 1, 1, 1, 1, 1, 1, 1, 1, 1, 1, 1], [1, 1, 1, 1, 1, 1, 1, 1, 1, 1, 1, 1, 1, 1, 1, 1, 1, 1, 1, 1, 1, 1, 1, 1, 1, 1, 1, 1, 1, 1, 1, 1, 1, 1, 1, 1, 1, 1, 1, 1, 1, 1], [1, 1, 1, 1, 1, 1, 1, 1, 1, 1, 1, 1, 1, 1, 1, 1, 1, 1, 1, 1, 1, 1, 1, 1, 1, 1, 1, 1, 1, 1, 1, 1, 1, 1], [1, 1, 1, 1, 1, 1, 1, 1, 1, 1, 1, 1, 1, 1, 1, 1, 1, 1, 1, 1, 1, 1, 1, 1, 1, 1, 1, 1, 1, 1, 1, 1, 1, 1, 1, 1, 1], [1, 1, 1, 1, 1, 1, 1, 1, 1, 1, 1, 1, 1, 1, 1, 1, 1, 1, 1, 1, 1, 1, 1, 1, 1, 1, 1, 1, 1, 1, 1, 1], [1, 1, 1, 1, 1, 1, 1, 1, 1, 1, 1, 1, 1, 1, 1, 1, 1, 1, 1, 1, 1, 1, 1, 1, 1, 1, 1, 1, 1, 1], [1, 1, 1, 1, 1, 1, 1, 1, 1, 1, 1, 1, 1, 1, 1, 1, 1, 1, 1, 1, 1, 1, 1, 1, 1, 1, 1], [1, 1, 1, 1, 1, 1, 1, 1, 1, 1, 1, 1, 1, 1, 1, 1, 1, 1, 1, 1, 1, 1, 1, 1, 1, 1, 1, 1, 1, 1, 1, 1, 1, 1, 1, 1, 1], [1, 1, 1, 1, 1, 1, 1, 1, 1, 1, 1, 1, 1, 1, 1, 1, 1, 1, 1, 1, 1, 1, 1], [1, 1, 1, 1, 1, 1, 1, 1, 1, 1, 1, 1, 1, 1, 1, 1, 1, 1, 1, 1, 1, 1, 1, 1, 1, 1, 1, 1, 1, 1, 1, 1, 1, 1, 1, 1, 1], [1, 1, 1, 1, 1, 1, 1, 1, 1, 1, 1, 1, 1, 1, 1, 1, 1, 1, 1, 1, 1, 1, 1, 1, 1, 1, 1, 1, 1, 1, 1, 1, 1, 1, 1, 1, 1], [1, 1, 1, 1, 1, 1, 1, 1, 1, 1, 1, 1, 1, 1, 1, 1, 1, 1, 1, 1, 1, 1, 1, 1, 1, 1, 1, 1, 1], [1, 1, 1, 1, 1, 1, 1, 1, 1, 1, 1, 1, 1, 1, 1, 1, 1, 1], [1, 1, 1, 1, 1, 1, 1, 1, 1, 1, 1, 1, 1, 1, 1, 1, 1, 1, 1, 1, 1, 1, 1, 1, 1, 1, 1, 1, 1, 1, 1, 1, 1, 1], [1, 1, 1, 1, 1, 1, 1, 1, 1, 1, 1, 1, 1, 1, 1, 1, 1, 1, 1, 1, 1, 1, 1, 1, 1], [1, 1, 1, 1, 1, 1, 1, 1, 1, 1, 1, 1, 1, 1, 1, 1, 1, 1, 1, 1, 1, 1, 1, 1, 1, 1, 1, 1, 1, 1, 1, 1], [1, 1, 1, 1, 1, 1, 1, 1, 1, 1, 1, 1, 1, 1, 1, 1, 1, 1, 1, 1, 1, 1, 1, 1], [1, 1, 1, 1, 1, 1, 1, 1, 1, 1, 1, 1, 1, 1, 1, 1, 1, 1, 1, 1, 1, 1, 1, 1, 1, 1, 1, 1, 1, 1, 1, 1, 1, 1, 1, 1, 1, 1, 1, 1], [1, 1, 1, 1, 1, 1, 1, 1, 1, 1, 1, 1, 1, 1, 1, 1, 1, 1, 1, 1, 1, 1, 1, 1, 1, 1, 1, 1, 1, 1, 1, 1, 1, 1], [1, 1, 1, 1, 1, 1, 1, 1, 1, 1, 1, 1, 1, 1, 1, 1, 1, 1, 1, 1, 1, 1, 1, 1, 1, 1, 1, 1, 1, 1, 1], [1, 1, 1, 1, 1, 1, 1, 1, 1, 1, 1, 1, 1, 1, 1, 1, 1, 1, 1, 1, 1, 1, 1, 1, 1, 1, 1], [1, 1, 1, 1, 1, 1, 1, 1, 1, 1, 1, 1, 1, 1, 1, 1, 1, 1, 1, 1, 1, 1, 1, 1, 1, 1, 1, 1, 1, 1, 1], [1, 1, 1, 1, 1, 1, 1, 1, 1, 1, 1, 1, 1, 1, 1, 1, 1, 1, 1, 1, 1, 1, 1, 1, 1, 1, 1, 1, 1], [1, 1, 1, 1, 1, 1, 1, 1, 1, 1, 1, 1, 1, 1, 1, 1, 1, 1, 1, 1, 1, 1, 1, 1, 1, 1, 1, 1, 1, 1, 1, 1, 1], [1, 1, 1, 1, 1, 1, 1, 1, 1, 1, 1, 1, 1, 1, 1, 1, 1, 1, 1, 1, 1, 1, 1, 1, 1, 1, 1, 1, 1, 1, 1, 1, 1], [1, 1, 1, 1, 1, 1, 1, 1, 1, 1, 1, 1, 1, 1, 1, 1, 1, 1, 1, 1, 1, 1, 1, 1, 1, 1, 1, 1, 1, 1, 1, 1, 1, 1, 1, 1, 1], [1, 1, 1, 1, 1, 1, 1, 1, 1, 1, 1, 1, 1, 1, 1, 1, 1, 1, 1, 1, 1, 1, 1, 1, 1], [1, 1, 1, 1, 1, 1, 1, 1, 1, 1, 1, 1, 1, 1, 1, 1, 1, 1, 1, 1, 1, 1, 1, 1, 1], [1, 1, 1, 1, 1, 1, 1, 1, 1, 1, 1, 1, 1, 1, 1, 1, 1, 1, 1, 1, 1, 1, 1, 1, 1, 1, 1, 1, 1, 1, 1, 1, 1, 1, 1, 1], [1, 1, 1, 1, 1, 1, 1, 1, 1, 1, 1, 1, 1, 1, 1, 1, 1, 1, 1, 1, 1, 1, 1, 1, 1, 1, 1, 1, 1], [1, 1, 1, 1, 1, 1, 1, 1, 1, 1, 1, 1, 1, 1, 1, 1, 1, 1, 1, 1, 1, 1, 1, 1, 1, 1, 1, 1, 1, 1, 1], [1, 1, 1, 1, 1, 1, 1, 1, 1, 1, 1, 1, 1, 1, 1, 1, 1, 1, 1, 1, 1, 1, 1, 1, 1, 1, 1, 1, 1, 1, 1, 1, 1, 1, 1, 1, 1, 1], [1, 1, 1, 1, 1, 1, 1, 1, 1, 1, 1, 1, 1, 1, 1, 1, 1, 1, 1, 1, 1, 1, 1, 1, 1, 1, 1, 1], [1, 1, 1, 1, 1, 1, 1, 1, 1, 1, 1, 1, 1, 1, 1, 1, 1, 1, 1, 1, 1, 1, 1, 1, 1, 1], [1, 1, 1, 1, 1, 1, 1, 1, 1, 1, 1, 1, 1, 1, 1, 1, 1, 1, 1, 1, 1, 1, 1, 1, 1, 1, 1, 1, 1], [1, 1, 1, 1, 1, 1, 1, 1, 1, 1, 1, 1, 1, 1, 1, 1, 1, 1, 1, 1, 1, 1, 1, 1, 1, 1, 1, 1, 1, 1, 1, 1, 1, 1], [1, 1, 1, 1, 1, 1, 1, 1, 1, 1, 1, 1, 1, 1, 1, 1, 1, 1, 1, 1, 1, 1, 1, 1, 1, 1, 1, 1, 1, 1, 1, 1, 1, 1, 1], [1, 1, 1, 1, 1, 1, 1, 1, 1, 1, 1, 1, 1, 1, 1, 1, 1, 1, 1, 1, 1, 1, 1, 1, 1, 1, 1, 1, 1, 1, 1, 1, 1, 1, 1, 1, 1, 1], [1, 1, 1, 1, 1, 1, 1, 1, 1, 1, 1, 1, 1, 1, 1, 1, 1, 1, 1, 1, 1, 1, 1, 1, 1, 1, 1, 1, 1, 1, 1, 1, 1, 1, 1, 1, 1], [1, 1, 1, 1, 1, 1, 1, 1, 1, 1, 1, 1, 1, 1, 1, 1, 1, 1, 1, 1, 1, 1, 1, 1, 1, 1, 1, 1, 1, 1, 1, 1], [1, 1, 1, 1, 1, 1, 1, 1, 1, 1, 1, 1, 1, 1, 1, 1, 1, 1, 1, 1, 1, 1, 1, 1, 1, 1, 1, 1, 1], [1, 1, 1, 1, 1, 1, 1, 1, 1, 1, 1, 1, 1, 1, 1, 1, 1, 1, 1, 1, 1, 1, 1, 1, 1, 1, 1, 1, 1, 1, 1, 1], [1, 1, 1, 1, 1, 1, 1, 1, 1, 1, 1, 1, 1, 1, 1, 1, 1, 1, 1, 1, 1, 1, 1, 1, 1, 1, 1, 1, 1, 1, 1, 1, 1, 1, 1, 1, 1], [1, 1, 1, 1, 1, 1, 1, 1, 1, 1, 1, 1, 1, 1, 1, 1, 1, 1, 1, 1, 1, 1, 1, 1, 1, 1, 1, 1, 1, 1, 1, 1, 1, 1], [1, 1, 1, 1, 1, 1, 1, 1, 1, 1, 1, 1, 1, 1, 1, 1, 1, 1, 1, 1, 1, 1, 1, 1, 1, 1, 1, 1, 1, 1], [1, 1, 1, 1, 1, 1, 1, 1, 1, 1, 1, 1, 1, 1, 1, 1, 1, 1, 1, 1, 1, 1, 1, 1, 1, 1, 1, 1, 1, 1, 1, 1, 1], [1, 1, 1, 1, 1, 1, 1, 1, 1, 1, 1, 1, 1, 1, 1, 1, 1, 1, 1, 1, 1, 1, 1, 1, 1, 1, 1, 1, 1, 1, 1, 1], [1, 1, 1, 1, 1, 1, 1, 1, 1, 1, 1, 1, 1, 1, 1, 1, 1, 1, 1, 1, 1, 1, 1, 1, 1, 1, 1, 1, 1, 1, 1, 1, 1, 1], [1, 1, 1, 1, 1, 1, 1, 1, 1, 1, 1, 1, 1, 1, 1, 1, 1, 1, 1, 1, 1, 1, 1, 1, 1], [1, 1, 1, 1, 1, 1, 1, 1, 1, 1, 1, 1, 1, 1, 1, 1, 1, 1, 1, 1, 1, 1, 1, 1, 1, 1, 1, 1, 1, 1, 1, 1, 1, 1, 1, 1, 1, 1, 1], [1, 1, 1, 1, 1, 1, 1, 1, 1, 1, 1, 1, 1, 1, 1, 1, 1, 1, 1, 1, 1, 1, 1, 1, 1, 1, 1, 1, 1, 1, 1, 1, 1, 1], [1, 1, 1, 1, 1, 1, 1, 1, 1, 1, 1, 1, 1, 1, 1, 1, 1, 1, 1, 1, 1, 1, 1, 1, 1], [1, 1, 1, 1, 1, 1, 1, 1, 1, 1, 1, 1, 1, 1, 1, 1, 1, 1, 1, 1, 1, 1, 1, 1, 1, 1, 1], [1, 1, 1, 1, 1, 1, 1, 1, 1, 1, 1, 1, 1, 1, 1, 1, 1, 1, 1, 1, 1, 1, 1, 1, 1, 1, 1, 1], [1, 1, 1, 1, 1, 1, 1, 1, 1, 1, 1, 1, 1, 1, 1, 1, 1], [1, 1, 1, 1, 1, 1, 1, 1, 1, 1, 1, 1, 1, 1, 1, 1, 1, 1, 1, 1, 1, 1, 1, 1, 1, 1, 1, 1, 1, 1], [1, 1, 1, 1, 1, 1, 1, 1, 1, 1, 1, 1, 1, 1, 1, 1, 1, 1, 1, 1, 1, 1, 1, 1, 1, 1, 1, 1, 1, 1, 1, 1, 1, 1, 1, 1, 1], [1, 1, 1, 1, 1, 1, 1, 1, 1, 1, 1, 1, 1, 1, 1, 1, 1, 1, 1, 1, 1, 1, 1, 1, 1, 1, 1, 1, 1, 1, 1, 1, 1, 1, 1, 1, 1], [1, 1, 1, 1, 1, 1, 1, 1, 1, 1, 1, 1, 1, 1, 1, 1, 1, 1, 1, 1, 1, 1, 1, 1, 1, 1, 1, 1, 1, 1], [1, 1, 1, 1, 1, 1, 1, 1, 1, 1, 1, 1, 1, 1, 1, 1, 1, 1, 1, 1, 1, 1, 1, 1, 1, 1, 1, 1, 1, 1], [1, 1, 1, 1, 1, 1, 1, 1, 1, 1, 1, 1, 1, 1, 1, 1, 1, 1, 1, 1, 1, 1, 1, 1, 1, 1, 1, 1, 1, 1, 1, 1, 1, 1, 1, 1, 1, 1, 1], [1, 1, 1, 1, 1, 1, 1, 1, 1, 1, 1, 1, 1, 1, 1, 1, 1, 1, 1, 1, 1, 1, 1, 1], [1, 1, 1, 1, 1, 1, 1, 1, 1, 1, 1, 1, 1, 1, 1, 1, 1, 1, 1, 1, 1, 1, 1, 1, 1, 1, 1, 1, 1, 1, 1, 1, 1, 1, 1, 1, 1, 1, 1], [1, 1, 1, 1, 1, 1, 1, 1, 1, 1, 1, 1, 1, 1, 1, 1, 1, 1, 1, 1, 1, 1, 1, 1, 1, 1, 1, 1, 1, 1, 1, 1, 1, 1, 1, 1], [1, 1, 1, 1, 1, 1, 1, 1, 1, 1, 1, 1, 1, 1, 1, 1, 1, 1, 1, 1, 1, 1, 1, 1, 1, 1, 1, 1, 1, 1, 1, 1, 1, 1, 1, 1, 1, 1], [1, 1, 1, 1, 1, 1, 1, 1, 1, 1, 1, 1, 1, 1, 1, 1, 1, 1, 1, 1], [1, 1, 1, 1, 1, 1, 1, 1, 1, 1, 1, 1, 1, 1, 1, 1, 1, 1, 1, 1, 1, 1, 1, 1, 1, 1, 1, 1], [1, 1, 1, 1, 1, 1, 1, 1, 1, 1, 1, 1, 1, 1, 1, 1, 1, 1, 1, 1], [1, 1, 1, 1, 1, 1, 1, 1, 1, 1, 1, 1, 1, 1, 1, 1, 1, 1, 1, 1, 1, 1, 1, 1, 1, 1, 1, 1, 1, 1, 1], [1, 1, 1, 1, 1, 1, 1, 1, 1, 1, 1, 1, 1, 1, 1, 1, 1, 1, 1, 1, 1, 1], [1, 1, 1, 1, 1, 1, 1, 1, 1, 1, 1, 1, 1, 1, 1, 1, 1, 1, 1, 1, 1, 1, 1, 1, 1, 1, 1, 1, 1, 1], [1, 1, 1, 1, 1, 1, 1, 1, 1, 1, 1, 1, 1, 1, 1, 1, 1, 1, 1, 1, 1, 1, 1, 1, 1, 1, 1, 1, 1, 1, 1, 1], [1, 1, 1, 1, 1, 1, 1, 1, 1, 1, 1, 1, 1, 1, 1, 1, 1, 1, 1, 1, 1, 1, 1], [1, 1, 1, 1, 1, 1, 1, 1, 1, 1, 1, 1, 1, 1, 1, 1, 1, 1, 1, 1, 1, 1, 1, 1, 1, 1], [1, 1, 1, 1, 1, 1, 1, 1, 1, 1, 1, 1, 1, 1, 1, 1, 1, 1, 1, 1, 1, 1, 1, 1, 1, 1, 1, 1, 1, 1], [1, 1, 1, 1, 1, 1, 1, 1, 1, 1, 1, 1, 1, 1, 1, 1, 1, 1, 1, 1, 1, 1, 1, 1, 1, 1], [1, 1, 1, 1, 1, 1, 1, 1, 1, 1, 1, 1, 1, 1, 1, 1, 1, 1, 1, 1, 1, 1, 1, 1, 1, 1, 1, 1], [1, 1, 1, 1, 1, 1, 1, 1, 1, 1, 1, 1, 1, 1, 1, 1, 1, 1, 1, 1, 1, 1, 1, 1, 1, 1, 1, 1, 1, 1], [1, 1, 1, 1, 1, 1, 1, 1, 1, 1, 1, 1, 1, 1, 1, 1, 1, 1, 1], [1, 1, 1, 1, 1, 1, 1, 1, 1, 1, 1, 1, 1, 1, 1, 1, 1, 1, 1, 1, 1, 1, 1, 1, 1, 1, 1, 1, 1, 1, 1], [1, 1, 1, 1, 1, 1, 1, 1, 1, 1, 1, 1, 1, 1, 1, 1, 1, 1, 1, 1, 1, 1, 1, 1], [1, 1, 1, 1, 1, 1, 1, 1, 1, 1, 1, 1, 1, 1, 1, 1, 1, 1, 1, 1, 1, 1, 1, 1, 1, 1, 1, 1, 1, 1], [1, 1, 1, 1, 1, 1, 1, 1, 1, 1, 1, 1, 1, 1, 1, 1, 1, 1, 1, 1, 1, 1, 1, 1, 1, 1, 1], [1, 1, 1, 1, 1, 1, 1, 1, 1, 1, 1, 1, 1, 1, 1, 1, 1, 1, 1, 1, 1, 1, 1, 1, 1, 1, 1, 1, 1, 1, 1, 1, 1, 1, 1, 1, 1], [1, 1, 1, 1, 1, 1, 1, 1, 1, 1, 1, 1, 1, 1, 1, 1, 1, 1, 1, 1, 1, 1, 1], [1, 1, 1, 1, 1, 1, 1, 1, 1, 1, 1, 1, 1, 1, 1, 1, 1, 1, 1], [1, 1, 1, 1, 1, 1, 1, 1, 1, 1, 1, 1, 1, 1, 1, 1, 1, 1, 1, 1, 1, 1, 1], [1, 1, 1, 1, 1, 1, 1, 1, 1, 1, 1, 1, 1, 1, 1, 1, 1, 1, 1, 1, 1, 1, 1, 1, 1, 1, 1, 1], [1, 1, 1, 1, 1, 1, 1, 1, 1, 1, 1, 1, 1, 1, 1, 1, 1, 1, 1], [1, 1, 1, 1, 1, 1, 1, 1, 1, 1, 1, 1, 1, 1, 1, 1, 1, 1, 1, 1, 1, 1, 1, 1, 1, 1, 1, 1, 1, 1, 1, 1, 1, 1, 1, 1, 1, 1], [1, 1, 1, 1, 1, 1, 1, 1, 1, 1, 1, 1, 1, 1, 1, 1, 1, 1, 1, 1, 1, 1], [1, 1, 1, 1, 1, 1, 1, 1, 1, 1, 1, 1, 1, 1, 1, 1, 1, 1, 1, 1, 1, 1, 1, 1, 1], [1, 1, 1, 1, 1, 1, 1, 1, 1, 1, 1, 1, 1, 1, 1, 1, 1, 1, 1, 1, 1, 1, 1, 1, 1, 1, 1, 1, 1], [1, 1, 1, 1, 1, 1, 1, 1, 1, 1, 1, 1, 1, 1, 1, 1, 1, 1, 1, 1, 1, 1, 1, 1, 1, 1, 1, 1, 1, 1, 1, 1, 1, 1, 1, 1, 1, 1], [1, 1, 1, 1, 1, 1, 1, 1, 1, 1, 1, 1, 1, 1, 1, 1, 1, 1, 1, 1, 1, 1, 1, 1, 1, 1, 1, 1, 1, 1, 1, 1, 1, 1, 1, 1, 1, 1], [1, 1, 1, 1, 1, 1, 1, 1, 1, 1, 1, 1, 1, 1, 1, 1, 1, 1, 1, 1, 1, 1, 1, 1, 1, 1, 1, 1, 1, 1], [1, 1, 1, 1, 1, 1, 1, 1, 1, 1, 1, 1, 1, 1, 1, 1, 1, 1, 1, 1, 1, 1, 1, 1, 1], [1, 1, 1, 1, 1, 1, 1, 1, 1, 1, 1, 1, 1, 1, 1, 1, 1, 1], [1, 1, 1, 1, 1, 1, 1, 1, 1, 1, 1, 1, 1, 1, 1, 1, 1, 1, 1, 1, 1, 1, 1, 1, 1, 1, 1, 1, 1, 1], [1, 1, 1, 1, 1, 1, 1, 1, 1, 1, 1, 1, 1, 1, 1, 1, 1, 1, 1, 1, 1, 1], [1, 1, 1, 1, 1, 1, 1, 1, 1, 1, 1, 1, 1, 1, 1, 1, 1, 1, 1, 1, 1, 1, 1, 1, 1, 1, 1, 1], [1, 1, 1, 1, 1, 1, 1, 1, 1, 1, 1, 1, 1, 1, 1, 1, 1, 1, 1, 1, 1, 1, 1, 1, 1, 1, 1, 1, 1, 1, 1, 1, 1, 1, 1], [1, 1, 1, 1, 1, 1, 1, 1, 1, 1, 1, 1, 1, 1, 1], [1, 1, 1, 1, 1, 1, 1, 1, 1, 1, 1, 1, 1, 1, 1, 1, 1, 1, 1, 1, 1, 1, 1, 1, 1, 1, 1, 1, 1, 1, 1], [1, 1, 1, 1, 1, 1, 1, 1, 1, 1, 1, 1, 1, 1, 1, 1, 1, 1, 1, 1, 1, 1, 1, 1, 1, 1, 1], [1, 1, 1, 1, 1, 1, 1, 1, 1, 1, 1, 1, 1, 1, 1, 1, 1, 1, 1, 1, 1, 1, 1, 1, 1, 1, 1, 1, 1, 1, 1, 1, 1, 1], [1, 1, 1, 1, 1, 1, 1, 1, 1, 1, 1, 1, 1, 1, 1, 1, 1, 1, 1, 1, 1, 1, 1, 1, 1], [1, 1, 1, 1, 1, 1, 1, 1, 1, 1, 1, 1, 1, 1, 1, 1, 1, 1, 1, 1, 1, 1, 1, 1, 1, 1, 1], [1, 1, 1, 1, 1, 1, 1, 1, 1, 1, 1, 1, 1, 1, 1, 1, 1, 1, 1, 1, 1, 1, 1, 1, 1, 1, 1, 1, 1], [1, 1, 1, 1, 1, 1, 1, 1, 1, 1, 1, 1, 1, 1, 1, 1, 1, 1, 1, 1, 1, 1, 1, 1, 1, 1, 1, 1, 1, 1, 1, 1, 1, 1, 1, 1, 1, 1, 1, 1, 1, 1, 1, 1], [1, 1, 1, 1, 1, 1, 1, 1, 1, 1, 1, 1, 1, 1, 1, 1, 1, 1, 1, 1, 1, 1, 1, 1, 1, 1, 1, 1, 1, 1, 1, 1, 1, 1, 1, 1, 1, 1], [1, 1, 1, 1, 1, 1, 1, 1, 1, 1, 1, 1, 1, 1, 1, 1, 1, 1, 1, 1, 1, 1, 1, 1, 1, 1, 1, 1, 1], [1, 1, 1, 1, 1, 1, 1, 1, 1, 1, 1, 1, 1, 1, 1, 1, 1, 1, 1, 1, 1, 1, 1, 1, 1, 1, 1, 1, 1, 1, 1], [1, 1, 1, 1, 1, 1, 1, 1, 1, 1, 1, 1, 1, 1, 1, 1, 1, 1, 1, 1, 1, 1, 1, 1], [1, 1, 1, 1, 1, 1, 1, 1, 1, 1, 1, 1, 1, 1, 1, 1, 1, 1, 1, 1, 1, 1, 1, 1, 1, 1, 1, 1, 1, 1, 1, 1, 1], [1, 1, 1, 1, 1, 1, 1, 1, 1, 1, 1, 1, 1, 1, 1, 1, 1, 1, 1, 1, 1, 1, 1, 1], [1, 1, 1, 1, 1, 1, 1, 1, 1, 1, 1, 1, 1, 1, 1, 1, 1, 1, 1, 1, 1, 1, 1, 1, 1, 1, 1], [1, 1, 1, 1, 1, 1, 1, 1, 1, 1, 1, 1, 1, 1, 1, 1, 1, 1, 1, 1, 1, 1, 1], [1, 1, 1, 1, 1, 1, 1, 1, 1, 1, 1, 1, 1, 1, 1, 1, 1, 1, 1, 1, 1, 1, 1, 1, 1, 1, 1, 1, 1], [1, 1, 1, 1, 1, 1, 1, 1, 1, 1, 1, 1, 1, 1, 1, 1, 1, 1, 1, 1, 1, 1, 1, 1, 1, 1, 1, 1], [1, 1, 1, 1, 1, 1, 1, 1, 1, 1, 1, 1, 1, 1, 1, 1, 1, 1, 1, 1, 1, 1, 1, 1, 1, 1, 1, 1, 1], [1, 1, 1, 1, 1, 1, 1, 1, 1, 1, 1, 1, 1, 1, 1, 1, 1, 1, 1, 1, 1, 1, 1, 1, 1, 1, 1, 1, 1, 1, 1, 1, 1, 1, 1, 1, 1, 1, 1, 1, 1, 1, 1, 1], [1, 1, 1, 1, 1, 1, 1, 1, 1, 1, 1, 1, 1, 1, 1, 1, 1, 1, 1, 1, 1, 1, 1, 1], [1, 1, 1, 1, 1, 1, 1, 1, 1, 1, 1, 1, 1, 1, 1, 1, 1, 1, 1, 1, 1, 1, 1, 1, 1, 1, 1, 1, 1, 1, 1, 1, 1, 1, 1, 1, 1, 1, 1, 1, 1, 1, 1, 1], [1, 1, 1, 1, 1, 1, 1, 1, 1, 1, 1, 1, 1, 1, 1, 1, 1, 1, 1, 1, 1, 1, 1], [1, 1, 1, 1, 1, 1, 1, 1, 1, 1, 1, 1, 1, 1, 1, 1, 1, 1, 1, 1, 1, 1, 1, 1, 1, 1], [1, 1, 1, 1, 1, 1, 1, 1, 1, 1, 1, 1, 1, 1, 1, 1, 1, 1, 1, 1, 1, 1, 1, 1, 1], [1, 1, 1, 1, 1, 1, 1, 1, 1, 1, 1, 1, 1, 1, 1, 1, 1, 1, 1, 1, 1, 1, 1], [1, 1, 1, 1, 1, 1, 1, 1, 1, 1, 1, 1, 1, 1, 1, 1, 1, 1, 1, 1, 1, 1, 1, 1, 1, 1, 1, 1, 1, 1], [1, 1, 1, 1, 1, 1, 1, 1, 1, 1, 1, 1, 1, 1, 1, 1, 1, 1, 1, 1, 1, 1, 1, 1, 1, 1, 1, 1, 1, 1, 1, 1, 1], [1, 1, 1, 1, 1, 1, 1, 1, 1, 1, 1, 1, 1, 1, 1], [1, 1, 1, 1, 1, 1, 1, 1, 1, 1, 1, 1, 1, 1, 1, 1, 1, 1, 1, 1, 1, 1, 1, 1, 1, 1, 1], [1, 1, 1, 1, 1, 1, 1, 1, 1, 1, 1, 1, 1, 1, 1, 1, 1, 1, 1, 1, 1, 1, 1, 1, 1, 1, 1, 1, 1, 1, 1, 1, 1, 1, 1, 1, 1], [1, 1, 1, 1, 1, 1, 1, 1, 1, 1, 1, 1, 1, 1, 1, 1, 1, 1, 1, 1, 1, 1, 1, 1, 1, 1, 1, 1, 1, 1, 1], [1, 1, 1, 1, 1, 1, 1, 1, 1, 1, 1, 1, 1, 1, 1, 1, 1, 1, 1, 1, 1, 1, 1, 1, 1, 1, 1, 1, 1, 1, 1, 1, 1, 1, 1, 1], [1, 1, 1, 1, 1, 1, 1, 1, 1, 1, 1, 1, 1, 1, 1, 1, 1, 1, 1, 1, 1, 1, 1, 1, 1, 1, 1, 1, 1, 1, 1, 1, 1, 1, 1, 1, 1, 1, 1, 1], [1, 1, 1, 1, 1, 1, 1, 1, 1, 1, 1, 1, 1, 1, 1, 1, 1, 1, 1, 1, 1, 1, 1, 1, 1, 1, 1, 1, 1, 1, 1], [1, 1, 1, 1, 1, 1, 1, 1, 1, 1, 1, 1, 1, 1, 1, 1, 1, 1, 1, 1, 1, 1, 1, 1, 1, 1, 1, 1, 1, 1, 1, 1, 1, 1], [1, 1, 1, 1, 1, 1, 1, 1, 1, 1, 1, 1, 1, 1, 1, 1, 1, 1, 1, 1, 1, 1, 1, 1, 1, 1, 1, 1, 1, 1, 1, 1, 1, 1], [1, 1, 1, 1, 1, 1, 1, 1, 1, 1, 1, 1, 1, 1, 1, 1, 1, 1, 1, 1, 1, 1, 1, 1, 1, 1, 1, 1, 1, 1, 1, 1, 1], [1, 1, 1, 1, 1, 1, 1, 1, 1, 1, 1, 1, 1, 1, 1, 1, 1, 1, 1, 1, 1, 1, 1, 1, 1, 1, 1, 1, 1], [1, 1, 1, 1, 1, 1, 1, 1, 1, 1, 1, 1, 1, 1, 1, 1, 1, 1, 1, 1, 1, 1, 1, 1, 1, 1, 1, 1, 1, 1, 1, 1, 1, 1, 1, 1, 1], [1, 1, 1, 1, 1, 1, 1, 1, 1, 1, 1, 1, 1, 1, 1, 1, 1, 1, 1, 1, 1, 1, 1, 1, 1, 1, 1, 1, 1, 1, 1, 1, 1, 1, 1], [1, 1, 1, 1, 1, 1, 1, 1, 1, 1, 1, 1, 1, 1, 1, 1, 1, 1, 1, 1, 1, 1, 1, 1, 1, 1, 1], [1, 1, 1, 1, 1, 1, 1, 1, 1, 1, 1, 1, 1, 1, 1, 1, 1, 1, 1, 1, 1, 1, 1, 1, 1, 1, 1, 1, 1, 1, 1, 1], [1, 1, 1, 1, 1, 1, 1, 1, 1, 1, 1, 1, 1, 1, 1, 1, 1, 1, 1, 1, 1, 1, 1, 1, 1, 1, 1, 1], [1, 1, 1, 1, 1, 1, 1, 1, 1, 1, 1, 1, 1, 1, 1, 1, 1, 1, 1, 1, 1, 1, 1, 1, 1, 1, 1, 1, 1, 1, 1, 1], [1, 1, 1, 1, 1, 1, 1, 1, 1, 1, 1, 1, 1, 1, 1, 1, 1, 1, 1, 1, 1, 1, 1, 1, 1, 1, 1, 1, 1, 1, 1, 1, 1, 1, 1, 1, 1, 1, 1, 1, 1], [1, 1, 1, 1, 1, 1, 1, 1, 1, 1, 1, 1], [1, 1, 1, 1, 1, 1, 1, 1, 1, 1, 1, 1, 1, 1, 1, 1, 1, 1, 1, 1, 1, 1, 1, 1, 1, 1, 1, 1, 1, 1, 1, 1, 1], [1, 1, 1, 1, 1, 1, 1, 1, 1, 1, 1, 1, 1, 1, 1, 1, 1, 1, 1, 1, 1, 1, 1, 1, 1, 1, 1, 1, 1, 1, 1, 1, 1, 1, 1], [1, 1, 1, 1, 1, 1, 1, 1, 1, 1, 1, 1, 1, 1, 1, 1, 1, 1, 1, 1, 1, 1, 1, 1, 1, 1, 1, 1, 1, 1, 1, 1, 1], [1, 1, 1, 1, 1, 1, 1, 1, 1, 1, 1, 1, 1, 1, 1, 1, 1, 1, 1, 1, 1, 1, 1, 1, 1, 1, 1, 1, 1], [1, 1, 1, 1, 1, 1, 1, 1, 1, 1, 1, 1, 1], [1, 1, 1, 1, 1, 1, 1, 1, 1, 1, 1, 1, 1, 1, 1, 1, 1, 1, 1, 1, 1, 1, 1, 1, 1, 1, 1, 1, 1, 1, 1], [1, 1, 1, 1, 1, 1, 1, 1, 1, 1, 1, 1, 1, 1, 1, 1, 1, 1, 1, 1, 1, 1, 1, 1, 1, 1, 1, 1, 1, 1, 1, 1, 1, 1, 1], [1, 1, 1, 1, 1, 1, 1, 1, 1, 1, 1, 1, 1, 1, 1, 1, 1, 1, 1, 1, 1, 1, 1, 1, 1, 1, 1, 1, 1], [1, 1, 1, 1, 1, 1, 1, 1, 1, 1, 1, 1, 1, 1, 1, 1, 1, 1, 1], [1, 1, 1, 1, 1, 1, 1, 1, 1, 1, 1, 1, 1, 1, 1, 1, 1, 1, 1, 1, 1, 1, 1, 1, 1, 1, 1, 1], [1, 1, 1, 1, 1, 1, 1, 1, 1, 1, 1, 1, 1, 1, 1, 1, 1, 1], [1, 1, 1, 1, 1, 1, 1, 1, 1, 1, 1, 1, 1, 1, 1, 1, 1, 1, 1, 1, 1, 1, 1], [1, 1, 1, 1, 1, 1, 1, 1, 1, 1, 1, 1, 1, 1, 1, 1, 1, 1, 1, 1, 1, 1, 1, 1, 1, 1, 1, 1, 1, 1, 1, 1], [1, 1, 1, 1, 1, 1, 1, 1, 1, 1, 1, 1, 1, 1, 1, 1, 1, 1, 1, 1, 1, 1, 1, 1, 1, 1, 1, 1, 1, 1, 1, 1, 1, 1, 1, 1, 1], [1, 1, 1, 1, 1, 1, 1, 1, 1, 1, 1, 1, 1, 1, 1, 1, 1, 1, 1, 1, 1, 1, 1, 1], [1, 1, 1, 1, 1, 1, 1, 1, 1, 1, 1, 1, 1, 1, 1, 1, 1, 1, 1, 1, 1, 1, 1, 1, 1, 1, 1, 1, 1, 1, 1, 1, 1], [1, 1, 1, 1, 1, 1, 1, 1, 1, 1, 1, 1, 1, 1, 1, 1, 1, 1, 1, 1, 1, 1, 1, 1, 1, 1, 1, 1, 1, 1, 1, 1], [1, 1, 1, 1, 1, 1, 1, 1, 1, 1, 1, 1, 1, 1, 1, 1, 1, 1, 1, 1, 1, 1, 1, 1, 1, 1, 1, 1, 1, 1], [1, 1, 1, 1, 1, 1, 1, 1, 1, 1, 1, 1, 1, 1, 1, 1, 1, 1, 1, 1, 1, 1, 1, 1, 1, 1, 1, 1, 1, 1, 1, 1, 1], [1, 1, 1, 1, 1, 1, 1, 1, 1, 1, 1, 1, 1, 1, 1, 1, 1, 1], [1, 1, 1, 1, 1, 1, 1, 1, 1, 1, 1, 1, 1, 1, 1, 1, 1, 1, 1, 1, 1, 1, 1, 1, 1, 1, 1, 1], [1, 1, 1, 1, 1, 1, 1, 1, 1, 1, 1, 1, 1, 1, 1, 1, 1, 1, 1, 1, 1, 1, 1, 1, 1, 1, 1, 1, 1, 1, 1, 1, 1, 1, 1, 1, 1], [1, 1, 1, 1, 1, 1, 1, 1, 1, 1, 1, 1, 1, 1, 1, 1, 1, 1, 1, 1, 1, 1, 1, 1, 1, 1, 1, 1, 1, 1, 1], [1, 1, 1, 1, 1, 1, 1, 1, 1, 1, 1, 1, 1, 1, 1, 1, 1, 1, 1, 1, 1, 1, 1, 1, 1, 1, 1, 1, 1, 1, 1, 1, 1, 1, 1, 1, 1], [1, 1, 1, 1, 1, 1, 1, 1, 1, 1, 1, 1, 1, 1, 1, 1, 1, 1, 1, 1, 1, 1, 1, 1, 1, 1, 1, 1, 1, 1, 1, 1], [1, 1, 1, 1, 1, 1, 1, 1, 1, 1, 1, 1, 1, 1, 1, 1, 1, 1, 1, 1, 1, 1, 1, 1, 1], [1, 1, 1, 1, 1, 1, 1, 1, 1, 1, 1, 1, 1, 1, 1, 1, 1, 1, 1, 1, 1, 1, 1, 1, 1, 1, 1, 1, 1, 1, 1, 1, 1, 1, 1, 1, 1, 1], [1, 1, 1, 1, 1, 1, 1, 1, 1, 1, 1, 1, 1, 1, 1, 1], [1, 1, 1, 1, 1, 1, 1, 1, 1, 1, 1, 1, 1, 1, 1, 1], [1, 1, 1, 1, 1, 1, 1, 1, 1, 1, 1, 1, 1, 1, 1, 1, 1, 1, 1, 1, 1, 1, 1, 1, 1, 1, 1, 1, 1, 1, 1, 1, 1, 1], [1, 1, 1, 1, 1, 1, 1, 1, 1, 1, 1, 1, 1, 1, 1, 1, 1, 1, 1, 1, 1], [1, 1, 1, 1, 1, 1, 1, 1, 1, 1, 1, 1, 1, 1, 1, 1, 1, 1, 1, 1, 1, 1, 1, 1, 1], [1, 1, 1, 1, 1, 1, 1, 1, 1, 1, 1, 1, 1, 1, 1, 1, 1, 1, 1, 1, 1, 1, 1, 1, 1, 1, 1, 1, 1, 1, 1, 1, 1, 1, 1, 1], [1, 1, 1, 1, 1, 1, 1, 1, 1, 1, 1, 1, 1, 1, 1, 1, 1, 1, 1, 1, 1], [1, 1, 1, 1, 1, 1, 1, 1, 1, 1, 1, 1, 1, 1, 1, 1, 1, 1, 1, 1, 1, 1, 1, 1, 1, 1, 1, 1, 1, 1, 1, 1, 1, 1], [1, 1, 1, 1, 1, 1, 1, 1, 1, 1, 1, 1, 1, 1, 1, 1, 1, 1, 1, 1, 1, 1, 1, 1, 1, 1, 1, 1, 1, 1, 1], [1, 1, 1, 1, 1, 1, 1, 1, 1, 1, 1, 1, 1, 1, 1, 1, 1, 1, 1, 1, 1, 1, 1, 1, 1, 1, 1, 1, 1, 1, 1, 1, 1, 1, 1], [1, 1, 1, 1, 1, 1, 1, 1, 1, 1, 1, 1, 1, 1, 1, 1, 1, 1, 1, 1, 1, 1, 1, 1, 1, 1], [1, 1, 1, 1, 1, 1, 1, 1, 1, 1, 1, 1, 1, 1, 1, 1, 1, 1, 1, 1, 1, 1, 1, 1, 1, 1], [1, 1, 1, 1, 1, 1, 1, 1, 1, 1, 1, 1, 1, 1, 1, 1, 1, 1, 1, 1, 1, 1, 1, 1, 1], [1, 1, 1, 1, 1, 1, 1, 1, 1, 1, 1, 1, 1, 1, 1, 1, 1, 1, 1, 1, 1, 1, 1, 1, 1, 1, 1], [1, 1, 1, 1, 1, 1, 1, 1, 1, 1, 1, 1, 1, 1, 1, 1, 1, 1, 1, 1, 1, 1, 1, 1], [1, 1, 1, 1, 1, 1, 1, 1, 1, 1, 1, 1, 1, 1, 1, 1, 1, 1, 1, 1, 1, 1, 1, 1, 1, 1, 1, 1, 1, 1, 1], [1, 1, 1, 1, 1, 1, 1, 1, 1, 1, 1, 1, 1, 1, 1, 1, 1, 1, 1, 1, 1, 1, 1, 1, 1, 1, 1, 1, 1, 1, 1, 1, 1, 1, 1, 1, 1, 1, 1, 1, 1, 1, 1, 1], [1, 1, 1, 1, 1, 1, 1, 1, 1, 1, 1, 1, 1, 1, 1, 1, 1, 1, 1, 1, 1, 1, 1, 1, 1, 1, 1, 1, 1, 1, 1, 1, 1, 1, 1, 1, 1, 1, 1, 1, 1, 1, 1, 1, 1], [1, 1, 1, 1, 1, 1, 1, 1, 1, 1, 1, 1, 1, 1], [1, 1, 1, 1, 1, 1, 1, 1, 1, 1, 1, 1, 1, 1, 1, 1, 1, 1], [1, 1, 1, 1, 1, 1, 1, 1, 1, 1, 1, 1, 1, 1, 1, 1, 1, 1, 1, 1, 1, 1, 1, 1, 1, 1], [1, 1, 1, 1, 1, 1, 1, 1, 1, 1, 1, 1, 1, 1, 1, 1, 1, 1, 1, 1, 1, 1, 1, 1, 1], [1, 1, 1, 1, 1, 1, 1, 1, 1, 1, 1, 1, 1, 1, 1, 1, 1, 1, 1, 1, 1, 1, 1, 1, 1, 1, 1, 1, 1, 1, 1, 1, 1, 1, 1, 1], [1, 1, 1, 1, 1, 1, 1, 1, 1, 1, 1, 1, 1, 1, 1, 1, 1, 1, 1, 1, 1, 1, 1], [1, 1, 1, 1, 1, 1, 1, 1, 1, 1, 1, 1, 1, 1, 1, 1, 1, 1, 1, 1, 1, 1, 1, 1, 1, 1, 1, 1, 1, 1, 1], [1, 1, 1, 1, 1, 1, 1, 1, 1, 1, 1, 1, 1, 1, 1, 1, 1, 1, 1, 1, 1, 1, 1, 1, 1, 1, 1, 1, 1, 1, 1, 1, 1, 1, 1, 1], [1, 1, 1, 1, 1, 1, 1, 1, 1, 1, 1, 1, 1, 1, 1, 1, 1, 1, 1, 1, 1, 1, 1, 1, 1, 1, 1, 1, 1, 1, 1, 1, 1, 1, 1, 1], [1, 1, 1, 1, 1, 1, 1, 1, 1, 1, 1, 1, 1, 1, 1, 1, 1, 1, 1, 1, 1, 1, 1, 1, 1, 1, 1, 1, 1, 1, 1, 1, 1, 1, 1, 1], [1, 1, 1, 1, 1, 1, 1, 1, 1, 1, 1, 1, 1, 1, 1, 1, 1, 1, 1, 1, 1, 1, 1, 1], [1, 1, 1, 1, 1, 1, 1, 1, 1, 1, 1, 1, 1, 1, 1, 1, 1, 1, 1, 1, 1, 1], [1, 1, 1, 1, 1, 1, 1, 1, 1, 1, 1, 1, 1, 1, 1, 1, 1, 1, 1, 1, 1, 1, 1, 1, 1, 1, 1, 1, 1, 1, 1, 1, 1, 1, 1], [1, 1, 1, 1, 1, 1, 1, 1, 1, 1, 1, 1, 1, 1, 1, 1, 1, 1, 1, 1, 1, 1, 1, 1, 1, 1], [1, 1, 1, 1, 1, 1, 1, 1, 1, 1, 1, 1, 1, 1, 1, 1, 1, 1, 1, 1], [1, 1, 1, 1, 1, 1, 1, 1, 1, 1, 1, 1, 1, 1, 1, 1, 1, 1, 1, 1, 1, 1, 1, 1, 1, 1, 1, 1, 1], [1, 1, 1, 1, 1, 1, 1, 1, 1, 1, 1, 1, 1, 1, 1, 1, 1, 1, 1, 1, 1, 1, 1, 1, 1, 1, 1, 1, 1, 1, 1, 1, 1, 1, 1], [1, 1, 1, 1, 1, 1, 1, 1, 1, 1, 1, 1, 1, 1, 1, 1, 1, 1, 1, 1, 1, 1, 1, 1, 1, 1, 1, 1, 1, 1, 1, 1], [1, 1, 1, 1, 1, 1, 1, 1, 1, 1, 1, 1, 1, 1, 1, 1, 1, 1, 1, 1, 1, 1, 1, 1, 1, 1, 1, 1, 1, 1, 1], [1, 1, 1, 1, 1, 1, 1, 1, 1, 1, 1, 1, 1, 1, 1, 1, 1, 1, 1, 1, 1, 1, 1, 1], [1, 1, 1, 1, 1, 1, 1, 1, 1, 1, 1, 1, 1, 1, 1, 1, 1, 1, 1, 1, 1, 1, 1, 1, 1, 1, 1, 1, 1, 1, 1, 1], [1, 1, 1, 1, 1, 1, 1, 1, 1, 1, 1, 1, 1, 1, 1, 1, 1, 1, 1, 1, 1, 1, 1, 1, 1, 1, 1, 1, 1, 1], [1, 1, 1, 1, 1, 1, 1, 1, 1, 1, 1, 1, 1, 1, 1, 1, 1, 1, 1, 1, 1, 1, 1, 1, 1, 1, 1, 1, 1], [1, 1, 1, 1, 1, 1, 1, 1, 1, 1, 1, 1, 1, 1, 1, 1, 1, 1, 1, 1, 1, 1, 1, 1, 1, 1, 1, 1, 1, 1, 1], [1, 1, 1, 1, 1, 1, 1, 1, 1, 1, 1, 1, 1, 1, 1, 1, 1, 1, 1, 1], [1, 1, 1, 1, 1, 1, 1, 1, 1, 1, 1, 1, 1, 1, 1, 1, 1, 1, 1, 1, 1, 1, 1, 1, 1, 1], [1, 1, 1, 1, 1, 1, 1, 1, 1, 1, 1, 1, 1, 1, 1, 1, 1, 1, 1, 1, 1, 1, 1, 1], [1, 1, 1, 1, 1, 1, 1, 1, 1, 1, 1, 1, 1, 1, 1, 1, 1, 1, 1, 1, 1, 1, 1, 1, 1, 1, 1, 1, 1], [1, 1, 1, 1, 1, 1, 1, 1, 1, 1, 1, 1, 1, 1, 1, 1, 1, 1, 1, 1, 1, 1, 1], [1, 1, 1, 1, 1, 1, 1, 1, 1, 1, 1, 1, 1, 1, 1, 1, 1, 1, 1, 1, 1, 1, 1, 1, 1, 1, 1, 1], [1, 1, 1, 1, 1, 1, 1, 1, 1, 1, 1, 1, 1], [1, 1, 1, 1, 1, 1, 1, 1, 1, 1, 1, 1, 1, 1, 1, 1, 1, 1, 1, 1, 1, 1, 1, 1, 1, 1, 1, 1, 1, 1, 1, 1, 1, 1], [1, 1, 1, 1, 1, 1, 1, 1, 1, 1, 1, 1, 1, 1, 1, 1, 1, 1, 1, 1, 1, 1, 1, 1, 1, 1, 1, 1, 1, 1, 1, 1, 1, 1, 1], [1, 1, 1, 1, 1, 1, 1, 1, 1, 1, 1, 1, 1, 1, 1, 1, 1, 1, 1, 1, 1, 1, 1, 1, 1, 1, 1, 1, 1, 1, 1], [1, 1, 1, 1, 1, 1, 1, 1, 1, 1, 1, 1, 1, 1, 1, 1, 1, 1, 1, 1, 1, 1, 1, 1, 1, 1, 1, 1, 1, 1, 1, 1], [1, 1, 1, 1, 1, 1, 1, 1, 1, 1, 1, 1, 1, 1, 1, 1, 1, 1, 1, 1, 1, 1, 1, 1, 1, 1, 1, 1, 1, 1, 1, 1, 1, 1, 1, 1, 1, 1, 1, 1], [1, 1, 1, 1, 1, 1, 1, 1, 1, 1, 1, 1, 1, 1, 1, 1, 1, 1, 1, 1, 1, 1, 1, 1, 1, 1, 1, 1], [1, 1, 1, 1, 1, 1, 1, 1, 1, 1, 1, 1, 1, 1, 1, 1, 1, 1, 1, 1, 1, 1, 1, 1, 1, 1, 1, 1, 1, 1], [1, 1, 1, 1, 1, 1, 1, 1, 1, 1, 1, 1, 1, 1, 1, 1, 1, 1, 1, 1, 1, 1, 1, 1, 1, 1], [1, 1, 1, 1, 1, 1, 1, 1, 1, 1, 1, 1, 1, 1, 1, 1, 1, 1, 1, 1, 1, 1, 1, 1, 1, 1, 1, 1, 1, 1, 1, 1], [1, 1, 1, 1, 1, 1, 1, 1, 1, 1, 1, 1, 1, 1, 1, 1, 1, 1, 1, 1, 1, 1, 1, 1, 1, 1, 1, 1, 1, 1, 1, 1], [1, 1, 1, 1, 1, 1, 1, 1, 1, 1, 1, 1, 1, 1, 1, 1, 1, 1, 1, 1, 1, 1, 1, 1, 1, 1, 1, 1, 1, 1, 1, 1], [1, 1, 1, 1, 1, 1, 1, 1, 1, 1, 1, 1, 1, 1, 1, 1, 1, 1, 1], [1, 1, 1, 1, 1, 1, 1, 1, 1, 1, 1, 1, 1, 1, 1, 1, 1, 1, 1, 1, 1, 1, 1, 1], [1, 1, 1, 1, 1, 1, 1, 1, 1, 1, 1, 1, 1, 1, 1, 1, 1, 1, 1, 1, 1, 1, 1, 1, 1, 1, 1, 1, 1, 1, 1, 1, 1, 1, 1], [1, 1, 1, 1, 1, 1, 1, 1, 1, 1, 1, 1, 1, 1, 1, 1, 1, 1, 1, 1, 1, 1, 1, 1, 1, 1, 1, 1, 1, 1, 1, 1, 1, 1, 1], [1, 1, 1, 1, 1, 1, 1, 1, 1, 1, 1, 1, 1, 1, 1, 1, 1, 1, 1, 1, 1, 1, 1, 1, 1, 1, 1, 1, 1, 1], [1, 1, 1, 1, 1, 1, 1, 1, 1, 1, 1, 1, 1, 1, 1, 1, 1, 1, 1, 1, 1, 1, 1], [1, 1, 1, 1, 1, 1, 1, 1, 1, 1, 1, 1, 1, 1, 1, 1, 1, 1, 1, 1, 1], [1, 1, 1, 1, 1, 1, 1, 1, 1, 1, 1, 1, 1, 1, 1, 1, 1, 1, 1, 1, 1, 1, 1, 1, 1, 1, 1, 1, 1, 1, 1], [1, 1, 1, 1, 1, 1, 1, 1, 1, 1, 1, 1, 1, 1, 1, 1, 1, 1, 1, 1, 1, 1, 1, 1, 1], [1, 1, 1, 1, 1, 1, 1, 1, 1, 1, 1, 1, 1, 1, 1, 1, 1, 1, 1, 1, 1, 1, 1, 1, 1], [1, 1, 1, 1, 1, 1, 1, 1, 1, 1, 1, 1, 1, 1, 1, 1, 1, 1, 1, 1, 1, 1, 1, 1, 1, 1, 1], [1, 1, 1, 1, 1, 1, 1, 1, 1, 1, 1, 1, 1, 1, 1, 1, 1, 1, 1, 1, 1, 1, 1, 1, 1, 1, 1, 1, 1, 1, 1, 1, 1, 1, 1], [1, 1, 1, 1, 1, 1, 1, 1, 1, 1, 1, 1, 1, 1, 1, 1, 1, 1, 1, 1, 1, 1, 1, 1, 1, 1, 1, 1, 1, 1, 1, 1], [1, 1, 1, 1, 1, 1, 1, 1, 1, 1, 1, 1, 1, 1, 1, 1, 1, 1, 1, 1, 1, 1, 1, 1, 1, 1, 1, 1, 1, 1, 1, 1, 1, 1], [1, 1, 1, 1, 1, 1, 1, 1, 1, 1, 1, 1, 1, 1, 1, 1, 1, 1, 1, 1, 1, 1, 1, 1, 1], [1, 1, 1, 1, 1, 1, 1, 1, 1, 1, 1, 1, 1, 1, 1, 1, 1, 1, 1, 1, 1, 1, 1], [1, 1, 1, 1, 1, 1, 1, 1, 1, 1, 1, 1, 1, 1, 1, 1, 1, 1, 1, 1, 1, 1, 1, 1, 1, 1, 1, 1, 1, 1], [1, 1, 1, 1, 1, 1, 1, 1, 1, 1, 1, 1, 1, 1, 1, 1, 1, 1], [1, 1, 1, 1, 1, 1, 1, 1, 1, 1, 1, 1, 1, 1, 1, 1, 1, 1, 1, 1, 1, 1, 1, 1, 1, 1], [1, 1, 1, 1, 1, 1, 1, 1, 1, 1, 1, 1, 1, 1, 1, 1, 1, 1, 1, 1, 1, 1, 1, 1, 1, 1, 1, 1], [1, 1, 1, 1, 1, 1, 1, 1, 1, 1, 1, 1, 1, 1, 1, 1], [1, 1, 1, 1, 1, 1, 1, 1, 1, 1, 1, 1, 1, 1, 1, 1, 1, 1, 1, 1, 1, 1, 1, 1, 1, 1, 1], [1, 1, 1, 1, 1, 1, 1, 1, 1, 1, 1, 1, 1, 1, 1, 1, 1, 1, 1, 1, 1, 1, 1, 1, 1, 1, 1, 1, 1, 1, 1, 1], [1, 1, 1, 1, 1, 1, 1, 1, 1, 1, 1, 1, 1, 1, 1, 1, 1, 1, 1, 1, 1, 1, 1, 1, 1, 1, 1, 1, 1, 1, 1, 1, 1, 1, 1], [1, 1, 1, 1, 1, 1, 1, 1, 1, 1, 1, 1, 1, 1, 1, 1, 1, 1, 1, 1, 1, 1, 1, 1, 1, 1, 1, 1, 1, 1, 1, 1], [1, 1, 1, 1, 1, 1, 1, 1, 1, 1, 1, 1, 1, 1, 1, 1, 1, 1, 1, 1, 1, 1, 1, 1, 1, 1, 1, 1, 1, 1, 1, 1, 1, 1, 1, 1, 1, 1], [1, 1, 1, 1, 1, 1, 1, 1, 1, 1, 1, 1, 1, 1, 1, 1, 1, 1, 1, 1, 1, 1, 1, 1, 1, 1, 1, 1, 1, 1, 1, 1, 1, 1, 1], [1, 1, 1, 1, 1, 1, 1, 1, 1, 1, 1, 1, 1, 1, 1, 1, 1, 1, 1, 1, 1, 1, 1, 1, 1, 1, 1, 1, 1, 1, 1, 1, 1, 1, 1], [1, 1, 1, 1, 1, 1, 1, 1, 1, 1, 1, 1, 1, 1, 1, 1, 1, 1, 1, 1, 1, 1, 1, 1, 1, 1, 1, 1, 1, 1, 1, 1, 1, 1, 1, 1, 1, 1, 1, 1, 1, 1], [1, 1, 1, 1, 1, 1, 1, 1, 1, 1, 1, 1, 1, 1, 1, 1, 1, 1, 1, 1, 1, 1, 1, 1, 1, 1, 1, 1, 1], [1, 1, 1, 1, 1, 1, 1, 1, 1, 1, 1, 1, 1, 1, 1, 1, 1, 1, 1, 1, 1, 1, 1, 1, 1, 1, 1], [1, 1, 1, 1, 1, 1, 1, 1, 1, 1, 1, 1, 1, 1, 1, 1, 1, 1, 1, 1, 1, 1, 1, 1, 1, 1, 1, 1, 1, 1, 1, 1, 1, 1, 1, 1, 1, 1, 1, 1], [1, 1, 1, 1, 1, 1, 1, 1, 1, 1, 1, 1, 1, 1, 1, 1, 1, 1, 1, 1, 1, 1, 1, 1, 1, 1, 1, 1, 1], [1, 1, 1, 1, 1, 1, 1, 1, 1, 1, 1, 1, 1, 1, 1, 1, 1, 1, 1, 1, 1, 1, 1, 1, 1, 1, 1, 1, 1, 1, 1, 1, 1], [1, 1, 1, 1, 1, 1, 1, 1, 1, 1, 1, 1, 1, 1, 1, 1, 1, 1, 1, 1, 1, 1, 1, 1, 1, 1, 1, 1, 1, 1, 1, 1, 1, 1, 1, 1, 1], [1, 1, 1, 1, 1, 1, 1, 1, 1, 1, 1, 1, 1, 1, 1, 1, 1, 1, 1, 1, 1, 1, 1, 1, 1, 1, 1, 1], [1, 1, 1, 1, 1, 1, 1, 1, 1, 1, 1, 1, 1, 1, 1, 1, 1, 1, 1, 1, 1, 1, 1, 1, 1, 1, 1, 1, 1, 1, 1, 1], [1, 1, 1, 1, 1, 1, 1, 1, 1, 1, 1, 1, 1, 1, 1, 1, 1, 1, 1, 1, 1, 1, 1, 1, 1, 1, 1, 1], [1, 1, 1, 1, 1, 1, 1, 1, 1, 1, 1, 1, 1, 1, 1, 1, 1, 1, 1, 1, 1, 1], [1, 1, 1, 1, 1, 1, 1, 1, 1, 1, 1, 1, 1, 1, 1, 1, 1, 1, 1, 1, 1, 1, 1, 1, 1, 1, 1, 1, 1, 1, 1, 1, 1, 1, 1, 1, 1, 1], [1, 1, 1, 1, 1, 1, 1, 1, 1, 1, 1, 1, 1, 1, 1, 1], [1, 1, 1, 1, 1, 1, 1, 1, 1, 1, 1, 1, 1, 1, 1, 1, 1, 1, 1, 1, 1, 1, 1, 1, 1, 1, 1, 1], [1, 1, 1, 1, 1, 1, 1, 1, 1, 1, 1, 1, 1, 1, 1, 1, 1, 1, 1, 1, 1, 1, 1, 1, 1, 1, 1, 1, 1, 1, 1, 1, 1, 1], [1, 1, 1, 1, 1, 1, 1, 1, 1, 1, 1, 1, 1, 1, 1, 1, 1, 1, 1, 1, 1, 1, 1, 1, 1, 1, 1, 1, 1, 1, 1, 1, 1, 1, 1, 1, 1, 1], [1, 1, 1, 1, 1, 1, 1, 1, 1, 1, 1, 1, 1, 1, 1, 1, 1, 1, 1, 1, 1, 1, 1], [1, 1, 1, 1, 1, 1, 1, 1, 1, 1, 1, 1, 1, 1, 1, 1, 1, 1, 1, 1, 1, 1, 1, 1, 1, 1, 1, 1, 1, 1, 1, 1, 1], [1, 1, 1, 1, 1, 1, 1, 1, 1, 1, 1, 1, 1, 1, 1, 1, 1, 1, 1, 1, 1, 1, 1, 1, 1], [1, 1, 1, 1, 1, 1, 1, 1, 1, 1, 1, 1, 1, 1, 1, 1, 1, 1, 1, 1, 1, 1, 1, 1, 1, 1, 1, 1, 1, 1, 1, 1, 1, 1], [1, 1, 1, 1, 1, 1, 1, 1, 1, 1, 1, 1, 1, 1, 1, 1, 1, 1, 1, 1, 1, 1, 1, 1, 1, 1, 1, 1, 1, 1], [1, 1, 1, 1, 1, 1, 1, 1, 1, 1, 1, 1, 1, 1, 1, 1, 1, 1, 1, 1, 1, 1, 1, 1, 1, 1, 1, 1, 1, 1, 1, 1, 1, 1, 1, 1, 1, 1, 1, 1, 1, 1, 1], [1, 1, 1, 1, 1, 1, 1, 1, 1, 1, 1, 1, 1, 1, 1, 1, 1, 1, 1, 1, 1, 1, 1, 1, 1, 1, 1, 1, 1, 1, 1], [1, 1, 1, 1, 1, 1, 1, 1, 1, 1, 1, 1, 1, 1, 1, 1, 1, 1, 1, 1, 1, 1, 1, 1, 1, 1, 1, 1, 1, 1, 1, 1, 1, 1, 1, 1, 1, 1], [1, 1, 1, 1, 1, 1, 1, 1, 1, 1, 1, 1, 1, 1, 1, 1, 1, 1, 1, 1, 1, 1, 1, 1, 1, 1, 1, 1, 1, 1, 1, 1, 1], [1, 1, 1, 1, 1, 1, 1, 1, 1, 1, 1, 1, 1, 1, 1, 1, 1, 1, 1, 1, 1, 1, 1, 1, 1, 1, 1, 1, 1, 1, 1, 1, 1, 1, 1], [1, 1, 1, 1, 1, 1, 1, 1, 1, 1, 1, 1, 1, 1, 1, 1, 1, 1, 1, 1, 1, 1, 1, 1, 1, 1, 1, 1, 1, 1, 1], [1, 1, 1, 1, 1, 1, 1, 1, 1, 1, 1, 1, 1, 1, 1, 1, 1, 1, 1, 1, 1, 1, 1, 1, 1, 1, 1, 1, 1, 1, 1, 1, 1, 1, 1, 1, 1], [1, 1, 1, 1, 1, 1, 1, 1, 1, 1, 1, 1, 1, 1, 1, 1, 1, 1, 1, 1, 1, 1, 1, 1, 1, 1, 1, 1, 1, 1], [1, 1, 1, 1, 1, 1, 1, 1, 1, 1, 1, 1, 1, 1, 1, 1, 1, 1, 1, 1, 1, 1, 1, 1, 1, 1, 1, 1, 1], [1, 1, 1, 1, 1, 1, 1, 1, 1, 1, 1, 1, 1, 1, 1, 1, 1, 1, 1, 1, 1, 1, 1, 1, 1, 1, 1, 1, 1, 1, 1, 1, 1], [1, 1, 1, 1, 1, 1, 1, 1, 1, 1, 1, 1, 1, 1, 1, 1, 1, 1, 1, 1, 1, 1, 1, 1, 1, 1, 1, 1, 1, 1, 1, 1, 1, 1, 1, 1, 1, 1, 1], [1, 1, 1, 1, 1, 1, 1, 1, 1, 1, 1, 1, 1, 1, 1, 1, 1, 1, 1, 1, 1, 1, 1, 1, 1, 1, 1, 1, 1, 1], [1, 1, 1, 1, 1, 1, 1, 1, 1, 1, 1, 1, 1, 1, 1, 1, 1, 1, 1, 1, 1, 1, 1, 1, 1, 1, 1, 1, 1, 1, 1, 1, 1, 1, 1], [1, 1, 1, 1, 1, 1, 1, 1, 1, 1, 1, 1, 1, 1, 1, 1, 1, 1, 1, 1, 1, 1, 1, 1, 1, 1, 1, 1, 1, 1, 1, 1, 1], [1, 1, 1, 1, 1, 1, 1, 1, 1, 1, 1, 1, 1, 1, 1, 1, 1, 1, 1, 1, 1, 1, 1, 1], [1, 1, 1, 1, 1, 1, 1, 1, 1, 1, 1, 1, 1, 1, 1, 1, 1, 1, 1, 1, 1, 1], [1, 1, 1, 1, 1, 1, 1, 1, 1, 1, 1, 1, 1, 1, 1, 1, 1, 1, 1, 1, 1, 1, 1, 1, 1, 1, 1, 1, 1, 1, 1, 1], [1, 1, 1, 1, 1, 1, 1, 1, 1, 1, 1, 1, 1, 1, 1, 1, 1, 1, 1, 1, 1, 1, 1, 1, 1, 1, 1, 1, 1, 1, 1, 1, 1, 1, 1, 1], [1, 1, 1, 1, 1, 1, 1, 1, 1, 1, 1, 1, 1, 1, 1, 1, 1, 1, 1, 1, 1, 1, 1, 1, 1, 1, 1, 1, 1, 1, 1, 1, 1, 1], [1, 1, 1, 1, 1, 1, 1, 1, 1, 1, 1, 1, 1, 1, 1, 1, 1, 1, 1, 1, 1, 1, 1, 1, 1, 1, 1, 1, 1, 1, 1, 1, 1, 1, 1, 1, 1], [1, 1, 1, 1, 1, 1, 1, 1, 1, 1, 1, 1, 1, 1, 1, 1, 1, 1, 1, 1, 1, 1, 1, 1, 1, 1, 1, 1, 1, 1, 1, 1, 1, 1, 1, 1, 1, 1, 1, 1, 1, 1, 1], [1, 1, 1, 1, 1, 1, 1, 1, 1, 1, 1, 1, 1, 1, 1, 1, 1, 1, 1, 1, 1, 1, 1], [1, 1, 1, 1, 1, 1, 1, 1, 1, 1, 1, 1, 1, 1, 1, 1, 1, 1, 1, 1, 1, 1, 1, 1, 1, 1, 1, 1, 1, 1, 1, 1, 1, 1, 1, 1, 1, 1, 1, 1], [1, 1, 1, 1, 1, 1, 1, 1, 1, 1, 1, 1, 1, 1, 1, 1, 1, 1, 1, 1, 1, 1, 1, 1, 1, 1, 1, 1, 1, 1, 1, 1, 1, 1, 1, 1, 1], [1, 1, 1, 1, 1, 1, 1, 1, 1, 1, 1, 1, 1, 1, 1, 1, 1, 1, 1, 1, 1, 1, 1, 1, 1, 1, 1, 1], [1, 1, 1, 1, 1, 1, 1, 1, 1, 1, 1, 1, 1, 1, 1, 1, 1, 1, 1, 1, 1, 1, 1, 1, 1, 1, 1, 1, 1, 1], [1, 1, 1, 1, 1, 1, 1, 1, 1, 1, 1, 1, 1, 1, 1, 1, 1, 1, 1, 1, 1, 1, 1, 1, 1, 1, 1, 1, 1, 1, 1, 1, 1, 1, 1], [1, 1, 1, 1, 1, 1, 1, 1, 1, 1, 1, 1, 1, 1, 1, 1, 1, 1, 1, 1, 1, 1, 1, 1, 1, 1, 1, 1, 1], [1, 1, 1, 1, 1, 1, 1, 1, 1, 1, 1, 1, 1, 1, 1, 1, 1, 1, 1, 1, 1, 1, 1, 1, 1, 1, 1, 1, 1, 1, 1, 1, 1, 1, 1, 1, 1, 1, 1], [1, 1, 1, 1, 1, 1, 1, 1, 1, 1, 1, 1, 1, 1, 1, 1, 1, 1, 1, 1, 1, 1, 1, 1, 1, 1, 1, 1, 1, 1, 1, 1, 1, 1, 1], [1, 1, 1, 1, 1, 1, 1, 1, 1, 1, 1, 1, 1, 1, 1, 1, 1, 1, 1, 1, 1, 1, 1, 1, 1, 1, 1, 1, 1, 1, 1, 1, 1, 1, 1, 1, 1, 1], [1, 1, 1, 1, 1, 1, 1, 1, 1, 1, 1, 1, 1, 1, 1, 1, 1, 1, 1, 1, 1, 1, 1, 1, 1, 1, 1, 1, 1], [1, 1, 1, 1, 1, 1, 1, 1, 1, 1, 1, 1, 1, 1, 1, 1, 1, 1, 1, 1, 1, 1, 1, 1, 1, 1, 1, 1, 1, 1, 1, 1, 1, 1, 1, 1, 1], [1, 1, 1, 1, 1, 1, 1, 1, 1, 1, 1, 1, 1, 1, 1, 1, 1, 1, 1, 1, 1, 1, 1, 1, 1, 1, 1, 1, 1, 1, 1, 1, 1, 1], [1, 1, 1, 1, 1, 1, 1, 1, 1, 1, 1, 1, 1, 1, 1, 1, 1, 1, 1, 1, 1, 1, 1, 1, 1, 1, 1, 1, 1, 1, 1, 1, 1, 1], [1, 1, 1, 1, 1, 1, 1, 1, 1, 1, 1, 1, 1, 1, 1, 1], [1, 1, 1, 1, 1, 1, 1, 1, 1, 1, 1, 1, 1, 1, 1, 1, 1, 1, 1, 1, 1, 1, 1, 1, 1, 1, 1, 1, 1, 1, 1, 1], [1, 1, 1, 1, 1, 1, 1, 1, 1, 1, 1, 1, 1, 1, 1, 1, 1, 1, 1, 1, 1, 1, 1, 1, 1, 1, 1, 1, 1], [1, 1, 1, 1, 1, 1, 1, 1, 1, 1, 1, 1, 1, 1, 1, 1, 1, 1, 1, 1, 1, 1, 1, 1, 1, 1, 1, 1, 1, 1, 1, 1, 1, 1], [1, 1, 1, 1, 1, 1, 1, 1, 1, 1, 1, 1, 1, 1, 1, 1, 1, 1, 1, 1, 1, 1, 1, 1, 1, 1, 1, 1, 1, 1, 1, 1, 1], [1, 1, 1, 1, 1, 1, 1, 1, 1, 1, 1, 1, 1, 1, 1, 1, 1, 1, 1, 1, 1, 1, 1, 1, 1, 1, 1, 1, 1, 1, 1, 1, 1, 1, 1, 1, 1, 1, 1, 1], [1, 1, 1, 1, 1, 1, 1, 1, 1, 1, 1, 1, 1, 1, 1, 1, 1, 1, 1, 1, 1, 1, 1, 1, 1, 1], [1, 1, 1, 1, 1, 1, 1, 1, 1, 1, 1, 1, 1, 1, 1, 1, 1, 1, 1, 1, 1, 1, 1, 1, 1, 1, 1, 1, 1, 1, 1, 1, 1, 1, 1, 1, 1, 1, 1, 1, 1, 1, 1], [1, 1, 1, 1, 1, 1, 1, 1, 1, 1, 1, 1, 1, 1, 1, 1, 1, 1, 1, 1, 1, 1, 1, 1, 1, 1, 1, 1, 1, 1, 1], [1, 1, 1, 1, 1, 1, 1, 1, 1, 1, 1, 1, 1, 1, 1, 1, 1, 1, 1, 1, 1, 1, 1, 1, 1, 1, 1], [1, 1, 1, 1, 1, 1, 1, 1, 1, 1, 1, 1, 1, 1, 1, 1, 1, 1, 1, 1, 1, 1, 1, 1, 1, 1, 1, 1, 1, 1, 1], [1, 1, 1, 1, 1, 1, 1, 1, 1, 1, 1, 1, 1, 1, 1, 1, 1, 1, 1, 1, 1, 1, 1, 1, 1, 1, 1, 1, 1, 1, 1, 1, 1, 1], [1, 1, 1, 1, 1, 1, 1, 1, 1, 1, 1, 1, 1, 1, 1, 1, 1, 1, 1, 1, 1, 1, 1, 1, 1, 1, 1, 1, 1, 1], [1, 1, 1, 1, 1, 1, 1, 1, 1, 1, 1, 1, 1, 1, 1, 1, 1, 1, 1, 1, 1, 1], [1, 1, 1, 1, 1, 1, 1, 1, 1, 1, 1, 1, 1, 1, 1, 1, 1, 1, 1, 1, 1, 1, 1, 1, 1, 1, 1, 1, 1, 1, 1, 1], [1, 1, 1, 1, 1, 1, 1, 1, 1, 1, 1, 1, 1, 1, 1, 1, 1, 1, 1, 1, 1, 1, 1, 1, 1, 1, 1, 1, 1, 1, 1, 1, 1, 1, 1, 1, 1, 1, 1, 1, 1, 1, 1], [1, 1, 1, 1, 1, 1, 1, 1, 1, 1, 1, 1, 1, 1, 1, 1, 1, 1, 1, 1, 1, 1, 1, 1, 1, 1, 1, 1, 1, 1, 1, 1, 1, 1, 1, 1, 1, 1], [1, 1, 1, 1, 1, 1, 1, 1, 1, 1, 1, 1, 1, 1, 1, 1, 1, 1, 1, 1, 1, 1, 1, 1, 1, 1, 1, 1], [1, 1, 1, 1, 1, 1, 1, 1, 1, 1, 1, 1, 1, 1, 1, 1, 1, 1, 1, 1, 1, 1, 1, 1, 1, 1, 1, 1, 1, 1, 1, 1], [1, 1, 1, 1, 1, 1, 1, 1, 1, 1, 1, 1, 1, 1, 1, 1, 1, 1, 1, 1, 1, 1, 1, 1, 1, 1, 1, 1], [1, 1, 1, 1, 1, 1, 1, 1, 1, 1, 1, 1, 1, 1, 1, 1, 1, 1, 1, 1, 1, 1, 1, 1, 1], [1, 1, 1, 1, 1, 1, 1, 1, 1, 1, 1, 1, 1, 1, 1, 1, 1, 1, 1], [1, 1, 1, 1, 1, 1, 1, 1, 1, 1, 1, 1, 1, 1, 1, 1, 1, 1, 1, 1, 1, 1, 1, 1, 1, 1, 1, 1, 1, 1, 1], [1, 1, 1, 1, 1, 1, 1, 1, 1, 1, 1, 1, 1, 1, 1, 1, 1, 1, 1, 1, 1, 1, 1, 1, 1, 1, 1, 1, 1], [1, 1, 1, 1, 1, 1, 1, 1, 1, 1, 1, 1, 1, 1, 1, 1, 1, 1, 1], [1, 1, 1, 1, 1, 1, 1, 1, 1, 1, 1, 1, 1, 1, 1, 1, 1, 1, 1, 1, 1, 1], [1, 1, 1, 1, 1, 1, 1, 1, 1, 1, 1, 1, 1, 1, 1, 1, 1, 1, 1, 1, 1, 1, 1, 1, 1, 1, 1, 1], [1, 1, 1, 1, 1, 1, 1, 1, 1, 1, 1, 1, 1, 1, 1, 1, 1, 1, 1, 1, 1, 1, 1, 1, 1, 1, 1, 1, 1, 1, 1], [1, 1, 1, 1, 1, 1, 1, 1, 1, 1, 1, 1, 1, 1, 1, 1, 1, 1, 1, 1, 1, 1, 1, 1], [1, 1, 1, 1, 1, 1, 1, 1, 1, 1, 1, 1, 1, 1, 1, 1, 1, 1, 1, 1, 1, 1, 1, 1, 1, 1, 1, 1, 1, 1, 1, 1, 1, 1, 1, 1, 1, 1, 1], [1, 1, 1, 1, 1, 1, 1, 1, 1, 1, 1, 1, 1, 1, 1, 1, 1, 1, 1, 1, 1, 1, 1, 1, 1, 1], [1, 1, 1, 1, 1, 1, 1, 1, 1, 1, 1, 1, 1, 1, 1, 1, 1, 1, 1, 1, 1, 1, 1, 1, 1, 1, 1, 1, 1, 1, 1, 1, 1, 1, 1, 1], [1, 1, 1, 1, 1, 1, 1, 1, 1, 1, 1, 1, 1, 1, 1, 1, 1, 1, 1, 1, 1], [1, 1, 1, 1, 1, 1, 1, 1, 1, 1, 1, 1, 1, 1, 1, 1, 1, 1, 1, 1, 1, 1, 1, 1, 1, 1, 1, 1, 1, 1, 1, 1, 1], [1, 1, 1, 1, 1, 1, 1, 1, 1, 1, 1, 1, 1, 1, 1, 1, 1, 1, 1, 1, 1, 1, 1, 1, 1, 1, 1, 1, 1, 1, 1, 1, 1], [1, 1, 1, 1, 1, 1, 1, 1, 1, 1, 1, 1, 1, 1, 1, 1, 1, 1, 1, 1, 1, 1, 1, 1, 1, 1, 1, 1, 1, 1, 1, 1, 1, 1, 1], [1, 1, 1, 1, 1, 1, 1, 1, 1, 1, 1, 1, 1, 1, 1, 1, 1, 1, 1, 1, 1, 1, 1, 1, 1, 1, 1, 1, 1, 1, 1, 1, 1, 1, 1, 1, 1], [1, 1, 1, 1, 1, 1, 1, 1, 1, 1, 1, 1, 1, 1, 1, 1, 1, 1, 1, 1, 1, 1, 1, 1, 1, 1, 1, 1, 1, 1, 1, 1, 1, 1], [1, 1, 1, 1, 1, 1, 1, 1, 1, 1, 1, 1, 1, 1, 1, 1, 1, 1, 1, 1, 1, 1, 1, 1, 1, 1, 1, 1, 1, 1, 1, 1, 1, 1, 1, 1, 1, 1, 1, 1], [1, 1, 1, 1, 1, 1, 1, 1, 1, 1, 1, 1, 1, 1, 1, 1, 1, 1], [1, 1, 1, 1, 1, 1, 1, 1, 1, 1, 1, 1, 1, 1, 1, 1, 1, 1, 1, 1, 1, 1, 1, 1, 1, 1, 1, 1, 1, 1, 1, 1, 1], [1, 1, 1, 1, 1, 1, 1, 1, 1, 1, 1, 1, 1, 1, 1, 1, 1, 1, 1, 1, 1, 1, 1, 1, 1, 1, 1, 1, 1, 1, 1, 1, 1], [1, 1, 1, 1, 1, 1, 1, 1, 1, 1, 1, 1, 1, 1, 1, 1, 1, 1, 1, 1, 1, 1, 1, 1, 1, 1, 1, 1, 1, 1], [1, 1, 1, 1, 1, 1, 1, 1, 1, 1, 1, 1, 1, 1, 1, 1, 1, 1, 1, 1, 1, 1], [1, 1, 1, 1, 1, 1, 1, 1, 1, 1, 1, 1, 1, 1, 1, 1, 1, 1, 1, 1, 1, 1, 1, 1], [1, 1, 1, 1, 1, 1, 1, 1, 1, 1, 1, 1, 1, 1, 1, 1, 1, 1, 1, 1, 1, 1, 1, 1, 1, 1, 1, 1, 1, 1, 1, 1, 1], [1, 1, 1, 1, 1, 1, 1, 1, 1, 1, 1, 1, 1, 1, 1, 1, 1, 1, 1, 1, 1, 1, 1, 1], [1, 1, 1, 1, 1, 1, 1, 1, 1, 1, 1, 1, 1, 1, 1, 1, 1, 1, 1, 1, 1, 1, 1, 1, 1, 1, 1, 1], [1, 1, 1, 1, 1, 1, 1, 1, 1, 1, 1, 1, 1, 1, 1, 1, 1, 1, 1, 1, 1, 1, 1, 1, 1, 1, 1, 1, 1, 1, 1], [1, 1, 1, 1, 1, 1, 1, 1, 1, 1, 1, 1, 1, 1, 1, 1, 1, 1, 1, 1, 1, 1, 1, 1, 1, 1, 1, 1, 1, 1, 1, 1], [1, 1, 1, 1, 1, 1, 1, 1, 1, 1, 1, 1, 1, 1, 1, 1, 1, 1, 1, 1, 1, 1, 1, 1, 1, 1, 1, 1, 1], [1, 1, 1, 1, 1, 1, 1, 1, 1, 1, 1, 1, 1, 1, 1, 1, 1, 1, 1, 1, 1, 1], [1, 1, 1, 1, 1, 1, 1, 1, 1, 1, 1, 1, 1, 1, 1, 1, 1, 1, 1, 1, 1, 1, 1, 1, 1, 1, 1, 1, 1, 1, 1, 1, 1, 1, 1, 1, 1], [1, 1, 1, 1, 1, 1, 1, 1, 1, 1, 1, 1, 1, 1, 1, 1, 1, 1, 1, 1, 1, 1, 1, 1, 1, 1, 1, 1, 1, 1, 1, 1, 1, 1, 1, 1, 1], [1, 1, 1, 1, 1, 1, 1, 1, 1, 1, 1, 1, 1, 1, 1, 1, 1, 1, 1, 1, 1, 1, 1, 1, 1, 1, 1, 1, 1, 1, 1, 1, 1, 1], [1, 1, 1, 1, 1, 1, 1, 1, 1, 1, 1, 1, 1, 1, 1, 1, 1, 1, 1, 1, 1, 1, 1, 1, 1, 1, 1, 1, 1, 1, 1], [1, 1, 1, 1, 1, 1, 1, 1, 1, 1, 1, 1, 1, 1, 1, 1, 1, 1, 1, 1, 1, 1, 1, 1, 1, 1, 1, 1, 1, 1, 1, 1, 1, 1, 1, 1], [1, 1, 1, 1, 1, 1, 1, 1, 1, 1, 1, 1, 1, 1, 1, 1, 1], [1, 1, 1, 1, 1, 1, 1, 1, 1, 1, 1, 1, 1, 1, 1, 1, 1, 1, 1, 1, 1, 1, 1, 1, 1, 1, 1, 1, 1, 1, 1, 1, 1], [1, 1, 1, 1, 1, 1, 1, 1, 1, 1, 1, 1, 1, 1, 1, 1, 1, 1, 1, 1, 1, 1, 1, 1, 1, 1, 1, 1, 1, 1, 1, 1, 1, 1, 1, 1, 1, 1, 1, 1, 1, 1, 1, 1], [1, 1, 1, 1, 1, 1, 1, 1, 1, 1, 1, 1, 1, 1, 1, 1, 1, 1, 1, 1, 1, 1, 1, 1, 1, 1, 1, 1, 1, 1, 1, 1, 1, 1], [1, 1, 1, 1, 1, 1, 1, 1, 1, 1, 1, 1, 1, 1, 1, 1, 1, 1, 1, 1, 1, 1, 1, 1, 1, 1, 1, 1, 1, 1, 1, 1, 1, 1], [1, 1, 1, 1, 1, 1, 1, 1, 1, 1, 1, 1, 1, 1, 1, 1, 1, 1, 1, 1, 1, 1, 1, 1, 1, 1, 1, 1, 1, 1, 1, 1, 1], [1, 1, 1, 1, 1, 1, 1, 1, 1, 1, 1, 1, 1, 1, 1, 1, 1, 1, 1, 1, 1, 1, 1, 1, 1, 1], [1, 1, 1, 1, 1, 1, 1, 1, 1, 1, 1, 1, 1, 1, 1, 1, 1, 1, 1, 1, 1, 1, 1, 1, 1, 1, 1, 1, 1, 1, 1, 1, 1], [1, 1, 1, 1, 1, 1, 1, 1, 1, 1, 1, 1, 1, 1, 1, 1, 1, 1, 1, 1, 1], [1, 1, 1, 1, 1, 1, 1, 1, 1, 1, 1, 1, 1, 1, 1, 1, 1, 1, 1, 1, 1, 1, 1, 1, 1, 1, 1, 1, 1, 1, 1, 1, 1, 1, 1, 1, 1, 1, 1], [1, 1, 1, 1, 1, 1, 1, 1, 1, 1, 1, 1, 1, 1, 1, 1, 1, 1, 1, 1, 1, 1, 1, 1, 1, 1, 1, 1, 1, 1, 1, 1], [1, 1, 1, 1, 1, 1, 1, 1, 1, 1, 1, 1, 1, 1, 1, 1, 1, 1, 1, 1, 1, 1, 1, 1, 1, 1, 1, 1, 1, 1, 1], [1, 1, 1, 1, 1, 1, 1, 1, 1, 1, 1, 1, 1, 1, 1, 1, 1, 1, 1, 1, 1, 1, 1, 1, 1, 1, 1, 1, 1, 1, 1, 1, 1, 1, 1, 1], [1, 1, 1, 1, 1, 1, 1, 1, 1, 1, 1, 1, 1, 1, 1, 1, 1, 1, 1, 1, 1, 1, 1, 1, 1, 1, 1, 1, 1, 1, 1], [1, 1, 1, 1, 1, 1, 1, 1, 1, 1, 1, 1, 1, 1, 1, 1, 1, 1, 1, 1, 1, 1, 1, 1, 1, 1, 1, 1, 1, 1, 1, 1, 1, 1], [1, 1, 1, 1, 1, 1, 1, 1, 1, 1, 1, 1, 1, 1, 1, 1, 1, 1, 1, 1, 1, 1, 1, 1, 1, 1, 1, 1, 1, 1, 1, 1, 1], [1, 1, 1, 1, 1, 1, 1, 1, 1, 1, 1, 1, 1, 1, 1, 1, 1, 1, 1, 1, 1, 1, 1, 1, 1, 1, 1, 1, 1, 1], [1, 1, 1, 1, 1, 1, 1, 1, 1, 1, 1, 1, 1, 1, 1, 1, 1, 1, 1, 1, 1, 1, 1, 1, 1], [1, 1, 1, 1, 1, 1, 1, 1, 1, 1, 1, 1, 1, 1, 1, 1, 1, 1, 1, 1, 1, 1, 1, 1, 1], [1, 1, 1, 1, 1, 1, 1, 1, 1, 1, 1, 1, 1, 1, 1, 1, 1, 1, 1, 1, 1, 1, 1, 1, 1, 1, 1, 1, 1, 1, 1, 1], [1, 1, 1, 1, 1, 1, 1, 1, 1, 1, 1, 1, 1, 1, 1, 1, 1, 1, 1, 1, 1, 1, 1, 1, 1, 1, 1, 1, 1, 1, 1, 1, 1, 1, 1, 1], [1, 1, 1, 1, 1, 1, 1, 1, 1, 1, 1, 1, 1, 1, 1, 1], [1, 1, 1, 1, 1, 1, 1, 1, 1, 1, 1, 1, 1, 1, 1, 1, 1, 1, 1, 1, 1, 1, 1, 1, 1, 1, 1, 1, 1, 1, 1, 1, 1], [1, 1, 1, 1, 1, 1, 1, 1, 1, 1, 1, 1, 1, 1, 1, 1, 1, 1, 1, 1, 1, 1, 1, 1, 1, 1, 1, 1, 1], [1, 1, 1, 1, 1, 1, 1, 1, 1, 1, 1, 1, 1, 1, 1, 1, 1, 1, 1, 1, 1, 1, 1, 1, 1, 1, 1, 1, 1, 1, 1, 1], [1, 1, 1, 1, 1, 1, 1, 1, 1, 1, 1, 1, 1, 1, 1, 1, 1, 1, 1, 1, 1, 1, 1], [1, 1, 1, 1, 1, 1, 1, 1, 1, 1, 1, 1, 1, 1, 1, 1, 1, 1, 1, 1], [1, 1, 1, 1, 1, 1, 1, 1, 1, 1, 1, 1, 1, 1, 1, 1, 1, 1, 1, 1, 1, 1, 1, 1, 1, 1, 1, 1, 1, 1, 1, 1, 1, 1, 1, 1, 1], [1, 1, 1, 1, 1, 1, 1, 1, 1, 1, 1, 1, 1, 1, 1, 1, 1, 1, 1], [1, 1, 1, 1, 1, 1, 1, 1, 1, 1, 1, 1, 1, 1, 1, 1, 1, 1, 1, 1, 1, 1, 1, 1], [1, 1, 1, 1, 1, 1, 1, 1, 1, 1, 1, 1, 1, 1, 1, 1, 1, 1, 1, 1, 1, 1], [1, 1, 1, 1, 1, 1, 1, 1, 1, 1, 1, 1, 1, 1, 1, 1, 1, 1, 1, 1, 1, 1, 1, 1, 1, 1, 1, 1, 1, 1, 1, 1, 1, 1, 1, 1, 1], [1, 1, 1, 1, 1, 1, 1, 1, 1, 1, 1, 1, 1, 1, 1, 1, 1, 1, 1, 1, 1, 1, 1, 1, 1, 1, 1, 1, 1, 1, 1], [1, 1, 1, 1, 1, 1, 1, 1, 1, 1, 1, 1, 1, 1, 1, 1, 1, 1, 1, 1, 1, 1, 1, 1, 1, 1, 1, 1, 1, 1, 1, 1, 1, 1, 1, 1, 1, 1, 1, 1, 1, 1], [1, 1, 1, 1, 1, 1, 1, 1, 1, 1, 1, 1, 1, 1, 1, 1, 1, 1, 1, 1, 1, 1, 1, 1, 1, 1, 1, 1, 1, 1], [1, 1, 1, 1, 1, 1, 1, 1, 1, 1, 1, 1, 1, 1, 1, 1, 1, 1, 1, 1, 1, 1, 1, 1, 1, 1, 1, 1, 1, 1, 1, 1], [1, 1, 1, 1, 1, 1, 1, 1, 1, 1, 1, 1, 1, 1, 1, 1, 1, 1, 1, 1, 1, 1, 1, 1, 1, 1, 1, 1, 1, 1, 1, 1], [1, 1, 1, 1, 1, 1, 1, 1, 1, 1, 1, 1, 1, 1, 1, 1, 1, 1, 1, 1, 1, 1, 1, 1, 1, 1, 1, 1], [1, 1, 1, 1, 1, 1, 1, 1, 1, 1, 1, 1, 1, 1, 1, 1, 1, 1, 1, 1, 1, 1, 1, 1, 1], [1, 1, 1, 1, 1, 1, 1, 1, 1, 1, 1, 1, 1, 1, 1, 1, 1, 1, 1, 1, 1, 1, 1, 1, 1], [1, 1, 1, 1, 1, 1, 1, 1, 1, 1, 1, 1, 1, 1, 1, 1, 1, 1, 1], [1, 1, 1, 1, 1, 1, 1, 1, 1, 1, 1, 1, 1, 1, 1, 1, 1, 1, 1, 1, 1, 1, 1, 1, 1, 1, 1, 1, 1, 1, 1, 1, 1, 1, 1, 1], [1, 1, 1, 1, 1, 1, 1, 1, 1, 1, 1, 1, 1, 1, 1, 1, 1, 1, 1, 1, 1, 1, 1, 1, 1, 1, 1, 1, 1, 1, 1, 1], [1, 1, 1, 1, 1, 1, 1, 1, 1, 1, 1, 1, 1, 1, 1, 1, 1, 1, 1, 1, 1, 1, 1, 1, 1, 1], [1, 1, 1, 1, 1, 1, 1, 1, 1, 1, 1, 1, 1, 1, 1, 1, 1, 1, 1, 1, 1, 1, 1, 1, 1, 1, 1, 1, 1, 1, 1, 1, 1, 1, 1, 1], [1, 1, 1, 1, 1, 1, 1, 1, 1, 1, 1, 1, 1, 1, 1, 1, 1, 1, 1, 1, 1, 1, 1, 1, 1, 1, 1, 1], [1, 1, 1, 1, 1, 1, 1, 1, 1, 1, 1, 1, 1, 1, 1, 1, 1, 1, 1, 1, 1, 1, 1, 1, 1, 1, 1, 1, 1, 1, 1, 1, 1], [1, 1, 1, 1, 1, 1, 1, 1, 1, 1, 1, 1, 1, 1, 1, 1, 1, 1, 1, 1, 1, 1, 1, 1, 1, 1, 1, 1], [1, 1, 1, 1, 1, 1, 1, 1, 1, 1, 1, 1, 1, 1, 1, 1], [1, 1, 1, 1, 1, 1, 1, 1, 1, 1, 1, 1, 1, 1, 1, 1, 1, 1, 1, 1, 1, 1, 1, 1, 1, 1, 1, 1, 1, 1, 1, 1, 1, 1, 1], [1, 1, 1, 1, 1, 1, 1, 1, 1, 1, 1, 1, 1, 1, 1, 1, 1, 1, 1, 1, 1, 1], [1, 1, 1, 1, 1, 1, 1, 1, 1, 1, 1, 1, 1, 1, 1, 1, 1, 1, 1, 1, 1, 1, 1, 1, 1, 1, 1, 1, 1, 1, 1, 1], [1, 1, 1, 1, 1, 1, 1, 1, 1, 1, 1, 1, 1, 1, 1, 1, 1, 1, 1, 1, 1, 1, 1], [1, 1, 1, 1, 1, 1, 1, 1, 1, 1, 1, 1, 1, 1, 1, 1, 1, 1, 1, 1], [1, 1, 1, 1, 1, 1, 1, 1, 1, 1, 1, 1, 1, 1, 1, 1, 1, 1, 1, 1, 1, 1, 1, 1, 1, 1], [1, 1, 1, 1, 1, 1, 1, 1, 1, 1, 1, 1, 1, 1, 1, 1, 1, 1, 1, 1, 1, 1, 1, 1, 1, 1, 1, 1, 1, 1, 1, 1], [1, 1, 1, 1, 1, 1, 1, 1, 1, 1, 1, 1, 1, 1, 1, 1, 1, 1, 1, 1, 1, 1, 1, 1, 1, 1, 1, 1, 1, 1, 1, 1, 1, 1, 1, 1, 1, 1], [1, 1, 1, 1, 1, 1, 1, 1, 1, 1, 1, 1, 1, 1, 1, 1, 1, 1, 1, 1, 1, 1, 1, 1, 1, 1, 1, 1, 1, 1, 1, 1, 1, 1, 1, 1], [1, 1, 1, 1, 1, 1, 1, 1, 1, 1, 1, 1, 1, 1, 1, 1, 1, 1, 1, 1, 1, 1, 1], [1, 1, 1, 1, 1, 1, 1, 1, 1, 1, 1, 1, 1, 1, 1, 1, 1, 1, 1, 1, 1, 1, 1, 1, 1, 1, 1, 1, 1, 1, 1, 1], [1, 1, 1, 1, 1, 1, 1, 1, 1, 1, 1, 1, 1, 1, 1, 1, 1, 1, 1, 1, 1, 1], [1, 1, 1, 1, 1, 1, 1, 1, 1, 1, 1, 1, 1, 1, 1, 1, 1, 1, 1, 1, 1, 1, 1], [1, 1, 1, 1, 1, 1, 1, 1, 1, 1, 1, 1, 1, 1, 1, 1, 1, 1, 1, 1, 1, 1, 1, 1, 1, 1, 1, 1], [1, 1, 1, 1, 1, 1, 1, 1, 1, 1, 1, 1, 1, 1, 1, 1, 1, 1, 1, 1, 1, 1, 1, 1, 1, 1, 1, 1, 1], [1, 1, 1, 1, 1, 1, 1, 1, 1, 1, 1, 1, 1, 1, 1, 1, 1, 1, 1, 1, 1, 1, 1, 1, 1, 1, 1, 1, 1, 1, 1, 1, 1, 1, 1, 1, 1], [1, 1, 1, 1, 1, 1, 1, 1, 1, 1, 1, 1, 1, 1, 1, 1, 1, 1, 1, 1, 1, 1, 1, 1, 1, 1, 1, 1, 1, 1, 1, 1, 1, 1, 1, 1], [1, 1, 1, 1, 1, 1, 1, 1, 1, 1, 1, 1, 1, 1, 1, 1, 1, 1, 1, 1, 1, 1, 1, 1, 1, 1, 1, 1, 1, 1, 1, 1, 1, 1, 1, 1, 1], [1, 1, 1, 1, 1, 1, 1, 1, 1, 1, 1, 1, 1, 1, 1, 1, 1, 1, 1, 1, 1, 1, 1, 1, 1, 1, 1, 1, 1, 1, 1, 1, 1, 1, 1, 1], [1, 1, 1, 1, 1, 1, 1, 1, 1, 1, 1, 1, 1, 1, 1, 1, 1, 1, 1, 1, 1, 1, 1, 1, 1, 1, 1, 1, 1, 1, 1, 1, 1, 1, 1, 1, 1, 1, 1, 1, 1], [1, 1, 1, 1, 1, 1, 1, 1, 1, 1, 1, 1, 1, 1, 1, 1, 1, 1, 1, 1, 1, 1, 1, 1, 1, 1, 1, 1, 1, 1], [1, 1, 1, 1, 1, 1, 1, 1, 1, 1, 1, 1, 1, 1, 1, 1, 1, 1, 1, 1, 1, 1, 1, 1, 1, 1, 1, 1, 1, 1, 1, 1], [1, 1, 1, 1, 1, 1, 1, 1, 1, 1, 1, 1, 1, 1, 1, 1, 1, 1, 1, 1, 1, 1, 1, 1, 1, 1, 1, 1, 1, 1], [1, 1, 1, 1, 1, 1, 1, 1, 1, 1, 1, 1, 1, 1, 1, 1, 1, 1, 1, 1, 1, 1, 1, 1, 1, 1, 1, 1, 1, 1, 1], [1, 1, 1, 1, 1, 1, 1, 1, 1, 1, 1, 1, 1, 1, 1, 1, 1, 1, 1], [1, 1, 1, 1, 1, 1, 1, 1, 1, 1, 1, 1, 1, 1, 1, 1, 1, 1, 1, 1], [1, 1, 1, 1, 1, 1, 1, 1, 1, 1, 1, 1, 1, 1, 1, 1, 1, 1, 1, 1, 1, 1, 1, 1, 1, 1, 1, 1, 1, 1, 1, 1, 1], [1, 1, 1, 1, 1, 1, 1, 1, 1, 1, 1, 1, 1, 1, 1, 1, 1, 1, 1, 1, 1, 1, 1, 1, 1, 1, 1, 1, 1, 1, 1, 1, 1, 1, 1, 1, 1, 1, 1, 1], [1, 1, 1, 1, 1, 1, 1, 1, 1, 1, 1, 1, 1, 1, 1, 1, 1, 1, 1, 1, 1, 1, 1, 1, 1, 1, 1, 1, 1, 1, 1, 1, 1], [1, 1, 1, 1, 1, 1, 1, 1, 1, 1, 1, 1, 1, 1, 1, 1, 1, 1, 1, 1, 1, 1, 1, 1, 1, 1, 1, 1, 1, 1, 1, 1], [1, 1, 1, 1, 1, 1, 1, 1, 1, 1, 1, 1, 1, 1, 1, 1, 1], [1, 1, 1, 1, 1, 1, 1, 1, 1, 1, 1, 1, 1, 1, 1, 1, 1, 1, 1, 1, 1, 1, 1, 1, 1, 1, 1, 1, 1, 1, 1, 1, 1, 1, 1, 1, 1], [1, 1, 1, 1, 1, 1, 1, 1, 1, 1, 1, 1, 1, 1, 1, 1, 1, 1, 1, 1, 1, 1, 1, 1, 1, 1], [1, 1, 1, 1, 1, 1, 1, 1, 1, 1, 1, 1, 1, 1, 1, 1, 1, 1, 1, 1, 1, 1, 1, 1, 1, 1, 1, 1], [1, 1, 1, 1, 1, 1, 1, 1, 1, 1, 1, 1, 1, 1, 1, 1, 1, 1, 1, 1, 1, 1, 1, 1, 1], [1, 1, 1, 1, 1, 1, 1, 1, 1, 1, 1, 1, 1, 1, 1, 1, 1, 1, 1, 1, 1, 1, 1, 1, 1, 1, 1, 1, 1, 1, 1, 1, 1], [1, 1, 1, 1, 1, 1, 1, 1, 1, 1, 1, 1, 1, 1, 1, 1, 1, 1, 1, 1, 1, 1, 1, 1, 1, 1, 1, 1], [1, 1, 1, 1, 1, 1, 1, 1, 1, 1, 1, 1, 1, 1, 1, 1, 1, 1, 1, 1, 1, 1, 1, 1, 1, 1, 1, 1, 1, 1, 1, 1, 1, 1, 1, 1, 1], [1, 1, 1, 1, 1, 1, 1, 1, 1, 1, 1, 1, 1, 1, 1, 1, 1, 1, 1, 1, 1, 1, 1, 1, 1, 1, 1, 1], [1, 1, 1, 1, 1, 1, 1, 1, 1, 1, 1, 1, 1, 1, 1, 1, 1, 1, 1, 1, 1, 1, 1, 1], [1, 1, 1, 1, 1, 1, 1, 1, 1, 1, 1, 1, 1, 1, 1, 1, 1, 1, 1, 1, 1, 1, 1, 1, 1, 1, 1, 1, 1, 1, 1, 1, 1, 1, 1], [1, 1, 1, 1, 1, 1, 1, 1, 1, 1, 1, 1, 1, 1, 1, 1, 1], [1, 1, 1, 1, 1, 1, 1, 1, 1, 1, 1, 1, 1, 1, 1, 1, 1, 1, 1, 1, 1, 1, 1, 1, 1, 1, 1, 1], [1, 1, 1, 1, 1, 1, 1, 1, 1, 1, 1, 1, 1, 1, 1, 1, 1, 1, 1, 1, 1, 1, 1, 1, 1, 1, 1], [1, 1, 1, 1, 1, 1, 1, 1, 1, 1, 1, 1, 1, 1, 1, 1, 1, 1, 1, 1, 1, 1, 1, 1, 1, 1, 1, 1, 1, 1, 1, 1, 1, 1, 1, 1, 1, 1, 1, 1, 1, 1], [1, 1, 1, 1, 1, 1, 1, 1, 1, 1, 1, 1, 1, 1, 1, 1, 1, 1, 1, 1, 1, 1, 1, 1, 1, 1, 1, 1, 1, 1, 1, 1, 1, 1], [1, 1, 1, 1, 1, 1, 1, 1, 1, 1, 1, 1, 1, 1, 1, 1, 1, 1, 1, 1, 1, 1, 1, 1, 1, 1, 1, 1, 1, 1, 1, 1, 1, 1, 1, 1, 1], [1, 1, 1, 1, 1, 1, 1, 1, 1, 1, 1, 1, 1, 1, 1, 1, 1, 1, 1, 1, 1, 1, 1, 1, 1, 1, 1, 1, 1], [1, 1, 1, 1, 1, 1, 1, 1, 1, 1, 1, 1, 1, 1, 1, 1, 1, 1, 1, 1, 1, 1, 1, 1, 1, 1, 1, 1, 1, 1, 1, 1, 1, 1, 1]]}"
      ]
     },
     "execution_count": 15,
     "metadata": {},
     "output_type": "execute_result"
    }
   ],
   "source": [
    "# Your Code Here\n",
    "train_messages=[str(x) for x in data.data['train'][0]]#355\n",
    "validation_messages=[str(x) for x in data.data['validation'][0]]#40\n",
    "test_messages=[str(x) for x in data.data['test'][0]]#169\n",
    "\n",
    "total_messgages=train_messages+validation_messages+test_messages\n",
    "\n",
    "total_messgages_token=tokenizer(total_messgages)\n",
    "\n",
    "total_messgages_token"
   ]
  },
  {
   "cell_type": "markdown",
   "metadata": {
    "id": "T_zKST1nA6bT"
   },
   "source": [
    "Create batched train, test, and validation datasets using `data_collator` to convert the data into TensorFlow tensors, and use a batch size of 8."
   ]
  },
  {
   "cell_type": "code",
   "execution_count": 16,
   "metadata": {
    "id": "ugOF-IcAw1U-"
   },
   "outputs": [
    {
     "data": {
      "application/vnd.jupyter.widget-view+json": {
       "model_id": "ac9fe981f4f946ef95f09bbf7170a3cf",
       "version_major": 2,
       "version_minor": 0
      },
      "text/plain": [
       "  0%|          | 0/1 [00:00<?, ?ba/s]"
      ]
     },
     "metadata": {},
     "output_type": "display_data"
    },
    {
     "data": {
      "application/vnd.jupyter.widget-view+json": {
       "model_id": "72f5d288626845f59bdee292f7d6979d",
       "version_major": 2,
       "version_minor": 0
      },
      "text/plain": [
       "  0%|          | 0/1 [00:00<?, ?ba/s]"
      ]
     },
     "metadata": {},
     "output_type": "display_data"
    },
    {
     "data": {
      "application/vnd.jupyter.widget-view+json": {
       "model_id": "de6e7cd8cf174eebbed888eda448a1bc",
       "version_major": 2,
       "version_minor": 0
      },
      "text/plain": [
       "  0%|          | 0/1 [00:00<?, ?ba/s]"
      ]
     },
     "metadata": {},
     "output_type": "display_data"
    },
    {
     "name": "stderr",
     "output_type": "stream",
     "text": [
      "You're using a DistilBertTokenizerFast tokenizer. Please note that with a fast tokenizer, using the `__call__` method is faster than using a method to encode the text followed by a call to the `pad` method to get a padded encoding.\n"
     ]
    }
   ],
   "source": [
    "# Your Code Here\n",
    "from transformers import DataCollatorWithPadding\n",
    "data_collator = DataCollatorWithPadding(tokenizer=tokenizer, return_tensors=\"tf\")\n",
    "\n",
    "def preprocess_function(examples):\n",
    "    return tokenizer(examples[\"text\"], truncation=True)\n",
    "\n",
    "tokenized_data=data.map(preprocess_function,batched=True)\n",
    "\n",
    "tf_train_set = tokenized_data[\"train\"].to_tf_dataset(\n",
    "    columns=[\"attention_mask\", \"input_ids\", \"label\"],\n",
    "    shuffle=True,\n",
    "    batch_size=8,\n",
    "    collate_fn=data_collator,\n",
    ")\n",
    "\n",
    "tf_validation_set = tokenized_data[\"validation\"].to_tf_dataset(\n",
    "    columns=[\"attention_mask\", \"input_ids\", \"label\"],\n",
    "    shuffle=True,\n",
    "    batch_size=8,\n",
    "    collate_fn=data_collator,\n",
    ")\n",
    "\n",
    "tf_test_set = tokenized_data[\"test\"].to_tf_dataset(\n",
    "    columns=[\"attention_mask\", \"input_ids\", \"label\"],\n",
    "    shuffle=True,\n",
    "    batch_size=8,\n",
    "    collate_fn=data_collator,\n",
    ")"
   ]
  },
  {
   "cell_type": "markdown",
   "metadata": {
    "id": "9VgkLldHBQlL"
   },
   "source": [
    "Define a new model named `model_1` by using a pretrained `\"distilbert-base-uncased\"`, and set the number of labels for the classification of the tweeter messages.\n",
    "\n",
    "Afterward, train the model for 3 epochs to make sure that it runs without errors. The training should take between 2 and 10 minutes."
   ]
  },
  {
   "cell_type": "code",
   "execution_count": 17,
   "metadata": {
    "id": "Pt6s0NHoxPse"
   },
   "outputs": [
    {
     "data": {
      "application/vnd.jupyter.widget-view+json": {
       "model_id": "c2e8be1f015f41148ed5a21e9dcd938e",
       "version_major": 2,
       "version_minor": 0
      },
      "text/plain": [
       "Downloading:   0%|          | 0.00/363M [00:00<?, ?B/s]"
      ]
     },
     "metadata": {},
     "output_type": "display_data"
    },
    {
     "name": "stderr",
     "output_type": "stream",
     "text": [
      "Some layers from the model checkpoint at distilbert-base-uncased were not used when initializing TFDistilBertForSequenceClassification: ['vocab_transform', 'vocab_projector', 'vocab_layer_norm', 'activation_13']\n",
      "- This IS expected if you are initializing TFDistilBertForSequenceClassification from the checkpoint of a model trained on another task or with another architecture (e.g. initializing a BertForSequenceClassification model from a BertForPreTraining model).\n",
      "- This IS NOT expected if you are initializing TFDistilBertForSequenceClassification from the checkpoint of a model that you expect to be exactly identical (initializing a BertForSequenceClassification model from a BertForSequenceClassification model).\n",
      "Some layers of TFDistilBertForSequenceClassification were not initialized from the model checkpoint at distilbert-base-uncased and are newly initialized: ['dropout_19', 'pre_classifier', 'classifier']\n",
      "You should probably TRAIN this model on a down-stream task to be able to use it for predictions and inference.\n",
      "No loss specified in compile() - the model's internal loss computation will be used as the loss. Don't panic - this is a common way to train TensorFlow models in Transformers! To disable this behaviour please pass a loss argument, or explicitly pass `loss=None` if you do not want your model to compute a loss.\n"
     ]
    },
    {
     "name": "stdout",
     "output_type": "stream",
     "text": [
      "Epoch 1/3\n",
      "45/45 [==============================] - 79s 2s/step - loss: 0.8567 - val_loss: 0.7146\n",
      "Epoch 2/3\n",
      "45/45 [==============================] - 67s 1s/step - loss: 0.6296 - val_loss: 0.5418\n",
      "Epoch 3/3\n",
      "45/45 [==============================] - 67s 1s/step - loss: 0.4758 - val_loss: 0.5174\n"
     ]
    },
    {
     "data": {
      "text/plain": [
       "<keras.callbacks.History at 0x1819b70ba90>"
      ]
     },
     "execution_count": 17,
     "metadata": {},
     "output_type": "execute_result"
    }
   ],
   "source": [
    "# Your Code Here\n",
    "from transformers import TFAutoModelForSequenceClassification\n",
    "from transformers import create_optimizer\n",
    "import tensorflow as tf\n",
    "batch_size = 8\n",
    "num_epochs = 3\n",
    "batches_per_epoch = len(tokenized_data[\"train\"]) // batch_size\n",
    "total_train_steps = int(batches_per_epoch * num_epochs)\n",
    "model_1 = TFAutoModelForSequenceClassification.from_pretrained(\"distilbert-base-uncased\", num_labels=3)\n",
    "\n",
    "optimizer, schedule = create_optimizer(init_lr=2e-5, num_warmup_steps=0, num_train_steps=total_train_steps)\n",
    "model_1.compile(optimizer=optimizer)\n",
    "model_1.fit(x=tf_train_set, validation_data=tf_validation_set, epochs=3)"
   ]
  },
  {
   "cell_type": "markdown",
   "metadata": {
    "id": "cm334-ZxB_zj"
   },
   "source": [
    "Evaluate the model on the test dataset."
   ]
  },
  {
   "cell_type": "markdown",
   "metadata": {
    "id": "x5CA4RR1Cja6"
   },
   "source": [
    "### Select a Model\n",
    "\n",
    "Create `model_2` and train it for longer than 3 epochs. Use callbacks or other hyperparameter tuning strategies. Expected result is accuracy greater than 80%."
   ]
  },
  {
   "cell_type": "code",
   "execution_count": 18,
   "metadata": {
    "id": "wLejMfHGBzua"
   },
   "outputs": [
    {
     "name": "stderr",
     "output_type": "stream",
     "text": [
      "Some layers from the model checkpoint at distilbert-base-uncased were not used when initializing TFDistilBertForSequenceClassification: ['vocab_transform', 'vocab_projector', 'vocab_layer_norm', 'activation_13']\n",
      "- This IS expected if you are initializing TFDistilBertForSequenceClassification from the checkpoint of a model trained on another task or with another architecture (e.g. initializing a BertForSequenceClassification model from a BertForPreTraining model).\n",
      "- This IS NOT expected if you are initializing TFDistilBertForSequenceClassification from the checkpoint of a model that you expect to be exactly identical (initializing a BertForSequenceClassification model from a BertForSequenceClassification model).\n",
      "Some layers of TFDistilBertForSequenceClassification were not initialized from the model checkpoint at distilbert-base-uncased and are newly initialized: ['pre_classifier', 'dropout_39', 'classifier']\n",
      "You should probably TRAIN this model on a down-stream task to be able to use it for predictions and inference.\n",
      "No loss specified in compile() - the model's internal loss computation will be used as the loss. Don't panic - this is a common way to train TensorFlow models in Transformers! To disable this behaviour please pass a loss argument, or explicitly pass `loss=None` if you do not want your model to compute a loss.\n"
     ]
    },
    {
     "name": "stdout",
     "output_type": "stream",
     "text": [
      "Epoch 1/3\n",
      "45/45 [==============================] - ETA: 0s - loss: 0.8375WARNING:tensorflow:Early stopping conditioned on metric `val_accuracy` which is not available. Available metrics are: loss,val_loss\n",
      "45/45 [==============================] - 74s 2s/step - loss: 0.8375 - val_loss: 0.6384\n",
      "Epoch 2/3\n",
      "45/45 [==============================] - ETA: 0s - loss: 0.5563WARNING:tensorflow:Early stopping conditioned on metric `val_accuracy` which is not available. Available metrics are: loss,val_loss\n",
      "45/45 [==============================] - 68s 2s/step - loss: 0.5563 - val_loss: 0.5463\n",
      "Epoch 3/3\n",
      "45/45 [==============================] - ETA: 0s - loss: 0.3314WARNING:tensorflow:Early stopping conditioned on metric `val_accuracy` which is not available. Available metrics are: loss,val_loss\n",
      "45/45 [==============================] - 66s 1s/step - loss: 0.3314 - val_loss: 0.4559\n"
     ]
    },
    {
     "data": {
      "text/plain": [
       "<keras.callbacks.History at 0x1819fd20518>"
      ]
     },
     "execution_count": 18,
     "metadata": {},
     "output_type": "execute_result"
    }
   ],
   "source": [
    "# Your Code Here\n",
    "earlystop_callback = tf.keras.callbacks.EarlyStopping(\n",
    "  monitor='val_accuracy', min_delta=0.0001,\n",
    "  patience=5)\n",
    "batch_size = 8\n",
    "num_epochs = 50\n",
    "batches_per_epoch = len(tokenized_data[\"train\"]) // batch_size\n",
    "total_train_steps = int(batches_per_epoch * num_epochs)\n",
    "model_2 = TFAutoModelForSequenceClassification.from_pretrained(\"distilbert-base-uncased\", num_labels=3)\n",
    "\n",
    "optimizer, schedule = create_optimizer(init_lr=2e-5, num_warmup_steps=0, num_train_steps=total_train_steps)\n",
    "model_2.compile(optimizer=optimizer)\n",
    "model_2.fit(x=tf_train_set, validation_data=tf_validation_set, epochs=3,callbacks=[earlystop_callback])"
   ]
  },
  {
   "cell_type": "markdown",
   "metadata": {
    "id": "uZ28In5ZDTNK"
   },
   "source": [
    "# 5. Predict on New Sentences\n",
    "\n",
    "Let's apply the trained model to the following 3 sentences. First use the tokenizer to convert the text setnences to sequences of tokes. Print the output tokens and check if the output seems correct."
   ]
  },
  {
   "cell_type": "code",
   "execution_count": 19,
   "metadata": {
    "id": "X4uNZPntDb9d"
   },
   "outputs": [],
   "source": [
    "sample = ['Training this model produced 10 grams of CO2', 'The quick brown fox jumps over the lazy dog', 'Global warming is a lie']"
   ]
  },
  {
   "cell_type": "code",
   "execution_count": 20,
   "metadata": {
    "id": "q_G6_DHAECUd"
   },
   "outputs": [
    {
     "data": {
      "text/plain": [
       "{'input_ids': [[101, 2731, 2023, 2944, 2550, 2184, 20372, 1997, 2522, 2475, 102], [101, 1996, 4248, 2829, 4419, 14523, 2058, 1996, 13971, 3899, 102], [101, 3795, 12959, 2003, 1037, 4682, 102]], 'attention_mask': [[1, 1, 1, 1, 1, 1, 1, 1, 1, 1, 1], [1, 1, 1, 1, 1, 1, 1, 1, 1, 1, 1], [1, 1, 1, 1, 1, 1, 1]]}"
      ]
     },
     "execution_count": 20,
     "metadata": {},
     "output_type": "execute_result"
    }
   ],
   "source": [
    "# Your Code Here\n",
    "output_tokens=tokenizer(sample)\n",
    "output_tokens"
   ]
  },
  {
   "cell_type": "markdown",
   "metadata": {
    "id": "FT-yazfpM-2b"
   },
   "source": [
    "Next, use the following lines to predict the class of the sentences."
   ]
  },
  {
   "cell_type": "code",
   "execution_count": 32,
   "metadata": {
    "id": "lcex2u3MECWk"
   },
   "outputs": [
    {
     "name": "stdout",
     "output_type": "stream",
     "text": [
      "Predicted class: [2]\n",
      "Predicted class: [0]\n",
      "Predicted class: [2]\n"
     ]
    }
   ],
   "source": [
    "import numpy as np\n",
    "for input_id in output_tokens.input_ids:\n",
    "    predictions = model_2.predict(input_id)[\"logits\"]\n",
    "    class_preds = np.argmax(predictions, axis=1)\n",
    "\n",
    "    print('Predicted class:', class_preds)"
   ]
  },
  {
   "cell_type": "code",
   "execution_count": null,
   "metadata": {},
   "outputs": [],
   "source": []
  }
 ],
 "metadata": {
  "accelerator": "GPU",
  "colab": {
   "authorship_tag": "ABX9TyM+ynNEMFTn0u9EDTY1cPFm",
   "collapsed_sections": [],
   "machine_shape": "hm",
   "provenance": []
  },
  "gpuClass": "standard",
  "kernelspec": {
   "display_name": "Python 3 (ipykernel)",
   "language": "python",
   "name": "python3"
  },
  "language_info": {
   "codemirror_mode": {
    "name": "ipython",
    "version": 3
   },
   "file_extension": ".py",
   "mimetype": "text/x-python",
   "name": "python",
   "nbconvert_exporter": "python",
   "pygments_lexer": "ipython3",
   "version": "3.7.0"
  },
  "widgets": {
   "application/vnd.jupyter.widget-state+json": {
    "3154ca33875e4992b67decdad671c6b6": {
     "model_module": "@jupyter-widgets/controls",
     "model_module_version": "1.5.0",
     "model_name": "DescriptionStyleModel",
     "state": {
      "_model_module": "@jupyter-widgets/controls",
      "_model_module_version": "1.5.0",
      "_model_name": "DescriptionStyleModel",
      "_view_count": null,
      "_view_module": "@jupyter-widgets/base",
      "_view_module_version": "1.2.0",
      "_view_name": "StyleView",
      "description_width": ""
     }
    },
    "44afbbc66b564848bb8682ebeebd162b": {
     "model_module": "@jupyter-widgets/base",
     "model_module_version": "1.2.0",
     "model_name": "LayoutModel",
     "state": {
      "_model_module": "@jupyter-widgets/base",
      "_model_module_version": "1.2.0",
      "_model_name": "LayoutModel",
      "_view_count": null,
      "_view_module": "@jupyter-widgets/base",
      "_view_module_version": "1.2.0",
      "_view_name": "LayoutView",
      "align_content": null,
      "align_items": null,
      "align_self": null,
      "border": null,
      "bottom": null,
      "display": null,
      "flex": null,
      "flex_flow": null,
      "grid_area": null,
      "grid_auto_columns": null,
      "grid_auto_flow": null,
      "grid_auto_rows": null,
      "grid_column": null,
      "grid_gap": null,
      "grid_row": null,
      "grid_template_areas": null,
      "grid_template_columns": null,
      "grid_template_rows": null,
      "height": null,
      "justify_content": null,
      "justify_items": null,
      "left": null,
      "margin": null,
      "max_height": null,
      "max_width": null,
      "min_height": null,
      "min_width": null,
      "object_fit": null,
      "object_position": null,
      "order": null,
      "overflow": null,
      "overflow_x": null,
      "overflow_y": null,
      "padding": null,
      "right": null,
      "top": null,
      "visibility": null,
      "width": null
     }
    },
    "748d5718c3fc4204b975d1c4b6006950": {
     "model_module": "@jupyter-widgets/controls",
     "model_module_version": "1.5.0",
     "model_name": "HBoxModel",
     "state": {
      "_dom_classes": [],
      "_model_module": "@jupyter-widgets/controls",
      "_model_module_version": "1.5.0",
      "_model_name": "HBoxModel",
      "_view_count": null,
      "_view_module": "@jupyter-widgets/controls",
      "_view_module_version": "1.5.0",
      "_view_name": "HBoxView",
      "box_style": "",
      "children": [
       "IPY_MODEL_a0c6fa51f52b4afa9a984910a4dbaa03",
       "IPY_MODEL_ea691da8f06e4662be485b127b3db4b8",
       "IPY_MODEL_ab0df6598b8f472a89b7603b56f947aa"
      ],
      "layout": "IPY_MODEL_aa9a973d2467421fad7a7f31843dbb1f"
     }
    },
    "780e2b8a844c420f94ab45ccf28a09df": {
     "model_module": "@jupyter-widgets/base",
     "model_module_version": "1.2.0",
     "model_name": "LayoutModel",
     "state": {
      "_model_module": "@jupyter-widgets/base",
      "_model_module_version": "1.2.0",
      "_model_name": "LayoutModel",
      "_view_count": null,
      "_view_module": "@jupyter-widgets/base",
      "_view_module_version": "1.2.0",
      "_view_name": "LayoutView",
      "align_content": null,
      "align_items": null,
      "align_self": null,
      "border": null,
      "bottom": null,
      "display": null,
      "flex": null,
      "flex_flow": null,
      "grid_area": null,
      "grid_auto_columns": null,
      "grid_auto_flow": null,
      "grid_auto_rows": null,
      "grid_column": null,
      "grid_gap": null,
      "grid_row": null,
      "grid_template_areas": null,
      "grid_template_columns": null,
      "grid_template_rows": null,
      "height": null,
      "justify_content": null,
      "justify_items": null,
      "left": null,
      "margin": null,
      "max_height": null,
      "max_width": null,
      "min_height": null,
      "min_width": null,
      "object_fit": null,
      "object_position": null,
      "order": null,
      "overflow": null,
      "overflow_x": null,
      "overflow_y": null,
      "padding": null,
      "right": null,
      "top": null,
      "visibility": null,
      "width": null
     }
    },
    "a0c6fa51f52b4afa9a984910a4dbaa03": {
     "model_module": "@jupyter-widgets/controls",
     "model_module_version": "1.5.0",
     "model_name": "HTMLModel",
     "state": {
      "_dom_classes": [],
      "_model_module": "@jupyter-widgets/controls",
      "_model_module_version": "1.5.0",
      "_model_name": "HTMLModel",
      "_view_count": null,
      "_view_module": "@jupyter-widgets/controls",
      "_view_module_version": "1.5.0",
      "_view_name": "HTMLView",
      "description": "",
      "description_tooltip": null,
      "layout": "IPY_MODEL_aa5c4cd5951a4e9aa50eec94bf6f91a7",
      "placeholder": "​",
      "style": "IPY_MODEL_3154ca33875e4992b67decdad671c6b6",
      "value": "100%"
     }
    },
    "aa5c4cd5951a4e9aa50eec94bf6f91a7": {
     "model_module": "@jupyter-widgets/base",
     "model_module_version": "1.2.0",
     "model_name": "LayoutModel",
     "state": {
      "_model_module": "@jupyter-widgets/base",
      "_model_module_version": "1.2.0",
      "_model_name": "LayoutModel",
      "_view_count": null,
      "_view_module": "@jupyter-widgets/base",
      "_view_module_version": "1.2.0",
      "_view_name": "LayoutView",
      "align_content": null,
      "align_items": null,
      "align_self": null,
      "border": null,
      "bottom": null,
      "display": null,
      "flex": null,
      "flex_flow": null,
      "grid_area": null,
      "grid_auto_columns": null,
      "grid_auto_flow": null,
      "grid_auto_rows": null,
      "grid_column": null,
      "grid_gap": null,
      "grid_row": null,
      "grid_template_areas": null,
      "grid_template_columns": null,
      "grid_template_rows": null,
      "height": null,
      "justify_content": null,
      "justify_items": null,
      "left": null,
      "margin": null,
      "max_height": null,
      "max_width": null,
      "min_height": null,
      "min_width": null,
      "object_fit": null,
      "object_position": null,
      "order": null,
      "overflow": null,
      "overflow_x": null,
      "overflow_y": null,
      "padding": null,
      "right": null,
      "top": null,
      "visibility": null,
      "width": null
     }
    },
    "aa9a973d2467421fad7a7f31843dbb1f": {
     "model_module": "@jupyter-widgets/base",
     "model_module_version": "1.2.0",
     "model_name": "LayoutModel",
     "state": {
      "_model_module": "@jupyter-widgets/base",
      "_model_module_version": "1.2.0",
      "_model_name": "LayoutModel",
      "_view_count": null,
      "_view_module": "@jupyter-widgets/base",
      "_view_module_version": "1.2.0",
      "_view_name": "LayoutView",
      "align_content": null,
      "align_items": null,
      "align_self": null,
      "border": null,
      "bottom": null,
      "display": null,
      "flex": null,
      "flex_flow": null,
      "grid_area": null,
      "grid_auto_columns": null,
      "grid_auto_flow": null,
      "grid_auto_rows": null,
      "grid_column": null,
      "grid_gap": null,
      "grid_row": null,
      "grid_template_areas": null,
      "grid_template_columns": null,
      "grid_template_rows": null,
      "height": null,
      "justify_content": null,
      "justify_items": null,
      "left": null,
      "margin": null,
      "max_height": null,
      "max_width": null,
      "min_height": null,
      "min_width": null,
      "object_fit": null,
      "object_position": null,
      "order": null,
      "overflow": null,
      "overflow_x": null,
      "overflow_y": null,
      "padding": null,
      "right": null,
      "top": null,
      "visibility": null,
      "width": null
     }
    },
    "ab0df6598b8f472a89b7603b56f947aa": {
     "model_module": "@jupyter-widgets/controls",
     "model_module_version": "1.5.0",
     "model_name": "HTMLModel",
     "state": {
      "_dom_classes": [],
      "_model_module": "@jupyter-widgets/controls",
      "_model_module_version": "1.5.0",
      "_model_name": "HTMLModel",
      "_view_count": null,
      "_view_module": "@jupyter-widgets/controls",
      "_view_module_version": "1.5.0",
      "_view_name": "HTMLView",
      "description": "",
      "description_tooltip": null,
      "layout": "IPY_MODEL_780e2b8a844c420f94ab45ccf28a09df",
      "placeholder": "​",
      "style": "IPY_MODEL_c8e10e6e5b2a4f8dab50672ea559f39b",
      "value": " 3/3 [00:00&lt;00:00, 80.15it/s]"
     }
    },
    "b64bd160b395422a90d1a051915fb318": {
     "model_module": "@jupyter-widgets/controls",
     "model_module_version": "1.5.0",
     "model_name": "ProgressStyleModel",
     "state": {
      "_model_module": "@jupyter-widgets/controls",
      "_model_module_version": "1.5.0",
      "_model_name": "ProgressStyleModel",
      "_view_count": null,
      "_view_module": "@jupyter-widgets/base",
      "_view_module_version": "1.2.0",
      "_view_name": "StyleView",
      "bar_color": null,
      "description_width": ""
     }
    },
    "c8e10e6e5b2a4f8dab50672ea559f39b": {
     "model_module": "@jupyter-widgets/controls",
     "model_module_version": "1.5.0",
     "model_name": "DescriptionStyleModel",
     "state": {
      "_model_module": "@jupyter-widgets/controls",
      "_model_module_version": "1.5.0",
      "_model_name": "DescriptionStyleModel",
      "_view_count": null,
      "_view_module": "@jupyter-widgets/base",
      "_view_module_version": "1.2.0",
      "_view_name": "StyleView",
      "description_width": ""
     }
    },
    "ea691da8f06e4662be485b127b3db4b8": {
     "model_module": "@jupyter-widgets/controls",
     "model_module_version": "1.5.0",
     "model_name": "FloatProgressModel",
     "state": {
      "_dom_classes": [],
      "_model_module": "@jupyter-widgets/controls",
      "_model_module_version": "1.5.0",
      "_model_name": "FloatProgressModel",
      "_view_count": null,
      "_view_module": "@jupyter-widgets/controls",
      "_view_module_version": "1.5.0",
      "_view_name": "ProgressView",
      "bar_style": "success",
      "description": "",
      "description_tooltip": null,
      "layout": "IPY_MODEL_44afbbc66b564848bb8682ebeebd162b",
      "max": 3,
      "min": 0,
      "orientation": "horizontal",
      "style": "IPY_MODEL_b64bd160b395422a90d1a051915fb318",
      "value": 3
     }
    }
   }
  }
 },
 "nbformat": 4,
 "nbformat_minor": 1
}
