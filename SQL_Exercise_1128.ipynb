{
 "cells": [
  {
   "cell_type": "markdown",
   "metadata": {
    "id": "3uY9v1Z0BwZ-"
   },
   "source": [
    "# SQL Exercise (10 points)"
   ]
  },
  {
   "cell_type": "markdown",
   "metadata": {},
   "source": [
    "# Part 1\n",
    "\n",
    "Complete this exercise using SQLite. \n",
    "\n",
    "The exercise does not require GPU, therefore you can use your local machine. To work with SQLite, first install `ipython-sql` (e.g., 'pip install ipython-sql').\n",
    "\n",
    "Or, you can also use Google Colab if you wish, which has the `ipython-sql` installed."
   ]
  },
  {
   "cell_type": "markdown",
   "metadata": {},
   "source": [
    "1.1 Create the following table named `Products` that has 4 columns with 10 records. Set the `Code` column to be the Primary Key. "
   ]
  },
  {
   "cell_type": "code",
   "execution_count": 4,
   "metadata": {},
   "outputs": [
    {
     "name": "stdout",
     "output_type": "stream",
     "text": [
      " * sqlite://\n",
      "Done.\n"
     ]
    },
    {
     "data": {
      "text/html": [
       "<table>\n",
       "    <tr>\n",
       "        <th>Code</th>\n",
       "        <th>Name</th>\n",
       "        <th>Price</th>\n",
       "        <th>Manufacturer</th>\n",
       "    </tr>\n",
       "    <tr>\n",
       "        <td>1</td>\n",
       "        <td>Hard drive</td>\n",
       "        <td>240</td>\n",
       "        <td>Fujitsu</td>\n",
       "    </tr>\n",
       "    <tr>\n",
       "        <td>2</td>\n",
       "        <td>Memory</td>\n",
       "        <td>120</td>\n",
       "        <td>Winchester</td>\n",
       "    </tr>\n",
       "    <tr>\n",
       "        <td>3</td>\n",
       "        <td>ZIP drive</td>\n",
       "        <td>150</td>\n",
       "        <td>Iomega</td>\n",
       "    </tr>\n",
       "    <tr>\n",
       "        <td>4</td>\n",
       "        <td>Floppy disk</td>\n",
       "        <td>5</td>\n",
       "        <td>Winchester</td>\n",
       "    </tr>\n",
       "    <tr>\n",
       "        <td>5</td>\n",
       "        <td>Monitor</td>\n",
       "        <td>240</td>\n",
       "        <td>Sony</td>\n",
       "    </tr>\n",
       "    <tr>\n",
       "        <td>6</td>\n",
       "        <td>DVD drive</td>\n",
       "        <td>180</td>\n",
       "        <td>Creative Labs</td>\n",
       "    </tr>\n",
       "    <tr>\n",
       "        <td>7</td>\n",
       "        <td>CD drive</td>\n",
       "        <td>90</td>\n",
       "        <td>Creative Labs</td>\n",
       "    </tr>\n",
       "    <tr>\n",
       "        <td>8</td>\n",
       "        <td>Printer</td>\n",
       "        <td>270</td>\n",
       "        <td>Hewlett-Packard</td>\n",
       "    </tr>\n",
       "    <tr>\n",
       "        <td>9</td>\n",
       "        <td>Toner cartridge</td>\n",
       "        <td>66</td>\n",
       "        <td>Hewlett-Packard</td>\n",
       "    </tr>\n",
       "    <tr>\n",
       "        <td>10</td>\n",
       "        <td>DVD burner</td>\n",
       "        <td>180</td>\n",
       "        <td>Creative Labs</td>\n",
       "    </tr>\n",
       "</table>"
      ],
      "text/plain": [
       "[(1, 'Hard drive', 240, 'Fujitsu'),\n",
       " (2, 'Memory', 120, 'Winchester'),\n",
       " (3, 'ZIP drive', 150, 'Iomega'),\n",
       " (4, 'Floppy disk', 5, 'Winchester'),\n",
       " (5, 'Monitor', 240, 'Sony'),\n",
       " (6, 'DVD drive', 180, 'Creative Labs'),\n",
       " (7, 'CD drive', 90, 'Creative Labs'),\n",
       " (8, 'Printer', 270, 'Hewlett-Packard'),\n",
       " (9, 'Toner cartridge', 66, 'Hewlett-Packard'),\n",
       " (10, 'DVD burner', 180, 'Creative Labs')]"
      ]
     },
     "execution_count": 4,
     "metadata": {},
     "output_type": "execute_result"
    }
   ],
   "source": [
    "# Your code here"
   ]
  },
  {
   "cell_type": "markdown",
   "metadata": {},
   "source": [
    "If you have many errors, sometimes it helps to restart the kernel by clicking on `Kernel` -> `Restart Kernel` in the top menu, and run again the cells. "
   ]
  },
  {
   "cell_type": "markdown",
   "metadata": {},
   "source": [
    "1.2 Select the names of all the products in the store."
   ]
  },
  {
   "cell_type": "code",
   "execution_count": 5,
   "metadata": {},
   "outputs": [
    {
     "name": "stdout",
     "output_type": "stream",
     "text": [
      " * sqlite://\n",
      "Done.\n"
     ]
    },
    {
     "data": {
      "text/html": [
       "<table>\n",
       "    <tr>\n",
       "        <th>Name</th>\n",
       "    </tr>\n",
       "    <tr>\n",
       "        <td>Hard drive</td>\n",
       "    </tr>\n",
       "    <tr>\n",
       "        <td>Memory</td>\n",
       "    </tr>\n",
       "    <tr>\n",
       "        <td>ZIP drive</td>\n",
       "    </tr>\n",
       "    <tr>\n",
       "        <td>Floppy disk</td>\n",
       "    </tr>\n",
       "    <tr>\n",
       "        <td>Monitor</td>\n",
       "    </tr>\n",
       "    <tr>\n",
       "        <td>DVD drive</td>\n",
       "    </tr>\n",
       "    <tr>\n",
       "        <td>CD drive</td>\n",
       "    </tr>\n",
       "    <tr>\n",
       "        <td>Printer</td>\n",
       "    </tr>\n",
       "    <tr>\n",
       "        <td>Toner cartridge</td>\n",
       "    </tr>\n",
       "    <tr>\n",
       "        <td>DVD burner</td>\n",
       "    </tr>\n",
       "</table>"
      ],
      "text/plain": [
       "[('Hard drive',),\n",
       " ('Memory',),\n",
       " ('ZIP drive',),\n",
       " ('Floppy disk',),\n",
       " ('Monitor',),\n",
       " ('DVD drive',),\n",
       " ('CD drive',),\n",
       " ('Printer',),\n",
       " ('Toner cartridge',),\n",
       " ('DVD burner',)]"
      ]
     },
     "execution_count": 5,
     "metadata": {},
     "output_type": "execute_result"
    }
   ],
   "source": [
    "# Your code here"
   ]
  },
  {
   "cell_type": "markdown",
   "metadata": {},
   "source": [
    "1.3 Select the names of the products with a price less than or equal to $200. Display product names and prices."
   ]
  },
  {
   "cell_type": "code",
   "execution_count": null,
   "metadata": {},
   "outputs": [],
   "source": [
    "# Your code here"
   ]
  },
  {
   "cell_type": "markdown",
   "metadata": {},
   "source": [
    "1.4 Select all products with a price between $60 and 200. Display product names and prices, sorted by ascending price."
   ]
  },
  {
   "cell_type": "code",
   "execution_count": 7,
   "metadata": {},
   "outputs": [
    {
     "name": "stdout",
     "output_type": "stream",
     "text": [
      " * sqlite://\n",
      "Done.\n"
     ]
    },
    {
     "data": {
      "text/html": [
       "<table>\n",
       "    <tr>\n",
       "        <th>Name</th>\n",
       "        <th>Price</th>\n",
       "    </tr>\n",
       "    <tr>\n",
       "        <td>Toner cartridge</td>\n",
       "        <td>66</td>\n",
       "    </tr>\n",
       "    <tr>\n",
       "        <td>CD drive</td>\n",
       "        <td>90</td>\n",
       "    </tr>\n",
       "    <tr>\n",
       "        <td>Memory</td>\n",
       "        <td>120</td>\n",
       "    </tr>\n",
       "    <tr>\n",
       "        <td>ZIP drive</td>\n",
       "        <td>150</td>\n",
       "    </tr>\n",
       "    <tr>\n",
       "        <td>DVD drive</td>\n",
       "        <td>180</td>\n",
       "    </tr>\n",
       "    <tr>\n",
       "        <td>DVD burner</td>\n",
       "        <td>180</td>\n",
       "    </tr>\n",
       "</table>"
      ],
      "text/plain": [
       "[('Toner cartridge', 66),\n",
       " ('CD drive', 90),\n",
       " ('Memory', 120),\n",
       " ('ZIP drive', 150),\n",
       " ('DVD drive', 180),\n",
       " ('DVD burner', 180)]"
      ]
     },
     "execution_count": 7,
     "metadata": {},
     "output_type": "execute_result"
    }
   ],
   "source": [
    "# Your code here"
   ]
  },
  {
   "cell_type": "markdown",
   "metadata": {},
   "source": [
    "1.5 Select the name and price of all products, and display the price shown in cents (instead of dollars)."
   ]
  },
  {
   "cell_type": "code",
   "execution_count": 9,
   "metadata": {},
   "outputs": [
    {
     "name": "stdout",
     "output_type": "stream",
     "text": [
      " * sqlite://\n",
      "Done.\n"
     ]
    },
    {
     "data": {
      "text/html": [
       "<table>\n",
       "    <tr>\n",
       "        <th>Name</th>\n",
       "        <th>Price (Cents)</th>\n",
       "    </tr>\n",
       "    <tr>\n",
       "        <td>Hard drive</td>\n",
       "        <td>24000</td>\n",
       "    </tr>\n",
       "    <tr>\n",
       "        <td>Memory</td>\n",
       "        <td>12000</td>\n",
       "    </tr>\n",
       "    <tr>\n",
       "        <td>ZIP drive</td>\n",
       "        <td>15000</td>\n",
       "    </tr>\n",
       "    <tr>\n",
       "        <td>Floppy disk</td>\n",
       "        <td>500</td>\n",
       "    </tr>\n",
       "    <tr>\n",
       "        <td>Monitor</td>\n",
       "        <td>24000</td>\n",
       "    </tr>\n",
       "    <tr>\n",
       "        <td>DVD drive</td>\n",
       "        <td>18000</td>\n",
       "    </tr>\n",
       "    <tr>\n",
       "        <td>CD drive</td>\n",
       "        <td>9000</td>\n",
       "    </tr>\n",
       "    <tr>\n",
       "        <td>Printer</td>\n",
       "        <td>27000</td>\n",
       "    </tr>\n",
       "    <tr>\n",
       "        <td>Toner cartridge</td>\n",
       "        <td>6600</td>\n",
       "    </tr>\n",
       "    <tr>\n",
       "        <td>DVD burner</td>\n",
       "        <td>18000</td>\n",
       "    </tr>\n",
       "</table>"
      ],
      "text/plain": [
       "[('Hard drive', 24000),\n",
       " ('Memory', 12000),\n",
       " ('ZIP drive', 15000),\n",
       " ('Floppy disk', 500),\n",
       " ('Monitor', 24000),\n",
       " ('DVD drive', 18000),\n",
       " ('CD drive', 9000),\n",
       " ('Printer', 27000),\n",
       " ('Toner cartridge', 6600),\n",
       " ('DVD burner', 18000)]"
      ]
     },
     "execution_count": 9,
     "metadata": {},
     "output_type": "execute_result"
    }
   ],
   "source": [
    "# Your code here"
   ]
  },
  {
   "cell_type": "markdown",
   "metadata": {},
   "source": [
    "1.6 Compute the average price of all products from the manufacturer 'Creative Labs'."
   ]
  },
  {
   "cell_type": "code",
   "execution_count": 10,
   "metadata": {},
   "outputs": [
    {
     "name": "stdout",
     "output_type": "stream",
     "text": [
      " * sqlite://\n",
      "Done.\n"
     ]
    },
    {
     "data": {
      "text/html": [
       "<table>\n",
       "    <tr>\n",
       "        <th>Average Price</th>\n",
       "    </tr>\n",
       "    <tr>\n",
       "        <td>150.0</td>\n",
       "    </tr>\n",
       "</table>"
      ],
      "text/plain": [
       "[(150.0,)]"
      ]
     },
     "execution_count": 10,
     "metadata": {},
     "output_type": "execute_result"
    }
   ],
   "source": [
    "# Your code here"
   ]
  },
  {
   "cell_type": "markdown",
   "metadata": {},
   "source": [
    "1.7. Compute the number of products with a price larger than or equal to $180."
   ]
  },
  {
   "cell_type": "code",
   "execution_count": 11,
   "metadata": {},
   "outputs": [
    {
     "name": "stdout",
     "output_type": "stream",
     "text": [
      " * sqlite://\n",
      "Done.\n"
     ]
    },
    {
     "data": {
      "text/html": [
       "<table>\n",
       "    <tr>\n",
       "        <th>COUNT(*)</th>\n",
       "    </tr>\n",
       "    <tr>\n",
       "        <td>5</td>\n",
       "    </tr>\n",
       "</table>"
      ],
      "text/plain": [
       "[(5,)]"
      ]
     },
     "execution_count": 11,
     "metadata": {},
     "output_type": "execute_result"
    }
   ],
   "source": [
    "# Your code here"
   ]
  },
  {
   "cell_type": "markdown",
   "metadata": {},
   "source": [
    "1.8 Select the name and price of all products with a price larger than or equal to $180, and sort them by price in descending order."
   ]
  },
  {
   "cell_type": "code",
   "execution_count": null,
   "metadata": {},
   "outputs": [],
   "source": [
    "# Your code here"
   ]
  },
  {
   "cell_type": "markdown",
   "metadata": {},
   "source": [
    "1.8 Select the manufacturers and the average price of each manufacturer's products."
   ]
  },
  {
   "cell_type": "code",
   "execution_count": 13,
   "metadata": {},
   "outputs": [
    {
     "name": "stdout",
     "output_type": "stream",
     "text": [
      " * sqlite://\n",
      "Done.\n"
     ]
    },
    {
     "data": {
      "text/html": [
       "<table>\n",
       "    <tr>\n",
       "        <th>Manufacturer</th>\n",
       "        <th>Average Price</th>\n",
       "    </tr>\n",
       "    <tr>\n",
       "        <td>Creative Labs</td>\n",
       "        <td>150.0</td>\n",
       "    </tr>\n",
       "    <tr>\n",
       "        <td>Fujitsu</td>\n",
       "        <td>240.0</td>\n",
       "    </tr>\n",
       "    <tr>\n",
       "        <td>Hewlett-Packard</td>\n",
       "        <td>168.0</td>\n",
       "    </tr>\n",
       "    <tr>\n",
       "        <td>Iomega</td>\n",
       "        <td>150.0</td>\n",
       "    </tr>\n",
       "    <tr>\n",
       "        <td>Sony</td>\n",
       "        <td>240.0</td>\n",
       "    </tr>\n",
       "    <tr>\n",
       "        <td>Winchester</td>\n",
       "        <td>62.5</td>\n",
       "    </tr>\n",
       "</table>"
      ],
      "text/plain": [
       "[('Creative Labs', 150.0),\n",
       " ('Fujitsu', 240.0),\n",
       " ('Hewlett-Packard', 168.0),\n",
       " ('Iomega', 150.0),\n",
       " ('Sony', 240.0),\n",
       " ('Winchester', 62.5)]"
      ]
     },
     "execution_count": 13,
     "metadata": {},
     "output_type": "execute_result"
    }
   ],
   "source": [
    "# Your code here"
   ]
  },
  {
   "cell_type": "markdown",
   "metadata": {},
   "source": [
    "1.9 Select the manufacturers whose products have an average price larger than or equal to $160."
   ]
  },
  {
   "cell_type": "code",
   "execution_count": 14,
   "metadata": {},
   "outputs": [
    {
     "name": "stdout",
     "output_type": "stream",
     "text": [
      " * sqlite://\n",
      "Done.\n"
     ]
    },
    {
     "data": {
      "text/html": [
       "<table>\n",
       "    <tr>\n",
       "        <th>AVG(Price)</th>\n",
       "        <th>Manufacturer</th>\n",
       "    </tr>\n",
       "    <tr>\n",
       "        <td>240.0</td>\n",
       "        <td>Fujitsu</td>\n",
       "    </tr>\n",
       "    <tr>\n",
       "        <td>168.0</td>\n",
       "        <td>Hewlett-Packard</td>\n",
       "    </tr>\n",
       "    <tr>\n",
       "        <td>240.0</td>\n",
       "        <td>Sony</td>\n",
       "    </tr>\n",
       "</table>"
      ],
      "text/plain": [
       "[(240.0, 'Fujitsu'), (168.0, 'Hewlett-Packard'), (240.0, 'Sony')]"
      ]
     },
     "execution_count": 14,
     "metadata": {},
     "output_type": "execute_result"
    }
   ],
   "source": [
    "# Your code here"
   ]
  },
  {
   "cell_type": "markdown",
   "metadata": {},
   "source": [
    "1.10 Select the name and price of the cheapest product."
   ]
  },
  {
   "cell_type": "code",
   "execution_count": null,
   "metadata": {},
   "outputs": [],
   "source": [
    "# Your code here"
   ]
  },
  {
   "cell_type": "markdown",
   "metadata": {},
   "source": [
    "1.11 Select the name of each manufacturer along with the name and price of its most expensive product, and sort them by price in descending order."
   ]
  },
  {
   "cell_type": "code",
   "execution_count": 16,
   "metadata": {},
   "outputs": [
    {
     "name": "stdout",
     "output_type": "stream",
     "text": [
      " * sqlite://\n",
      "Done.\n"
     ]
    },
    {
     "data": {
      "text/html": [
       "<table>\n",
       "    <tr>\n",
       "        <th>Manufacturer</th>\n",
       "        <th>Most Expensive (Price)</th>\n",
       "    </tr>\n",
       "    <tr>\n",
       "        <td>Hewlett-Packard</td>\n",
       "        <td>270</td>\n",
       "    </tr>\n",
       "    <tr>\n",
       "        <td>Sony</td>\n",
       "        <td>240</td>\n",
       "    </tr>\n",
       "    <tr>\n",
       "        <td>Fujitsu</td>\n",
       "        <td>240</td>\n",
       "    </tr>\n",
       "    <tr>\n",
       "        <td>Creative Labs</td>\n",
       "        <td>180</td>\n",
       "    </tr>\n",
       "    <tr>\n",
       "        <td>Iomega</td>\n",
       "        <td>150</td>\n",
       "    </tr>\n",
       "    <tr>\n",
       "        <td>Winchester</td>\n",
       "        <td>120</td>\n",
       "    </tr>\n",
       "</table>"
      ],
      "text/plain": [
       "[('Hewlett-Packard', 270),\n",
       " ('Sony', 240),\n",
       " ('Fujitsu', 240),\n",
       " ('Creative Labs', 180),\n",
       " ('Iomega', 150),\n",
       " ('Winchester', 120)]"
      ]
     },
     "execution_count": 16,
     "metadata": {},
     "output_type": "execute_result"
    }
   ],
   "source": [
    "# Your code here"
   ]
  },
  {
   "cell_type": "markdown",
   "metadata": {},
   "source": [
    "1.12 Update the name of product 8 to \"Laser Printer\", and display the updated names. "
   ]
  },
  {
   "cell_type": "code",
   "execution_count": null,
   "metadata": {},
   "outputs": [],
   "source": [
    "# Your code here"
   ]
  },
  {
   "cell_type": "markdown",
   "metadata": {},
   "source": [
    "1.13 Apply a 10% discount to all products. Display the product names and updated prices. "
   ]
  },
  {
   "cell_type": "code",
   "execution_count": null,
   "metadata": {},
   "outputs": [],
   "source": [
    "# Your code here"
   ]
  },
  {
   "cell_type": "markdown",
   "metadata": {},
   "source": [
    "1.14 Apply an additional 20% discount to all products with a price larger than or equal to $120."
   ]
  },
  {
   "cell_type": "code",
   "execution_count": null,
   "metadata": {},
   "outputs": [],
   "source": [
    "# Your code here"
   ]
  },
  {
   "cell_type": "markdown",
   "metadata": {},
   "source": [
    "Delete the table from Part 1."
   ]
  },
  {
   "cell_type": "code",
   "execution_count": null,
   "metadata": {},
   "outputs": [],
   "source": [
    "# Your code here"
   ]
  },
  {
   "cell_type": "markdown",
   "metadata": {},
   "source": [
    "# Part 2"
   ]
  },
  {
   "cell_type": "markdown",
   "metadata": {},
   "source": [
    "Run the code in the following cell to create a database containing information about employees and departments in a small business, and afterward answer the following questions. "
   ]
  },
  {
   "cell_type": "code",
   "execution_count": 24,
   "metadata": {},
   "outputs": [
    {
     "name": "stdout",
     "output_type": "stream",
     "text": [
      "Done.\n",
      "Done.\n",
      "1 rows affected.\n",
      "1 rows affected.\n",
      "1 rows affected.\n",
      "1 rows affected.\n",
      "1 rows affected.\n",
      "1 rows affected.\n",
      "1 rows affected.\n",
      "1 rows affected.\n",
      "1 rows affected.\n",
      "1 rows affected.\n",
      "1 rows affected.\n",
      "1 rows affected.\n",
      "1 rows affected.\n",
      "1 rows affected.\n",
      "1 rows affected.\n",
      "1 rows affected.\n"
     ]
    },
    {
     "data": {
      "text/plain": [
       "[]"
      ]
     },
     "execution_count": 24,
     "metadata": {},
     "output_type": "execute_result"
    }
   ],
   "source": [
    "%%sql sqlite://\n",
    "CREATE TABLE Departments (\n",
    "  Code INTEGER PRIMARY KEY,\n",
    "  Name varchar(255) NOT NULL ,\n",
    "  Budget decimal NOT NULL \n",
    ");\n",
    "\n",
    "CREATE TABLE Employees (\n",
    "  SSN INTEGER PRIMARY KEY,\n",
    "  Name varchar(255) NOT NULL ,\n",
    "  LastName varchar(255) NOT NULL ,\n",
    "  Department INTEGER NOT NULL , \n",
    "  foreign key (department) references Departments(Code) \n",
    ");\n",
    "\n",
    "INSERT INTO Departments(Code,Name,Budget) VALUES(14,'IT',65000);\n",
    "INSERT INTO Departments(Code,Name,Budget) VALUES(37,'Accounting',15000);\n",
    "INSERT INTO Departments(Code,Name,Budget) VALUES(59,'Human Resources',240000);\n",
    "INSERT INTO Departments(Code,Name,Budget) VALUES(77,'Research',55000);\n",
    "\n",
    "INSERT INTO Employees(SSN,Name,LastName,Department) VALUES('123234877','Michael','Rogers',14);\n",
    "INSERT INTO Employees(SSN,Name,LastName,Department) VALUES('152934485','Anand','Manikutty',14);\n",
    "INSERT INTO Employees(SSN,Name,LastName,Department) VALUES('222364883','Carol','Smith',37);\n",
    "INSERT INTO Employees(SSN,Name,LastName,Department) VALUES('326587417','Joe','Stevens',37);\n",
    "INSERT INTO Employees(SSN,Name,LastName,Department) VALUES('332154719','Mary-Anne','Foster',14);\n",
    "INSERT INTO Employees(SSN,Name,LastName,Department) VALUES('332569843','George','ODonnell',77);\n",
    "INSERT INTO Employees(SSN,Name,LastName,Department) VALUES('546523478','John','Doe',59);\n",
    "INSERT INTO Employees(SSN,Name,LastName,Department) VALUES('631231482','David','Smith',77);\n",
    "INSERT INTO Employees(SSN,Name,LastName,Department) VALUES('654873219','Zacary','Efron',59);\n",
    "INSERT INTO Employees(SSN,Name,LastName,Department) VALUES('745685214','Eric','Goldsmith',59);\n",
    "INSERT INTO Employees(SSN,Name,LastName,Department) VALUES('845657245','Elizabeth','Doe',14);\n",
    "INSERT INTO Employees(SSN,Name,LastName,Department) VALUES('845657246','Kumar','Swamy',14);"
   ]
  },
  {
   "cell_type": "markdown",
   "metadata": {},
   "source": [
    "2.1 Select the last name of all employees."
   ]
  },
  {
   "cell_type": "code",
   "execution_count": 25,
   "metadata": {},
   "outputs": [
    {
     "name": "stdout",
     "output_type": "stream",
     "text": [
      " * sqlite://\n",
      "Done.\n"
     ]
    },
    {
     "data": {
      "text/html": [
       "<table>\n",
       "    <tr>\n",
       "        <th>LastName</th>\n",
       "    </tr>\n",
       "    <tr>\n",
       "        <td>Rogers</td>\n",
       "    </tr>\n",
       "    <tr>\n",
       "        <td>Manikutty</td>\n",
       "    </tr>\n",
       "    <tr>\n",
       "        <td>Smith</td>\n",
       "    </tr>\n",
       "    <tr>\n",
       "        <td>Stevens</td>\n",
       "    </tr>\n",
       "    <tr>\n",
       "        <td>Foster</td>\n",
       "    </tr>\n",
       "    <tr>\n",
       "        <td>ODonnell</td>\n",
       "    </tr>\n",
       "    <tr>\n",
       "        <td>Doe</td>\n",
       "    </tr>\n",
       "    <tr>\n",
       "        <td>Smith</td>\n",
       "    </tr>\n",
       "    <tr>\n",
       "        <td>Efron</td>\n",
       "    </tr>\n",
       "    <tr>\n",
       "        <td>Goldsmith</td>\n",
       "    </tr>\n",
       "    <tr>\n",
       "        <td>Doe</td>\n",
       "    </tr>\n",
       "    <tr>\n",
       "        <td>Swamy</td>\n",
       "    </tr>\n",
       "</table>"
      ],
      "text/plain": [
       "[('Rogers',),\n",
       " ('Manikutty',),\n",
       " ('Smith',),\n",
       " ('Stevens',),\n",
       " ('Foster',),\n",
       " ('ODonnell',),\n",
       " ('Doe',),\n",
       " ('Smith',),\n",
       " ('Efron',),\n",
       " ('Goldsmith',),\n",
       " ('Doe',),\n",
       " ('Swamy',)]"
      ]
     },
     "execution_count": 25,
     "metadata": {},
     "output_type": "execute_result"
    }
   ],
   "source": [
    "# Your code here"
   ]
  },
  {
   "cell_type": "markdown",
   "metadata": {},
   "source": [
    "2.2 Select the last name of all employees, without duplicates. Sort them in alphabetical order. "
   ]
  },
  {
   "cell_type": "code",
   "execution_count": null,
   "metadata": {},
   "outputs": [],
   "source": [
    "# Your code here"
   ]
  },
  {
   "cell_type": "markdown",
   "metadata": {},
   "source": [
    "2.3 Select all the data of employees whose last name is \"Smith\" or \"Doe\"."
   ]
  },
  {
   "cell_type": "code",
   "execution_count": 27,
   "metadata": {},
   "outputs": [
    {
     "name": "stdout",
     "output_type": "stream",
     "text": [
      " * sqlite://\n",
      "Done.\n"
     ]
    },
    {
     "data": {
      "text/html": [
       "<table>\n",
       "    <tr>\n",
       "        <th>SSN</th>\n",
       "        <th>Name</th>\n",
       "        <th>LastName</th>\n",
       "        <th>Department</th>\n",
       "    </tr>\n",
       "    <tr>\n",
       "        <td>222364883</td>\n",
       "        <td>Carol</td>\n",
       "        <td>Smith</td>\n",
       "        <td>37</td>\n",
       "    </tr>\n",
       "    <tr>\n",
       "        <td>546523478</td>\n",
       "        <td>John</td>\n",
       "        <td>Doe</td>\n",
       "        <td>59</td>\n",
       "    </tr>\n",
       "    <tr>\n",
       "        <td>631231482</td>\n",
       "        <td>David</td>\n",
       "        <td>Smith</td>\n",
       "        <td>77</td>\n",
       "    </tr>\n",
       "    <tr>\n",
       "        <td>845657245</td>\n",
       "        <td>Elizabeth</td>\n",
       "        <td>Doe</td>\n",
       "        <td>14</td>\n",
       "    </tr>\n",
       "</table>"
      ],
      "text/plain": [
       "[(222364883, 'Carol', 'Smith', 37),\n",
       " (546523478, 'John', 'Doe', 59),\n",
       " (631231482, 'David', 'Smith', 77),\n",
       " (845657245, 'Elizabeth', 'Doe', 14)]"
      ]
     },
     "execution_count": 27,
     "metadata": {},
     "output_type": "execute_result"
    }
   ],
   "source": [
    "# Your code here"
   ]
  },
  {
   "cell_type": "markdown",
   "metadata": {},
   "source": [
    "2.4 Select all the data of employees whose last name begins with an \"S\"."
   ]
  },
  {
   "cell_type": "code",
   "execution_count": 28,
   "metadata": {},
   "outputs": [
    {
     "name": "stdout",
     "output_type": "stream",
     "text": [
      " * sqlite://\n",
      "Done.\n"
     ]
    },
    {
     "data": {
      "text/html": [
       "<table>\n",
       "    <tr>\n",
       "        <th>SSN</th>\n",
       "        <th>Name</th>\n",
       "        <th>LastName</th>\n",
       "        <th>Department</th>\n",
       "    </tr>\n",
       "    <tr>\n",
       "        <td>222364883</td>\n",
       "        <td>Carol</td>\n",
       "        <td>Smith</td>\n",
       "        <td>37</td>\n",
       "    </tr>\n",
       "    <tr>\n",
       "        <td>326587417</td>\n",
       "        <td>Joe</td>\n",
       "        <td>Stevens</td>\n",
       "        <td>37</td>\n",
       "    </tr>\n",
       "    <tr>\n",
       "        <td>631231482</td>\n",
       "        <td>David</td>\n",
       "        <td>Smith</td>\n",
       "        <td>77</td>\n",
       "    </tr>\n",
       "    <tr>\n",
       "        <td>845657246</td>\n",
       "        <td>Kumar</td>\n",
       "        <td>Swamy</td>\n",
       "        <td>14</td>\n",
       "    </tr>\n",
       "</table>"
      ],
      "text/plain": [
       "[(222364883, 'Carol', 'Smith', 37),\n",
       " (326587417, 'Joe', 'Stevens', 37),\n",
       " (631231482, 'David', 'Smith', 77),\n",
       " (845657246, 'Kumar', 'Swamy', 14)]"
      ]
     },
     "execution_count": 28,
     "metadata": {},
     "output_type": "execute_result"
    }
   ],
   "source": [
    "# Your code here"
   ]
  },
  {
   "cell_type": "markdown",
   "metadata": {},
   "source": [
    "2.5 Select the number of employees in each department, and display the name of each department and the number of employees per department. "
   ]
  },
  {
   "cell_type": "code",
   "execution_count": null,
   "metadata": {},
   "outputs": [],
   "source": [
    "# Your code here"
   ]
  },
  {
   "cell_type": "markdown",
   "metadata": {},
   "source": [
    "2.6 Select the name and last name of employees working for the departments that have a budget greater than $60,000."
   ]
  },
  {
   "cell_type": "code",
   "execution_count": 30,
   "metadata": {},
   "outputs": [
    {
     "name": "stdout",
     "output_type": "stream",
     "text": [
      " * sqlite://\n",
      "Done.\n"
     ]
    },
    {
     "data": {
      "text/html": [
       "<table>\n",
       "    <tr>\n",
       "        <th>Name</th>\n",
       "        <th>LastName</th>\n",
       "    </tr>\n",
       "    <tr>\n",
       "        <td>Michael</td>\n",
       "        <td>Rogers</td>\n",
       "    </tr>\n",
       "    <tr>\n",
       "        <td>Anand</td>\n",
       "        <td>Manikutty</td>\n",
       "    </tr>\n",
       "    <tr>\n",
       "        <td>Mary-Anne</td>\n",
       "        <td>Foster</td>\n",
       "    </tr>\n",
       "    <tr>\n",
       "        <td>John</td>\n",
       "        <td>Doe</td>\n",
       "    </tr>\n",
       "    <tr>\n",
       "        <td>Zacary</td>\n",
       "        <td>Efron</td>\n",
       "    </tr>\n",
       "    <tr>\n",
       "        <td>Eric</td>\n",
       "        <td>Goldsmith</td>\n",
       "    </tr>\n",
       "    <tr>\n",
       "        <td>Elizabeth</td>\n",
       "        <td>Doe</td>\n",
       "    </tr>\n",
       "    <tr>\n",
       "        <td>Kumar</td>\n",
       "        <td>Swamy</td>\n",
       "    </tr>\n",
       "</table>"
      ],
      "text/plain": [
       "[('Michael', 'Rogers'),\n",
       " ('Anand', 'Manikutty'),\n",
       " ('Mary-Anne', 'Foster'),\n",
       " ('John', 'Doe'),\n",
       " ('Zacary', 'Efron'),\n",
       " ('Eric', 'Goldsmith'),\n",
       " ('Elizabeth', 'Doe'),\n",
       " ('Kumar', 'Swamy')]"
      ]
     },
     "execution_count": 30,
     "metadata": {},
     "output_type": "execute_result"
    }
   ],
   "source": [
    "# Your code here"
   ]
  },
  {
   "cell_type": "markdown",
   "metadata": {},
   "source": [
    "2.7 Select the names of departments with more than two employees (e.g., you can use a subquery)."
   ]
  },
  {
   "cell_type": "code",
   "execution_count": null,
   "metadata": {},
   "outputs": [],
   "source": [
    "# Your code here"
   ]
  },
  {
   "cell_type": "markdown",
   "metadata": {},
   "source": [
    "2.8 Reduce the budget of all departments by 10%. Display the departments table to verify the changes. "
   ]
  },
  {
   "cell_type": "code",
   "execution_count": null,
   "metadata": {},
   "outputs": [],
   "source": [
    "# Your code here"
   ]
  },
  {
   "cell_type": "markdown",
   "metadata": {},
   "source": [
    "2.9 Reassign all employees from the Research department (code 77) to the IT department (code 14). Display the employees table to verify the change."
   ]
  },
  {
   "cell_type": "code",
   "execution_count": null,
   "metadata": {},
   "outputs": [],
   "source": [
    "# Your code here"
   ]
  },
  {
   "cell_type": "markdown",
   "metadata": {},
   "source": [
    "Delete the tables in the current database. "
   ]
  },
  {
   "cell_type": "code",
   "execution_count": null,
   "metadata": {},
   "outputs": [],
   "source": [
    "# Your code here"
   ]
  },
  {
   "cell_type": "markdown",
   "metadata": {},
   "source": [
    "# Part 3"
   ]
  },
  {
   "cell_type": "markdown",
   "metadata": {},
   "source": [
    "3.1 Connect to the database named `demo.db` located in the `data` folder. "
   ]
  },
  {
   "cell_type": "code",
   "execution_count": 38,
   "metadata": {},
   "outputs": [],
   "source": [
    "# Your code here"
   ]
  },
  {
   "cell_type": "markdown",
   "metadata": {},
   "source": [
    "3.2 Select the names of all tables in the database. "
   ]
  },
  {
   "cell_type": "code",
   "execution_count": 39,
   "metadata": {},
   "outputs": [
    {
     "name": "stdout",
     "output_type": "stream",
     "text": [
      "   sqlite://\n",
      " * sqlite:///data/demo.db\n",
      "Done.\n"
     ]
    },
    {
     "data": {
      "text/html": [
       "<table>\n",
       "    <tr>\n",
       "        <th>name</th>\n",
       "    </tr>\n",
       "    <tr>\n",
       "        <td>Employee</td>\n",
       "    </tr>\n",
       "    <tr>\n",
       "        <td>Category</td>\n",
       "    </tr>\n",
       "    <tr>\n",
       "        <td>Customer</td>\n",
       "    </tr>\n",
       "    <tr>\n",
       "        <td>Shipper</td>\n",
       "    </tr>\n",
       "    <tr>\n",
       "        <td>Product</td>\n",
       "    </tr>\n",
       "    <tr>\n",
       "        <td>OrderDetail</td>\n",
       "    </tr>\n",
       "</table>"
      ],
      "text/plain": [
       "[('Employee',),\n",
       " ('Category',),\n",
       " ('Customer',),\n",
       " ('Shipper',),\n",
       " ('Product',),\n",
       " ('OrderDetail',)]"
      ]
     },
     "execution_count": 39,
     "metadata": {},
     "output_type": "execute_result"
    }
   ],
   "source": [
    "# Your code here"
   ]
  },
  {
   "cell_type": "markdown",
   "metadata": {},
   "source": [
    "3.3 Select the names of all categories in the Category table. "
   ]
  },
  {
   "cell_type": "code",
   "execution_count": 40,
   "metadata": {},
   "outputs": [
    {
     "name": "stdout",
     "output_type": "stream",
     "text": [
      "   sqlite://\n",
      " * sqlite:///data/demo.db\n",
      "Done.\n"
     ]
    },
    {
     "data": {
      "text/html": [
       "<table>\n",
       "    <tr>\n",
       "        <th>Id</th>\n",
       "        <th>CategoryName</th>\n",
       "        <th>Description</th>\n",
       "    </tr>\n",
       "    <tr>\n",
       "        <td>1</td>\n",
       "        <td>Beverages</td>\n",
       "        <td>Soft drinks, coffees, teas, beers, and ales</td>\n",
       "    </tr>\n",
       "    <tr>\n",
       "        <td>2</td>\n",
       "        <td>Condiments</td>\n",
       "        <td>Sweet and savory sauces, relishes, spreads, and seasonings</td>\n",
       "    </tr>\n",
       "    <tr>\n",
       "        <td>3</td>\n",
       "        <td>Confections</td>\n",
       "        <td>Desserts, candies, and sweet breads</td>\n",
       "    </tr>\n",
       "    <tr>\n",
       "        <td>4</td>\n",
       "        <td>Dairy Products</td>\n",
       "        <td>Cheeses</td>\n",
       "    </tr>\n",
       "    <tr>\n",
       "        <td>5</td>\n",
       "        <td>Grains/Cereals</td>\n",
       "        <td>Breads, crackers, pasta, and cereal</td>\n",
       "    </tr>\n",
       "    <tr>\n",
       "        <td>6</td>\n",
       "        <td>Meat/Poultry</td>\n",
       "        <td>Prepared meats</td>\n",
       "    </tr>\n",
       "    <tr>\n",
       "        <td>7</td>\n",
       "        <td>Produce</td>\n",
       "        <td>Dried fruit and bean curd</td>\n",
       "    </tr>\n",
       "    <tr>\n",
       "        <td>8</td>\n",
       "        <td>Seafood</td>\n",
       "        <td>Seaweed and fish</td>\n",
       "    </tr>\n",
       "</table>"
      ],
      "text/plain": [
       "[(1, 'Beverages', 'Soft drinks, coffees, teas, beers, and ales'),\n",
       " (2, 'Condiments', 'Sweet and savory sauces, relishes, spreads, and seasonings'),\n",
       " (3, 'Confections', 'Desserts, candies, and sweet breads'),\n",
       " (4, 'Dairy Products', 'Cheeses'),\n",
       " (5, 'Grains/Cereals', 'Breads, crackers, pasta, and cereal'),\n",
       " (6, 'Meat/Poultry', 'Prepared meats'),\n",
       " (7, 'Produce', 'Dried fruit and bean curd'),\n",
       " (8, 'Seafood', 'Seaweed and fish')]"
      ]
     },
     "execution_count": 40,
     "metadata": {},
     "output_type": "execute_result"
    }
   ],
   "source": [
    "# Your code here"
   ]
  },
  {
   "cell_type": "markdown",
   "metadata": {},
   "source": [
    "3.4 Select the names of all categories, description of categories, and the number of products per category (e.g, use the `CategoryID` column in the `Product` table to relate to the `ID` column in the `Category` table)."
   ]
  },
  {
   "cell_type": "code",
   "execution_count": 41,
   "metadata": {},
   "outputs": [
    {
     "name": "stdout",
     "output_type": "stream",
     "text": [
      "   sqlite://\n",
      " * sqlite:///data/demo.db\n",
      "Done.\n"
     ]
    },
    {
     "data": {
      "text/html": [
       "<table>\n",
       "    <tr>\n",
       "        <th>CategoryName</th>\n",
       "        <th>Description</th>\n",
       "        <th>Count</th>\n",
       "    </tr>\n",
       "    <tr>\n",
       "        <td>Beverages</td>\n",
       "        <td>Soft drinks, coffees, teas, beers, and ales</td>\n",
       "        <td>12</td>\n",
       "    </tr>\n",
       "    <tr>\n",
       "        <td>Condiments</td>\n",
       "        <td>Sweet and savory sauces, relishes, spreads, and seasonings</td>\n",
       "        <td>12</td>\n",
       "    </tr>\n",
       "    <tr>\n",
       "        <td>Confections</td>\n",
       "        <td>Desserts, candies, and sweet breads</td>\n",
       "        <td>13</td>\n",
       "    </tr>\n",
       "    <tr>\n",
       "        <td>Dairy Products</td>\n",
       "        <td>Cheeses</td>\n",
       "        <td>10</td>\n",
       "    </tr>\n",
       "    <tr>\n",
       "        <td>Grains/Cereals</td>\n",
       "        <td>Breads, crackers, pasta, and cereal</td>\n",
       "        <td>7</td>\n",
       "    </tr>\n",
       "    <tr>\n",
       "        <td>Meat/Poultry</td>\n",
       "        <td>Prepared meats</td>\n",
       "        <td>6</td>\n",
       "    </tr>\n",
       "    <tr>\n",
       "        <td>Produce</td>\n",
       "        <td>Dried fruit and bean curd</td>\n",
       "        <td>5</td>\n",
       "    </tr>\n",
       "    <tr>\n",
       "        <td>Seafood</td>\n",
       "        <td>Seaweed and fish</td>\n",
       "        <td>12</td>\n",
       "    </tr>\n",
       "</table>"
      ],
      "text/plain": [
       "[('Beverages', 'Soft drinks, coffees, teas, beers, and ales', 12),\n",
       " ('Condiments', 'Sweet and savory sauces, relishes, spreads, and seasonings', 12),\n",
       " ('Confections', 'Desserts, candies, and sweet breads', 13),\n",
       " ('Dairy Products', 'Cheeses', 10),\n",
       " ('Grains/Cereals', 'Breads, crackers, pasta, and cereal', 7),\n",
       " ('Meat/Poultry', 'Prepared meats', 6),\n",
       " ('Produce', 'Dried fruit and bean curd', 5),\n",
       " ('Seafood', 'Seaweed and fish', 12)]"
      ]
     },
     "execution_count": 41,
     "metadata": {},
     "output_type": "execute_result"
    }
   ],
   "source": [
    "# Your code here"
   ]
  },
  {
   "cell_type": "markdown",
   "metadata": {},
   "source": [
    "3.5 From the `Customer` table, select the names of 3 countries with the largest number of customers per country (e.g., use the `Country` column in the `Customer` table, and create a subquery for the number of customers per country)."
   ]
  },
  {
   "cell_type": "code",
   "execution_count": 42,
   "metadata": {},
   "outputs": [
    {
     "name": "stdout",
     "output_type": "stream",
     "text": [
      "   sqlite://\n",
      " * sqlite:///data/demo.db\n",
      "Done.\n"
     ]
    },
    {
     "data": {
      "text/html": [
       "<table>\n",
       "    <tr>\n",
       "        <th>Country</th>\n",
       "        <th>Number of Customers</th>\n",
       "    </tr>\n",
       "    <tr>\n",
       "        <td>USA</td>\n",
       "        <td>13</td>\n",
       "    </tr>\n",
       "    <tr>\n",
       "        <td>France</td>\n",
       "        <td>11</td>\n",
       "    </tr>\n",
       "    <tr>\n",
       "        <td>Germany</td>\n",
       "        <td>11</td>\n",
       "    </tr>\n",
       "</table>"
      ],
      "text/plain": [
       "[('USA', 13), ('France', 11), ('Germany', 11)]"
      ]
     },
     "execution_count": 42,
     "metadata": {},
     "output_type": "execute_result"
    }
   ],
   "source": [
    "# Your code here"
   ]
  },
  {
   "cell_type": "markdown",
   "metadata": {},
   "source": [
    "3.6 Count the number of discontinued products (in the `Product` table, 1 in the `Discontinued` column means that the product is discontinued)."
   ]
  },
  {
   "cell_type": "code",
   "execution_count": 43,
   "metadata": {},
   "outputs": [
    {
     "name": "stdout",
     "output_type": "stream",
     "text": [
      "   sqlite://\n",
      " * sqlite:///data/demo.db\n",
      "Done.\n"
     ]
    },
    {
     "data": {
      "text/html": [
       "<table>\n",
       "    <tr>\n",
       "        <th>Discontinued Products</th>\n",
       "    </tr>\n",
       "    <tr>\n",
       "        <td>8</td>\n",
       "    </tr>\n",
       "</table>"
      ],
      "text/plain": [
       "[(8,)]"
      ]
     },
     "execution_count": 43,
     "metadata": {},
     "output_type": "execute_result"
    }
   ],
   "source": [
    "# Your code here"
   ]
  },
  {
   "cell_type": "markdown",
   "metadata": {},
   "source": [
    "3.7 Select products that cost between $20 and 25 and are not discontinued. Display product name and unit price, sorted by price in descending order. "
   ]
  },
  {
   "cell_type": "code",
   "execution_count": null,
   "metadata": {},
   "outputs": [],
   "source": [
    "# Your code here"
   ]
  },
  {
   "cell_type": "markdown",
   "metadata": {},
   "source": [
    "3.8 Select the five most expensive products, and display the product name and unit price. "
   ]
  },
  {
   "cell_type": "code",
   "execution_count": 45,
   "metadata": {},
   "outputs": [
    {
     "name": "stdout",
     "output_type": "stream",
     "text": [
      "   sqlite://\n",
      " * sqlite:///data/demo.db\n",
      "Done.\n"
     ]
    },
    {
     "data": {
      "text/html": [
       "<table>\n",
       "    <tr>\n",
       "        <th>ProductName</th>\n",
       "        <th>UnitPrice</th>\n",
       "    </tr>\n",
       "    <tr>\n",
       "        <td>Côte de Blaye</td>\n",
       "        <td>263.5</td>\n",
       "    </tr>\n",
       "    <tr>\n",
       "        <td>Thüringer Rostbratwurst</td>\n",
       "        <td>123.79</td>\n",
       "    </tr>\n",
       "    <tr>\n",
       "        <td>Mishi Kobe Niku</td>\n",
       "        <td>97</td>\n",
       "    </tr>\n",
       "    <tr>\n",
       "        <td>Sir Rodney&#x27;s Marmalade</td>\n",
       "        <td>81</td>\n",
       "    </tr>\n",
       "    <tr>\n",
       "        <td>Carnarvon Tigers</td>\n",
       "        <td>62.5</td>\n",
       "    </tr>\n",
       "</table>"
      ],
      "text/plain": [
       "[('Côte de Blaye', 263.5),\n",
       " ('Thüringer Rostbratwurst', 123.79),\n",
       " ('Mishi Kobe Niku', 97),\n",
       " (\"Sir Rodney's Marmalade\", 81),\n",
       " ('Carnarvon Tigers', 62.5)]"
      ]
     },
     "execution_count": 45,
     "metadata": {},
     "output_type": "execute_result"
    }
   ],
   "source": [
    "# Your code here"
   ]
  }
 ],
 "metadata": {
  "accelerator": "GPU",
  "colab": {
   "authorship_tag": "ABX9TyM8wMg5io0NBOC4B8faYdjB",
   "provenance": []
  },
  "gpuClass": "standard",
  "kernelspec": {
   "display_name": "Python 3 (ipykernel)",
   "language": "python",
   "name": "python3"
  },
  "language_info": {
   "codemirror_mode": {
    "name": "ipython",
    "version": 3
   },
   "file_extension": ".py",
   "mimetype": "text/x-python",
   "name": "python",
   "nbconvert_exporter": "python",
   "pygments_lexer": "ipython3",
   "version": "3.9.13"
  }
 },
 "nbformat": 4,
 "nbformat_minor": 4
}
