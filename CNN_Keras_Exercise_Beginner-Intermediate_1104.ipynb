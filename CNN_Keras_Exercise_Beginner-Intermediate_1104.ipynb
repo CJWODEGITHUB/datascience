{
 "cells": [
  {
   "cell_type": "markdown",
   "metadata": {
    "id": "3uY9v1Z0BwZ-"
   },
   "source": [
    "# Convolutional Neural Networks with Keras and TensorFlow Exercise (5 points)\n",
    "\n",
    "This exercise is designed for students with beginner and intermediate skills in neural networks. If you have advanced skills in neural networks, please attempt the other exercise found in this folder. It is up to the students to evaluate whether their skills in working with neural networks are at the beginner, intermediate, or advanced level. "
   ]
  },
  {
   "cell_type": "markdown",
   "metadata": {
    "id": "qLiQL-o0jD1l"
   },
   "source": [
    "## 1. Load the Dataset\n",
    "\n",
    "For this exercise, we will use the Fashion MNIST dataset, which consists of 60,000 train and 10,000 test images of fashion items. \n",
    "\n",
    "More information about the dataset can be found [here](https://keras.io/api/datasets/fashion_mnist/).\n",
    "\n",
    "First, import the necessary libraries (TensorFlow, Keras, NumPy, Matplotlib), and aferward load the Fashion MNIST dataset. The dataset can be loaded directly from the Keras built-in datasets."
   ]
  },
  {
   "cell_type": "code",
   "execution_count": 1,
   "metadata": {
    "id": "yo35t7dQZ4tw"
   },
   "outputs": [],
   "source": [
    "# Your Code Here\n",
    "import tensorflow as tf\n",
    "from tensorflow import keras\n",
    "import numpy as np\n",
    "import matplotlib.pyplot as plt\n",
    "\n",
    "fashion_mnist = tf.keras.datasets.fashion_mnist\n",
    "\n",
    "(train_x, train_y), (test_x, test_y) = fashion_mnist.load_data()"
   ]
  },
  {
   "cell_type": "markdown",
   "metadata": {
    "id": "4YN_lP0cEAI9"
   },
   "source": [
    "Display the shape of the train and test arrays of images and labels. "
   ]
  },
  {
   "cell_type": "code",
   "execution_count": 2,
   "metadata": {
    "id": "qthXAPF1jRUr"
   },
   "outputs": [
    {
     "name": "stdout",
     "output_type": "stream",
     "text": [
      "(60000, 28, 28)\n",
      "(60000,)\n",
      "(10000, 28, 28)\n",
      "(10000,)\n"
     ]
    }
   ],
   "source": [
    "# Your Code Here\n",
    "print(train_x.shape)\n",
    "print(train_y.shape)\n",
    "print(test_x.shape)\n",
    "print(test_y.shape)"
   ]
  },
  {
   "cell_type": "markdown",
   "metadata": {
    "id": "E3TBM9sYELoj"
   },
   "source": [
    "Display the maximum and minimum values of the images. "
   ]
  },
  {
   "cell_type": "code",
   "execution_count": 3,
   "metadata": {
    "id": "RXh3il8bjasT"
   },
   "outputs": [
    {
     "name": "stdout",
     "output_type": "stream",
     "text": [
      "max: 255\n",
      "min: 0\n"
     ]
    }
   ],
   "source": [
    "# Your Code Here\n",
    "print(\"max: {}\".format(np.max(train_x.flatten())))\n",
    "print(\"min: {}\".format(np.min(train_x.flatten())))"
   ]
  },
  {
   "cell_type": "markdown",
   "metadata": {
    "id": "ZHfXpe48EQl0"
   },
   "source": [
    "Resize the images to be in the [0,1] range, and display again the maximum and minimum values to make sure that the scaling was done properly."
   ]
  },
  {
   "cell_type": "code",
   "execution_count": 4,
   "metadata": {
    "id": "8mYCYXQQjauy"
   },
   "outputs": [
    {
     "name": "stdout",
     "output_type": "stream",
     "text": [
      "max: 1.0\n",
      "min: 0.0\n"
     ]
    }
   ],
   "source": [
    "# Your Code Here\n",
    "train_x = train_x / 255.0\n",
    "test_x = test_x / 255.0\n",
    "print(\"max: {}\".format(np.max(train_x.flatten())))\n",
    "print(\"min: {}\".format(np.min(train_x.flatten())))"
   ]
  },
  {
   "cell_type": "markdown",
   "metadata": {
    "id": "rRs3LjLpEcgr"
   },
   "source": [
    "Convert the train and test label arrays into one-hot encoding format."
   ]
  },
  {
   "cell_type": "code",
   "execution_count": 7,
   "metadata": {
    "id": "hjIaBnNzjg2A"
   },
   "outputs": [
    {
     "data": {
      "text/plain": [
       "array([[0., 0., 0., ..., 0., 0., 1.],\n",
       "       [1., 0., 0., ..., 0., 0., 0.],\n",
       "       [1., 0., 0., ..., 0., 0., 0.],\n",
       "       ...,\n",
       "       [0., 0., 0., ..., 0., 0., 0.],\n",
       "       [1., 0., 0., ..., 0., 0., 0.],\n",
       "       [0., 0., 0., ..., 0., 0., 0.]], dtype=float32)"
      ]
     },
     "execution_count": 7,
     "metadata": {},
     "output_type": "execute_result"
    }
   ],
   "source": [
    "# Your Code Here\n",
    "train_label_onehot = keras.utils.to_categorical(train_y, 10)\n",
    "test_label_onehot = keras.utils.to_categorical(test_y, 10)\n",
    "train_label_onehot"
   ]
  },
  {
   "cell_type": "markdown",
   "metadata": {
    "id": "ROgMf6_jErc-"
   },
   "source": [
    "Display several images in the training dataset **and their labels**. "
   ]
  },
  {
   "cell_type": "code",
   "execution_count": 6,
   "metadata": {
    "colab": {
     "base_uri": "https://localhost:8080/",
     "height": 536
    },
    "executionInfo": {
     "elapsed": 907,
     "status": "ok",
     "timestamp": 1667007581794,
     "user": {
      "displayName": "Aleksandar Vakanski",
      "userId": "07675307153279708378"
     },
     "user_tz": 360
    },
    "id": "LGjWbkQsjg3-",
    "outputId": "36795d0c-6564-485c-92ab-8fb22029e7ab"
   },
   "outputs": [
    {
     "data": {
      "image/png": "[encoded data removed]",
      "text/plain": [
       "<Figure size 720x360 with 10 Axes>"
      ]
     },
     "metadata": {},
     "output_type": "display_data"
    }
   ],
   "source": [
    "# Your Code Here\n",
    "class_names = ['T-shirt/top', 'Trouser', 'Pullover', 'Dress', 'Coat',\n",
    "               'Sandal', 'Shirt', 'Sneaker', 'Bag', 'Ankle boot']\n",
    "plt.figure(figsize=(10,5))\n",
    "for i in range(10):\n",
    "    plt.subplot(2, 5, i+1)\n",
    "    plt.xticks([])\n",
    "    plt.yticks([])\n",
    "    plt.grid(False)\n",
    "    plt.imshow(train_x[i], cmap=plt.cm.binary)\n",
    "    plt.xlabel(class_names[train_y[i]])\n",
    "plt.show()"
   ]
  },
  {
   "cell_type": "markdown",
   "metadata": {
    "id": "MZT7X-PBE-mZ"
   },
   "source": [
    "## 2. Model Definition and Training\n",
    "\n",
    "Create a model called `fminst_1` which has the following layers:\n",
    "- Input layer\n",
    "- Convolutional layer with 128 filters and kernel size of 3\n",
    "- Convolutional layer with 128 filters and kernel size of 3\n",
    "- Max-pooling layer \n",
    "- Flatten layer\n",
    "- Dense layer with 64 neurons\n",
    "- Output dense layer with 10 neurons"
   ]
  },
  {
   "cell_type": "code",
   "execution_count": 7,
   "metadata": {
    "id": "Qsgi1kc9E-mZ"
   },
   "outputs": [],
   "source": [
    "# Your Code Here\n",
    "model = keras.models.Sequential()\n",
    "model.add(keras.layers.Conv2D(128, (3, 3), activation='relu', input_shape=(28, 28, 1)))\n",
    "model.add(keras.layers.Conv2D(128, (3, 3), activation='relu'))\n",
    "model.add(keras.layers.MaxPooling2D((2, 2)))\n",
    "model.add(keras.layers.Flatten())\n",
    "model.add(keras.layers.Dense(64, activation='relu'))\n",
    "model.add(keras.layers.Dense(10))"
   ]
  },
  {
   "cell_type": "markdown",
   "metadata": {
    "id": "l3hd_BDxFsFz"
   },
   "source": [
    "Display a summary of the model. State how many parameters the model has."
   ]
  },
  {
   "cell_type": "code",
   "execution_count": 8,
   "metadata": {
    "id": "iWnSWvcBE-mZ"
   },
   "outputs": [
    {
     "name": "stdout",
     "output_type": "stream",
     "text": [
      "Model: \"sequential\"\n",
      "_________________________________________________________________\n",
      " Layer (type)                Output Shape              Param #   \n",
      "=================================================================\n",
      " conv2d (Conv2D)             (None, 26, 26, 128)       1280      \n",
      "                                                                 \n",
      " conv2d_1 (Conv2D)           (None, 24, 24, 128)       147584    \n",
      "                                                                 \n",
      " max_pooling2d (MaxPooling2D  (None, 12, 12, 128)      0         \n",
      " )                                                               \n",
      "                                                                 \n",
      " flatten (Flatten)           (None, 18432)             0         \n",
      "                                                                 \n",
      " dense (Dense)               (None, 64)                1179712   \n",
      "                                                                 \n",
      " dense_1 (Dense)             (None, 10)                650       \n",
      "                                                                 \n",
      "=================================================================\n",
      "Total params: 1,329,226\n",
      "Trainable params: 1,329,226\n",
      "Non-trainable params: 0\n",
      "_________________________________________________________________\n"
     ]
    }
   ],
   "source": [
    "# Your Code Here\n",
    "model.summary()"
   ]
  },
  {
   "cell_type": "markdown",
   "metadata": {
    "id": "-Cc9l0o6GHZA"
   },
   "source": [
    "Reshape the train arrays of images from the current shape of (60000, 28, 28) to (60000, 28, 28, 1).\n",
    "Repeat the same for the test array of images."
   ]
  },
  {
   "cell_type": "code",
   "execution_count": 56,
   "metadata": {
    "id": "lDdsapRnGWnQ"
   },
   "outputs": [
    {
     "data": {
      "text/plain": [
       "TensorShape([60000, 28, 28, 1])"
      ]
     },
     "execution_count": 56,
     "metadata": {},
     "output_type": "execute_result"
    }
   ],
   "source": [
    "# Your Code Here\n",
    "train_x = tf.expand_dims(train_x, -1)\n",
    "test_x = tf.expand_dims(test_x, -1)\n",
    "train_x.shape"
   ]
  },
  {
   "cell_type": "markdown",
   "metadata": {
    "id": "f9HvTIOZF1_b"
   },
   "source": [
    "Compile the model using Adam optimizer, and train the model for 10 epochs using a batch size of 128 images."
   ]
  },
  {
   "cell_type": "code",
   "execution_count": 10,
   "metadata": {
    "id": "ur1mrvN6E-mZ"
   },
   "outputs": [
    {
     "name": "stdout",
     "output_type": "stream",
     "text": [
      "Epoch 1/10\n",
      "469/469 [==============================] - 9s 12ms/step - loss: 0.4255 - accuracy: 0.8488\n",
      "Epoch 2/10\n",
      "469/469 [==============================] - 6s 12ms/step - loss: 0.2611 - accuracy: 0.9062\n",
      "Epoch 3/10\n",
      "469/469 [==============================] - 5s 12ms/step - loss: 0.2082 - accuracy: 0.9232\n",
      "Epoch 4/10\n",
      "469/469 [==============================] - 6s 12ms/step - loss: 0.1707 - accuracy: 0.9377\n",
      "Epoch 5/10\n",
      "469/469 [==============================] - 6s 12ms/step - loss: 0.1405 - accuracy: 0.9483\n",
      "Epoch 6/10\n",
      "469/469 [==============================] - 6s 12ms/step - loss: 0.1125 - accuracy: 0.9590\n",
      "Epoch 7/10\n",
      "469/469 [==============================] - 6s 12ms/step - loss: 0.0906 - accuracy: 0.9667\n",
      "Epoch 8/10\n",
      "469/469 [==============================] - 6s 12ms/step - loss: 0.0686 - accuracy: 0.9747\n",
      "Epoch 9/10\n",
      "469/469 [==============================] - 6s 12ms/step - loss: 0.0549 - accuracy: 0.9799\n",
      "Epoch 10/10\n",
      "469/469 [==============================] - 5s 12ms/step - loss: 0.0457 - accuracy: 0.9832\n"
     ]
    },
    {
     "data": {
      "text/plain": [
       "<keras.callbacks.History at 0x2a1e0ff75e0>"
      ]
     },
     "execution_count": 10,
     "metadata": {},
     "output_type": "execute_result"
    }
   ],
   "source": [
    "# Your Code Here\n",
    "model.compile(optimizer='adam',\n",
    "              loss=tf.keras.losses.SparseCategoricalCrossentropy(from_logits=True),\n",
    "              metrics=['accuracy'])\n",
    "model.fit(train_x, train_y, epochs=10, batch_size=128)"
   ]
  },
  {
   "cell_type": "markdown",
   "metadata": {
    "id": "htCRKPG3GnIY"
   },
   "source": [
    "Calculate the accuracy of the model on the test dataset."
   ]
  },
  {
   "cell_type": "code",
   "execution_count": 11,
   "metadata": {
    "id": "Ju2gvT6GE-ma"
   },
   "outputs": [
    {
     "name": "stdout",
     "output_type": "stream",
     "text": [
      "313/313 - 1s - loss: 0.3292 - accuracy: 0.9247 - 1s/epoch - 3ms/step\n"
     ]
    },
    {
     "data": {
      "text/plain": [
       "0.9247000217437744"
      ]
     },
     "execution_count": 11,
     "metadata": {},
     "output_type": "execute_result"
    }
   ],
   "source": [
    "# Your Code Here\n",
    "test_loss, test_acc = model.evaluate(test_x,  test_y, verbose=2)\n",
    "test_acc"
   ]
  },
  {
   "cell_type": "markdown",
   "metadata": {
    "id": "UJ2VAk7JG4Gr"
   },
   "source": [
    "Plot a few images in the test dataset and display the ground-truth and predicted labels. "
   ]
  },
  {
   "cell_type": "code",
   "execution_count": 12,
   "metadata": {
    "colab": {
     "base_uri": "https://localhost:8080/",
     "height": 536
    },
    "executionInfo": {
     "elapsed": 430,
     "status": "ok",
     "timestamp": 1667007714681,
     "user": {
      "displayName": "Aleksandar Vakanski",
      "userId": "07675307153279708378"
     },
     "user_tz": 360
    },
    "id": "cEZlHsRBE-ma",
    "outputId": "3fad6f6a-1dfe-4b41-a9b0-27a7e3e3a470"
   },
   "outputs": [
    {
     "name": "stdout",
     "output_type": "stream",
     "text": [
      "313/313 [==============================] - 0s 1ms/step\n"
     ]
    },
    {
     "data": {
      "image/png": "[encoded data removed]",
      "text/plain": [
       "<Figure size 864x432 with 9 Axes>"
      ]
     },
     "metadata": {},
     "output_type": "display_data"
    }
   ],
   "source": [
    "# Your Code Here\n",
    "probability_model = tf.keras.Sequential([model, tf.keras.layers.Softmax()])\n",
    "predictions = probability_model.predict(test_x)\n",
    "def plot_image(i, predictions_array, true_label, img):\n",
    "  true_label, img = true_label[i], img[i]\n",
    "  plt.grid(False)\n",
    "  plt.xticks([])\n",
    "  plt.yticks([])\n",
    "\n",
    "  plt.imshow(img, cmap=plt.cm.binary)\n",
    "\n",
    "  predicted_label = np.argmax(predictions_array)\n",
    "  if predicted_label == true_label:\n",
    "    color = 'blue'\n",
    "  else:\n",
    "    color = 'red'\n",
    "\n",
    "  plt.xlabel(\"{} {:2.0f}% ({})\".format(class_names[predicted_label],\n",
    "                                100*np.max(predictions_array),\n",
    "                                class_names[true_label]),\n",
    "                                color=color)\n",
    "\n",
    "\n",
    "plt.figure(figsize=(12, 6))\n",
    "for i in range(9):\n",
    "  plt.subplot(3, 3, i+1)\n",
    "  plot_image(i, predictions[i], test_y, test_x)\n",
    "plt.tight_layout()\n",
    "plt.show()"
   ]
  },
  {
   "cell_type": "markdown",
   "metadata": {
    "id": "UqnJ_lthkoNE"
   },
   "source": [
    "## 3. Define a Larger Model and Use Validation Split\n",
    "\n",
    "Create a model called `fmnist_2` which has 3 blocks of Conv-Conv-MaxPooling layers with 64-128-256 filters per block, followed by a classifier with a Flatten layer and a sequence of Dense layers with 100, 50, and 10 neurons. "
   ]
  },
  {
   "cell_type": "code",
   "execution_count": 13,
   "metadata": {
    "id": "LDNwyM6njg6M"
   },
   "outputs": [],
   "source": [
    "# Your Code Here\n",
    "model2 = keras.models.Sequential()\n",
    "model2.add(keras.layers.Conv2D(64, (3, 3), activation='relu', input_shape=(28, 28, 1)))\n",
    "model2.add(keras.layers.MaxPooling2D((2, 2)))\n",
    "model2.add(keras.layers.Conv2D(128, (3, 3), activation='relu'))\n",
    "model2.add(keras.layers.MaxPooling2D((2, 2)))\n",
    "model2.add(keras.layers.Conv2D(256, (3, 3), activation='relu'))\n",
    "model2.add(keras.layers.MaxPooling2D((2, 2)))\n",
    "model2.add(keras.layers.Flatten())\n",
    "model2.add(keras.layers.Dense(100))\n",
    "model2.add(keras.layers.Dense(50, activation='relu'))\n",
    "model2.add(keras.layers.Dense(10))"
   ]
  },
  {
   "cell_type": "markdown",
   "metadata": {
    "id": "UsLbzBccI4hq"
   },
   "source": [
    "Compile and train the model for 10 epochs with a batch size of 128. Use 25% of the training data for validation. "
   ]
  },
  {
   "cell_type": "code",
   "execution_count": 14,
   "metadata": {
    "id": "YBzWscoOiMlg"
   },
   "outputs": [
    {
     "name": "stdout",
     "output_type": "stream",
     "text": [
      "Epoch 1/10\n",
      "469/469 [==============================] - 4s 7ms/step - loss: 0.6235 - accuracy: 0.7737 - val_loss: 0.4827 - val_accuracy: 0.8245\n",
      "Epoch 2/10\n",
      "469/469 [==============================] - 3s 6ms/step - loss: 0.3932 - accuracy: 0.8566 - val_loss: 0.4004 - val_accuracy: 0.8513\n",
      "Epoch 3/10\n",
      "469/469 [==============================] - 3s 6ms/step - loss: 0.3349 - accuracy: 0.8759 - val_loss: 0.3556 - val_accuracy: 0.8682\n",
      "Epoch 4/10\n",
      "469/469 [==============================] - 3s 7ms/step - loss: 0.2956 - accuracy: 0.8905 - val_loss: 0.3233 - val_accuracy: 0.8838\n",
      "Epoch 5/10\n",
      "469/469 [==============================] - 3s 6ms/step - loss: 0.2673 - accuracy: 0.9012 - val_loss: 0.3133 - val_accuracy: 0.8841\n",
      "Epoch 6/10\n",
      "469/469 [==============================] - 3s 6ms/step - loss: 0.2421 - accuracy: 0.9101 - val_loss: 0.3403 - val_accuracy: 0.8794\n",
      "Epoch 7/10\n",
      "469/469 [==============================] - 3s 6ms/step - loss: 0.2186 - accuracy: 0.9196 - val_loss: 0.2903 - val_accuracy: 0.9007\n",
      "Epoch 8/10\n",
      "469/469 [==============================] - 3s 6ms/step - loss: 0.2021 - accuracy: 0.9251 - val_loss: 0.3066 - val_accuracy: 0.8910\n",
      "Epoch 9/10\n",
      "469/469 [==============================] - 3s 6ms/step - loss: 0.1776 - accuracy: 0.9340 - val_loss: 0.3086 - val_accuracy: 0.8910\n",
      "Epoch 10/10\n",
      "469/469 [==============================] - 3s 6ms/step - loss: 0.1597 - accuracy: 0.9407 - val_loss: 0.3306 - val_accuracy: 0.8920\n"
     ]
    },
    {
     "data": {
      "text/plain": [
       "<keras.callbacks.History at 0x2a1e8f07370>"
      ]
     },
     "execution_count": 14,
     "metadata": {},
     "output_type": "execute_result"
    }
   ],
   "source": [
    "# Your Code Here\n",
    "model2.compile(optimizer='adam',\n",
    "              loss=tf.keras.losses.SparseCategoricalCrossentropy(from_logits=True),\n",
    "              metrics=['accuracy'])\n",
    "model2.fit(train_x, train_y, epochs=10, batch_size=128, validation_data=(train_x, train_y), validation_split=0.25)"
   ]
  },
  {
   "cell_type": "markdown",
   "metadata": {
    "id": "xNPT6ZdwJM9V"
   },
   "source": [
    "Calculate the accuracy on the test dataset. \n",
    "\n",
    "Discuss whether the model overfits the training data."
   ]
  },
  {
   "cell_type": "code",
   "execution_count": 15,
   "metadata": {
    "id": "9Wn0RAiKmB3a"
   },
   "outputs": [
    {
     "name": "stdout",
     "output_type": "stream",
     "text": [
      "313/313 - 1s - loss: 0.3306 - accuracy: 0.8920 - 590ms/epoch - 2ms/step\n"
     ]
    },
    {
     "data": {
      "text/plain": [
       "0.8920000195503235"
      ]
     },
     "execution_count": 15,
     "metadata": {},
     "output_type": "execute_result"
    }
   ],
   "source": [
    "# Your Code Here\n",
    "test_loss, test_acc = model2.evaluate(test_x,  test_y, verbose=2)\n",
    "test_acc"
   ]
  },
  {
   "cell_type": "markdown",
   "metadata": {
    "id": "Ff03QLiumJZD"
   },
   "source": [
    "## 4. Apply Dropout, Early Stopping\n",
    "\n",
    "Create a model `fmnist_3` which uses a similar network from the previous section but it has a block of layers with 32-64-128 convolutional filters, and add at least 4 Dropout layers in the model. Select a dropout rate of 10% of the neurons. "
   ]
  },
  {
   "cell_type": "code",
   "execution_count": 24,
   "metadata": {
    "id": "vtfCDoaSmlQ7"
   },
   "outputs": [],
   "source": [
    "# Your Code Here\n",
    "model3 = keras.models.Sequential()\n",
    "model3.add(keras.layers.Conv2D(32, (3, 3), activation='relu', input_shape=(28, 28, 1)))\n",
    "model3.add(keras.layers.MaxPooling2D((2, 2)))\n",
    "model3.add(keras.layers.Dropout(0.1))\n",
    "model3.add(keras.layers.Conv2D(64, (3, 3), activation='relu'))\n",
    "model3.add(keras.layers.MaxPooling2D((2, 2)))\n",
    "model3.add(keras.layers.Dropout(0.1))\n",
    "model3.add(keras.layers.Conv2D(128, (3, 3), activation='relu'))\n",
    "model3.add(keras.layers.MaxPooling2D((2, 2)))\n",
    "model3.add(keras.layers.Dropout(0.1))\n",
    "model3.add(keras.layers.Flatten())\n",
    "model3.add(keras.layers.Dense(100))\n",
    "model3.add(keras.layers.Dense(50, activation='relu'))\n",
    "model3.add(keras.layers.Dropout(0.1))\n",
    "model3.add(keras.layers.Dense(10))"
   ]
  },
  {
   "cell_type": "markdown",
   "metadata": {
    "id": "XWkyjFbYnQgJ"
   },
   "source": [
    "Train the model, and apply an Early Stopping callback, so that the training stops automatically with a patience of 5 epochs. \n",
    "\n",
    "Measure the time for training the model."
   ]
  },
  {
   "cell_type": "code",
   "execution_count": 25,
   "metadata": {
    "id": "lBWCO960msKH"
   },
   "outputs": [
    {
     "name": "stdout",
     "output_type": "stream",
     "text": [
      "Epoch 1/10\n",
      "469/469 [==============================] - 4s 7ms/step - loss: 0.7525 - accuracy: 0.7206 - val_loss: 0.4945 - val_accuracy: 0.8157\n",
      "Epoch 2/10\n",
      "469/469 [==============================] - 3s 7ms/step - loss: 0.4786 - accuracy: 0.8242 - val_loss: 0.3920 - val_accuracy: 0.8548\n",
      "Epoch 3/10\n",
      "469/469 [==============================] - 3s 6ms/step - loss: 0.4083 - accuracy: 0.8501 - val_loss: 0.3412 - val_accuracy: 0.8724\n",
      "Epoch 4/10\n",
      "469/469 [==============================] - 3s 6ms/step - loss: 0.3690 - accuracy: 0.8651 - val_loss: 0.3314 - val_accuracy: 0.8789\n",
      "Epoch 5/10\n",
      "469/469 [==============================] - 3s 7ms/step - loss: 0.3409 - accuracy: 0.8757 - val_loss: 0.2821 - val_accuracy: 0.8948\n",
      "Epoch 6/10\n",
      "469/469 [==============================] - 3s 6ms/step - loss: 0.3267 - accuracy: 0.8792 - val_loss: 0.2674 - val_accuracy: 0.9003\n",
      "Epoch 7/10\n",
      "469/469 [==============================] - 3s 6ms/step - loss: 0.3037 - accuracy: 0.8879 - val_loss: 0.2595 - val_accuracy: 0.9044\n",
      "Epoch 8/10\n",
      "469/469 [==============================] - 3s 6ms/step - loss: 0.2922 - accuracy: 0.8923 - val_loss: 0.2349 - val_accuracy: 0.9126\n",
      "Epoch 9/10\n",
      "469/469 [==============================] - 3s 6ms/step - loss: 0.2809 - accuracy: 0.8964 - val_loss: 0.2254 - val_accuracy: 0.9156\n",
      "Epoch 10/10\n",
      "469/469 [==============================] - 3s 7ms/step - loss: 0.2703 - accuracy: 0.8991 - val_loss: 0.2165 - val_accuracy: 0.9209\n"
     ]
    },
    {
     "data": {
      "text/plain": [
       "31.2260262966156"
      ]
     },
     "execution_count": 25,
     "metadata": {},
     "output_type": "execute_result"
    }
   ],
   "source": [
    "# Your Code Here\n",
    "import time\n",
    "start = time.time()\n",
    "# your code\n",
    "\n",
    "earlystop_callback = keras.callbacks.EarlyStopping(\n",
    "  monitor='val_accuracy', \n",
    "  patience=5)\n",
    "model3.compile(optimizer='adam',\n",
    "              loss=tf.keras.losses.SparseCategoricalCrossentropy(from_logits=True),\n",
    "              metrics=['accuracy'])\n",
    "history = model3.fit(train_x, train_y, epochs=10, callbacks=[earlystop_callback], batch_size=128, validation_data=(train_x, train_y), validation_split=0.25)\n",
    "time_used = time.time()-start\n",
    "time_used"
   ]
  },
  {
   "cell_type": "markdown",
   "metadata": {
    "id": "ZGnkU8KDQukg"
   },
   "source": [
    "Plot the accuracy and loss curves."
   ]
  },
  {
   "cell_type": "code",
   "execution_count": 37,
   "metadata": {
    "id": "uV2eDy-Dm44S"
   },
   "outputs": [
    {
     "data": {
      "image/png": "[encoded data removed]",
      "text/plain": [
       "<Figure size 864x432 with 2 Axes>"
      ]
     },
     "metadata": {
      "needs_background": "light"
     },
     "output_type": "display_data"
    }
   ],
   "source": [
    "# Your Code Here\n",
    "plt.figure(figsize=(12, 6))\n",
    "plt.subplot(1, 2, 1)\n",
    "plt.plot(history.history['accuracy'], label='accuracy')\n",
    "plt.xlabel('Epoch')\n",
    "plt.ylabel('Accuracy')\n",
    "plt.ylim([0.7, 0.95])\n",
    "plt.subplot(1, 2, 2)\n",
    "plt.plot(history.history['loss'], label = 'loss')\n",
    "plt.xlabel('Epoch')\n",
    "plt.ylabel('Loss')\n",
    "plt.ylim([0.2, 0.8])\n",
    "plt.legend(loc='lower right')\n",
    "plt.show()"
   ]
  },
  {
   "cell_type": "markdown",
   "metadata": {
    "id": "OdDVJLPzTvRu"
   },
   "source": [
    "Calculate the accuracy on the test dataset."
   ]
  },
  {
   "cell_type": "code",
   "execution_count": 39,
   "metadata": {
    "id": "Svpl0CpwpWPa"
   },
   "outputs": [
    {
     "name": "stdout",
     "output_type": "stream",
     "text": [
      "313/313 - 1s - loss: 0.3292 - accuracy: 0.9247 - 1000ms/epoch - 3ms/step\n"
     ]
    },
    {
     "data": {
      "text/plain": [
       "0.9247000217437744"
      ]
     },
     "execution_count": 39,
     "metadata": {},
     "output_type": "execute_result"
    }
   ],
   "source": [
    "# Your Code Here\n",
    "test_loss, test_acc = model.evaluate(test_x,  test_y, verbose=2)\n",
    "test_acc"
   ]
  },
  {
   "cell_type": "markdown",
   "metadata": {
    "id": "6-Bqqq1pm8jg"
   },
   "source": [
    "## 5. Batch Normalization, and Data Augmentation\n",
    "\n",
    "Create a model `fmnist_4` which applies a batch normalization layer to each convolutional block of layers in the model from the previous section. "
   ]
  },
  {
   "cell_type": "code",
   "execution_count": 40,
   "metadata": {
    "id": "LpnoFKFvm-_r"
   },
   "outputs": [],
   "source": [
    "# Your Code Here\n",
    "model4 = keras.models.Sequential()\n",
    "model4.add(keras.layers.Conv2D(32, (3, 3), activation='relu', input_shape=(28, 28, 1)))\n",
    "model4.add(keras.layers.BatchNormalization())\n",
    "model4.add(keras.layers.MaxPooling2D((2, 2)))\n",
    "model4.add(keras.layers.Dropout(0.1))\n",
    "model4.add(keras.layers.Conv2D(64, (3, 3), activation='relu'))\n",
    "model4.add(keras.layers.BatchNormalization())\n",
    "model4.add(keras.layers.MaxPooling2D((2, 2)))\n",
    "model4.add(keras.layers.Dropout(0.1))\n",
    "model4.add(keras.layers.Conv2D(128, (3, 3), activation='relu'))\n",
    "model4.add(keras.layers.BatchNormalization())\n",
    "model4.add(keras.layers.MaxPooling2D((2, 2)))\n",
    "model4.add(keras.layers.Dropout(0.1))\n",
    "model4.add(keras.layers.Flatten())\n",
    "model4.add(keras.layers.Dense(100))\n",
    "model4.add(keras.layers.Dense(50, activation='relu'))\n",
    "model4.add(keras.layers.Dropout(0.1))\n",
    "model4.add(keras.layers.Dense(10))"
   ]
  },
  {
   "cell_type": "markdown",
   "metadata": {
    "id": "-ieaMKn-RzU_"
   },
   "source": [
    "Apply data augmentation, by adding width shift, height shift, horizontal and vertical flip, zoom, shear, and rotation. Select the values for the augmentation parameters as you wish. "
   ]
  },
  {
   "cell_type": "code",
   "execution_count": 74,
   "metadata": {
    "id": "oqlvh2AqpzZe"
   },
   "outputs": [],
   "source": [
    "# Your Code Here\n",
    "data_augmentation = keras.Sequential([\n",
    "  keras.layers.RandomFlip(\"horizontal_and_vertical\"),\n",
    "  keras.layers.RandomRotation(0.2),\n",
    "])"
   ]
  },
  {
   "cell_type": "markdown",
   "metadata": {
    "id": "xY9RECBaSdCf"
   },
   "source": [
    "Use the `train_test_split` function to create a validation dataset that contains 20% of the training dataset. "
   ]
  },
  {
   "cell_type": "code",
   "execution_count": 64,
   "metadata": {
    "colab": {
     "base_uri": "https://localhost:8080/"
    },
    "executionInfo": {
     "elapsed": 4,
     "status": "ok",
     "timestamp": 1667007943882,
     "user": {
      "displayName": "Aleksandar Vakanski",
      "userId": "07675307153279708378"
     },
     "user_tz": 360
    },
    "id": "X4-HyBnLqNQ5",
    "outputId": "9f1a75a7-5346-4378-f070-8096c040ea7b"
   },
   "outputs": [
    {
     "data": {
      "text/plain": [
       "(12000, 28, 28, 1)"
      ]
     },
     "execution_count": 64,
     "metadata": {},
     "output_type": "execute_result"
    }
   ],
   "source": [
    "# Your Code Here\n",
    "from sklearn.model_selection import train_test_split\n",
    "train_x, valid_x, train_y, valid_y = train_test_split(\n",
    "    train_x, train_y,  \n",
    "    test_size=0.2\n",
    ") "
   ]
  },
  {
   "cell_type": "markdown",
   "metadata": {
    "id": "XbxQnDd8WTZO"
   },
   "source": [
    "Train the model using Early Stopping and show the training time."
   ]
  },
  {
   "cell_type": "code",
   "execution_count": 65,
   "metadata": {
    "id": "W37V34RlnHuR"
   },
   "outputs": [
    {
     "name": "stdout",
     "output_type": "stream",
     "text": [
      "Epoch 1/10\n",
      "375/375 [==============================] - 3s 6ms/step - loss: 0.5940 - accuracy: 0.7879 - val_loss: 1.5283 - val_accuracy: 0.4055\n",
      "Epoch 2/10\n",
      "375/375 [==============================] - 2s 5ms/step - loss: 0.4078 - accuracy: 0.8497 - val_loss: 0.3803 - val_accuracy: 0.8561\n",
      "Epoch 3/10\n",
      "375/375 [==============================] - 2s 5ms/step - loss: 0.3575 - accuracy: 0.8677 - val_loss: 0.3365 - val_accuracy: 0.8793\n",
      "Epoch 4/10\n",
      "375/375 [==============================] - 2s 5ms/step - loss: 0.3270 - accuracy: 0.8772 - val_loss: 0.3748 - val_accuracy: 0.8633\n",
      "Epoch 5/10\n",
      "375/375 [==============================] - 2s 5ms/step - loss: 0.3047 - accuracy: 0.8867 - val_loss: 0.3160 - val_accuracy: 0.8886\n",
      "Epoch 6/10\n",
      "375/375 [==============================] - 2s 5ms/step - loss: 0.2874 - accuracy: 0.8922 - val_loss: 0.3128 - val_accuracy: 0.8899\n",
      "Epoch 7/10\n",
      "375/375 [==============================] - 2s 5ms/step - loss: 0.2749 - accuracy: 0.8968 - val_loss: 0.2943 - val_accuracy: 0.8973\n",
      "Epoch 8/10\n",
      "375/375 [==============================] - 2s 5ms/step - loss: 0.2594 - accuracy: 0.9019 - val_loss: 0.3110 - val_accuracy: 0.8919\n",
      "Epoch 9/10\n",
      "375/375 [==============================] - 2s 5ms/step - loss: 0.2490 - accuracy: 0.9072 - val_loss: 0.3079 - val_accuracy: 0.8936\n",
      "Epoch 10/10\n",
      "375/375 [==============================] - 2s 5ms/step - loss: 0.2432 - accuracy: 0.9090 - val_loss: 0.3007 - val_accuracy: 0.8957\n"
     ]
    },
    {
     "data": {
      "text/plain": [
       "19.61791181564331"
      ]
     },
     "execution_count": 65,
     "metadata": {},
     "output_type": "execute_result"
    }
   ],
   "source": [
    "# Your Code Here\n",
    "import time\n",
    "start = time.time()\n",
    "# your code\n",
    "\n",
    "earlystop_callback = keras.callbacks.EarlyStopping(\n",
    "  monitor='val_accuracy', \n",
    "  patience=5)\n",
    "model4.compile(optimizer='adam',\n",
    "              loss=tf.keras.losses.SparseCategoricalCrossentropy(from_logits=True),\n",
    "              metrics=['accuracy'])\n",
    "history = model4.fit(train_x, train_y, callbacks=[earlystop_callback], epochs=10, batch_size=128, validation_data=(valid_x, valid_y))\n",
    "time_used = time.time()-start\n",
    "time_used"
   ]
  },
  {
   "cell_type": "markdown",
   "metadata": {
    "id": "DySQ23kJWd9l"
   },
   "source": [
    "Plot the accuracy and loss curves."
   ]
  },
  {
   "cell_type": "code",
   "execution_count": 66,
   "metadata": {
    "id": "vJFu4-fvnZJF"
   },
   "outputs": [
    {
     "data": {
      "image/png": "[encoded data removed]",
      "text/plain": [
       "<Figure size 864x432 with 2 Axes>"
      ]
     },
     "metadata": {
      "needs_background": "light"
     },
     "output_type": "display_data"
    }
   ],
   "source": [
    "# Your Code Here\n",
    "plt.figure(figsize=(12, 6))\n",
    "plt.subplot(1, 2, 1)\n",
    "plt.plot(history.history['accuracy'], label='accuracy')\n",
    "plt.xlabel('Epoch')\n",
    "plt.ylabel('Accuracy')\n",
    "plt.ylim([0.7, 0.95])\n",
    "plt.subplot(1, 2, 2)\n",
    "plt.plot(history.history['loss'], label = 'loss')\n",
    "plt.xlabel('Epoch')\n",
    "plt.ylabel('Loss')\n",
    "plt.ylim([0.2, 0.8])\n",
    "plt.legend(loc='lower right')\n",
    "plt.show()"
   ]
  },
  {
   "cell_type": "markdown",
   "metadata": {
    "id": "1sGVVnyiWicV"
   },
   "source": [
    "Calculate the accuracy on the test dataset."
   ]
  },
  {
   "cell_type": "code",
   "execution_count": 68,
   "metadata": {
    "id": "NSsyFZeWnc71"
   },
   "outputs": [
    {
     "name": "stdout",
     "output_type": "stream",
     "text": [
      "313/313 - 1s - loss: 0.3224 - accuracy: 0.8870 - 974ms/epoch - 3ms/step\n"
     ]
    },
    {
     "data": {
      "text/plain": [
       "0.8870000243186951"
      ]
     },
     "execution_count": 68,
     "metadata": {},
     "output_type": "execute_result"
    }
   ],
   "source": [
    "# Your Code Here\n",
    "test_loss, test_acc = model4.evaluate(test_x,  test_y, verbose=2)\n",
    "test_acc"
   ]
  },
  {
   "cell_type": "markdown",
   "metadata": {
    "id": "kRxLTW5Rn8FR"
   },
   "source": [
    "## 6. Saving and Loading the Model\n",
    "\n",
    "Save the latest model."
   ]
  },
  {
   "cell_type": "code",
   "execution_count": 71,
   "metadata": {
    "id": "qpkjFNILsFlQ"
   },
   "outputs": [
    {
     "name": "stderr",
     "output_type": "stream",
     "text": [
      "WARNING:absl:Found untraced functions such as _jit_compiled_convolution_op, _jit_compiled_convolution_op, _jit_compiled_convolution_op while saving (showing 3 of 3). These functions will not be directly callable after loading.\n"
     ]
    },
    {
     "name": "stdout",
     "output_type": "stream",
     "text": [
      "INFO:tensorflow:Assets written to: ./my_model\\assets\n"
     ]
    },
    {
     "name": "stderr",
     "output_type": "stream",
     "text": [
      "INFO:tensorflow:Assets written to: ./my_model\\assets\n"
     ]
    }
   ],
   "source": [
    "# Your Code Here\n",
    "model4.save('./my_model')"
   ]
  },
  {
   "cell_type": "markdown",
   "metadata": {
    "id": "Rs4qZigAWqBt"
   },
   "source": [
    "Load the saved model and check if the accuracy on the test set matches the one calculated previously. "
   ]
  },
  {
   "cell_type": "code",
   "execution_count": 72,
   "metadata": {
    "id": "yA36HWmRsFnN"
   },
   "outputs": [
    {
     "name": "stdout",
     "output_type": "stream",
     "text": [
      "313/313 - 1s - loss: 0.3224 - accuracy: 0.8870 - 780ms/epoch - 2ms/step\n"
     ]
    },
    {
     "data": {
      "text/plain": [
       "0.8870000243186951"
      ]
     },
     "execution_count": 72,
     "metadata": {},
     "output_type": "execute_result"
    }
   ],
   "source": [
    "# Your Code Here\n",
    "new_model = keras.models.load_model('./my_model')\n",
    "loss, acc = new_model.evaluate(test_x, test_y, verbose=2)\n",
    "acc"
   ]
  },
  {
   "cell_type": "markdown",
   "metadata": {
    "id": "eNrBeVP7Y19z"
   },
   "source": [
    "What is the total number of parameters of this model? (Hint: use summary)."
   ]
  },
  {
   "cell_type": "code",
   "execution_count": 73,
   "metadata": {
    "id": "P3b4O5Lba7I3"
   },
   "outputs": [
    {
     "name": "stdout",
     "output_type": "stream",
     "text": [
      "Model: \"sequential_7\"\n",
      "_________________________________________________________________\n",
      " Layer (type)                Output Shape              Param #   \n",
      "=================================================================\n",
      " conv2d_17 (Conv2D)          (None, 26, 26, 32)        320       \n",
      "                                                                 \n",
      " batch_normalization (BatchN  (None, 26, 26, 32)       128       \n",
      " ormalization)                                                   \n",
      "                                                                 \n",
      " max_pooling2d_16 (MaxPoolin  (None, 13, 13, 32)       0         \n",
      " g2D)                                                            \n",
      "                                                                 \n",
      " dropout_16 (Dropout)        (None, 13, 13, 32)        0         \n",
      "                                                                 \n",
      " conv2d_18 (Conv2D)          (None, 11, 11, 64)        18496     \n",
      "                                                                 \n",
      " batch_normalization_1 (Batc  (None, 11, 11, 64)       256       \n",
      " hNormalization)                                                 \n",
      "                                                                 \n",
      " max_pooling2d_17 (MaxPoolin  (None, 5, 5, 64)         0         \n",
      " g2D)                                                            \n",
      "                                                                 \n",
      " dropout_17 (Dropout)        (None, 5, 5, 64)          0         \n",
      "                                                                 \n",
      " conv2d_19 (Conv2D)          (None, 3, 3, 128)         73856     \n",
      "                                                                 \n",
      " batch_normalization_2 (Batc  (None, 3, 3, 128)        512       \n",
      " hNormalization)                                                 \n",
      "                                                                 \n",
      " max_pooling2d_18 (MaxPoolin  (None, 1, 1, 128)        0         \n",
      " g2D)                                                            \n",
      "                                                                 \n",
      " dropout_18 (Dropout)        (None, 1, 1, 128)         0         \n",
      "                                                                 \n",
      " flatten_6 (Flatten)         (None, 128)               0         \n",
      "                                                                 \n",
      " dense_17 (Dense)            (None, 100)               12900     \n",
      "                                                                 \n",
      " dense_18 (Dense)            (None, 50)                5050      \n",
      "                                                                 \n",
      " dropout_19 (Dropout)        (None, 50)                0         \n",
      "                                                                 \n",
      " dense_19 (Dense)            (None, 10)                510       \n",
      "                                                                 \n",
      "=================================================================\n",
      "Total params: 112,028\n",
      "Trainable params: 111,580\n",
      "Non-trainable params: 448\n",
      "_________________________________________________________________\n"
     ]
    }
   ],
   "source": [
    "# Your Code Here\n",
    "new_model.summary()"
   ]
  },
  {
   "cell_type": "code",
   "execution_count": null,
   "metadata": {},
   "outputs": [],
   "source": []
  }
 ],
 "metadata": {
  "accelerator": "GPU",
  "colab": {
   "authorship_tag": "ABX9TyPcP1VyU6nDt0p+K+whkl7H",
   "collapsed_sections": [],
   "machine_shape": "hm",
   "provenance": []
  },
  "gpuClass": "standard",
  "kernelspec": {
   "display_name": "Python 3 (ipykernel)",
   "language": "python",
   "name": "python3"
  },
  "language_info": {
   "codemirror_mode": {
    "name": "ipython",
    "version": 3
   },
   "file_extension": ".py",
   "mimetype": "text/x-python",
   "name": "python",
   "nbconvert_exporter": "python",
   "pygments_lexer": "ipython3",
   "version": "3.9.7"
  }
 },
 "nbformat": 4,
 "nbformat_minor": 1
}
