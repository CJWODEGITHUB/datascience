{
 "cells": [
  {
   "cell_type": "markdown",
   "metadata": {
    "id": "3uY9v1Z0BwZ-"
   },
   "source": [
    "# Diffusion Models Exercise (5 points)\n",
    "\n"
   ]
  },
  {
   "cell_type": "markdown",
   "metadata": {
    "id": "PCslYbpn3bTc"
   },
   "source": [
    "Use the implementation of Stable Diffusion in Keras to generate images for given text prompts.\n",
    "\n",
    "Follow the provided example in Lecture 22, and generate images for **3 different text prompts**. As the example in the lecture, use a batch size of 3, so that each text prompt generates 3 different images with a resolution of 512x512 pixels.\n",
    "\n",
    "It is recommended to use Google Colab. With a GPU, the generation of images for each text prompt should take about 1-3 minutes. If you use CPU, you can expect the generation of images for each text prompt to take about 20-40 minutes. \n",
    "\n",
    "The images will be entered in an internal competition within the class, where 5 students will get 5 bonus points toward this exercise. The images will be judged based on compositionality, accuracy in generating fine details and in the spatial relations between the objects in images. Please make sure to use your own text prompts. It is not allowed to use text prompts from the web or from other sources. "
   ]
  },
  {
   "cell_type": "code",
   "execution_count": 1,
   "metadata": {
    "colab": {
     "base_uri": "https://localhost:8080/"
    },
    "id": "6AKzm6ZOAPYM",
    "outputId": "cdb0810c-c6e1-4b5c-a82f-c84d1cfb4100"
   },
   "outputs": [],
   "source": [
    "# Your Code Here\n",
    "!pip install keras_cv --upgrade --quiet"
   ]
  },
  {
   "cell_type": "code",
   "execution_count": null,
   "metadata": {
    "id": "MehwylY-O4Ss"
   },
   "outputs": [],
   "source": [
    "import keras_cv\n",
    "from tensorflow import keras\n",
    "import matplotlib.pyplot as plt"
   ]
  },
  {
   "cell_type": "code",
   "execution_count": null,
   "metadata": {
    "colab": {
     "base_uri": "https://localhost:8080/"
    },
    "id": "EwG2B0DXPHKZ",
    "outputId": "c76a53b3-5d12-4e69-dae8-b3e2b5a6816a"
   },
   "outputs": [],
   "source": [
    "model = keras_cv.models.StableDiffusion(img_width=512, img_height=512)"
   ]
  },
  {
   "cell_type": "code",
   "execution_count": null,
   "metadata": {
    "colab": {
     "base_uri": "https://localhost:8080/",
     "height": 516
    },
    "id": "oD3xYBkzQGqR",
    "outputId": "32696ee6-c9ee-4ce6-cf3e-e88f5d26ff14"
   },
   "outputs": [],
   "source": [
    "images_1 = model.text_to_image(\"a dog can fly in the sky\", batch_size=3)\n",
    "\n",
    "# plot the images\n",
    "plt.figure(figsize=(30, 10))\n",
    "for i in range(len(images)):\n",
    "    ax = plt.subplot(1, len(images), i + 1)\n",
    "    plt.imshow(images[i])\n",
    "    plt.axis(\"off\")\n",
    "\n"
   ]
  },
  {
   "cell_type": "code",
   "execution_count": null,
   "metadata": {},
   "outputs": [],
   "source": [
    "images_1 = model.text_to_image(\"a pig can fly in the sky\", batch_size=3)\n",
    "\n",
    "# plot the images\n",
    "plt.figure(figsize=(30, 10))\n",
    "for i in range(len(images)):\n",
    "    ax = plt.subplot(1, len(images), i + 1)\n",
    "    plt.imshow(images[i])\n",
    "    plt.axis(\"off\")"
   ]
  },
  {
   "cell_type": "code",
   "execution_count": null,
   "metadata": {},
   "outputs": [],
   "source": [
    "images_1 = model.text_to_image(\"a human can fly in the sky\", batch_size=3)\n",
    "\n",
    "# plot the images\n",
    "plt.figure(figsize=(30, 10))\n",
    "for i in range(len(images)):\n",
    "    ax = plt.subplot(1, len(images), i + 1)\n",
    "    plt.imshow(images[i])\n",
    "    plt.axis(\"off\")"
   ]
  },
  {
   "cell_type": "code",
   "execution_count": null,
   "metadata": {},
   "outputs": [],
   "source": []
  },
  {
   "cell_type": "code",
   "execution_count": null,
   "metadata": {},
   "outputs": [],
   "source": []
  }
 ],
 "metadata": {
  "accelerator": "GPU",
  "colab": {
   "provenance": []
  },
  "gpuClass": "standard",
  "kernelspec": {
   "display_name": "Python 3 (ipykernel)",
   "language": "python",
   "name": "python3"
  },
  "language_info": {
   "codemirror_mode": {
    "name": "ipython",
    "version": 3
   },
   "file_extension": ".py",
   "mimetype": "text/x-python",
   "name": "python",
   "nbconvert_exporter": "python",
   "pygments_lexer": "ipython3",
   "version": "3.7.11"
  }
 },
 "nbformat": 4,
 "nbformat_minor": 1
}
