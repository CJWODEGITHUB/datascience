{
 "cells": [
  {
   "cell_type": "markdown",
   "metadata": {},
   "source": [
    "# Homework Assignment 1 \n",
    "\n",
    "The homework assignment is due by the end of the day on Thursday, September 22.\n",
    "\n",
    "Please attempt to solve the problems yourself and obey the academic honesty and integrity policies of the university.\n",
    "\n",
    "It is acceptable to discuss the problems with the classmates, but it is not acceptable to get access to the solutions from the classmates.\n",
    "Obviously, it is not acceptable to copy and paste solutions to the problems from anywhere.\n",
    "\n",
    "Total points: 25"
   ]
  },
  {
   "cell_type": "markdown",
   "metadata": {},
   "source": [
    "# Problem 1 (5 points)"
   ]
  },
  {
   "cell_type": "markdown",
   "metadata": {},
   "source": [
    "(a) The time module that is imported below provides a function named `time` that returns the current time in seconds since January 1, 1970.\n",
    "Write a function called `current_time` that takes the current time expressed in seconds and converts it to a time in years, days, hours, minutes, and seconds (since January 1, 1970). \n",
    "\n",
    "1 point"
   ]
  },
  {
   "cell_type": "code",
   "execution_count": null,
   "metadata": {},
   "outputs": [],
   "source": [
    "import time\n",
    "t = time.time()\n",
    "import time\n",
    "\n",
    "\n",
    "# Time in seconds since January 1, 1970\n",
    "print(t)"
   ]
  },
  {
   "cell_type": "code",
   "execution_count": null,
   "metadata": {},
   "outputs": [],
   "source": [
    "# Write your code here"
   ]
  },
  {
   "cell_type": "code",
   "execution_count": null,
   "metadata": {},
   "outputs": [],
   "source": [
    "def current_time(time):\n",
    "    years = time // (60 * 60 * 24 * 365)\n",
    "    days = (time % (60 * 60 * 24 * 365)) // (60 * 60 * 24)\n",
    "    hours = ((time % (60 * 60 * 24 * 365)) % (60 * 60 * 24)) // (60 * 60)\n",
    "    minutes = (((time % (60 * 60 * 24 * 365)) % (60 * 60 * 24)) % (60 * 60)) // 60\n",
    "    seconds = ((((time % (60 * 60 * 24 * 365)) % (60 * 60 * 24)) % (60 * 60)) % 60)\n",
    "\n",
    "    print(\"Current time is {} years, {} days, {} hours, {} minutes, and {} seconds \".format(years, days, hours, minutes, seconds))\n",
    "\n",
    "current_time(time.time())"
   ]
  },
  {
   "cell_type": "markdown",
   "metadata": {},
   "source": [
    "(b) The functions shown in the next cell are all intended to check whether a string contains any lowercase letters, however some of the functions are wrong. For each function, describe what the function actually does and whether its output is correct (assuming that the input is a word).\n",
    "\n",
    "Note: it is a good idea to first perform a web search and understand how `.islower()` works.\n",
    "Also, feel free to insert several print commands or modify the functions in other ways to understand how they work. \n",
    "\n",
    "2 points"
   ]
  },
  {
   "cell_type": "code",
   "execution_count": null,
   "metadata": {},
   "outputs": [],
   "source": [
    "def any_lowercase1(s):\n",
    "    for c in s:\n",
    "        if c.islower():\n",
    "            return True\n",
    "        else:\n",
    "            return False\n",
    "#This function will terminate too soon and provide a wrong answer. This tests\n",
    "# whether the first letter in a string is lowercase since it will exit with\n",
    "# True or False after the first letter no matter what the else. So, it is wrong.\n",
    "\n",
    "def any_lowercase2(s):\n",
    "    for c in s:\n",
    "        if 'c'.islower():\n",
    "            return 'True'\n",
    "        else:\n",
    "            return 'False'\n",
    "# In this case we can  know the answer will ALWAYS be \"True.\"  This asks\n",
    "# python to tell us if the string 'c' is lowercase otherthan what the \n",
    "# string itself contains. So, this is wrong.\n",
    "\n",
    "def any_lowercase3(s):\n",
    "    for c in s:\n",
    "        flag = c.islower()\n",
    "    return flag\n",
    "# Not true. In the case of \"abcD\" this would True for \"a\", \"b\", and \"c\" which is what we \n",
    "# are looking for. But if the final letter \"D\" gets set to\n",
    "# False which is not wrong.\n",
    "def any_lowercase4(s):\n",
    "    flag = False\n",
    "    for c in s:\n",
    "        flag = flag or c.islower()\n",
    "    return flag\n",
    "# This function is correct. 'flag' is set to False and it \n",
    "# will keep False for every c in s that not c.islower(). The first time \n",
    "# that go through a lowercase letter the condition 'flag' becomes:\n",
    "# False or True which the 'flag' set to True. if 'flag' is \n",
    "# be changed, no uppercase letter can change 'flag' back to False.\n",
    "def any_lowercase5(s):\n",
    "    for c in s:\n",
    "        if not c.islower():\n",
    "            return False\n",
    "    return True\n",
    "# this is worng because the tests whether is word is all lowercase \n",
    "# or not. for example \"abcD,\" \"a,\" \"b,\" and \"c\" will pass the check, but \"D\"\n",
    "# meets the condition that 'not c.islower(\"T\")', it will returning a False. "
   ]
  },
  {
   "cell_type": "markdown",
   "metadata": {},
   "source": [
    "(c) Write a function called `shift_letters_3` that modifies an input word, by shifting each letter by 3 places. For instance, the letter 'a' is shifted to 'd', or letter 'z' is shifted to 'c'. \n",
    "\n",
    "Example: 'school' --> 'vfkrro'\n",
    "\n",
    "Hint: use the built-in function `ord()` which converts a letter to a number, e.g., ord('d') - ord('a') = 3. Similarly, the built-in function `chr` converts the corresponding number back to a letter. Also note that the assigned number by `ord` for upper and lower case letters are different (but it is okay to work only with lower-case letter words).\n",
    "\n",
    "1 point"
   ]
  },
  {
   "cell_type": "code",
   "execution_count": null,
   "metadata": {},
   "outputs": [],
   "source": [
    "def shift_letters_3():\n",
    "    message = input(\"Enter the message: \")\n",
    "    key = 3\n",
    "    decode = ''\n",
    "    for char in message:\n",
    "        if char == ' ': \n",
    "            decode = decode + char\n",
    "        elif char.isupper(): \n",
    "            decode = decode + chr((ord(char) + key - 65) % 26 + 65)\n",
    "        else: \n",
    "            decode = decode + chr((ord(char) + key - 97) % 26 + 97)\n",
    "    print(\"Result:\",decode)\n",
    "shift_letters_3()"
   ]
  },
  {
   "cell_type": "markdown",
   "metadata": {},
   "source": [
    "(d) The following mathematical expression can be used to approximate the value of $1/\\pi$.\n",
    "\n",
    "$$\\frac{1}{\\pi} = \\frac{2\\sqrt{2}}{9801} \n",
    "\\sum^\\infty_{k=0} \\frac{(4k)!(1103+26390k)}{(k!)^4 396^{4k}} \\$$\n",
    "\n",
    "Write a function called `calc_pi` that implements the above formula to estimate the value of $\\pi$. \n",
    "\n",
    "Hint: use a `while` loop to compute the terms inside the sum, and break out of the loop when the terms are smaller than $10^{-15}$. \n",
    "\n",
    "1 point"
   ]
  },
  {
   "cell_type": "code",
   "execution_count": null,
   "metadata": {},
   "outputs": [],
   "source": [
    "import math\n",
    "\n",
    "math.factorial(4)"
   ]
  },
  {
   "cell_type": "code",
   "execution_count": null,
   "metadata": {},
   "outputs": [],
   "source": [
    "# Your code here\n",
    "from math import factorial,sqrt,exp\n",
    "def calc_pi():\n",
    "    return (2*sqrt(2)/9801)*((factorial(4*k)*(1103+26390*k))/(pow(factorial(k),4)*pow(396,4*k)))\n",
    "\n",
    "summation=0\n",
    "k=0\n",
    "\n",
    "while True:\n",
    "    term=formula(k)\n",
    "    if term<exp(-15):\n",
    "        break\n",
    "    summation+=term\n",
    "    k+=1\n",
    "\n",
    "x=summation\n",
    "print(\"1/PI: \",x)\n",
    "print(\"PI: \",1/x)"
   ]
  },
  {
   "cell_type": "code",
   "execution_count": null,
   "metadata": {},
   "outputs": [],
   "source": [
    "# Check it\n",
    "print(calc_pi())"
   ]
  },
  {
   "cell_type": "markdown",
   "metadata": {},
   "source": [
    "# Problem 2 (3 points)"
   ]
  },
  {
   "cell_type": "markdown",
   "metadata": {},
   "source": [
    "(a) Use a **list comprehension** to select the words in the list that end with the letter t. Hint: use `.endswith()`.\n",
    "\n",
    "1 point"
   ]
  },
  {
   "cell_type": "code",
   "execution_count": null,
   "metadata": {},
   "outputs": [],
   "source": [
    "list1 = ['spot', 'tea', 'day', 'belt', 'stop', 'spam', 'first']"
   ]
  },
  {
   "cell_type": "code",
   "execution_count": null,
   "metadata": {},
   "outputs": [],
   "source": [
    "suffix_list = [] \n",
    "suffix_list.extend([word for word in list1 if word.endswith('t')])\n",
    "print(suffix_list)"
   ]
  },
  {
   "cell_type": "markdown",
   "metadata": {},
   "source": [
    "(b) Convert the following code to a list comprehension.\n",
    "\n",
    "1 point"
   ]
  },
  {
   "cell_type": "code",
   "execution_count": null,
   "metadata": {},
   "outputs": [],
   "source": [
    "\n",
    "a = [3, 7, 4, 6, 2, 8, -3, 12]\n",
    "b = []\n",
    "\n",
    "for i in a:\n",
    "    if i > 4:\n",
    "        b.append(i**2)\n",
    "b"
   ]
  },
  {
   "cell_type": "markdown",
   "metadata": {},
   "source": [
    "(c) Similar to list comprehension in Python are dictionary comprehensions, where the syntax is `{x:y for x,y in dict.items()}`, with x and y being the keys and values in the dictionary. \n",
    "Write a dictionary comprehension to create a new dictionary that has the same keys as the dictionary `dict1` below and has the corresponding values incremented by 10.\n",
    "\n",
    "Example: \n",
    "\n",
    "         dict1 = {'a': 1, 'b': 2, 'c': 3} \n",
    "         converted_dict1 = {'a': 11, 'b': 12, 'c': 13}\n",
    "\n",
    "1 point"
   ]
  },
  {
   "cell_type": "code",
   "execution_count": null,
   "metadata": {},
   "outputs": [],
   "source": [
    "dict1 = {'a': 1, 'b': 2, 'c': 3}"
   ]
  },
  {
   "cell_type": "code",
   "execution_count": null,
   "metadata": {},
   "outputs": [],
   "source": [
    "converted_dict1 = {}\n",
    "for key,val in dict1.items():\n",
    "    converted_dict1[key] = dict1[key]+10\n",
    "print(converted_dict1)"
   ]
  },
  {
   "cell_type": "markdown",
   "metadata": {},
   "source": [
    "# Problem 3 (5 points)"
   ]
  },
  {
   "cell_type": "markdown",
   "metadata": {},
   "source": [
    "(a) Create e new text file named `greetingfile.txt` that contains a single sentence `Hi there!`.\n",
    "\n",
    "Afterward, write a `greet` function that opens the file and reads its content, by using the `with/as` context manager.\n",
    "\n",
    "1 point"
   ]
  },
  {
   "cell_type": "code",
   "execution_count": null,
   "metadata": {},
   "outputs": [],
   "source": [
    "# creating a function\n",
    "def greet():\n",
    "    fileName = \"greetingfile.txt\"\n",
    "    with open(fileName) as file:\n",
    "        data = file.read()\n",
    "        print(data)\n",
    " "
   ]
  },
  {
   "cell_type": "code",
   "execution_count": null,
   "metadata": {},
   "outputs": [],
   "source": [
    "greet()"
   ]
  },
  {
   "cell_type": "markdown",
   "metadata": {},
   "source": [
    "(b) Create another function named `ask_yes_no` that asks the user to enter `yes` or `no`, and, if the user enters `yes` return `True`, and if the user enters `no` return `False`. Use a `while` statement, so that if the user does not enter `yes` or `no`, he/she will be prompted to enter again.\n",
    "\n",
    "1 point"
   ]
  },
  {
   "cell_type": "code",
   "execution_count": null,
   "metadata": {},
   "outputs": [],
   "source": [
    "def ask_yes_no():\n",
    "    while True:\n",
    "        str = input(\"Would you like to create a new greeting? (yes or no) \")\n",
    "        if str != \"yes\" and str!= \"no\":\n",
    "            print(\"Please enter either yes or no\")\n",
    "            continue\n",
    "        break\n",
    "    if str == \"yes\":\n",
    "            print(\"True\")\n",
    "            return True\n",
    "    if str == \"no\":\n",
    "            print(\"False\")\n",
    "            return True\n",
    "            \n",
    "ask_yes_no()"
   ]
  },
  {
   "cell_type": "markdown",
   "metadata": {},
   "source": [
    "(c) Modify the `ask_yes_no` function to accept not only `yes`, but also `Y`, `y`, and `Yes`. Also, accept `N`, `n`, and `No`.\n",
    "\n",
    "1 point"
   ]
  },
  {
   "cell_type": "code",
   "execution_count": null,
   "metadata": {},
   "outputs": [],
   "source": [
    "def ask_yes_no():\n",
    "    while True:\n",
    "        str = input(\"Would you like to create a new greeting? (yes or no) \")\n",
    "        if str != \"yes\" and str != \"y\" and str!= \"no\" and str !=\"Y\" and str !=\"Yes\" and str != \"N\" and str != \"n\" and str != \"No\":\n",
    "            print(\"Please enter either yes or no\")\n",
    "            continue\n",
    "        break\n",
    "    if str == \"yes\" or str == \"y\" or str == \"Y\" or str == \"Yes\":\n",
    "            print(\"True\")\n",
    "            return True\n",
    "    if str == \"no\" or str == \"n\" or str == \"N\"or str == \"No\":\n",
    "            print(\"False\")\n",
    "            return True\n",
    "            \n",
    "ask_yes_no()\n"
   ]
  },
  {
   "cell_type": "markdown",
   "metadata": {},
   "source": [
    "(d) Write an `if` statement which will check whether the entered input to the `ask_yes_no` function is yes or no. \n",
    "\n",
    "If it is yes, then ask the user the enter a greeting message, and write the message in the `greetingfile.txt`. Use the `greet` function to display the content of the greeting file.\n",
    "\n",
    "If it is no, display the current message in the greeting file using the `greet` function.\n",
    "\n",
    "2 points"
   ]
  },
  {
   "cell_type": "code",
   "execution_count": null,
   "metadata": {},
   "outputs": [],
   "source": [
    "def greet():\n",
    "    with open('greetingfile.txt', 'r') as f:\n",
    "        print(f.read())\n",
    "\n",
    "ask_yes_no = input(\"Would you like to create a default greeting? (yes or no): \")\n",
    "\n",
    "if ask_yes_no == \"yes\":\n",
    "    greeting = input(\"Enter your greeting here: \")\n",
    "    with open('greetingfile.txt', 'w') as f:\n",
    "        f.write(greeting)\n",
    "    greet()\n",
    "\n",
    "elif ask_yes_no == \"no\":\n",
    "    greet()"
   ]
  },
  {
   "cell_type": "markdown",
   "metadata": {},
   "source": [
    "# Problem 4 (5 points)"
   ]
  },
  {
   "cell_type": "markdown",
   "metadata": {},
   "source": [
    "(a) Write a function called `monthlypay` to calculate the monthly payments for a mortgage. The function should take as input three arguments: `loan`, `months`, and `rate`. In your function, use the calculations shown in the cell below to find the monthly `payment`. The expected output of the function is shown in the next cell. Limit the number of decimal places to 2 in the output statement.\n",
    "\n",
    "1 point"
   ]
  },
  {
   "cell_type": "code",
   "execution_count": null,
   "metadata": {},
   "outputs": [],
   "source": [
    "# Your code for the function here\n",
    "def monthpay(loan,months,rate):\n",
    "    monthly_rate = rate/100/12\n",
    "    payment = (monthly_rate/(1 - (1 + monthly_rate)**(-months)))*loan\n",
    "    years = months / 12\n",
    "    print(\"The monthly payments for a \",\"{:.2f}\".format(years),\" mortgage at a total value of \",\"{:.2f}\".format(loan),\" dollars at \",\"{:.2f}\".format(rate),\"% interest rate are: \",\"{:.2f}\".format(payment),\" dollars.\")\n"
   ]
  },
  {
   "cell_type": "code",
   "execution_count": null,
   "metadata": {},
   "outputs": [],
   "source": [
    "monthpay(loan=300000, months=140, rate=3.5)"
   ]
  },
  {
   "cell_type": "markdown",
   "metadata": {},
   "source": [
    "(b) Modify your code to allow the end-user to enter the values of the arguments `loan`, `month` and `rate` via the keyboard with the `input` function. \n",
    "\n",
    "1 point"
   ]
  },
  {
   "cell_type": "code",
   "execution_count": null,
   "metadata": {},
   "outputs": [],
   "source": [
    "def monthpay(loan,months,rate):\n",
    "    monthly_rate = rate/100/12\n",
    "    payment = (monthly_rate/(1 - (1 + monthly_rate)**(-months)))*loan\n",
    "    years = months / 12\n",
    "    print(\"The monthly payments for a \",\"{:.2f}\".format(years),\" mortgage at a total value of \",\"{:.2f}\".format(loan),\" dollars at \",\"{:.2f}\".format(rate),\"% interest rate are: \",\"{:.2f}\".format(payment),\" dollars.\")\n",
    "\n",
    "\n",
    "\n",
    "loan = float(input(\"Enter loan value: \"))\n",
    "months = int(input(\"Enter mortgage term (in months): \"))\n",
    "rate = float(input(\"Enter interest rate: \"))\n",
    "monthpay(loan, months, rate)"
   ]
  },
  {
   "cell_type": "markdown",
   "metadata": {},
   "source": [
    "(c) Next, implement a `try/except` statement to check whether the entered value for `months` is an integer number. If it is not, display an error message and ask the user to enter another value.\n",
    "\n",
    "1 point"
   ]
  },
  {
   "cell_type": "code",
   "execution_count": null,
   "metadata": {},
   "outputs": [],
   "source": [
    "def monthpay(loan,months,rate):\n",
    "    monthly_rate = rate/100/12\n",
    "    payment = (monthly_rate/(1 - (1 + monthly_rate)**(-months)))*loan\n",
    "    years = months / 12\n",
    "    print(\"The monthly payments for a \",\"{:.2f}\".format(years),\" mortgage at a total value of \",\"{:.2f}\".format(loan),\" dollars at \",\"{:.2f}\".format(rate),\"% interest rate are: \",\"{:.2f}\".format(payment),\" dollars.\")\n",
    "\n",
    "\n",
    "loan = float(input(\"Enter loan value: \"))\n",
    "try:\n",
    "    months = int(input(\"Enter mortgage term (in months): \"))\n",
    "except:\n",
    "    print(\"An error occurred! Please input the months as an integer number!\")\n",
    "rate = float(input(\"Enter interest rate: \"))\n",
    "\n",
    "monthpay(loan, months, rate)"
   ]
  },
  {
   "cell_type": "markdown",
   "metadata": {},
   "source": [
    "(d) Similarly, implement a `try/except` statement for the `loan` and `rate` to ensure that numbers are entered, and not strings. If the entered values are not numbers, display an error message and ask the user to enter another value.\n",
    "\n",
    "2 points"
   ]
  },
  {
   "cell_type": "code",
   "execution_count": null,
   "metadata": {},
   "outputs": [],
   "source": [
    "def monthpay(loan,months,rate):\n",
    "    monthly_rate = rate/100/12\n",
    "    payment = (monthly_rate/(1 - (1 + monthly_rate)**(-months)))*loan\n",
    "    years = months / 12\n",
    "    print(\"The monthly payments for a \",\"{:.2f}\".format(years),\" mortgage at a total value of \",\"{:.2f}\".format(loan),\" dollars at \",\"{:.2f}\".format(rate),\"% interest rate are: \",\"{:.2f}\".format(payment),\" dollars.\")\n",
    "\n",
    "\n",
    "try:\n",
    "    loan = float(input(\"Enter loan value: \"))\n",
    "except:\n",
    "    print(\"An error occurred! Please input the loan value as a number!\")\n",
    "try:\n",
    "    months = int(input(\"Enter mortgage term (in months): \"))\n",
    "except:\n",
    "    print(\"An error occurred! Please input the months as an integer number!\")\n",
    "try:\n",
    "    rate = float(input(\"Enter interest rate: \"))\n",
    "except:\n",
    "    print(\"An error occurred! Please input the loan value as a number!\")\n",
    "\n",
    "monthpay(loan, months, rate)"
   ]
  },
  {
   "cell_type": "code",
   "execution_count": null,
   "metadata": {},
   "outputs": [],
   "source": [
    "monthpay()"
   ]
  },
  {
   "cell_type": "markdown",
   "metadata": {},
   "source": [
    "# Problem 5 (3 points)"
   ]
  },
  {
   "cell_type": "markdown",
   "metadata": {},
   "source": [
    "(a) Write a function called `number_letters` which accepts a string inputted by the user, and calculates the number of upper case letters and lower case letters in the string. \n",
    "\n",
    "    Sample String : 'Movies! TV Network'\n",
    "    Expected Output : \n",
    "    No. of Upper case characters : 4\n",
    "    No. of Lower case Characters : 11\n",
    "    \n",
    "1 point"
   ]
  },
  {
   "cell_type": "code",
   "execution_count": null,
   "metadata": {},
   "outputs": [],
   "source": [
    "def number_letters(str1):\n",
    "    u = 0\n",
    "    l = 0\n",
    "\n",
    "    for c in str1:\n",
    "        if c.isupper():\n",
    "            u += 1\n",
    "        elif c.islower():\n",
    "            l += 1\n",
    "    print(\"The no. of uppercase character is :\",u)\n",
    "    print(\"The no. of lowercase character is :\",l)\n",
    "\n",
    "str1 = input(\"Enter the string of your choice. :\")\n",
    "\n",
    "number_letters(str1)"
   ]
  },
  {
   "cell_type": "markdown",
   "metadata": {},
   "source": [
    "(b) Write a function called sum_34, which accepts as an input a list of integers. The function should return the sum of numbers in the list, except that it should ignore any sequence of numbers in the list that starts with a 3 and ends with a 4. See the examples below.\n",
    " \n",
    "    sum_34([1, 2, 5]) --> 8\n",
    "    sum_34([4, 5, 6, 3, 8, 4]) --> 15\n",
    "    sum_34([2, 1, 3, 4, 11]) --> 14\n",
    "    sum_34([2, 1, 3]) --> 3\n",
    "    \n",
    "2 points"
   ]
  },
  {
   "cell_type": "code",
   "execution_count": null,
   "metadata": {},
   "outputs": [],
   "source": [
    "# Your code here\n",
    "def sum_34(list1):\n",
    "    s = 0\n",
    "    if 3 in list1 and 4 in list1:\n",
    "        l = []\n",
    "        for i in range(len(list1)):\n",
    "            if list1[i] == 3 :\n",
    "                l.append(i)\n",
    "            elif list1[i] == 4 :\n",
    "                if l:\n",
    "                    l.append(i)\n",
    "        del list1[l[0] : l[1]+1]\n",
    "\n",
    "        return sum(list1)\n",
    "\n",
    "    elif 3 in list1 and 4 not in list1:\n",
    "        for i in range(len(list1)):\n",
    "            if list1[i] == 3 :\n",
    "                break\n",
    "            else:\n",
    "                s += list1[i]\n",
    "        return s\n",
    "\n",
    "    else:\n",
    "        for i in range(len(list1)):\n",
    "            s += list1[i]\n",
    "        return s\n"
   ]
  },
  {
   "cell_type": "code",
   "execution_count": null,
   "metadata": {},
   "outputs": [],
   "source": [
    "# Check\n",
    "sum_34([1, 2, 5])"
   ]
  },
  {
   "cell_type": "code",
   "execution_count": null,
   "metadata": {},
   "outputs": [],
   "source": [
    "# Check\n",
    "sum_34([4, 5, 6, 3, 8, 4])"
   ]
  },
  {
   "cell_type": "code",
   "execution_count": null,
   "metadata": {},
   "outputs": [],
   "source": [
    "# Check\n",
    "sum_34([2, 1, 3, 4, 11])"
   ]
  },
  {
   "cell_type": "code",
   "execution_count": null,
   "metadata": {},
   "outputs": [],
   "source": [
    "# Check\n",
    "sum_34([2, 1, 3, 11])\n",
    "\n",
    "# Note: for this list, it is acceptable for the solution to be 17, since 4 was not not found in the list\n",
    "# Both 3 and 17 will be accepted as correct answers"
   ]
  },
  {
   "cell_type": "markdown",
   "metadata": {},
   "source": [
    "# Problem 6 (2 points)\n",
    "\n",
    "(a) For the given dictionary object D, check if it is its own iterator, or whether it requires to create an iterator object using `iter()` in order to loop over the items.\n",
    "\n",
    "After that, write a `while` loop to iterate through the dictionary using the `next__()` method and print the keys and values, and use `try/except` to stop the iteration at the end of the dictionary (similar to the examples in the lecture notes).\n",
    "\n",
    "1 point"
   ]
  },
  {
   "cell_type": "code",
   "execution_count": null,
   "metadata": {},
   "outputs": [],
   "source": [
    "D = {'a':1, 'b':2, 'c':3}\n",
    "D"
   ]
  },
  {
   "cell_type": "code",
   "execution_count": null,
   "metadata": {},
   "outputs": [],
   "source": [
    "if (hasattr(D, '__iter__') and hasattr(D, '__next__') and D.__iter__() is D):\n",
    "    print('Dictionary object D is iterator.')\n",
    "else:\n",
    "    print('Dictionary object D isnt iterator.')\n",
    "    \n",
    "    iter_dict_obj = iter(D)\n",
    "    \n",
    "    while True:\n",
    "        try:\n",
    "            key = iter_dict_obj.__next__()\n",
    "            \n",
    "            print(f\"{key}: {D[key]}\")\n",
    "            \n",
    "        except StopIteration:\n",
    "            break"
   ]
  },
  {
   "cell_type": "markdown",
   "metadata": {},
   "source": [
    "(b) Write a generator function that outputs the square root of the absolute values of the sequence 1, -2, 3, -4, 6, -9. \n",
    "\n",
    "\n",
    "\n",
    "1 point"
   ]
  },
  {
   "cell_type": "code",
   "execution_count": null,
   "metadata": {},
   "outputs": [],
   "source": [
    "# To calculate the square root, you need to import `sqrt` from the `math` library\n",
    "from math import sqrt \n",
    "\n",
    "list1 = [1, -2, 3, -4, 6, 9]\n",
    "\n",
    "# your code here"
   ]
  },
  {
   "cell_type": "code",
   "execution_count": null,
   "metadata": {},
   "outputs": [],
   "source": [
    "def generator(list1):\n",
    "    \n",
    "    for i in list1:\n",
    "        \n",
    "        yield sqrt(abs(i))\n",
    "\n",
    "result = generator(list1)\n",
    "\n",
    "print(next(result))\n",
    "print(next(result))\n",
    "print(next(result))\n",
    "print(next(result))\n",
    "print(next(result))\n",
    "print(next(result))"
   ]
  },
  {
   "cell_type": "markdown",
   "metadata": {},
   "source": [
    "# Problem 7 (2 points)\n",
    "\n",
    "(a) Create a class `Cart` that should correspond to a shopping cart in a store. Assign it the following attributes: `products` and `cost`. The products should be initialized as an empty directory, to which afterward products will be added. The cost should be initialized to 0.\n",
    "\n",
    "Create a method `add_product`, with arguments `product_name` and `product_price`. The method should add new products to the dictionary `products` and return the dictionary after new products have been added. \n",
    "\n",
    "Create a method `remove_product` that similar to the above method should remove a product from the dictionary of `products`.\n",
    "\n",
    "Create a method `total_cost` that should calculate the cost of all products in the cart.\n",
    "\n",
    "Examples:\n",
    "\n",
    "    cart1 = Cart()\n",
    "    cart1.add_product('Bread', 3.00) --> {'Bread': 3.0}\n",
    "    cart1.add_product('Milk', 4.50)  --> {'Bread': 3.0, 'Milk': 4.5}\n",
    "    cart1.add_product('Apples', 3.50)  --> {'Bread': 3.0, 'Milk': 4.5, 'Apples': 3.5}\n",
    "    cart1.remove_product('Milk') --> {'Bread': 3.0, 'Apples': 3.5}\n",
    "    cart1.total_cost()   --> 6.5\n",
    "\n",
    "1 point"
   ]
  },
  {
   "cell_type": "code",
   "execution_count": null,
   "metadata": {},
   "outputs": [],
   "source": [
    "class Cart:\n",
    "    def __init__(self):  \n",
    "        self.items = dict()\n",
    "        self.cost = 0\n",
    "    \n",
    "    def add_product(self,product_name, product_price): \n",
    "        self.items[product_name] = product_price\n",
    "        self.cost += product_price\n",
    "        return self.items\n",
    "    \n",
    "    def remove_product(self,product_name):\n",
    "        self.cost -= self.items[product_name]\n",
    "        self.items.pop(product_name)\n",
    "        return self.items\n",
    "    \n",
    "    def total_cost(self):\n",
    "        return self.cost\n",
    "def main():\n",
    "    cart1 = Cart()\n",
    "    print(cart1.add_product(\"Bread\", 3.00))\n",
    "    print(cart1.add_product(\"Milk\", 4.50))\n",
    "    print(cart1.add_product(\"Apples\", 3.50))\n",
    "    print(cart1.remove_product('Milk'))\n",
    "    print(cart1.total_cost())\n",
    "main()"
   ]
  },
  {
   "cell_type": "markdown",
   "metadata": {},
   "source": [
    "(b) Create another class `Product` that has two attributes `name` and `price`, and it does not have any methods.\n",
    "\n",
    "Modify the class `Cart` so that it accepts instances of the class `Product`. The class should have the same attributes and methods as the above. \n",
    "\n",
    "\n",
    "Examples:\n",
    "\n",
    "    cart1 = Cart()\n",
    "    bread1 = Product('Bread', 3.00)\n",
    "    milk1 = Product('Milk', 4.50)\n",
    "    cart1.add_product(bread1)   --> {'Bread': 3.0}\n",
    "    cart1.add_product(milk1)   --> {'Bread': 3.0, 'Milk': 4.5}\n",
    "    cart1.total_cost()  --> 7.5\n",
    "\n",
    "1 point"
   ]
  },
  {
   "cell_type": "code",
   "execution_count": null,
   "metadata": {},
   "outputs": [],
   "source": [
    "class Product:\n",
    "    def __init__(self, name, price):\n",
    "        self.name = name\n",
    "        self.price = price\n",
    "\n",
    "class Cart:\n",
    "    def __init__(self):  \n",
    "        self.items = dict()\n",
    "        self.cost = 0\n",
    "    \n",
    "    \n",
    "    def remove_product(self,product_name):\n",
    "        self.cost -= self.items[product_name]\n",
    "        self.items.pop(product_name)\n",
    "        return self.items\n",
    "    \n",
    "    def add_product(self, product: Product):\n",
    "        self.items[product.name] = product.price\n",
    "        self.cost += product.price\n",
    "        return self.items\n",
    "    \n",
    "    def total_cost(self):\n",
    "        return self.cost\n",
    "\n",
    "def main():\n",
    "    cart1 = Cart()\n",
    "    bread1 = Product(\"Bread\", 3.00)\n",
    "    milk1 = Product(\"Milk\", 4.50)\n",
    "    print(cart1.add_product(bread1))\n",
    "    print(cart1.add_product(milk1))\n",
    "    print(cart1.total_cost())\n",
    "\n",
    "main()"
   ]
  },
  {
   "cell_type": "code",
   "execution_count": null,
   "metadata": {},
   "outputs": [],
   "source": []
  }
 ],
 "metadata": {
  "kernelspec": {
   "display_name": "Python 3 (ipykernel)",
   "language": "python",
   "name": "python3"
  },
  "language_info": {
   "codemirror_mode": {
    "name": "ipython",
    "version": 3
   },
   "file_extension": ".py",
   "mimetype": "text/x-python",
   "name": "python",
   "nbconvert_exporter": "python",
   "pygments_lexer": "ipython3",
   "version": "3.7.11"
  }
 },
 "nbformat": 4,
 "nbformat_minor": 2
}
